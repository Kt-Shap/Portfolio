{
 "cells": [
  {
   "cell_type": "markdown",
   "id": "fad687f5",
   "metadata": {},
   "source": [
    "# Статистический анализ данных по аренде самокатов\n",
    "\n",
    "Вы аналитик популярного сервиса аренды самокатов GoFast. Вам передали данные о некоторых пользователях из нескольких городов, а также об их поездках. Проанализируйте данные и проверьте некоторые гипотезы, которые могут помочь бизнесу вырасти.\n",
    "\n",
    "Чтобы совершать поездки по городу, пользователи сервиса GoFast пользуются мобильным приложением. Сервисом можно пользоваться:\n",
    "\n",
    "- без подписки\n",
    "  - абонентская плата отсутствует;\n",
    "  - стоимость одной минуты поездки — 8 рублей;\n",
    "  - стоимость старта (начала поездки) — 50 рублей;\n",
    "- с подпиской Ultra\n",
    "  - а бонентская плата — 199 рублей в месяц;\n",
    "  - стоимость одной минуты поездки — 6 рублей;\n",
    "  - стоимость старта — бесплатно."
   ]
  },
  {
   "cell_type": "markdown",
   "id": "5150f699",
   "metadata": {},
   "source": [
    "**Шаг 1. Загрузка данных**\n",
    "\n",
    "\n",
    "1.1 Считайте CSV-файлы с данными с помощью библиотеки pandas и сохраните их в датафреймы. Пути к файлам:\n",
    "/datasets/users_go.csv\n",
    "/datasets/rides_go.csv\n",
    "/datasets/subscriptions_go.csv\n",
    "\n",
    "\n",
    "1.2 Выведите первые строки каждого набора данных. Изучите общую информацию о каждом датафрейме.\n",
    "\n",
    "\n",
    "**Шаг 2. Предобработка данных**\n",
    "\n",
    "\n",
    "2.1 Приведите столбец date к типу даты pandas.\n",
    "\n",
    "\n",
    "2.2 Создайте новый столбец с номером месяца на основе столбца date.\n",
    "2.3 Проверьте наличие пропущенных значений и дубликатов в датафреймах. Обработайте их, если такие значения присутствуют.\n",
    "\n",
    "\n",
    "**Шаг 3. Исследовательский анализ данных**\n",
    "\n",
    "\n",
    "Опишите и визуализируйте общую информацию о пользователях и поездках:\n",
    "\n",
    "\n",
    "3.1 частота встречаемости городов;\n",
    "\n",
    "\n",
    "3.2 соотношение пользователей с подпиской и без подписки;\n",
    "\n",
    "\n",
    "3.3 возраст пользователей;\n",
    "\n",
    "\n",
    "3.4 расстояние, которое пользователь преодолел за одну поездку;\n",
    "\n",
    "\n",
    "3.5 продолжительность поездок.\n",
    "\n",
    "\n",
    "**Шаг 4. Объединение данных**\n",
    "\n",
    "\n",
    "4.1 Объедините данные о пользователях, поездках и подписках в один датафрейм. Для этого воспользуйтесь методом merge().\n",
    "\n",
    "\n",
    "4.2 Создайте ещё два датафрейма из датафрейма, созданного на этапе 4.1:\n",
    "\n",
    "\n",
    "c данными о пользователях без подписки;\n",
    "\n",
    "\n",
    "с данными о пользователях с подпиской.\n",
    "\n",
    "\n",
    "4.3 Визуализируйте информацию о расстоянии и времени поездок для пользователей обеих категорий.\n",
    "\n",
    "\n",
    "**Шаг 5. Подсчёт выручки**\n",
    "\n",
    "\n",
    "5.1 Создайте датафрейм с агрегированными данными о поездках на основе датафрейма с объединёнными данными из шага 4: найдите суммарное расстояние, количество поездок и суммарное время для каждого пользователя за каждый месяц.\n",
    "\n",
    "\n",
    "5.2 В этот же датафрейм добавьте столбец с помесячной выручкой, которую принёс каждый пользователь. Для этого обратитесь к информации об условиях оплаты для подписчиков и тех, у кого нет подписки. Продолжительность каждой поездки в каждой строке исходного датафрейма для подсчёта стоимости округляется до следующего целого числа. \n",
    "\n",
    "**Шаг 6. Проверка гипотез**\n",
    "\n",
    "\n",
    "Продакт-менеджеры сервиса хотят увеличить количество пользователей с подпиской. Для этого они будут проводить различные акции, но сначала нужно выяснить несколько важных моментов.\n",
    "\n",
    "\n",
    "6.1 Важно понять, тратят ли пользователи с подпиской больше времени на поездки? Если да, то пользователи с подпиской могут быть «выгоднее» для компании. Проверьте гипотезу. Используйте исходные данные о продолжительности каждой сессии — отдельно для подписчиков и тех, у кого нет подписки.\n",
    "\n",
    "\n",
    "6.2 Расстояние одной поездки в 3130 метров — оптимальное с точки зрения износа самоката. Можно ли сказать, что среднее расстояние, которое проезжают пользователи с подпиской за одну поездку, не превышает 3130 метров? Проверьте гипотезу и сделайте выводы.\n",
    "\n",
    "\n",
    "6.3 Проверьте гипотезу о том, будет ли помесячная выручка от пользователей с подпиской по месяцам выше, чем выручка от пользователей без подписки. Сделайте вывод.\n",
    "\n",
    "\n",
    "6.4 Представьте такую ситуацию: техническая команда сервиса обновила сервера, с которыми взаимодействует мобильное приложение. Она надеется, что из-за этого количество обращений в техподдержку значимо снизилось. Некоторый файл содержит для каждого пользователя данные о количестве обращений до обновления и после него. Какой тест вам понадобился бы для проверки этой гипотезы?\n",
    "\n",
    "\n"
   ]
  },
  {
   "cell_type": "code",
   "execution_count": 1,
   "id": "4243cf5b",
   "metadata": {},
   "outputs": [],
   "source": [
    "import pandas as pd # импортируем библиотеки\n",
    "import numpy as np\n",
    "import matplotlib.pyplot as plt\n",
    "import seaborn as sns\n",
    "from scipy import stats as st"
   ]
  },
  {
   "cell_type": "markdown",
   "id": "c42cbe00",
   "metadata": {},
   "source": [
    "####  Загрузка данных"
   ]
  },
  {
   "cell_type": "markdown",
   "id": "5b5181e6",
   "metadata": {},
   "source": [
    "**1.1. Считайте CSV-файлы с данными с помощью библиотеки pandas и сохраните их в датафреймы. Пути к файлам:**  \n",
    "\n",
    "- /datasets/users_go.csv\n",
    "- /datasets/rides_go.csv\n",
    "- /datasets/subscriptions_go.csv"
   ]
  },
  {
   "cell_type": "code",
   "execution_count": 2,
   "id": "65de27a3",
   "metadata": {},
   "outputs": [],
   "source": [
    "data_users = pd.read_csv('/datasets/users_go.csv') # прочитаем csv-файлы\n",
    "data_rides = pd.read_csv('/datasets/rides_go.csv', parse_dates=['date'])\n",
    "data_sub = pd.read_csv('/datasets/subscriptions_go.csv')"
   ]
  },
  {
   "cell_type": "markdown",
   "id": "44fb299b",
   "metadata": {},
   "source": [
    "**1.2. Выведите первые строки каждого набора данных. Изучите общую информацию о каждом датафрейме.**"
   ]
  },
  {
   "cell_type": "code",
   "execution_count": 3,
   "id": "328ceabd",
   "metadata": {},
   "outputs": [],
   "source": [
    "def dataset_info(data): # Функция для ознакомления с датафреймом\n",
    "    \n",
    "    display(data.head()) # Выведем первые строки\n",
    "    print('')\n",
    "    display(data.info()) # Выведем основную информацию\n",
    "    print('')\n",
    "    display(data.describe()) # Расчитаем описательную статистику\n",
    "    print('')\n",
    "    display(data.isna().sum()) # Выведем количество пропущенных значений для каждого столбца\n",
    "    print('=====================================================')\n",
    "    print(len(data)- len(data.drop_duplicates())) # Подсчитаем количество повторяющихся строк в датафрейме\n",
    "    print('')\n",
    "    data.hist(figsize=(7, 5)); # Построим гистограмму для всех числовых столбцов таблицы на одном графике.\n"
   ]
  },
  {
   "cell_type": "code",
   "execution_count": 4,
   "id": "9cb78917",
   "metadata": {
    "scrolled": true
   },
   "outputs": [
    {
     "data": {
      "text/html": [
       "<div>\n",
       "<style scoped>\n",
       "    .dataframe tbody tr th:only-of-type {\n",
       "        vertical-align: middle;\n",
       "    }\n",
       "\n",
       "    .dataframe tbody tr th {\n",
       "        vertical-align: top;\n",
       "    }\n",
       "\n",
       "    .dataframe thead th {\n",
       "        text-align: right;\n",
       "    }\n",
       "</style>\n",
       "<table border=\"1\" class=\"dataframe\">\n",
       "  <thead>\n",
       "    <tr style=\"text-align: right;\">\n",
       "      <th></th>\n",
       "      <th>user_id</th>\n",
       "      <th>name</th>\n",
       "      <th>age</th>\n",
       "      <th>city</th>\n",
       "      <th>subscription_type</th>\n",
       "    </tr>\n",
       "  </thead>\n",
       "  <tbody>\n",
       "    <tr>\n",
       "      <th>0</th>\n",
       "      <td>1</td>\n",
       "      <td>Кира</td>\n",
       "      <td>22</td>\n",
       "      <td>Тюмень</td>\n",
       "      <td>ultra</td>\n",
       "    </tr>\n",
       "    <tr>\n",
       "      <th>1</th>\n",
       "      <td>2</td>\n",
       "      <td>Станислав</td>\n",
       "      <td>31</td>\n",
       "      <td>Омск</td>\n",
       "      <td>ultra</td>\n",
       "    </tr>\n",
       "    <tr>\n",
       "      <th>2</th>\n",
       "      <td>3</td>\n",
       "      <td>Алексей</td>\n",
       "      <td>20</td>\n",
       "      <td>Москва</td>\n",
       "      <td>ultra</td>\n",
       "    </tr>\n",
       "    <tr>\n",
       "      <th>3</th>\n",
       "      <td>4</td>\n",
       "      <td>Константин</td>\n",
       "      <td>26</td>\n",
       "      <td>Ростов-на-Дону</td>\n",
       "      <td>ultra</td>\n",
       "    </tr>\n",
       "    <tr>\n",
       "      <th>4</th>\n",
       "      <td>5</td>\n",
       "      <td>Адель</td>\n",
       "      <td>28</td>\n",
       "      <td>Омск</td>\n",
       "      <td>ultra</td>\n",
       "    </tr>\n",
       "  </tbody>\n",
       "</table>\n",
       "</div>"
      ],
      "text/plain": [
       "   user_id        name  age            city subscription_type\n",
       "0        1        Кира   22          Тюмень             ultra\n",
       "1        2   Станислав   31            Омск             ultra\n",
       "2        3     Алексей   20          Москва             ultra\n",
       "3        4  Константин   26  Ростов-на-Дону             ultra\n",
       "4        5       Адель   28            Омск             ultra"
      ]
     },
     "metadata": {},
     "output_type": "display_data"
    },
    {
     "name": "stdout",
     "output_type": "stream",
     "text": [
      "\n",
      "<class 'pandas.core.frame.DataFrame'>\n",
      "RangeIndex: 1565 entries, 0 to 1564\n",
      "Data columns (total 5 columns):\n",
      " #   Column             Non-Null Count  Dtype \n",
      "---  ------             --------------  ----- \n",
      " 0   user_id            1565 non-null   int64 \n",
      " 1   name               1565 non-null   object\n",
      " 2   age                1565 non-null   int64 \n",
      " 3   city               1565 non-null   object\n",
      " 4   subscription_type  1565 non-null   object\n",
      "dtypes: int64(2), object(3)\n",
      "memory usage: 61.3+ KB\n"
     ]
    },
    {
     "data": {
      "text/plain": [
       "None"
      ]
     },
     "metadata": {},
     "output_type": "display_data"
    },
    {
     "name": "stdout",
     "output_type": "stream",
     "text": [
      "\n"
     ]
    },
    {
     "data": {
      "text/html": [
       "<div>\n",
       "<style scoped>\n",
       "    .dataframe tbody tr th:only-of-type {\n",
       "        vertical-align: middle;\n",
       "    }\n",
       "\n",
       "    .dataframe tbody tr th {\n",
       "        vertical-align: top;\n",
       "    }\n",
       "\n",
       "    .dataframe thead th {\n",
       "        text-align: right;\n",
       "    }\n",
       "</style>\n",
       "<table border=\"1\" class=\"dataframe\">\n",
       "  <thead>\n",
       "    <tr style=\"text-align: right;\">\n",
       "      <th></th>\n",
       "      <th>user_id</th>\n",
       "      <th>age</th>\n",
       "    </tr>\n",
       "  </thead>\n",
       "  <tbody>\n",
       "    <tr>\n",
       "      <th>count</th>\n",
       "      <td>1565.000000</td>\n",
       "      <td>1565.000000</td>\n",
       "    </tr>\n",
       "    <tr>\n",
       "      <th>mean</th>\n",
       "      <td>762.633866</td>\n",
       "      <td>24.922045</td>\n",
       "    </tr>\n",
       "    <tr>\n",
       "      <th>std</th>\n",
       "      <td>443.260155</td>\n",
       "      <td>4.553496</td>\n",
       "    </tr>\n",
       "    <tr>\n",
       "      <th>min</th>\n",
       "      <td>1.000000</td>\n",
       "      <td>12.000000</td>\n",
       "    </tr>\n",
       "    <tr>\n",
       "      <th>25%</th>\n",
       "      <td>378.000000</td>\n",
       "      <td>22.000000</td>\n",
       "    </tr>\n",
       "    <tr>\n",
       "      <th>50%</th>\n",
       "      <td>762.000000</td>\n",
       "      <td>25.000000</td>\n",
       "    </tr>\n",
       "    <tr>\n",
       "      <th>75%</th>\n",
       "      <td>1146.000000</td>\n",
       "      <td>28.000000</td>\n",
       "    </tr>\n",
       "    <tr>\n",
       "      <th>max</th>\n",
       "      <td>1534.000000</td>\n",
       "      <td>43.000000</td>\n",
       "    </tr>\n",
       "  </tbody>\n",
       "</table>\n",
       "</div>"
      ],
      "text/plain": [
       "           user_id          age\n",
       "count  1565.000000  1565.000000\n",
       "mean    762.633866    24.922045\n",
       "std     443.260155     4.553496\n",
       "min       1.000000    12.000000\n",
       "25%     378.000000    22.000000\n",
       "50%     762.000000    25.000000\n",
       "75%    1146.000000    28.000000\n",
       "max    1534.000000    43.000000"
      ]
     },
     "metadata": {},
     "output_type": "display_data"
    },
    {
     "name": "stdout",
     "output_type": "stream",
     "text": [
      "\n"
     ]
    },
    {
     "data": {
      "text/plain": [
       "user_id              0\n",
       "name                 0\n",
       "age                  0\n",
       "city                 0\n",
       "subscription_type    0\n",
       "dtype: int64"
      ]
     },
     "metadata": {},
     "output_type": "display_data"
    },
    {
     "name": "stdout",
     "output_type": "stream",
     "text": [
      "=====================================================\n",
      "31\n",
      "\n"
     ]
    },
    {
     "data": {
      "image/png": "[encoded data removed]",
      "text/plain": [
       "<Figure size 504x360 with 2 Axes>"
      ]
     },
     "metadata": {
      "needs_background": "light"
     },
     "output_type": "display_data"
    }
   ],
   "source": [
    "dataset_info(data_users)"
   ]
  },
  {
   "cell_type": "markdown",
   "id": "bbde4742",
   "metadata": {},
   "source": [
    "**Вывод:**\n",
    "\n",
    "Таблица содержит 1565 строк, все столбцы заполнены. Правильный тип данных. Есть повторяющиеся строки - 31 шт. "
   ]
  },
  {
   "cell_type": "code",
   "execution_count": 5,
   "id": "c79a3e09",
   "metadata": {
    "scrolled": true
   },
   "outputs": [
    {
     "data": {
      "text/html": [
       "<div>\n",
       "<style scoped>\n",
       "    .dataframe tbody tr th:only-of-type {\n",
       "        vertical-align: middle;\n",
       "    }\n",
       "\n",
       "    .dataframe tbody tr th {\n",
       "        vertical-align: top;\n",
       "    }\n",
       "\n",
       "    .dataframe thead th {\n",
       "        text-align: right;\n",
       "    }\n",
       "</style>\n",
       "<table border=\"1\" class=\"dataframe\">\n",
       "  <thead>\n",
       "    <tr style=\"text-align: right;\">\n",
       "      <th></th>\n",
       "      <th>user_id</th>\n",
       "      <th>distance</th>\n",
       "      <th>duration</th>\n",
       "      <th>date</th>\n",
       "    </tr>\n",
       "  </thead>\n",
       "  <tbody>\n",
       "    <tr>\n",
       "      <th>0</th>\n",
       "      <td>1</td>\n",
       "      <td>4409.919140</td>\n",
       "      <td>25.599769</td>\n",
       "      <td>2021-01-01</td>\n",
       "    </tr>\n",
       "    <tr>\n",
       "      <th>1</th>\n",
       "      <td>1</td>\n",
       "      <td>2617.592153</td>\n",
       "      <td>15.816871</td>\n",
       "      <td>2021-01-18</td>\n",
       "    </tr>\n",
       "    <tr>\n",
       "      <th>2</th>\n",
       "      <td>1</td>\n",
       "      <td>754.159807</td>\n",
       "      <td>6.232113</td>\n",
       "      <td>2021-04-20</td>\n",
       "    </tr>\n",
       "    <tr>\n",
       "      <th>3</th>\n",
       "      <td>1</td>\n",
       "      <td>2694.783254</td>\n",
       "      <td>18.511000</td>\n",
       "      <td>2021-08-11</td>\n",
       "    </tr>\n",
       "    <tr>\n",
       "      <th>4</th>\n",
       "      <td>1</td>\n",
       "      <td>4028.687306</td>\n",
       "      <td>26.265803</td>\n",
       "      <td>2021-08-28</td>\n",
       "    </tr>\n",
       "  </tbody>\n",
       "</table>\n",
       "</div>"
      ],
      "text/plain": [
       "   user_id     distance   duration       date\n",
       "0        1  4409.919140  25.599769 2021-01-01\n",
       "1        1  2617.592153  15.816871 2021-01-18\n",
       "2        1   754.159807   6.232113 2021-04-20\n",
       "3        1  2694.783254  18.511000 2021-08-11\n",
       "4        1  4028.687306  26.265803 2021-08-28"
      ]
     },
     "metadata": {},
     "output_type": "display_data"
    },
    {
     "name": "stdout",
     "output_type": "stream",
     "text": [
      "\n",
      "<class 'pandas.core.frame.DataFrame'>\n",
      "RangeIndex: 18068 entries, 0 to 18067\n",
      "Data columns (total 4 columns):\n",
      " #   Column    Non-Null Count  Dtype         \n",
      "---  ------    --------------  -----         \n",
      " 0   user_id   18068 non-null  int64         \n",
      " 1   distance  18068 non-null  float64       \n",
      " 2   duration  18068 non-null  float64       \n",
      " 3   date      18068 non-null  datetime64[ns]\n",
      "dtypes: datetime64[ns](1), float64(2), int64(1)\n",
      "memory usage: 564.8 KB\n"
     ]
    },
    {
     "data": {
      "text/plain": [
       "None"
      ]
     },
     "metadata": {},
     "output_type": "display_data"
    },
    {
     "name": "stdout",
     "output_type": "stream",
     "text": [
      "\n"
     ]
    },
    {
     "data": {
      "text/html": [
       "<div>\n",
       "<style scoped>\n",
       "    .dataframe tbody tr th:only-of-type {\n",
       "        vertical-align: middle;\n",
       "    }\n",
       "\n",
       "    .dataframe tbody tr th {\n",
       "        vertical-align: top;\n",
       "    }\n",
       "\n",
       "    .dataframe thead th {\n",
       "        text-align: right;\n",
       "    }\n",
       "</style>\n",
       "<table border=\"1\" class=\"dataframe\">\n",
       "  <thead>\n",
       "    <tr style=\"text-align: right;\">\n",
       "      <th></th>\n",
       "      <th>user_id</th>\n",
       "      <th>distance</th>\n",
       "      <th>duration</th>\n",
       "    </tr>\n",
       "  </thead>\n",
       "  <tbody>\n",
       "    <tr>\n",
       "      <th>count</th>\n",
       "      <td>18068.000000</td>\n",
       "      <td>18068.000000</td>\n",
       "      <td>18068.000000</td>\n",
       "    </tr>\n",
       "    <tr>\n",
       "      <th>mean</th>\n",
       "      <td>842.869936</td>\n",
       "      <td>3070.659976</td>\n",
       "      <td>17.805011</td>\n",
       "    </tr>\n",
       "    <tr>\n",
       "      <th>std</th>\n",
       "      <td>434.734317</td>\n",
       "      <td>1116.831209</td>\n",
       "      <td>6.091051</td>\n",
       "    </tr>\n",
       "    <tr>\n",
       "      <th>min</th>\n",
       "      <td>1.000000</td>\n",
       "      <td>0.855683</td>\n",
       "      <td>0.500000</td>\n",
       "    </tr>\n",
       "    <tr>\n",
       "      <th>25%</th>\n",
       "      <td>487.000000</td>\n",
       "      <td>2543.226360</td>\n",
       "      <td>13.597563</td>\n",
       "    </tr>\n",
       "    <tr>\n",
       "      <th>50%</th>\n",
       "      <td>889.000000</td>\n",
       "      <td>3133.609994</td>\n",
       "      <td>17.678395</td>\n",
       "    </tr>\n",
       "    <tr>\n",
       "      <th>75%</th>\n",
       "      <td>1213.250000</td>\n",
       "      <td>3776.222735</td>\n",
       "      <td>21.724800</td>\n",
       "    </tr>\n",
       "    <tr>\n",
       "      <th>max</th>\n",
       "      <td>1534.000000</td>\n",
       "      <td>7211.007745</td>\n",
       "      <td>40.823963</td>\n",
       "    </tr>\n",
       "  </tbody>\n",
       "</table>\n",
       "</div>"
      ],
      "text/plain": [
       "            user_id      distance      duration\n",
       "count  18068.000000  18068.000000  18068.000000\n",
       "mean     842.869936   3070.659976     17.805011\n",
       "std      434.734317   1116.831209      6.091051\n",
       "min        1.000000      0.855683      0.500000\n",
       "25%      487.000000   2543.226360     13.597563\n",
       "50%      889.000000   3133.609994     17.678395\n",
       "75%     1213.250000   3776.222735     21.724800\n",
       "max     1534.000000   7211.007745     40.823963"
      ]
     },
     "metadata": {},
     "output_type": "display_data"
    },
    {
     "name": "stdout",
     "output_type": "stream",
     "text": [
      "\n"
     ]
    },
    {
     "data": {
      "text/plain": [
       "user_id     0\n",
       "distance    0\n",
       "duration    0\n",
       "date        0\n",
       "dtype: int64"
      ]
     },
     "metadata": {},
     "output_type": "display_data"
    },
    {
     "name": "stdout",
     "output_type": "stream",
     "text": [
      "=====================================================\n",
      "0\n",
      "\n"
     ]
    },
    {
     "data": {
      "image/png": "[encoded data removed]",
      "text/plain": [
       "<Figure size 504x360 with 4 Axes>"
      ]
     },
     "metadata": {
      "needs_background": "light"
     },
     "output_type": "display_data"
    }
   ],
   "source": [
    "dataset_info(data_rides)"
   ]
  },
  {
   "cell_type": "markdown",
   "id": "0b9d7f82",
   "metadata": {},
   "source": [
    "**Вывод:**\n",
    "\n",
    "Таблица содержит 18068 строк, все столбцы заполнены. Тип данных в столбце 'date' заменили  на datetime64 при импортировании csv-файла. Дубликаты отсутствуют. 'duration' менее 0,5 нужно проверить."
   ]
  },
  {
   "cell_type": "code",
   "execution_count": 6,
   "id": "bb270588",
   "metadata": {
    "scrolled": true
   },
   "outputs": [
    {
     "data": {
      "text/html": [
       "<div>\n",
       "<style scoped>\n",
       "    .dataframe tbody tr th:only-of-type {\n",
       "        vertical-align: middle;\n",
       "    }\n",
       "\n",
       "    .dataframe tbody tr th {\n",
       "        vertical-align: top;\n",
       "    }\n",
       "\n",
       "    .dataframe thead th {\n",
       "        text-align: right;\n",
       "    }\n",
       "</style>\n",
       "<table border=\"1\" class=\"dataframe\">\n",
       "  <thead>\n",
       "    <tr style=\"text-align: right;\">\n",
       "      <th></th>\n",
       "      <th>subscription_type</th>\n",
       "      <th>minute_price</th>\n",
       "      <th>start_ride_price</th>\n",
       "      <th>subscription_fee</th>\n",
       "    </tr>\n",
       "  </thead>\n",
       "  <tbody>\n",
       "    <tr>\n",
       "      <th>0</th>\n",
       "      <td>free</td>\n",
       "      <td>8</td>\n",
       "      <td>50</td>\n",
       "      <td>0</td>\n",
       "    </tr>\n",
       "    <tr>\n",
       "      <th>1</th>\n",
       "      <td>ultra</td>\n",
       "      <td>6</td>\n",
       "      <td>0</td>\n",
       "      <td>199</td>\n",
       "    </tr>\n",
       "  </tbody>\n",
       "</table>\n",
       "</div>"
      ],
      "text/plain": [
       "  subscription_type  minute_price  start_ride_price  subscription_fee\n",
       "0              free             8                50                 0\n",
       "1             ultra             6                 0               199"
      ]
     },
     "metadata": {},
     "output_type": "display_data"
    },
    {
     "name": "stdout",
     "output_type": "stream",
     "text": [
      "\n",
      "<class 'pandas.core.frame.DataFrame'>\n",
      "RangeIndex: 2 entries, 0 to 1\n",
      "Data columns (total 4 columns):\n",
      " #   Column             Non-Null Count  Dtype \n",
      "---  ------             --------------  ----- \n",
      " 0   subscription_type  2 non-null      object\n",
      " 1   minute_price       2 non-null      int64 \n",
      " 2   start_ride_price   2 non-null      int64 \n",
      " 3   subscription_fee   2 non-null      int64 \n",
      "dtypes: int64(3), object(1)\n",
      "memory usage: 192.0+ bytes\n"
     ]
    },
    {
     "data": {
      "text/plain": [
       "None"
      ]
     },
     "metadata": {},
     "output_type": "display_data"
    },
    {
     "name": "stdout",
     "output_type": "stream",
     "text": [
      "\n"
     ]
    },
    {
     "data": {
      "text/html": [
       "<div>\n",
       "<style scoped>\n",
       "    .dataframe tbody tr th:only-of-type {\n",
       "        vertical-align: middle;\n",
       "    }\n",
       "\n",
       "    .dataframe tbody tr th {\n",
       "        vertical-align: top;\n",
       "    }\n",
       "\n",
       "    .dataframe thead th {\n",
       "        text-align: right;\n",
       "    }\n",
       "</style>\n",
       "<table border=\"1\" class=\"dataframe\">\n",
       "  <thead>\n",
       "    <tr style=\"text-align: right;\">\n",
       "      <th></th>\n",
       "      <th>minute_price</th>\n",
       "      <th>start_ride_price</th>\n",
       "      <th>subscription_fee</th>\n",
       "    </tr>\n",
       "  </thead>\n",
       "  <tbody>\n",
       "    <tr>\n",
       "      <th>count</th>\n",
       "      <td>2.000000</td>\n",
       "      <td>2.000000</td>\n",
       "      <td>2.000000</td>\n",
       "    </tr>\n",
       "    <tr>\n",
       "      <th>mean</th>\n",
       "      <td>7.000000</td>\n",
       "      <td>25.000000</td>\n",
       "      <td>99.500000</td>\n",
       "    </tr>\n",
       "    <tr>\n",
       "      <th>std</th>\n",
       "      <td>1.414214</td>\n",
       "      <td>35.355339</td>\n",
       "      <td>140.714249</td>\n",
       "    </tr>\n",
       "    <tr>\n",
       "      <th>min</th>\n",
       "      <td>6.000000</td>\n",
       "      <td>0.000000</td>\n",
       "      <td>0.000000</td>\n",
       "    </tr>\n",
       "    <tr>\n",
       "      <th>25%</th>\n",
       "      <td>6.500000</td>\n",
       "      <td>12.500000</td>\n",
       "      <td>49.750000</td>\n",
       "    </tr>\n",
       "    <tr>\n",
       "      <th>50%</th>\n",
       "      <td>7.000000</td>\n",
       "      <td>25.000000</td>\n",
       "      <td>99.500000</td>\n",
       "    </tr>\n",
       "    <tr>\n",
       "      <th>75%</th>\n",
       "      <td>7.500000</td>\n",
       "      <td>37.500000</td>\n",
       "      <td>149.250000</td>\n",
       "    </tr>\n",
       "    <tr>\n",
       "      <th>max</th>\n",
       "      <td>8.000000</td>\n",
       "      <td>50.000000</td>\n",
       "      <td>199.000000</td>\n",
       "    </tr>\n",
       "  </tbody>\n",
       "</table>\n",
       "</div>"
      ],
      "text/plain": [
       "       minute_price  start_ride_price  subscription_fee\n",
       "count      2.000000          2.000000          2.000000\n",
       "mean       7.000000         25.000000         99.500000\n",
       "std        1.414214         35.355339        140.714249\n",
       "min        6.000000          0.000000          0.000000\n",
       "25%        6.500000         12.500000         49.750000\n",
       "50%        7.000000         25.000000         99.500000\n",
       "75%        7.500000         37.500000        149.250000\n",
       "max        8.000000         50.000000        199.000000"
      ]
     },
     "metadata": {},
     "output_type": "display_data"
    },
    {
     "name": "stdout",
     "output_type": "stream",
     "text": [
      "\n"
     ]
    },
    {
     "data": {
      "text/plain": [
       "subscription_type    0\n",
       "minute_price         0\n",
       "start_ride_price     0\n",
       "subscription_fee     0\n",
       "dtype: int64"
      ]
     },
     "metadata": {},
     "output_type": "display_data"
    },
    {
     "name": "stdout",
     "output_type": "stream",
     "text": [
      "=====================================================\n",
      "0\n",
      "\n"
     ]
    },
    {
     "data": {
      "image/png": "[encoded data removed]",
      "text/plain": [
       "<Figure size 504x360 with 4 Axes>"
      ]
     },
     "metadata": {
      "needs_background": "light"
     },
     "output_type": "display_data"
    }
   ],
   "source": [
    "dataset_info(data_sub)"
   ]
  },
  {
   "cell_type": "markdown",
   "id": "126b6519",
   "metadata": {},
   "source": [
    "**Вывод:**\n",
    "\n",
    "Таблица содержит 2 строки, все столбцы заполнены. Тип данных правильный. Дубликаты отсутствуют.  "
   ]
  },
  {
   "cell_type": "markdown",
   "id": "e95ebca7",
   "metadata": {},
   "source": [
    "####  Предобработка данных"
   ]
  },
  {
   "cell_type": "markdown",
   "id": "9203676f",
   "metadata": {},
   "source": [
    "**2.1. Приведите столбец date к типу даты pandas.**"
   ]
  },
  {
   "cell_type": "code",
   "execution_count": 7,
   "id": "53c39439",
   "metadata": {},
   "outputs": [
    {
     "name": "stdout",
     "output_type": "stream",
     "text": [
      "<class 'pandas.core.frame.DataFrame'>\n",
      "RangeIndex: 18068 entries, 0 to 18067\n",
      "Data columns (total 4 columns):\n",
      " #   Column    Non-Null Count  Dtype         \n",
      "---  ------    --------------  -----         \n",
      " 0   user_id   18068 non-null  int64         \n",
      " 1   distance  18068 non-null  float64       \n",
      " 2   duration  18068 non-null  float64       \n",
      " 3   date      18068 non-null  datetime64[ns]\n",
      "dtypes: datetime64[ns](1), float64(2), int64(1)\n",
      "memory usage: 564.8 KB\n"
     ]
    }
   ],
   "source": [
    "#data_rides['date'] = pd.to_datetime(data_rides['date'], format = '%Y-%m-%d')\n",
    "data_rides.info()"
   ]
  },
  {
   "cell_type": "markdown",
   "id": "857233b6",
   "metadata": {},
   "source": [
    "**2.2 Создайте новый столбец с номером месяца на основе столбца date.**"
   ]
  },
  {
   "cell_type": "code",
   "execution_count": 8,
   "id": "3663a61f",
   "metadata": {},
   "outputs": [
    {
     "data": {
      "text/html": [
       "<div>\n",
       "<style scoped>\n",
       "    .dataframe tbody tr th:only-of-type {\n",
       "        vertical-align: middle;\n",
       "    }\n",
       "\n",
       "    .dataframe tbody tr th {\n",
       "        vertical-align: top;\n",
       "    }\n",
       "\n",
       "    .dataframe thead th {\n",
       "        text-align: right;\n",
       "    }\n",
       "</style>\n",
       "<table border=\"1\" class=\"dataframe\">\n",
       "  <thead>\n",
       "    <tr style=\"text-align: right;\">\n",
       "      <th></th>\n",
       "      <th>user_id</th>\n",
       "      <th>distance</th>\n",
       "      <th>duration</th>\n",
       "      <th>date</th>\n",
       "      <th>month</th>\n",
       "    </tr>\n",
       "  </thead>\n",
       "  <tbody>\n",
       "    <tr>\n",
       "      <th>0</th>\n",
       "      <td>1</td>\n",
       "      <td>4409.919140</td>\n",
       "      <td>25.599769</td>\n",
       "      <td>2021-01-01</td>\n",
       "      <td>1</td>\n",
       "    </tr>\n",
       "    <tr>\n",
       "      <th>1</th>\n",
       "      <td>1</td>\n",
       "      <td>2617.592153</td>\n",
       "      <td>15.816871</td>\n",
       "      <td>2021-01-18</td>\n",
       "      <td>1</td>\n",
       "    </tr>\n",
       "    <tr>\n",
       "      <th>2</th>\n",
       "      <td>1</td>\n",
       "      <td>754.159807</td>\n",
       "      <td>6.232113</td>\n",
       "      <td>2021-04-20</td>\n",
       "      <td>4</td>\n",
       "    </tr>\n",
       "    <tr>\n",
       "      <th>3</th>\n",
       "      <td>1</td>\n",
       "      <td>2694.783254</td>\n",
       "      <td>18.511000</td>\n",
       "      <td>2021-08-11</td>\n",
       "      <td>8</td>\n",
       "    </tr>\n",
       "    <tr>\n",
       "      <th>4</th>\n",
       "      <td>1</td>\n",
       "      <td>4028.687306</td>\n",
       "      <td>26.265803</td>\n",
       "      <td>2021-08-28</td>\n",
       "      <td>8</td>\n",
       "    </tr>\n",
       "    <tr>\n",
       "      <th>5</th>\n",
       "      <td>1</td>\n",
       "      <td>2770.890808</td>\n",
       "      <td>16.650138</td>\n",
       "      <td>2021-10-09</td>\n",
       "      <td>10</td>\n",
       "    </tr>\n",
       "    <tr>\n",
       "      <th>6</th>\n",
       "      <td>1</td>\n",
       "      <td>3039.020292</td>\n",
       "      <td>14.927879</td>\n",
       "      <td>2021-10-19</td>\n",
       "      <td>10</td>\n",
       "    </tr>\n",
       "    <tr>\n",
       "      <th>7</th>\n",
       "      <td>1</td>\n",
       "      <td>2842.118050</td>\n",
       "      <td>23.117468</td>\n",
       "      <td>2021-11-06</td>\n",
       "      <td>11</td>\n",
       "    </tr>\n",
       "    <tr>\n",
       "      <th>8</th>\n",
       "      <td>1</td>\n",
       "      <td>3412.690668</td>\n",
       "      <td>15.238072</td>\n",
       "      <td>2021-11-14</td>\n",
       "      <td>11</td>\n",
       "    </tr>\n",
       "    <tr>\n",
       "      <th>9</th>\n",
       "      <td>1</td>\n",
       "      <td>748.690645</td>\n",
       "      <td>15.041884</td>\n",
       "      <td>2021-11-22</td>\n",
       "      <td>11</td>\n",
       "    </tr>\n",
       "  </tbody>\n",
       "</table>\n",
       "</div>"
      ],
      "text/plain": [
       "   user_id     distance   duration       date  month\n",
       "0        1  4409.919140  25.599769 2021-01-01      1\n",
       "1        1  2617.592153  15.816871 2021-01-18      1\n",
       "2        1   754.159807   6.232113 2021-04-20      4\n",
       "3        1  2694.783254  18.511000 2021-08-11      8\n",
       "4        1  4028.687306  26.265803 2021-08-28      8\n",
       "5        1  2770.890808  16.650138 2021-10-09     10\n",
       "6        1  3039.020292  14.927879 2021-10-19     10\n",
       "7        1  2842.118050  23.117468 2021-11-06     11\n",
       "8        1  3412.690668  15.238072 2021-11-14     11\n",
       "9        1   748.690645  15.041884 2021-11-22     11"
      ]
     },
     "metadata": {},
     "output_type": "display_data"
    }
   ],
   "source": [
    "data_rides['month'] = data_rides['date'].dt.month\n",
    "display(data_rides.head(10))"
   ]
  },
  {
   "cell_type": "markdown",
   "id": "678f3010",
   "metadata": {},
   "source": [
    "**Проверим, за какой период собраны данные в 'date' методом value_counts()**"
   ]
  },
  {
   "cell_type": "code",
   "execution_count": 9,
   "id": "24493b43",
   "metadata": {},
   "outputs": [
    {
     "data": {
      "text/plain": [
       "2021-12-22    72\n",
       "2021-01-12    70\n",
       "2021-12-27    69\n",
       "2021-08-20    67\n",
       "2021-06-09    67\n",
       "              ..\n",
       "2021-11-07    35\n",
       "2021-07-30    35\n",
       "2021-12-15    34\n",
       "2021-02-02    34\n",
       "2021-07-03    31\n",
       "Name: date, Length: 364, dtype: int64"
      ]
     },
     "execution_count": 9,
     "metadata": {},
     "output_type": "execute_result"
    }
   ],
   "source": [
    "data_rides['date'].value_counts()"
   ]
  },
  {
   "cell_type": "markdown",
   "id": "83c75113",
   "metadata": {},
   "source": [
    "Данные за 2021 г. "
   ]
  },
  {
   "cell_type": "markdown",
   "id": "deba301c",
   "metadata": {},
   "source": [
    "**2.3. Проверьте наличие пропущенных значений и дубликатов в датафреймах. Обработайте их, если такие значения присутствуют.**"
   ]
  },
  {
   "cell_type": "code",
   "execution_count": 10,
   "id": "04b887f2",
   "metadata": {},
   "outputs": [
    {
     "name": "stdout",
     "output_type": "stream",
     "text": [
      "31\n"
     ]
    }
   ],
   "source": [
    "print(len(data_users)- len(data_users.drop_duplicates())) # Изучим повторяющиеся строки"
   ]
  },
  {
   "cell_type": "code",
   "execution_count": 11,
   "id": "1e2c2a29",
   "metadata": {},
   "outputs": [
    {
     "data": {
      "text/html": [
       "<div>\n",
       "<style scoped>\n",
       "    .dataframe tbody tr th:only-of-type {\n",
       "        vertical-align: middle;\n",
       "    }\n",
       "\n",
       "    .dataframe tbody tr th {\n",
       "        vertical-align: top;\n",
       "    }\n",
       "\n",
       "    .dataframe thead th {\n",
       "        text-align: right;\n",
       "    }\n",
       "</style>\n",
       "<table border=\"1\" class=\"dataframe\">\n",
       "  <thead>\n",
       "    <tr style=\"text-align: right;\">\n",
       "      <th></th>\n",
       "      <th>user_id</th>\n",
       "      <th>name</th>\n",
       "      <th>age</th>\n",
       "      <th>city</th>\n",
       "      <th>subscription_type</th>\n",
       "    </tr>\n",
       "  </thead>\n",
       "  <tbody>\n",
       "    <tr>\n",
       "      <th>1534</th>\n",
       "      <td>293</td>\n",
       "      <td>Агата</td>\n",
       "      <td>26</td>\n",
       "      <td>Краснодар</td>\n",
       "      <td>ultra</td>\n",
       "    </tr>\n",
       "    <tr>\n",
       "      <th>1535</th>\n",
       "      <td>16</td>\n",
       "      <td>Амалия</td>\n",
       "      <td>27</td>\n",
       "      <td>Краснодар</td>\n",
       "      <td>ultra</td>\n",
       "    </tr>\n",
       "    <tr>\n",
       "      <th>1536</th>\n",
       "      <td>909</td>\n",
       "      <td>Константин</td>\n",
       "      <td>20</td>\n",
       "      <td>Екатеринбург</td>\n",
       "      <td>free</td>\n",
       "    </tr>\n",
       "    <tr>\n",
       "      <th>1537</th>\n",
       "      <td>403</td>\n",
       "      <td>Полина</td>\n",
       "      <td>19</td>\n",
       "      <td>Сочи</td>\n",
       "      <td>ultra</td>\n",
       "    </tr>\n",
       "    <tr>\n",
       "      <th>1538</th>\n",
       "      <td>908</td>\n",
       "      <td>Рустам</td>\n",
       "      <td>30</td>\n",
       "      <td>Тюмень</td>\n",
       "      <td>free</td>\n",
       "    </tr>\n",
       "    <tr>\n",
       "      <th>1539</th>\n",
       "      <td>43</td>\n",
       "      <td>Стефания</td>\n",
       "      <td>22</td>\n",
       "      <td>Омск</td>\n",
       "      <td>ultra</td>\n",
       "    </tr>\n",
       "    <tr>\n",
       "      <th>1540</th>\n",
       "      <td>127</td>\n",
       "      <td>Павел</td>\n",
       "      <td>25</td>\n",
       "      <td>Пятигорск</td>\n",
       "      <td>ultra</td>\n",
       "    </tr>\n",
       "    <tr>\n",
       "      <th>1541</th>\n",
       "      <td>659</td>\n",
       "      <td>Злата</td>\n",
       "      <td>27</td>\n",
       "      <td>Ростов-на-Дону</td>\n",
       "      <td>ultra</td>\n",
       "    </tr>\n",
       "    <tr>\n",
       "      <th>1542</th>\n",
       "      <td>204</td>\n",
       "      <td>Руслан</td>\n",
       "      <td>30</td>\n",
       "      <td>Пятигорск</td>\n",
       "      <td>ultra</td>\n",
       "    </tr>\n",
       "    <tr>\n",
       "      <th>1543</th>\n",
       "      <td>153</td>\n",
       "      <td>Герман</td>\n",
       "      <td>23</td>\n",
       "      <td>Москва</td>\n",
       "      <td>ultra</td>\n",
       "    </tr>\n",
       "    <tr>\n",
       "      <th>1544</th>\n",
       "      <td>1245</td>\n",
       "      <td>Регина</td>\n",
       "      <td>27</td>\n",
       "      <td>Пятигорск</td>\n",
       "      <td>free</td>\n",
       "    </tr>\n",
       "    <tr>\n",
       "      <th>1545</th>\n",
       "      <td>807</td>\n",
       "      <td>Александр</td>\n",
       "      <td>28</td>\n",
       "      <td>Екатеринбург</td>\n",
       "      <td>free</td>\n",
       "    </tr>\n",
       "    <tr>\n",
       "      <th>1546</th>\n",
       "      <td>924</td>\n",
       "      <td>Мария</td>\n",
       "      <td>23</td>\n",
       "      <td>Пятигорск</td>\n",
       "      <td>free</td>\n",
       "    </tr>\n",
       "    <tr>\n",
       "      <th>1547</th>\n",
       "      <td>635</td>\n",
       "      <td>Герман</td>\n",
       "      <td>21</td>\n",
       "      <td>Москва</td>\n",
       "      <td>ultra</td>\n",
       "    </tr>\n",
       "    <tr>\n",
       "      <th>1548</th>\n",
       "      <td>136</td>\n",
       "      <td>Марсель</td>\n",
       "      <td>25</td>\n",
       "      <td>Тюмень</td>\n",
       "      <td>ultra</td>\n",
       "    </tr>\n",
       "    <tr>\n",
       "      <th>1549</th>\n",
       "      <td>108</td>\n",
       "      <td>Влада</td>\n",
       "      <td>29</td>\n",
       "      <td>Тюмень</td>\n",
       "      <td>ultra</td>\n",
       "    </tr>\n",
       "    <tr>\n",
       "      <th>1550</th>\n",
       "      <td>737</td>\n",
       "      <td>Мелания</td>\n",
       "      <td>27</td>\n",
       "      <td>Ростов-на-Дону</td>\n",
       "      <td>free</td>\n",
       "    </tr>\n",
       "    <tr>\n",
       "      <th>1551</th>\n",
       "      <td>666</td>\n",
       "      <td>Зарина</td>\n",
       "      <td>29</td>\n",
       "      <td>Москва</td>\n",
       "      <td>ultra</td>\n",
       "    </tr>\n",
       "    <tr>\n",
       "      <th>1552</th>\n",
       "      <td>297</td>\n",
       "      <td>Егор</td>\n",
       "      <td>33</td>\n",
       "      <td>Пятигорск</td>\n",
       "      <td>ultra</td>\n",
       "    </tr>\n",
       "    <tr>\n",
       "      <th>1553</th>\n",
       "      <td>121</td>\n",
       "      <td>Алина</td>\n",
       "      <td>25</td>\n",
       "      <td>Пятигорск</td>\n",
       "      <td>ultra</td>\n",
       "    </tr>\n",
       "    <tr>\n",
       "      <th>1554</th>\n",
       "      <td>1198</td>\n",
       "      <td>Демид</td>\n",
       "      <td>29</td>\n",
       "      <td>Ростов-на-Дону</td>\n",
       "      <td>free</td>\n",
       "    </tr>\n",
       "    <tr>\n",
       "      <th>1555</th>\n",
       "      <td>72</td>\n",
       "      <td>Никита</td>\n",
       "      <td>25</td>\n",
       "      <td>Москва</td>\n",
       "      <td>ultra</td>\n",
       "    </tr>\n",
       "    <tr>\n",
       "      <th>1556</th>\n",
       "      <td>422</td>\n",
       "      <td>Кирилл</td>\n",
       "      <td>27</td>\n",
       "      <td>Сочи</td>\n",
       "      <td>ultra</td>\n",
       "    </tr>\n",
       "    <tr>\n",
       "      <th>1557</th>\n",
       "      <td>611</td>\n",
       "      <td>Владимир</td>\n",
       "      <td>28</td>\n",
       "      <td>Омск</td>\n",
       "      <td>ultra</td>\n",
       "    </tr>\n",
       "    <tr>\n",
       "      <th>1558</th>\n",
       "      <td>1237</td>\n",
       "      <td>Евгения</td>\n",
       "      <td>23</td>\n",
       "      <td>Тюмень</td>\n",
       "      <td>free</td>\n",
       "    </tr>\n",
       "    <tr>\n",
       "      <th>1559</th>\n",
       "      <td>209</td>\n",
       "      <td>Андрей</td>\n",
       "      <td>23</td>\n",
       "      <td>Омск</td>\n",
       "      <td>ultra</td>\n",
       "    </tr>\n",
       "    <tr>\n",
       "      <th>1560</th>\n",
       "      <td>829</td>\n",
       "      <td>Федор</td>\n",
       "      <td>29</td>\n",
       "      <td>Пятигорск</td>\n",
       "      <td>free</td>\n",
       "    </tr>\n",
       "    <tr>\n",
       "      <th>1561</th>\n",
       "      <td>809</td>\n",
       "      <td>Юрий</td>\n",
       "      <td>26</td>\n",
       "      <td>Сочи</td>\n",
       "      <td>free</td>\n",
       "    </tr>\n",
       "    <tr>\n",
       "      <th>1562</th>\n",
       "      <td>307</td>\n",
       "      <td>Ясмина</td>\n",
       "      <td>19</td>\n",
       "      <td>Краснодар</td>\n",
       "      <td>ultra</td>\n",
       "    </tr>\n",
       "    <tr>\n",
       "      <th>1563</th>\n",
       "      <td>47</td>\n",
       "      <td>Юрий</td>\n",
       "      <td>28</td>\n",
       "      <td>Тюмень</td>\n",
       "      <td>ultra</td>\n",
       "    </tr>\n",
       "    <tr>\n",
       "      <th>1564</th>\n",
       "      <td>1045</td>\n",
       "      <td>Артемий</td>\n",
       "      <td>28</td>\n",
       "      <td>Ростов-на-Дону</td>\n",
       "      <td>free</td>\n",
       "    </tr>\n",
       "  </tbody>\n",
       "</table>\n",
       "</div>"
      ],
      "text/plain": [
       "      user_id        name  age            city subscription_type\n",
       "1534      293       Агата   26       Краснодар             ultra\n",
       "1535       16      Амалия   27       Краснодар             ultra\n",
       "1536      909  Константин   20    Екатеринбург              free\n",
       "1537      403      Полина   19            Сочи             ultra\n",
       "1538      908      Рустам   30          Тюмень              free\n",
       "1539       43    Стефания   22            Омск             ultra\n",
       "1540      127       Павел   25       Пятигорск             ultra\n",
       "1541      659       Злата   27  Ростов-на-Дону             ultra\n",
       "1542      204      Руслан   30       Пятигорск             ultra\n",
       "1543      153      Герман   23          Москва             ultra\n",
       "1544     1245      Регина   27       Пятигорск              free\n",
       "1545      807   Александр   28    Екатеринбург              free\n",
       "1546      924       Мария   23       Пятигорск              free\n",
       "1547      635      Герман   21          Москва             ultra\n",
       "1548      136     Марсель   25          Тюмень             ultra\n",
       "1549      108       Влада   29          Тюмень             ultra\n",
       "1550      737     Мелания   27  Ростов-на-Дону              free\n",
       "1551      666      Зарина   29          Москва             ultra\n",
       "1552      297        Егор   33       Пятигорск             ultra\n",
       "1553      121       Алина   25       Пятигорск             ultra\n",
       "1554     1198       Демид   29  Ростов-на-Дону              free\n",
       "1555       72      Никита   25          Москва             ultra\n",
       "1556      422      Кирилл   27            Сочи             ultra\n",
       "1557      611    Владимир   28            Омск             ultra\n",
       "1558     1237     Евгения   23          Тюмень              free\n",
       "1559      209      Андрей   23            Омск             ultra\n",
       "1560      829       Федор   29       Пятигорск              free\n",
       "1561      809        Юрий   26            Сочи              free\n",
       "1562      307      Ясмина   19       Краснодар             ultra\n",
       "1563       47        Юрий   28          Тюмень             ultra\n",
       "1564     1045     Артемий   28  Ростов-на-Дону              free"
      ]
     },
     "execution_count": 11,
     "metadata": {},
     "output_type": "execute_result"
    }
   ],
   "source": [
    "data_users[data_users.duplicated()]"
   ]
  },
  {
   "cell_type": "code",
   "execution_count": 12,
   "id": "f9284c40",
   "metadata": {},
   "outputs": [
    {
     "name": "stdout",
     "output_type": "stream",
     "text": [
      "<class 'pandas.core.frame.DataFrame'>\n",
      "Int64Index: 1534 entries, 0 to 1533\n",
      "Data columns (total 5 columns):\n",
      " #   Column             Non-Null Count  Dtype \n",
      "---  ------             --------------  ----- \n",
      " 0   user_id            1534 non-null   int64 \n",
      " 1   name               1534 non-null   object\n",
      " 2   age                1534 non-null   int64 \n",
      " 3   city               1534 non-null   object\n",
      " 4   subscription_type  1534 non-null   object\n",
      "dtypes: int64(2), object(3)\n",
      "memory usage: 71.9+ KB\n"
     ]
    }
   ],
   "source": [
    "data_users = data_users.drop_duplicates() # Удалим дубликаты\n",
    "data_users.info()"
   ]
  },
  {
   "cell_type": "markdown",
   "id": "5c13c415",
   "metadata": {},
   "source": [
    "**Проверим повторяющиеся значения в столбце 'user_id'.**"
   ]
  },
  {
   "cell_type": "code",
   "execution_count": 13,
   "id": "75e8e935",
   "metadata": {},
   "outputs": [
    {
     "name": "stdout",
     "output_type": "stream",
     "text": [
      "Series([], Name: user_id, dtype: int64)\n"
     ]
    }
   ],
   "source": [
    "counts = data_users['user_id'].value_counts()\n",
    "repeated_values = counts[counts > 1]\n",
    "print(repeated_values)\n"
   ]
  },
  {
   "cell_type": "code",
   "execution_count": 14,
   "id": "580be4e5",
   "metadata": {},
   "outputs": [
    {
     "name": "stdout",
     "output_type": "stream",
     "text": [
      "1236    27\n",
      "783     26\n",
      "1063    26\n",
      "1204    24\n",
      "1149    23\n",
      "        ..\n",
      "420      3\n",
      "108      3\n",
      "412      3\n",
      "342      2\n",
      "366      2\n",
      "Name: user_id, Length: 1534, dtype: int64\n"
     ]
    }
   ],
   "source": [
    "counts_1 = data_rides['user_id'].value_counts()\n",
    "repeated_values_1 = counts_1[counts_1 > 1]\n",
    "print(repeated_values_1)"
   ]
  },
  {
   "cell_type": "code",
   "execution_count": 15,
   "id": "46906300",
   "metadata": {},
   "outputs": [
    {
     "name": "stdout",
     "output_type": "stream",
     "text": [
      "      user_id     distance   duration       date  month\n",
      "3396      366  3493.472950  18.100524 2021-04-12      4\n",
      "3397      366  2183.771001  18.279237 2021-05-10      5\n"
     ]
    }
   ],
   "source": [
    "data_rides_copy = data_rides.loc[data_rides['user_id'] == 366]\n",
    "print(data_rides_copy)"
   ]
  },
  {
   "cell_type": "markdown",
   "id": "b47fa569",
   "metadata": {},
   "source": [
    "**Вывод:**\n",
    "\n",
    "data_users содежит уникальные id в столбце 'user_id'.\n",
    "\n",
    "В data_rides id повторяются в связи с разной датой совершения поездки - один человек использовал самокат больше 1 раза.\n",
    "\n"
   ]
  },
  {
   "cell_type": "markdown",
   "id": "a16aa90e",
   "metadata": {},
   "source": [
    "**Проверим уникальность столбца 'city'.**"
   ]
  },
  {
   "cell_type": "code",
   "execution_count": 16,
   "id": "02873a5d",
   "metadata": {},
   "outputs": [
    {
     "name": "stdout",
     "output_type": "stream",
     "text": [
      "['Тюмень' 'Омск' 'Москва' 'Ростов-на-Дону' 'Краснодар' 'Пятигорск'\n",
      " 'Екатеринбург' 'Сочи']\n"
     ]
    }
   ],
   "source": [
    "print(data_users['city'].unique()) "
   ]
  },
  {
   "cell_type": "markdown",
   "id": "5b63251f",
   "metadata": {},
   "source": [
    "**Вывод:**\n",
    "\n",
    "Столбец в едином виде, с уникальными значениями."
   ]
  },
  {
   "cell_type": "markdown",
   "id": "ebc72075",
   "metadata": {},
   "source": [
    "**Вывод по предобработке данных:**\n",
    "\n",
    "- изменили тип данных в data_rides['date'] на datetime64.\n",
    "- создали новый столбец data_rides['month'].\n",
    "- удалили дубликаты из data_users."
   ]
  },
  {
   "cell_type": "markdown",
   "id": "212593c7",
   "metadata": {},
   "source": [
    "#### Исследовательский анализ данных\n",
    "\n",
    "**Опишите и визуализируйте общую информацию о пользователях и поездках:**"
   ]
  },
  {
   "cell_type": "markdown",
   "id": "8453adc1",
   "metadata": {},
   "source": [
    "**3.1. Частота встречаемости городов**"
   ]
  },
  {
   "cell_type": "code",
   "execution_count": 17,
   "id": "2ac06aa4",
   "metadata": {},
   "outputs": [
    {
     "name": "stdout",
     "output_type": "stream",
     "text": [
      "Пятигорск         219\n",
      "Екатеринбург      204\n",
      "Ростов-на-Дону    198\n",
      "Краснодар         193\n",
      "Сочи              189\n",
      "Омск              183\n",
      "Тюмень            180\n",
      "Москва            168\n",
      "Name: city, dtype: int64\n"
     ]
    },
    {
     "data": {
      "image/png": "[encoded data removed]",
      "text/plain": [
       "<Figure size 432x288 with 1 Axes>"
      ]
     },
     "metadata": {
      "needs_background": "light"
     },
     "output_type": "display_data"
    }
   ],
   "source": [
    "data_users['city'].value_counts().plot(kind='bar');\n",
    "print(data_users['city'].value_counts().head(10))"
   ]
  },
  {
   "cell_type": "code",
   "execution_count": 18,
   "id": "22177b0a",
   "metadata": {},
   "outputs": [
    {
     "data": {
      "image/png": "[encoded data removed]",
      "text/plain": [
       "<Figure size 432x288 with 1 Axes>"
      ]
     },
     "metadata": {
      "needs_background": "light"
     },
     "output_type": "display_data"
    }
   ],
   "source": [
    "data_users['city'].value_counts().plot(kind='barh');\n",
    "plt.xlabel('Частота');\n",
    "plt.ylabel('Название городов');\n",
    "plt.title('Частота встречаемости городов');"
   ]
  },
  {
   "cell_type": "markdown",
   "id": "1f15ef3e",
   "metadata": {},
   "source": [
    "**Вывод:**\n",
    "\n",
    "Больше всего пользователей в городе Пятигорск - 219, меньше всего в Москве - 168."
   ]
  },
  {
   "cell_type": "markdown",
   "id": "e62b748f",
   "metadata": {},
   "source": [
    "**3.2. Соотношение пользователей с подпиской и без подписки.**"
   ]
  },
  {
   "cell_type": "code",
   "execution_count": 19,
   "id": "e2b915d9",
   "metadata": {},
   "outputs": [
    {
     "name": "stdout",
     "output_type": "stream",
     "text": [
      "free     835\n",
      "ultra    699\n",
      "Name: subscription_type, dtype: int64\n"
     ]
    },
    {
     "data": {
      "image/png": "[encoded data removed]",
      "text/plain": [
       "<Figure size 432x288 with 1 Axes>"
      ]
     },
     "metadata": {
      "needs_background": "light"
     },
     "output_type": "display_data"
    }
   ],
   "source": [
    "data_users['subscription_type'].value_counts().plot(kind='bar');\n",
    "print(data_users['subscription_type'].value_counts().head())\n",
    "plt.title(' Соотношение пользователей с подпиской и без подписки')\n",
    "plt.ylabel('Частота');\n",
    "plt.xlabel('Категория подписки');"
   ]
  },
  {
   "cell_type": "code",
   "execution_count": 20,
   "id": "ab194f50",
   "metadata": {},
   "outputs": [
    {
     "data": {
      "image/png": "[encoded data removed]",
      "text/plain": [
       "<Figure size 432x288 with 1 Axes>"
      ]
     },
     "metadata": {},
     "output_type": "display_data"
    }
   ],
   "source": [
    "labels = ['free','ultra']\n",
    "data_users['subscription_type'].value_counts().plot(kind='pie', autopct='%1.1f%%', labels=labels);\n",
    "plt.title(' Соотношение пользователей с подпиской и без подписки');\n",
    "plt.ylabel('');"
   ]
  },
  {
   "cell_type": "markdown",
   "id": "b4509db5",
   "metadata": {},
   "source": [
    "**Вывод:**\n",
    "\n",
    "Пользователей без подписки на 9% больше чем пользователей с подпиской. "
   ]
  },
  {
   "cell_type": "markdown",
   "id": "132cf3aa",
   "metadata": {},
   "source": [
    "**3.3. Возраст пользователей.**"
   ]
  },
  {
   "cell_type": "code",
   "execution_count": 21,
   "id": "0802bbea",
   "metadata": {},
   "outputs": [
    {
     "data": {
      "text/plain": [
       "count    1534.000000\n",
       "mean       24.903520\n",
       "std         4.572367\n",
       "min        12.000000\n",
       "25%        22.000000\n",
       "50%        25.000000\n",
       "75%        28.000000\n",
       "max        43.000000\n",
       "Name: age, dtype: float64"
      ]
     },
     "execution_count": 21,
     "metadata": {},
     "output_type": "execute_result"
    },
    {
     "data": {
      "image/png": "[encoded data removed]",
      "text/plain": [
       "<Figure size 432x288 with 1 Axes>"
      ]
     },
     "metadata": {
      "needs_background": "light"
     },
     "output_type": "display_data"
    }
   ],
   "source": [
    "data_users['age'].hist(bins=30);\n",
    "plt.title('Возраст пользователей')\n",
    "plt.ylabel('Частота');\n",
    "plt.xlabel('Возраст');\n",
    "data_users['age'].describe()"
   ]
  },
  {
   "cell_type": "markdown",
   "id": "e8f17b8e",
   "metadata": {},
   "source": [
    "**Вывод:**\n",
    "\n",
    "Самокатами пользуются люди в возрасте 12-43 лет. Средний возраст пользователей 25 лет. После 35 лет люди реже арендуют самокаты.\n",
    "\n",
    "Подозрительно, что арендовать самокат могут дети до 14 или 18 лет. Необходимо уточнить информацию у сервиса аренды, как такое возможно.\n",
    "\n",
    "Данные оставляем, не удаляем, т.к. это может повлиять фин анализ. "
   ]
  },
  {
   "cell_type": "markdown",
   "id": "cdb455b5",
   "metadata": {},
   "source": [
    "**3.4 Расстояние, которое пользователь преодолел за одну поездку.**"
   ]
  },
  {
   "cell_type": "code",
   "execution_count": 22,
   "id": "a8294838",
   "metadata": {
    "scrolled": false
   },
   "outputs": [
    {
     "data": {
      "text/plain": [
       "count    18068.000000\n",
       "mean      3070.659976\n",
       "std       1116.831209\n",
       "min          0.855683\n",
       "25%       2543.226360\n",
       "50%       3133.609994\n",
       "75%       3776.222735\n",
       "max       7211.007745\n",
       "Name: distance, dtype: float64"
      ]
     },
     "execution_count": 22,
     "metadata": {},
     "output_type": "execute_result"
    },
    {
     "data": {
      "image/png": "[encoded data removed]",
      "text/plain": [
       "<Figure size 1080x432 with 1 Axes>"
      ]
     },
     "metadata": {
      "needs_background": "light"
     },
     "output_type": "display_data"
    }
   ],
   "source": [
    "data_rides['distance'].hist(bins=50, figsize=(15, 6));\n",
    "plt.title('Расстояние за одну поездку')\n",
    "plt.ylabel('Частота');\n",
    "plt.xlabel('Расстояние (метры)');\n",
    "data_rides['distance'].describe()"
   ]
  },
  {
   "cell_type": "markdown",
   "id": "f3ce851b",
   "metadata": {},
   "source": [
    "**Вывод:**\n",
    "\n",
    "Среднее расстояние за одну поездку - 3 км. Есть пользователи, которые проехали и 7 км. \n",
    "\n",
    "Имеется небольшой процент поездак менее метра, возможно это связоно с техническим проблемами самоката. Необходимо уточнить информацию.\n",
    "\n",
    "Предполагаю, что на расстояние 3 км пользователи арендуют самокат для прогулок, а на расстояние 700 м - как вариант добраться до метро, до автобусной остановки, что бы быстрее добраться на работу/по делам.  Либо, как вариант, часть пользователей в первые арендует самокат, по каким-то причинам им не понравиось и они его вернули. Либо, тут могут быть технические моменты с самокатом, которые становятся заметны после 5-10 минут использования =)"
   ]
  },
  {
   "cell_type": "markdown",
   "id": "d15adaae",
   "metadata": {},
   "source": [
    "**3.5. Продолжительность поездок.**"
   ]
  },
  {
   "cell_type": "code",
   "execution_count": 23,
   "id": "ede339a0",
   "metadata": {},
   "outputs": [
    {
     "data": {
      "text/plain": [
       "count    18068.000000\n",
       "mean        17.805011\n",
       "std          6.091051\n",
       "min          0.500000\n",
       "25%         13.597563\n",
       "50%         17.678395\n",
       "75%         21.724800\n",
       "max         40.823963\n",
       "Name: duration, dtype: float64"
      ]
     },
     "execution_count": 23,
     "metadata": {},
     "output_type": "execute_result"
    },
    {
     "data": {
      "image/png": "[encoded data removed]",
      "text/plain": [
       "<Figure size 720x432 with 1 Axes>"
      ]
     },
     "metadata": {
      "needs_background": "light"
     },
     "output_type": "display_data"
    }
   ],
   "source": [
    "data_rides['duration'].hist(bins=50, figsize=(10, 6));\n",
    "plt.title('Продолжительность поездок')\n",
    "plt.ylabel('Частота');\n",
    "plt.xlabel('Продолжительность (минуты)');\n",
    "data_rides['duration'].describe()"
   ]
  },
  {
   "cell_type": "code",
   "execution_count": 24,
   "id": "50cb136c",
   "metadata": {},
   "outputs": [
    {
     "data": {
      "text/html": [
       "<div>\n",
       "<style scoped>\n",
       "    .dataframe tbody tr th:only-of-type {\n",
       "        vertical-align: middle;\n",
       "    }\n",
       "\n",
       "    .dataframe tbody tr th {\n",
       "        vertical-align: top;\n",
       "    }\n",
       "\n",
       "    .dataframe thead th {\n",
       "        text-align: right;\n",
       "    }\n",
       "</style>\n",
       "<table border=\"1\" class=\"dataframe\">\n",
       "  <thead>\n",
       "    <tr style=\"text-align: right;\">\n",
       "      <th></th>\n",
       "      <th>user_id</th>\n",
       "      <th>distance</th>\n",
       "      <th>duration</th>\n",
       "      <th>date</th>\n",
       "      <th>month</th>\n",
       "    </tr>\n",
       "  </thead>\n",
       "  <tbody>\n",
       "    <tr>\n",
       "      <th>6531</th>\n",
       "      <td>701</td>\n",
       "      <td>4196.445201</td>\n",
       "      <td>0.5</td>\n",
       "      <td>2021-08-31</td>\n",
       "      <td>8</td>\n",
       "    </tr>\n",
       "    <tr>\n",
       "      <th>6570</th>\n",
       "      <td>704</td>\n",
       "      <td>4830.824371</td>\n",
       "      <td>0.5</td>\n",
       "      <td>2021-10-14</td>\n",
       "      <td>10</td>\n",
       "    </tr>\n",
       "    <tr>\n",
       "      <th>6680</th>\n",
       "      <td>712</td>\n",
       "      <td>4684.004397</td>\n",
       "      <td>0.5</td>\n",
       "      <td>2021-03-04</td>\n",
       "      <td>3</td>\n",
       "    </tr>\n",
       "    <tr>\n",
       "      <th>6695</th>\n",
       "      <td>713</td>\n",
       "      <td>5215.642710</td>\n",
       "      <td>0.5</td>\n",
       "      <td>2021-02-25</td>\n",
       "      <td>2</td>\n",
       "    </tr>\n",
       "    <tr>\n",
       "      <th>6768</th>\n",
       "      <td>718</td>\n",
       "      <td>5197.436649</td>\n",
       "      <td>0.5</td>\n",
       "      <td>2021-02-11</td>\n",
       "      <td>2</td>\n",
       "    </tr>\n",
       "    <tr>\n",
       "      <th>...</th>\n",
       "      <td>...</td>\n",
       "      <td>...</td>\n",
       "      <td>...</td>\n",
       "      <td>...</td>\n",
       "      <td>...</td>\n",
       "    </tr>\n",
       "    <tr>\n",
       "      <th>17004</th>\n",
       "      <td>1460</td>\n",
       "      <td>5531.335845</td>\n",
       "      <td>0.5</td>\n",
       "      <td>2021-01-19</td>\n",
       "      <td>1</td>\n",
       "    </tr>\n",
       "    <tr>\n",
       "      <th>17242</th>\n",
       "      <td>1477</td>\n",
       "      <td>6724.932981</td>\n",
       "      <td>0.5</td>\n",
       "      <td>2021-01-12</td>\n",
       "      <td>1</td>\n",
       "    </tr>\n",
       "    <tr>\n",
       "      <th>17314</th>\n",
       "      <td>1483</td>\n",
       "      <td>4445.481070</td>\n",
       "      <td>0.5</td>\n",
       "      <td>2021-03-06</td>\n",
       "      <td>3</td>\n",
       "    </tr>\n",
       "    <tr>\n",
       "      <th>17505</th>\n",
       "      <td>1496</td>\n",
       "      <td>5722.551787</td>\n",
       "      <td>0.5</td>\n",
       "      <td>2021-02-14</td>\n",
       "      <td>2</td>\n",
       "    </tr>\n",
       "    <tr>\n",
       "      <th>17909</th>\n",
       "      <td>1524</td>\n",
       "      <td>4103.998874</td>\n",
       "      <td>0.5</td>\n",
       "      <td>2021-06-18</td>\n",
       "      <td>6</td>\n",
       "    </tr>\n",
       "  </tbody>\n",
       "</table>\n",
       "<p>95 rows × 5 columns</p>\n",
       "</div>"
      ],
      "text/plain": [
       "       user_id     distance  duration       date  month\n",
       "6531       701  4196.445201       0.5 2021-08-31      8\n",
       "6570       704  4830.824371       0.5 2021-10-14     10\n",
       "6680       712  4684.004397       0.5 2021-03-04      3\n",
       "6695       713  5215.642710       0.5 2021-02-25      2\n",
       "6768       718  5197.436649       0.5 2021-02-11      2\n",
       "...        ...          ...       ...        ...    ...\n",
       "17004     1460  5531.335845       0.5 2021-01-19      1\n",
       "17242     1477  6724.932981       0.5 2021-01-12      1\n",
       "17314     1483  4445.481070       0.5 2021-03-06      3\n",
       "17505     1496  5722.551787       0.5 2021-02-14      2\n",
       "17909     1524  4103.998874       0.5 2021-06-18      6\n",
       "\n",
       "[95 rows x 5 columns]"
      ]
     },
     "metadata": {},
     "output_type": "display_data"
    }
   ],
   "source": [
    "#Проверим, что с поездками менее 1 минуты\n",
    "display(data_rides[data_rides['duration']<= 1.0])"
   ]
  },
  {
   "cell_type": "markdown",
   "id": "914d40dc",
   "metadata": {},
   "source": [
    "Расстояние у таких поездок примерно 4 км. Удалять аномалии не будем, т.к. это повлияет на рассчёт выручки.\n"
   ]
  },
  {
   "cell_type": "markdown",
   "id": "698bea29",
   "metadata": {},
   "source": [
    "**Вывод:**\n",
    "\n",
    "Среднея продолжительность поездки - 17 минут. Максимальная - 40, возможно это пользователи, которые проехали больше 7 км.\n",
    "\n",
    "Так же есть продолжительность менее минуты, возможно это тех проблемы , необходимо уточнить информацию. Выбросы не удаляли для дальнейшего корректного фин анализа, т.к. данные поездки оплачены. "
   ]
  },
  {
   "cell_type": "markdown",
   "id": "8e59e9c7",
   "metadata": {},
   "source": [
    "**Вывод по исследовательскому анализу данных:**\n",
    "\n",
    "Гистограммы выглядят нормально, без выбросов, есть пару моментов на уточнение - аренда самоката меньше чем на 1 минуту, это технический момент или реальная аренда?\n",
    "\n",
    "Данные оставляем без изменений. "
   ]
  },
  {
   "cell_type": "markdown",
   "id": "4ef51331",
   "metadata": {},
   "source": [
    "#### Объединение данных"
   ]
  },
  {
   "cell_type": "markdown",
   "id": "95fe6989",
   "metadata": {},
   "source": [
    "**4.1 Объедините данные о пользователях, поездках и подписках в один датафрейм. Для этого воспользуйтесь методом merge().**"
   ]
  },
  {
   "cell_type": "code",
   "execution_count": 25,
   "id": "07e904fe",
   "metadata": {},
   "outputs": [
    {
     "data": {
      "text/html": [
       "<div>\n",
       "<style scoped>\n",
       "    .dataframe tbody tr th:only-of-type {\n",
       "        vertical-align: middle;\n",
       "    }\n",
       "\n",
       "    .dataframe tbody tr th {\n",
       "        vertical-align: top;\n",
       "    }\n",
       "\n",
       "    .dataframe thead th {\n",
       "        text-align: right;\n",
       "    }\n",
       "</style>\n",
       "<table border=\"1\" class=\"dataframe\">\n",
       "  <thead>\n",
       "    <tr style=\"text-align: right;\">\n",
       "      <th></th>\n",
       "      <th>user_id</th>\n",
       "      <th>name</th>\n",
       "      <th>age</th>\n",
       "      <th>city</th>\n",
       "      <th>subscription_type</th>\n",
       "      <th>distance</th>\n",
       "      <th>duration</th>\n",
       "      <th>date</th>\n",
       "      <th>month</th>\n",
       "    </tr>\n",
       "  </thead>\n",
       "  <tbody>\n",
       "    <tr>\n",
       "      <th>0</th>\n",
       "      <td>1</td>\n",
       "      <td>Кира</td>\n",
       "      <td>22</td>\n",
       "      <td>Тюмень</td>\n",
       "      <td>ultra</td>\n",
       "      <td>4409.919140</td>\n",
       "      <td>25.599769</td>\n",
       "      <td>2021-01-01</td>\n",
       "      <td>1</td>\n",
       "    </tr>\n",
       "    <tr>\n",
       "      <th>1</th>\n",
       "      <td>1</td>\n",
       "      <td>Кира</td>\n",
       "      <td>22</td>\n",
       "      <td>Тюмень</td>\n",
       "      <td>ultra</td>\n",
       "      <td>2617.592153</td>\n",
       "      <td>15.816871</td>\n",
       "      <td>2021-01-18</td>\n",
       "      <td>1</td>\n",
       "    </tr>\n",
       "    <tr>\n",
       "      <th>2</th>\n",
       "      <td>1</td>\n",
       "      <td>Кира</td>\n",
       "      <td>22</td>\n",
       "      <td>Тюмень</td>\n",
       "      <td>ultra</td>\n",
       "      <td>754.159807</td>\n",
       "      <td>6.232113</td>\n",
       "      <td>2021-04-20</td>\n",
       "      <td>4</td>\n",
       "    </tr>\n",
       "    <tr>\n",
       "      <th>3</th>\n",
       "      <td>1</td>\n",
       "      <td>Кира</td>\n",
       "      <td>22</td>\n",
       "      <td>Тюмень</td>\n",
       "      <td>ultra</td>\n",
       "      <td>2694.783254</td>\n",
       "      <td>18.511000</td>\n",
       "      <td>2021-08-11</td>\n",
       "      <td>8</td>\n",
       "    </tr>\n",
       "    <tr>\n",
       "      <th>4</th>\n",
       "      <td>1</td>\n",
       "      <td>Кира</td>\n",
       "      <td>22</td>\n",
       "      <td>Тюмень</td>\n",
       "      <td>ultra</td>\n",
       "      <td>4028.687306</td>\n",
       "      <td>26.265803</td>\n",
       "      <td>2021-08-28</td>\n",
       "      <td>8</td>\n",
       "    </tr>\n",
       "    <tr>\n",
       "      <th>...</th>\n",
       "      <td>...</td>\n",
       "      <td>...</td>\n",
       "      <td>...</td>\n",
       "      <td>...</td>\n",
       "      <td>...</td>\n",
       "      <td>...</td>\n",
       "      <td>...</td>\n",
       "      <td>...</td>\n",
       "      <td>...</td>\n",
       "    </tr>\n",
       "    <tr>\n",
       "      <th>18063</th>\n",
       "      <td>1534</td>\n",
       "      <td>Альберт</td>\n",
       "      <td>25</td>\n",
       "      <td>Краснодар</td>\n",
       "      <td>free</td>\n",
       "      <td>3781.098080</td>\n",
       "      <td>19.822962</td>\n",
       "      <td>2021-11-04</td>\n",
       "      <td>11</td>\n",
       "    </tr>\n",
       "    <tr>\n",
       "      <th>18064</th>\n",
       "      <td>1534</td>\n",
       "      <td>Альберт</td>\n",
       "      <td>25</td>\n",
       "      <td>Краснодар</td>\n",
       "      <td>free</td>\n",
       "      <td>2840.423057</td>\n",
       "      <td>21.409799</td>\n",
       "      <td>2021-11-16</td>\n",
       "      <td>11</td>\n",
       "    </tr>\n",
       "    <tr>\n",
       "      <th>18065</th>\n",
       "      <td>1534</td>\n",
       "      <td>Альберт</td>\n",
       "      <td>25</td>\n",
       "      <td>Краснодар</td>\n",
       "      <td>free</td>\n",
       "      <td>3826.185507</td>\n",
       "      <td>18.435051</td>\n",
       "      <td>2021-11-18</td>\n",
       "      <td>11</td>\n",
       "    </tr>\n",
       "    <tr>\n",
       "      <th>18066</th>\n",
       "      <td>1534</td>\n",
       "      <td>Альберт</td>\n",
       "      <td>25</td>\n",
       "      <td>Краснодар</td>\n",
       "      <td>free</td>\n",
       "      <td>2902.308661</td>\n",
       "      <td>16.674362</td>\n",
       "      <td>2021-11-27</td>\n",
       "      <td>11</td>\n",
       "    </tr>\n",
       "    <tr>\n",
       "      <th>18067</th>\n",
       "      <td>1534</td>\n",
       "      <td>Альберт</td>\n",
       "      <td>25</td>\n",
       "      <td>Краснодар</td>\n",
       "      <td>free</td>\n",
       "      <td>2371.711192</td>\n",
       "      <td>15.893917</td>\n",
       "      <td>2021-12-29</td>\n",
       "      <td>12</td>\n",
       "    </tr>\n",
       "  </tbody>\n",
       "</table>\n",
       "<p>18068 rows × 9 columns</p>\n",
       "</div>"
      ],
      "text/plain": [
       "       user_id     name  age       city subscription_type     distance  \\\n",
       "0            1     Кира   22     Тюмень             ultra  4409.919140   \n",
       "1            1     Кира   22     Тюмень             ultra  2617.592153   \n",
       "2            1     Кира   22     Тюмень             ultra   754.159807   \n",
       "3            1     Кира   22     Тюмень             ultra  2694.783254   \n",
       "4            1     Кира   22     Тюмень             ultra  4028.687306   \n",
       "...        ...      ...  ...        ...               ...          ...   \n",
       "18063     1534  Альберт   25  Краснодар              free  3781.098080   \n",
       "18064     1534  Альберт   25  Краснодар              free  2840.423057   \n",
       "18065     1534  Альберт   25  Краснодар              free  3826.185507   \n",
       "18066     1534  Альберт   25  Краснодар              free  2902.308661   \n",
       "18067     1534  Альберт   25  Краснодар              free  2371.711192   \n",
       "\n",
       "        duration       date  month  \n",
       "0      25.599769 2021-01-01      1  \n",
       "1      15.816871 2021-01-18      1  \n",
       "2       6.232113 2021-04-20      4  \n",
       "3      18.511000 2021-08-11      8  \n",
       "4      26.265803 2021-08-28      8  \n",
       "...          ...        ...    ...  \n",
       "18063  19.822962 2021-11-04     11  \n",
       "18064  21.409799 2021-11-16     11  \n",
       "18065  18.435051 2021-11-18     11  \n",
       "18066  16.674362 2021-11-27     11  \n",
       "18067  15.893917 2021-12-29     12  \n",
       "\n",
       "[18068 rows x 9 columns]"
      ]
     },
     "metadata": {},
     "output_type": "display_data"
    }
   ],
   "source": [
    "# Создадим новый датафрейм data и объеденим data_users и data_rides по столбцу 'user_id'\n",
    "data = data_users.merge(data_rides, on='user_id')\n",
    "display(data)"
   ]
  },
  {
   "cell_type": "code",
   "execution_count": 26,
   "id": "a1fe323a",
   "metadata": {},
   "outputs": [
    {
     "data": {
      "text/plain": [
       "18068"
      ]
     },
     "execution_count": 26,
     "metadata": {},
     "output_type": "execute_result"
    }
   ],
   "source": [
    "#Проверимь количество строк до объединения\n",
    "(data['user_id'].count())"
   ]
  },
  {
   "cell_type": "code",
   "execution_count": 27,
   "id": "a452dc6a",
   "metadata": {
    "scrolled": true
   },
   "outputs": [
    {
     "data": {
      "text/html": [
       "<div>\n",
       "<style scoped>\n",
       "    .dataframe tbody tr th:only-of-type {\n",
       "        vertical-align: middle;\n",
       "    }\n",
       "\n",
       "    .dataframe tbody tr th {\n",
       "        vertical-align: top;\n",
       "    }\n",
       "\n",
       "    .dataframe thead th {\n",
       "        text-align: right;\n",
       "    }\n",
       "</style>\n",
       "<table border=\"1\" class=\"dataframe\">\n",
       "  <thead>\n",
       "    <tr style=\"text-align: right;\">\n",
       "      <th></th>\n",
       "      <th>user_id</th>\n",
       "      <th>name</th>\n",
       "      <th>age</th>\n",
       "      <th>city</th>\n",
       "      <th>subscription_type</th>\n",
       "      <th>distance</th>\n",
       "      <th>duration</th>\n",
       "      <th>date</th>\n",
       "      <th>month</th>\n",
       "      <th>minute_price</th>\n",
       "      <th>start_ride_price</th>\n",
       "      <th>subscription_fee</th>\n",
       "    </tr>\n",
       "  </thead>\n",
       "  <tbody>\n",
       "    <tr>\n",
       "      <th>0</th>\n",
       "      <td>1</td>\n",
       "      <td>Кира</td>\n",
       "      <td>22</td>\n",
       "      <td>Тюмень</td>\n",
       "      <td>ultra</td>\n",
       "      <td>4409.919140</td>\n",
       "      <td>25.599769</td>\n",
       "      <td>2021-01-01</td>\n",
       "      <td>1</td>\n",
       "      <td>6</td>\n",
       "      <td>0</td>\n",
       "      <td>199</td>\n",
       "    </tr>\n",
       "    <tr>\n",
       "      <th>1</th>\n",
       "      <td>1</td>\n",
       "      <td>Кира</td>\n",
       "      <td>22</td>\n",
       "      <td>Тюмень</td>\n",
       "      <td>ultra</td>\n",
       "      <td>2617.592153</td>\n",
       "      <td>15.816871</td>\n",
       "      <td>2021-01-18</td>\n",
       "      <td>1</td>\n",
       "      <td>6</td>\n",
       "      <td>0</td>\n",
       "      <td>199</td>\n",
       "    </tr>\n",
       "    <tr>\n",
       "      <th>2</th>\n",
       "      <td>1</td>\n",
       "      <td>Кира</td>\n",
       "      <td>22</td>\n",
       "      <td>Тюмень</td>\n",
       "      <td>ultra</td>\n",
       "      <td>754.159807</td>\n",
       "      <td>6.232113</td>\n",
       "      <td>2021-04-20</td>\n",
       "      <td>4</td>\n",
       "      <td>6</td>\n",
       "      <td>0</td>\n",
       "      <td>199</td>\n",
       "    </tr>\n",
       "    <tr>\n",
       "      <th>3</th>\n",
       "      <td>1</td>\n",
       "      <td>Кира</td>\n",
       "      <td>22</td>\n",
       "      <td>Тюмень</td>\n",
       "      <td>ultra</td>\n",
       "      <td>2694.783254</td>\n",
       "      <td>18.511000</td>\n",
       "      <td>2021-08-11</td>\n",
       "      <td>8</td>\n",
       "      <td>6</td>\n",
       "      <td>0</td>\n",
       "      <td>199</td>\n",
       "    </tr>\n",
       "    <tr>\n",
       "      <th>4</th>\n",
       "      <td>1</td>\n",
       "      <td>Кира</td>\n",
       "      <td>22</td>\n",
       "      <td>Тюмень</td>\n",
       "      <td>ultra</td>\n",
       "      <td>4028.687306</td>\n",
       "      <td>26.265803</td>\n",
       "      <td>2021-08-28</td>\n",
       "      <td>8</td>\n",
       "      <td>6</td>\n",
       "      <td>0</td>\n",
       "      <td>199</td>\n",
       "    </tr>\n",
       "    <tr>\n",
       "      <th>...</th>\n",
       "      <td>...</td>\n",
       "      <td>...</td>\n",
       "      <td>...</td>\n",
       "      <td>...</td>\n",
       "      <td>...</td>\n",
       "      <td>...</td>\n",
       "      <td>...</td>\n",
       "      <td>...</td>\n",
       "      <td>...</td>\n",
       "      <td>...</td>\n",
       "      <td>...</td>\n",
       "      <td>...</td>\n",
       "    </tr>\n",
       "    <tr>\n",
       "      <th>18063</th>\n",
       "      <td>1534</td>\n",
       "      <td>Альберт</td>\n",
       "      <td>25</td>\n",
       "      <td>Краснодар</td>\n",
       "      <td>free</td>\n",
       "      <td>3781.098080</td>\n",
       "      <td>19.822962</td>\n",
       "      <td>2021-11-04</td>\n",
       "      <td>11</td>\n",
       "      <td>8</td>\n",
       "      <td>50</td>\n",
       "      <td>0</td>\n",
       "    </tr>\n",
       "    <tr>\n",
       "      <th>18064</th>\n",
       "      <td>1534</td>\n",
       "      <td>Альберт</td>\n",
       "      <td>25</td>\n",
       "      <td>Краснодар</td>\n",
       "      <td>free</td>\n",
       "      <td>2840.423057</td>\n",
       "      <td>21.409799</td>\n",
       "      <td>2021-11-16</td>\n",
       "      <td>11</td>\n",
       "      <td>8</td>\n",
       "      <td>50</td>\n",
       "      <td>0</td>\n",
       "    </tr>\n",
       "    <tr>\n",
       "      <th>18065</th>\n",
       "      <td>1534</td>\n",
       "      <td>Альберт</td>\n",
       "      <td>25</td>\n",
       "      <td>Краснодар</td>\n",
       "      <td>free</td>\n",
       "      <td>3826.185507</td>\n",
       "      <td>18.435051</td>\n",
       "      <td>2021-11-18</td>\n",
       "      <td>11</td>\n",
       "      <td>8</td>\n",
       "      <td>50</td>\n",
       "      <td>0</td>\n",
       "    </tr>\n",
       "    <tr>\n",
       "      <th>18066</th>\n",
       "      <td>1534</td>\n",
       "      <td>Альберт</td>\n",
       "      <td>25</td>\n",
       "      <td>Краснодар</td>\n",
       "      <td>free</td>\n",
       "      <td>2902.308661</td>\n",
       "      <td>16.674362</td>\n",
       "      <td>2021-11-27</td>\n",
       "      <td>11</td>\n",
       "      <td>8</td>\n",
       "      <td>50</td>\n",
       "      <td>0</td>\n",
       "    </tr>\n",
       "    <tr>\n",
       "      <th>18067</th>\n",
       "      <td>1534</td>\n",
       "      <td>Альберт</td>\n",
       "      <td>25</td>\n",
       "      <td>Краснодар</td>\n",
       "      <td>free</td>\n",
       "      <td>2371.711192</td>\n",
       "      <td>15.893917</td>\n",
       "      <td>2021-12-29</td>\n",
       "      <td>12</td>\n",
       "      <td>8</td>\n",
       "      <td>50</td>\n",
       "      <td>0</td>\n",
       "    </tr>\n",
       "  </tbody>\n",
       "</table>\n",
       "<p>18068 rows × 12 columns</p>\n",
       "</div>"
      ],
      "text/plain": [
       "       user_id     name  age       city subscription_type     distance  \\\n",
       "0            1     Кира   22     Тюмень             ultra  4409.919140   \n",
       "1            1     Кира   22     Тюмень             ultra  2617.592153   \n",
       "2            1     Кира   22     Тюмень             ultra   754.159807   \n",
       "3            1     Кира   22     Тюмень             ultra  2694.783254   \n",
       "4            1     Кира   22     Тюмень             ultra  4028.687306   \n",
       "...        ...      ...  ...        ...               ...          ...   \n",
       "18063     1534  Альберт   25  Краснодар              free  3781.098080   \n",
       "18064     1534  Альберт   25  Краснодар              free  2840.423057   \n",
       "18065     1534  Альберт   25  Краснодар              free  3826.185507   \n",
       "18066     1534  Альберт   25  Краснодар              free  2902.308661   \n",
       "18067     1534  Альберт   25  Краснодар              free  2371.711192   \n",
       "\n",
       "        duration       date  month  minute_price  start_ride_price  \\\n",
       "0      25.599769 2021-01-01      1             6                 0   \n",
       "1      15.816871 2021-01-18      1             6                 0   \n",
       "2       6.232113 2021-04-20      4             6                 0   \n",
       "3      18.511000 2021-08-11      8             6                 0   \n",
       "4      26.265803 2021-08-28      8             6                 0   \n",
       "...          ...        ...    ...           ...               ...   \n",
       "18063  19.822962 2021-11-04     11             8                50   \n",
       "18064  21.409799 2021-11-16     11             8                50   \n",
       "18065  18.435051 2021-11-18     11             8                50   \n",
       "18066  16.674362 2021-11-27     11             8                50   \n",
       "18067  15.893917 2021-12-29     12             8                50   \n",
       "\n",
       "       subscription_fee  \n",
       "0                   199  \n",
       "1                   199  \n",
       "2                   199  \n",
       "3                   199  \n",
       "4                   199  \n",
       "...                 ...  \n",
       "18063                 0  \n",
       "18064                 0  \n",
       "18065                 0  \n",
       "18066                 0  \n",
       "18067                 0  \n",
       "\n",
       "[18068 rows x 12 columns]"
      ]
     },
     "metadata": {},
     "output_type": "display_data"
    },
    {
     "name": "stdout",
     "output_type": "stream",
     "text": [
      "<class 'pandas.core.frame.DataFrame'>\n",
      "Int64Index: 18068 entries, 0 to 18067\n",
      "Data columns (total 12 columns):\n",
      " #   Column             Non-Null Count  Dtype         \n",
      "---  ------             --------------  -----         \n",
      " 0   user_id            18068 non-null  int64         \n",
      " 1   name               18068 non-null  object        \n",
      " 2   age                18068 non-null  int64         \n",
      " 3   city               18068 non-null  object        \n",
      " 4   subscription_type  18068 non-null  object        \n",
      " 5   distance           18068 non-null  float64       \n",
      " 6   duration           18068 non-null  float64       \n",
      " 7   date               18068 non-null  datetime64[ns]\n",
      " 8   month              18068 non-null  int64         \n",
      " 9   minute_price       18068 non-null  int64         \n",
      " 10  start_ride_price   18068 non-null  int64         \n",
      " 11  subscription_fee   18068 non-null  int64         \n",
      "dtypes: datetime64[ns](1), float64(2), int64(6), object(3)\n",
      "memory usage: 1.8+ MB\n"
     ]
    },
    {
     "data": {
      "text/plain": [
       "18068"
      ]
     },
     "metadata": {},
     "output_type": "display_data"
    }
   ],
   "source": [
    "# Добавим датафрейм data_sub по столбцу 'subscription_type'\n",
    "data = data.merge(data_sub, on='subscription_type')\n",
    "display(data)\n",
    "data.info()\n",
    "#Проверимь количество строк после объединения\n",
    "display(data['user_id'].count())"
   ]
  },
  {
   "cell_type": "code",
   "execution_count": 28,
   "id": "5064d921",
   "metadata": {},
   "outputs": [
    {
     "name": "stdout",
     "output_type": "stream",
     "text": [
      "user_id              0\n",
      "name                 0\n",
      "age                  0\n",
      "city                 0\n",
      "subscription_type    0\n",
      "distance             0\n",
      "duration             0\n",
      "date                 0\n",
      "month                0\n",
      "minute_price         0\n",
      "start_ride_price     0\n",
      "subscription_fee     0\n",
      "dtype: int64\n"
     ]
    }
   ],
   "source": [
    "print(data.isna().sum())"
   ]
  },
  {
   "cell_type": "markdown",
   "id": "0b5da582",
   "metadata": {},
   "source": [
    "**Все строки объеденились, данные без пропусков.**"
   ]
  },
  {
   "cell_type": "code",
   "execution_count": 29,
   "id": "250950cd",
   "metadata": {},
   "outputs": [
    {
     "data": {
      "text/plain": [
       "(18068, 12)"
      ]
     },
     "execution_count": 29,
     "metadata": {},
     "output_type": "execute_result"
    }
   ],
   "source": [
    "# check\n",
    "data.shape"
   ]
  },
  {
   "cell_type": "markdown",
   "id": "755cbc0a",
   "metadata": {},
   "source": [
    "**4.2. Создайте ещё два датафрейма из датафрейма, созданного на этапе 4.1:**\n",
    "- c данными о пользователях без подписки;\n",
    "- с данными о пользователях с подпиской."
   ]
  },
  {
   "cell_type": "code",
   "execution_count": 30,
   "id": "3cce92d3",
   "metadata": {},
   "outputs": [
    {
     "data": {
      "text/html": [
       "<div>\n",
       "<style scoped>\n",
       "    .dataframe tbody tr th:only-of-type {\n",
       "        vertical-align: middle;\n",
       "    }\n",
       "\n",
       "    .dataframe tbody tr th {\n",
       "        vertical-align: top;\n",
       "    }\n",
       "\n",
       "    .dataframe thead th {\n",
       "        text-align: right;\n",
       "    }\n",
       "</style>\n",
       "<table border=\"1\" class=\"dataframe\">\n",
       "  <thead>\n",
       "    <tr style=\"text-align: right;\">\n",
       "      <th></th>\n",
       "      <th>user_id</th>\n",
       "      <th>name</th>\n",
       "      <th>age</th>\n",
       "      <th>city</th>\n",
       "      <th>subscription_type</th>\n",
       "      <th>distance</th>\n",
       "      <th>duration</th>\n",
       "      <th>date</th>\n",
       "      <th>month</th>\n",
       "      <th>minute_price</th>\n",
       "      <th>start_ride_price</th>\n",
       "      <th>subscription_fee</th>\n",
       "    </tr>\n",
       "  </thead>\n",
       "  <tbody>\n",
       "    <tr>\n",
       "      <th>0</th>\n",
       "      <td>1</td>\n",
       "      <td>Кира</td>\n",
       "      <td>22</td>\n",
       "      <td>Тюмень</td>\n",
       "      <td>ultra</td>\n",
       "      <td>4409.919140</td>\n",
       "      <td>25.599769</td>\n",
       "      <td>2021-01-01</td>\n",
       "      <td>1</td>\n",
       "      <td>6</td>\n",
       "      <td>0</td>\n",
       "      <td>199</td>\n",
       "    </tr>\n",
       "    <tr>\n",
       "      <th>1</th>\n",
       "      <td>1</td>\n",
       "      <td>Кира</td>\n",
       "      <td>22</td>\n",
       "      <td>Тюмень</td>\n",
       "      <td>ultra</td>\n",
       "      <td>2617.592153</td>\n",
       "      <td>15.816871</td>\n",
       "      <td>2021-01-18</td>\n",
       "      <td>1</td>\n",
       "      <td>6</td>\n",
       "      <td>0</td>\n",
       "      <td>199</td>\n",
       "    </tr>\n",
       "    <tr>\n",
       "      <th>2</th>\n",
       "      <td>1</td>\n",
       "      <td>Кира</td>\n",
       "      <td>22</td>\n",
       "      <td>Тюмень</td>\n",
       "      <td>ultra</td>\n",
       "      <td>754.159807</td>\n",
       "      <td>6.232113</td>\n",
       "      <td>2021-04-20</td>\n",
       "      <td>4</td>\n",
       "      <td>6</td>\n",
       "      <td>0</td>\n",
       "      <td>199</td>\n",
       "    </tr>\n",
       "    <tr>\n",
       "      <th>3</th>\n",
       "      <td>1</td>\n",
       "      <td>Кира</td>\n",
       "      <td>22</td>\n",
       "      <td>Тюмень</td>\n",
       "      <td>ultra</td>\n",
       "      <td>2694.783254</td>\n",
       "      <td>18.511000</td>\n",
       "      <td>2021-08-11</td>\n",
       "      <td>8</td>\n",
       "      <td>6</td>\n",
       "      <td>0</td>\n",
       "      <td>199</td>\n",
       "    </tr>\n",
       "    <tr>\n",
       "      <th>4</th>\n",
       "      <td>1</td>\n",
       "      <td>Кира</td>\n",
       "      <td>22</td>\n",
       "      <td>Тюмень</td>\n",
       "      <td>ultra</td>\n",
       "      <td>4028.687306</td>\n",
       "      <td>26.265803</td>\n",
       "      <td>2021-08-28</td>\n",
       "      <td>8</td>\n",
       "      <td>6</td>\n",
       "      <td>0</td>\n",
       "      <td>199</td>\n",
       "    </tr>\n",
       "    <tr>\n",
       "      <th>...</th>\n",
       "      <td>...</td>\n",
       "      <td>...</td>\n",
       "      <td>...</td>\n",
       "      <td>...</td>\n",
       "      <td>...</td>\n",
       "      <td>...</td>\n",
       "      <td>...</td>\n",
       "      <td>...</td>\n",
       "      <td>...</td>\n",
       "      <td>...</td>\n",
       "      <td>...</td>\n",
       "      <td>...</td>\n",
       "    </tr>\n",
       "    <tr>\n",
       "      <th>6495</th>\n",
       "      <td>699</td>\n",
       "      <td>Оксана</td>\n",
       "      <td>22</td>\n",
       "      <td>Москва</td>\n",
       "      <td>ultra</td>\n",
       "      <td>3973.046497</td>\n",
       "      <td>24.671163</td>\n",
       "      <td>2021-08-29</td>\n",
       "      <td>8</td>\n",
       "      <td>6</td>\n",
       "      <td>0</td>\n",
       "      <td>199</td>\n",
       "    </tr>\n",
       "    <tr>\n",
       "      <th>6496</th>\n",
       "      <td>699</td>\n",
       "      <td>Оксана</td>\n",
       "      <td>22</td>\n",
       "      <td>Москва</td>\n",
       "      <td>ultra</td>\n",
       "      <td>3288.702563</td>\n",
       "      <td>15.892886</td>\n",
       "      <td>2021-09-12</td>\n",
       "      <td>9</td>\n",
       "      <td>6</td>\n",
       "      <td>0</td>\n",
       "      <td>199</td>\n",
       "    </tr>\n",
       "    <tr>\n",
       "      <th>6497</th>\n",
       "      <td>699</td>\n",
       "      <td>Оксана</td>\n",
       "      <td>22</td>\n",
       "      <td>Москва</td>\n",
       "      <td>ultra</td>\n",
       "      <td>3076.159348</td>\n",
       "      <td>14.389525</td>\n",
       "      <td>2021-09-26</td>\n",
       "      <td>9</td>\n",
       "      <td>6</td>\n",
       "      <td>0</td>\n",
       "      <td>199</td>\n",
       "    </tr>\n",
       "    <tr>\n",
       "      <th>6498</th>\n",
       "      <td>699</td>\n",
       "      <td>Оксана</td>\n",
       "      <td>22</td>\n",
       "      <td>Москва</td>\n",
       "      <td>ultra</td>\n",
       "      <td>4707.845501</td>\n",
       "      <td>15.839579</td>\n",
       "      <td>2021-10-17</td>\n",
       "      <td>10</td>\n",
       "      <td>6</td>\n",
       "      <td>0</td>\n",
       "      <td>199</td>\n",
       "    </tr>\n",
       "    <tr>\n",
       "      <th>6499</th>\n",
       "      <td>699</td>\n",
       "      <td>Оксана</td>\n",
       "      <td>22</td>\n",
       "      <td>Москва</td>\n",
       "      <td>ultra</td>\n",
       "      <td>3202.890770</td>\n",
       "      <td>25.217345</td>\n",
       "      <td>2021-12-03</td>\n",
       "      <td>12</td>\n",
       "      <td>6</td>\n",
       "      <td>0</td>\n",
       "      <td>199</td>\n",
       "    </tr>\n",
       "  </tbody>\n",
       "</table>\n",
       "<p>6500 rows × 12 columns</p>\n",
       "</div>"
      ],
      "text/plain": [
       "      user_id    name  age    city subscription_type     distance   duration  \\\n",
       "0           1    Кира   22  Тюмень             ultra  4409.919140  25.599769   \n",
       "1           1    Кира   22  Тюмень             ultra  2617.592153  15.816871   \n",
       "2           1    Кира   22  Тюмень             ultra   754.159807   6.232113   \n",
       "3           1    Кира   22  Тюмень             ultra  2694.783254  18.511000   \n",
       "4           1    Кира   22  Тюмень             ultra  4028.687306  26.265803   \n",
       "...       ...     ...  ...     ...               ...          ...        ...   \n",
       "6495      699  Оксана   22  Москва             ultra  3973.046497  24.671163   \n",
       "6496      699  Оксана   22  Москва             ultra  3288.702563  15.892886   \n",
       "6497      699  Оксана   22  Москва             ultra  3076.159348  14.389525   \n",
       "6498      699  Оксана   22  Москва             ultra  4707.845501  15.839579   \n",
       "6499      699  Оксана   22  Москва             ultra  3202.890770  25.217345   \n",
       "\n",
       "           date  month  minute_price  start_ride_price  subscription_fee  \n",
       "0    2021-01-01      1             6                 0               199  \n",
       "1    2021-01-18      1             6                 0               199  \n",
       "2    2021-04-20      4             6                 0               199  \n",
       "3    2021-08-11      8             6                 0               199  \n",
       "4    2021-08-28      8             6                 0               199  \n",
       "...         ...    ...           ...               ...               ...  \n",
       "6495 2021-08-29      8             6                 0               199  \n",
       "6496 2021-09-12      9             6                 0               199  \n",
       "6497 2021-09-26      9             6                 0               199  \n",
       "6498 2021-10-17     10             6                 0               199  \n",
       "6499 2021-12-03     12             6                 0               199  \n",
       "\n",
       "[6500 rows x 12 columns]"
      ]
     },
     "metadata": {},
     "output_type": "display_data"
    },
    {
     "name": "stdout",
     "output_type": "stream",
     "text": [
      "\n"
     ]
    },
    {
     "data": {
      "text/html": [
       "<div>\n",
       "<style scoped>\n",
       "    .dataframe tbody tr th:only-of-type {\n",
       "        vertical-align: middle;\n",
       "    }\n",
       "\n",
       "    .dataframe tbody tr th {\n",
       "        vertical-align: top;\n",
       "    }\n",
       "\n",
       "    .dataframe thead th {\n",
       "        text-align: right;\n",
       "    }\n",
       "</style>\n",
       "<table border=\"1\" class=\"dataframe\">\n",
       "  <thead>\n",
       "    <tr style=\"text-align: right;\">\n",
       "      <th></th>\n",
       "      <th>user_id</th>\n",
       "      <th>name</th>\n",
       "      <th>age</th>\n",
       "      <th>city</th>\n",
       "      <th>subscription_type</th>\n",
       "      <th>distance</th>\n",
       "      <th>duration</th>\n",
       "      <th>date</th>\n",
       "      <th>month</th>\n",
       "      <th>minute_price</th>\n",
       "      <th>start_ride_price</th>\n",
       "      <th>subscription_fee</th>\n",
       "    </tr>\n",
       "  </thead>\n",
       "  <tbody>\n",
       "    <tr>\n",
       "      <th>6500</th>\n",
       "      <td>700</td>\n",
       "      <td>Айдар</td>\n",
       "      <td>22</td>\n",
       "      <td>Омск</td>\n",
       "      <td>free</td>\n",
       "      <td>2515.690719</td>\n",
       "      <td>14.944286</td>\n",
       "      <td>2021-01-02</td>\n",
       "      <td>1</td>\n",
       "      <td>8</td>\n",
       "      <td>50</td>\n",
       "      <td>0</td>\n",
       "    </tr>\n",
       "    <tr>\n",
       "      <th>6501</th>\n",
       "      <td>700</td>\n",
       "      <td>Айдар</td>\n",
       "      <td>22</td>\n",
       "      <td>Омск</td>\n",
       "      <td>free</td>\n",
       "      <td>846.932642</td>\n",
       "      <td>16.234663</td>\n",
       "      <td>2021-02-01</td>\n",
       "      <td>2</td>\n",
       "      <td>8</td>\n",
       "      <td>50</td>\n",
       "      <td>0</td>\n",
       "    </tr>\n",
       "    <tr>\n",
       "      <th>6502</th>\n",
       "      <td>700</td>\n",
       "      <td>Айдар</td>\n",
       "      <td>22</td>\n",
       "      <td>Омск</td>\n",
       "      <td>free</td>\n",
       "      <td>4004.434142</td>\n",
       "      <td>20.016628</td>\n",
       "      <td>2021-02-04</td>\n",
       "      <td>2</td>\n",
       "      <td>8</td>\n",
       "      <td>50</td>\n",
       "      <td>0</td>\n",
       "    </tr>\n",
       "    <tr>\n",
       "      <th>6503</th>\n",
       "      <td>700</td>\n",
       "      <td>Айдар</td>\n",
       "      <td>22</td>\n",
       "      <td>Омск</td>\n",
       "      <td>free</td>\n",
       "      <td>1205.911290</td>\n",
       "      <td>9.782872</td>\n",
       "      <td>2021-02-10</td>\n",
       "      <td>2</td>\n",
       "      <td>8</td>\n",
       "      <td>50</td>\n",
       "      <td>0</td>\n",
       "    </tr>\n",
       "    <tr>\n",
       "      <th>6504</th>\n",
       "      <td>700</td>\n",
       "      <td>Айдар</td>\n",
       "      <td>22</td>\n",
       "      <td>Омск</td>\n",
       "      <td>free</td>\n",
       "      <td>3047.379435</td>\n",
       "      <td>17.427673</td>\n",
       "      <td>2021-02-14</td>\n",
       "      <td>2</td>\n",
       "      <td>8</td>\n",
       "      <td>50</td>\n",
       "      <td>0</td>\n",
       "    </tr>\n",
       "    <tr>\n",
       "      <th>...</th>\n",
       "      <td>...</td>\n",
       "      <td>...</td>\n",
       "      <td>...</td>\n",
       "      <td>...</td>\n",
       "      <td>...</td>\n",
       "      <td>...</td>\n",
       "      <td>...</td>\n",
       "      <td>...</td>\n",
       "      <td>...</td>\n",
       "      <td>...</td>\n",
       "      <td>...</td>\n",
       "      <td>...</td>\n",
       "    </tr>\n",
       "    <tr>\n",
       "      <th>18063</th>\n",
       "      <td>1534</td>\n",
       "      <td>Альберт</td>\n",
       "      <td>25</td>\n",
       "      <td>Краснодар</td>\n",
       "      <td>free</td>\n",
       "      <td>3781.098080</td>\n",
       "      <td>19.822962</td>\n",
       "      <td>2021-11-04</td>\n",
       "      <td>11</td>\n",
       "      <td>8</td>\n",
       "      <td>50</td>\n",
       "      <td>0</td>\n",
       "    </tr>\n",
       "    <tr>\n",
       "      <th>18064</th>\n",
       "      <td>1534</td>\n",
       "      <td>Альберт</td>\n",
       "      <td>25</td>\n",
       "      <td>Краснодар</td>\n",
       "      <td>free</td>\n",
       "      <td>2840.423057</td>\n",
       "      <td>21.409799</td>\n",
       "      <td>2021-11-16</td>\n",
       "      <td>11</td>\n",
       "      <td>8</td>\n",
       "      <td>50</td>\n",
       "      <td>0</td>\n",
       "    </tr>\n",
       "    <tr>\n",
       "      <th>18065</th>\n",
       "      <td>1534</td>\n",
       "      <td>Альберт</td>\n",
       "      <td>25</td>\n",
       "      <td>Краснодар</td>\n",
       "      <td>free</td>\n",
       "      <td>3826.185507</td>\n",
       "      <td>18.435051</td>\n",
       "      <td>2021-11-18</td>\n",
       "      <td>11</td>\n",
       "      <td>8</td>\n",
       "      <td>50</td>\n",
       "      <td>0</td>\n",
       "    </tr>\n",
       "    <tr>\n",
       "      <th>18066</th>\n",
       "      <td>1534</td>\n",
       "      <td>Альберт</td>\n",
       "      <td>25</td>\n",
       "      <td>Краснодар</td>\n",
       "      <td>free</td>\n",
       "      <td>2902.308661</td>\n",
       "      <td>16.674362</td>\n",
       "      <td>2021-11-27</td>\n",
       "      <td>11</td>\n",
       "      <td>8</td>\n",
       "      <td>50</td>\n",
       "      <td>0</td>\n",
       "    </tr>\n",
       "    <tr>\n",
       "      <th>18067</th>\n",
       "      <td>1534</td>\n",
       "      <td>Альберт</td>\n",
       "      <td>25</td>\n",
       "      <td>Краснодар</td>\n",
       "      <td>free</td>\n",
       "      <td>2371.711192</td>\n",
       "      <td>15.893917</td>\n",
       "      <td>2021-12-29</td>\n",
       "      <td>12</td>\n",
       "      <td>8</td>\n",
       "      <td>50</td>\n",
       "      <td>0</td>\n",
       "    </tr>\n",
       "  </tbody>\n",
       "</table>\n",
       "<p>11568 rows × 12 columns</p>\n",
       "</div>"
      ],
      "text/plain": [
       "       user_id     name  age       city subscription_type     distance  \\\n",
       "6500       700    Айдар   22       Омск              free  2515.690719   \n",
       "6501       700    Айдар   22       Омск              free   846.932642   \n",
       "6502       700    Айдар   22       Омск              free  4004.434142   \n",
       "6503       700    Айдар   22       Омск              free  1205.911290   \n",
       "6504       700    Айдар   22       Омск              free  3047.379435   \n",
       "...        ...      ...  ...        ...               ...          ...   \n",
       "18063     1534  Альберт   25  Краснодар              free  3781.098080   \n",
       "18064     1534  Альберт   25  Краснодар              free  2840.423057   \n",
       "18065     1534  Альберт   25  Краснодар              free  3826.185507   \n",
       "18066     1534  Альберт   25  Краснодар              free  2902.308661   \n",
       "18067     1534  Альберт   25  Краснодар              free  2371.711192   \n",
       "\n",
       "        duration       date  month  minute_price  start_ride_price  \\\n",
       "6500   14.944286 2021-01-02      1             8                50   \n",
       "6501   16.234663 2021-02-01      2             8                50   \n",
       "6502   20.016628 2021-02-04      2             8                50   \n",
       "6503    9.782872 2021-02-10      2             8                50   \n",
       "6504   17.427673 2021-02-14      2             8                50   \n",
       "...          ...        ...    ...           ...               ...   \n",
       "18063  19.822962 2021-11-04     11             8                50   \n",
       "18064  21.409799 2021-11-16     11             8                50   \n",
       "18065  18.435051 2021-11-18     11             8                50   \n",
       "18066  16.674362 2021-11-27     11             8                50   \n",
       "18067  15.893917 2021-12-29     12             8                50   \n",
       "\n",
       "       subscription_fee  \n",
       "6500                  0  \n",
       "6501                  0  \n",
       "6502                  0  \n",
       "6503                  0  \n",
       "6504                  0  \n",
       "...                 ...  \n",
       "18063                 0  \n",
       "18064                 0  \n",
       "18065                 0  \n",
       "18066                 0  \n",
       "18067                 0  \n",
       "\n",
       "[11568 rows x 12 columns]"
      ]
     },
     "metadata": {},
     "output_type": "display_data"
    }
   ],
   "source": [
    "data_ultra = data[data['subscription_type'] == 'ultra']\n",
    "data_free = data[data['subscription_type'] == 'free']\n",
    "display(data_ultra)\n",
    "print('')\n",
    "display(data_free)"
   ]
  },
  {
   "cell_type": "code",
   "execution_count": 31,
   "id": "79f1ecb6",
   "metadata": {},
   "outputs": [
    {
     "name": "stdout",
     "output_type": "stream",
     "text": [
      "user_id              0\n",
      "name                 0\n",
      "age                  0\n",
      "city                 0\n",
      "subscription_type    0\n",
      "distance             0\n",
      "duration             0\n",
      "date                 0\n",
      "month                0\n",
      "minute_price         0\n",
      "start_ride_price     0\n",
      "subscription_fee     0\n",
      "dtype: int64\n",
      "user_id              0\n",
      "name                 0\n",
      "age                  0\n",
      "city                 0\n",
      "subscription_type    0\n",
      "distance             0\n",
      "duration             0\n",
      "date                 0\n",
      "month                0\n",
      "minute_price         0\n",
      "start_ride_price     0\n",
      "subscription_fee     0\n",
      "dtype: int64\n"
     ]
    }
   ],
   "source": [
    "print(data_ultra.isna().sum())\n",
    "print(data_free.isna().sum())"
   ]
  },
  {
   "cell_type": "markdown",
   "id": "5127efb2",
   "metadata": {},
   "source": [
    "**Пропуски в таблицах отсутствуют.**"
   ]
  },
  {
   "cell_type": "markdown",
   "id": "d1a8e26c",
   "metadata": {},
   "source": [
    "**4.3. Визуализируйте информацию о расстоянии и времени поездок для пользователей обеих категорий.**"
   ]
  },
  {
   "cell_type": "code",
   "execution_count": 32,
   "id": "86838fc6",
   "metadata": {},
   "outputs": [
    {
     "data": {
      "image/png": "[encoded data removed]",
      "text/plain": [
       "<Figure size 936x288 with 1 Axes>"
      ]
     },
     "metadata": {
      "needs_background": "light"
     },
     "output_type": "display_data"
    }
   ],
   "source": [
    "fig, ax = plt.subplots(figsize=(13, 4))\n",
    "sns.histplot(data_free['duration'], bins=20, color='blue',label='Без подписки', kde=True);\n",
    "sns.histplot(data_ultra['duration'], bins=20, color='yellow',label='ultra', kde=True);\n",
    "plt.legend(title='free - без подписки, ultra - с подпиской', bbox_to_anchor=( 1.02 , 1 ));\n",
    "plt.xlabel('Продолжительность поездки (минуты)');\n",
    "plt.ylabel('Количество пользователей');\n",
    "plt.title('Распределение времени поездок для пользователей');\n"
   ]
  },
  {
   "cell_type": "code",
   "execution_count": 33,
   "id": "1d36d740",
   "metadata": {},
   "outputs": [
    {
     "data": {
      "image/png": "[encoded data removed]",
      "text/plain": [
       "<Figure size 936x288 with 1 Axes>"
      ]
     },
     "metadata": {
      "needs_background": "light"
     },
     "output_type": "display_data"
    }
   ],
   "source": [
    "fig, ax = plt.subplots(figsize=(13, 4))\n",
    "sns.histplot(data_free['distance'], bins=20, color='blue',label='Без подписки', kde=True);\n",
    "sns.histplot(data_ultra['distance'], bins=20, color='yellow',label='ultra', kde=True);\n",
    "\n",
    "plt.legend(title='free - без подписки, ultra - с подпиской');\n",
    "plt.xlabel('Расстоянние (метры)');\n",
    "plt.ylabel('Количество пользователей');\n",
    "plt.title('Распределение рассстояния поездок для пользователей');\n"
   ]
  },
  {
   "cell_type": "code",
   "execution_count": 34,
   "id": "c70bed26",
   "metadata": {},
   "outputs": [
    {
     "data": {
      "text/html": [
       "<div>\n",
       "<style scoped>\n",
       "    .dataframe tbody tr th:only-of-type {\n",
       "        vertical-align: middle;\n",
       "    }\n",
       "\n",
       "    .dataframe tbody tr th {\n",
       "        vertical-align: top;\n",
       "    }\n",
       "\n",
       "    .dataframe thead th {\n",
       "        text-align: right;\n",
       "    }\n",
       "</style>\n",
       "<table border=\"1\" class=\"dataframe\">\n",
       "  <thead>\n",
       "    <tr style=\"text-align: right;\">\n",
       "      <th></th>\n",
       "      <th>user_id</th>\n",
       "      <th>age</th>\n",
       "      <th>distance</th>\n",
       "      <th>duration</th>\n",
       "      <th>month</th>\n",
       "      <th>minute_price</th>\n",
       "      <th>start_ride_price</th>\n",
       "      <th>subscription_fee</th>\n",
       "    </tr>\n",
       "  </thead>\n",
       "  <tbody>\n",
       "    <tr>\n",
       "      <th>count</th>\n",
       "      <td>6500.000000</td>\n",
       "      <td>6500.000000</td>\n",
       "      <td>6500.000000</td>\n",
       "      <td>6500.000000</td>\n",
       "      <td>6500.000000</td>\n",
       "      <td>6500.0</td>\n",
       "      <td>6500.0</td>\n",
       "      <td>6500.0</td>\n",
       "    </tr>\n",
       "    <tr>\n",
       "      <th>mean</th>\n",
       "      <td>348.725385</td>\n",
       "      <td>24.892615</td>\n",
       "      <td>3115.445388</td>\n",
       "      <td>18.541985</td>\n",
       "      <td>6.422308</td>\n",
       "      <td>6.0</td>\n",
       "      <td>0.0</td>\n",
       "      <td>199.0</td>\n",
       "    </tr>\n",
       "    <tr>\n",
       "      <th>std</th>\n",
       "      <td>201.099339</td>\n",
       "      <td>4.757208</td>\n",
       "      <td>836.895330</td>\n",
       "      <td>5.572048</td>\n",
       "      <td>3.414616</td>\n",
       "      <td>0.0</td>\n",
       "      <td>0.0</td>\n",
       "      <td>0.0</td>\n",
       "    </tr>\n",
       "    <tr>\n",
       "      <th>min</th>\n",
       "      <td>1.000000</td>\n",
       "      <td>12.000000</td>\n",
       "      <td>244.210438</td>\n",
       "      <td>3.760353</td>\n",
       "      <td>1.000000</td>\n",
       "      <td>6.0</td>\n",
       "      <td>0.0</td>\n",
       "      <td>199.0</td>\n",
       "    </tr>\n",
       "    <tr>\n",
       "      <th>25%</th>\n",
       "      <td>175.000000</td>\n",
       "      <td>22.000000</td>\n",
       "      <td>2785.444017</td>\n",
       "      <td>14.524654</td>\n",
       "      <td>4.000000</td>\n",
       "      <td>6.0</td>\n",
       "      <td>0.0</td>\n",
       "      <td>199.0</td>\n",
       "    </tr>\n",
       "    <tr>\n",
       "      <th>50%</th>\n",
       "      <td>351.000000</td>\n",
       "      <td>25.000000</td>\n",
       "      <td>3148.637229</td>\n",
       "      <td>18.178153</td>\n",
       "      <td>6.000000</td>\n",
       "      <td>6.0</td>\n",
       "      <td>0.0</td>\n",
       "      <td>199.0</td>\n",
       "    </tr>\n",
       "    <tr>\n",
       "      <th>75%</th>\n",
       "      <td>525.000000</td>\n",
       "      <td>28.000000</td>\n",
       "      <td>3560.574425</td>\n",
       "      <td>21.884129</td>\n",
       "      <td>9.000000</td>\n",
       "      <td>6.0</td>\n",
       "      <td>0.0</td>\n",
       "      <td>199.0</td>\n",
       "    </tr>\n",
       "    <tr>\n",
       "      <th>max</th>\n",
       "      <td>699.000000</td>\n",
       "      <td>38.000000</td>\n",
       "      <td>5699.769662</td>\n",
       "      <td>40.823963</td>\n",
       "      <td>12.000000</td>\n",
       "      <td>6.0</td>\n",
       "      <td>0.0</td>\n",
       "      <td>199.0</td>\n",
       "    </tr>\n",
       "  </tbody>\n",
       "</table>\n",
       "</div>"
      ],
      "text/plain": [
       "           user_id          age     distance     duration        month  \\\n",
       "count  6500.000000  6500.000000  6500.000000  6500.000000  6500.000000   \n",
       "mean    348.725385    24.892615  3115.445388    18.541985     6.422308   \n",
       "std     201.099339     4.757208   836.895330     5.572048     3.414616   \n",
       "min       1.000000    12.000000   244.210438     3.760353     1.000000   \n",
       "25%     175.000000    22.000000  2785.444017    14.524654     4.000000   \n",
       "50%     351.000000    25.000000  3148.637229    18.178153     6.000000   \n",
       "75%     525.000000    28.000000  3560.574425    21.884129     9.000000   \n",
       "max     699.000000    38.000000  5699.769662    40.823963    12.000000   \n",
       "\n",
       "       minute_price  start_ride_price  subscription_fee  \n",
       "count        6500.0            6500.0            6500.0  \n",
       "mean            6.0               0.0             199.0  \n",
       "std             0.0               0.0               0.0  \n",
       "min             6.0               0.0             199.0  \n",
       "25%             6.0               0.0             199.0  \n",
       "50%             6.0               0.0             199.0  \n",
       "75%             6.0               0.0             199.0  \n",
       "max             6.0               0.0             199.0  "
      ]
     },
     "metadata": {},
     "output_type": "display_data"
    },
    {
     "name": "stdout",
     "output_type": "stream",
     "text": [
      "==================================================================\n"
     ]
    },
    {
     "data": {
      "text/html": [
       "<div>\n",
       "<style scoped>\n",
       "    .dataframe tbody tr th:only-of-type {\n",
       "        vertical-align: middle;\n",
       "    }\n",
       "\n",
       "    .dataframe tbody tr th {\n",
       "        vertical-align: top;\n",
       "    }\n",
       "\n",
       "    .dataframe thead th {\n",
       "        text-align: right;\n",
       "    }\n",
       "</style>\n",
       "<table border=\"1\" class=\"dataframe\">\n",
       "  <thead>\n",
       "    <tr style=\"text-align: right;\">\n",
       "      <th></th>\n",
       "      <th>user_id</th>\n",
       "      <th>age</th>\n",
       "      <th>distance</th>\n",
       "      <th>duration</th>\n",
       "      <th>month</th>\n",
       "      <th>minute_price</th>\n",
       "      <th>start_ride_price</th>\n",
       "      <th>subscription_fee</th>\n",
       "    </tr>\n",
       "  </thead>\n",
       "  <tbody>\n",
       "    <tr>\n",
       "      <th>count</th>\n",
       "      <td>11568.000000</td>\n",
       "      <td>11568.000000</td>\n",
       "      <td>11568.000000</td>\n",
       "      <td>11568.000000</td>\n",
       "      <td>11568.000000</td>\n",
       "      <td>11568.0</td>\n",
       "      <td>11568.0</td>\n",
       "      <td>11568.0</td>\n",
       "    </tr>\n",
       "    <tr>\n",
       "      <th>mean</th>\n",
       "      <td>1120.527230</td>\n",
       "      <td>24.893326</td>\n",
       "      <td>3045.495282</td>\n",
       "      <td>17.390909</td>\n",
       "      <td>6.522994</td>\n",
       "      <td>8.0</td>\n",
       "      <td>50.0</td>\n",
       "      <td>0.0</td>\n",
       "    </tr>\n",
       "    <tr>\n",
       "      <th>std</th>\n",
       "      <td>241.165628</td>\n",
       "      <td>4.481100</td>\n",
       "      <td>1246.173806</td>\n",
       "      <td>6.326803</td>\n",
       "      <td>3.449770</td>\n",
       "      <td>0.0</td>\n",
       "      <td>0.0</td>\n",
       "      <td>0.0</td>\n",
       "    </tr>\n",
       "    <tr>\n",
       "      <th>min</th>\n",
       "      <td>700.000000</td>\n",
       "      <td>12.000000</td>\n",
       "      <td>0.855683</td>\n",
       "      <td>0.500000</td>\n",
       "      <td>1.000000</td>\n",
       "      <td>8.0</td>\n",
       "      <td>50.0</td>\n",
       "      <td>0.0</td>\n",
       "    </tr>\n",
       "    <tr>\n",
       "      <th>25%</th>\n",
       "      <td>915.000000</td>\n",
       "      <td>22.000000</td>\n",
       "      <td>2366.562689</td>\n",
       "      <td>12.958437</td>\n",
       "      <td>4.000000</td>\n",
       "      <td>8.0</td>\n",
       "      <td>50.0</td>\n",
       "      <td>0.0</td>\n",
       "    </tr>\n",
       "    <tr>\n",
       "      <th>50%</th>\n",
       "      <td>1123.000000</td>\n",
       "      <td>25.000000</td>\n",
       "      <td>3114.648465</td>\n",
       "      <td>17.326890</td>\n",
       "      <td>7.000000</td>\n",
       "      <td>8.0</td>\n",
       "      <td>50.0</td>\n",
       "      <td>0.0</td>\n",
       "    </tr>\n",
       "    <tr>\n",
       "      <th>75%</th>\n",
       "      <td>1328.000000</td>\n",
       "      <td>28.000000</td>\n",
       "      <td>3905.697894</td>\n",
       "      <td>21.594071</td>\n",
       "      <td>9.000000</td>\n",
       "      <td>8.0</td>\n",
       "      <td>50.0</td>\n",
       "      <td>0.0</td>\n",
       "    </tr>\n",
       "    <tr>\n",
       "      <th>max</th>\n",
       "      <td>1534.000000</td>\n",
       "      <td>43.000000</td>\n",
       "      <td>7211.007745</td>\n",
       "      <td>34.948498</td>\n",
       "      <td>12.000000</td>\n",
       "      <td>8.0</td>\n",
       "      <td>50.0</td>\n",
       "      <td>0.0</td>\n",
       "    </tr>\n",
       "  </tbody>\n",
       "</table>\n",
       "</div>"
      ],
      "text/plain": [
       "            user_id           age      distance      duration         month  \\\n",
       "count  11568.000000  11568.000000  11568.000000  11568.000000  11568.000000   \n",
       "mean    1120.527230     24.893326   3045.495282     17.390909      6.522994   \n",
       "std      241.165628      4.481100   1246.173806      6.326803      3.449770   \n",
       "min      700.000000     12.000000      0.855683      0.500000      1.000000   \n",
       "25%      915.000000     22.000000   2366.562689     12.958437      4.000000   \n",
       "50%     1123.000000     25.000000   3114.648465     17.326890      7.000000   \n",
       "75%     1328.000000     28.000000   3905.697894     21.594071      9.000000   \n",
       "max     1534.000000     43.000000   7211.007745     34.948498     12.000000   \n",
       "\n",
       "       minute_price  start_ride_price  subscription_fee  \n",
       "count       11568.0           11568.0           11568.0  \n",
       "mean            8.0              50.0               0.0  \n",
       "std             0.0               0.0               0.0  \n",
       "min             8.0              50.0               0.0  \n",
       "25%             8.0              50.0               0.0  \n",
       "50%             8.0              50.0               0.0  \n",
       "75%             8.0              50.0               0.0  \n",
       "max             8.0              50.0               0.0  "
      ]
     },
     "metadata": {},
     "output_type": "display_data"
    }
   ],
   "source": [
    "display(data_ultra.describe())\n",
    "print('==================================================================')\n",
    "display(data_free.describe())"
   ]
  },
  {
   "cell_type": "markdown",
   "id": "d83234f1",
   "metadata": {},
   "source": [
    "**Вывод:**\n",
    "\n",
    "Категория людей без подписки, больше чем категория с подпиской.\n",
    "\n",
    "Распределение времени почти одинаковое, среднее время поездки - 17-18 минут. У пользователей без подписки наблюдается минимальное время 0,5, в то врем как у второй категории почти 4 минуты.  \n",
    "\n",
    "Распределение расстояния отличается. Категория без подписки совершает поездки на дальние расстояния - 7 км, в то время как пользователи с подпиской на 5,6 км. Расстояния на 1,5 - 2 км больше совершают люди без подписки. Среднее растояние почти одинаковое - 3-3,1 км. "
   ]
  },
  {
   "cell_type": "markdown",
   "id": "402d620f",
   "metadata": {},
   "source": [
    "####  Подсчёт выручки"
   ]
  },
  {
   "cell_type": "markdown",
   "id": "4058e3ec",
   "metadata": {},
   "source": [
    "**5.1. Создайте датафрейм с агрегированными данными о поездках на основе датафрейма с объединёнными данными из шага 4: найдите суммарное расстояние, количество поездок и суммарное время для каждого пользователя за каждый месяц.**"
   ]
  },
  {
   "cell_type": "code",
   "execution_count": 35,
   "id": "9a2d0e30",
   "metadata": {},
   "outputs": [
    {
     "data": {
      "text/html": [
       "<div>\n",
       "<style scoped>\n",
       "    .dataframe tbody tr th:only-of-type {\n",
       "        vertical-align: middle;\n",
       "    }\n",
       "\n",
       "    .dataframe tbody tr th {\n",
       "        vertical-align: top;\n",
       "    }\n",
       "\n",
       "    .dataframe thead th {\n",
       "        text-align: right;\n",
       "    }\n",
       "</style>\n",
       "<table border=\"1\" class=\"dataframe\">\n",
       "  <thead>\n",
       "    <tr style=\"text-align: right;\">\n",
       "      <th></th>\n",
       "      <th>user_id</th>\n",
       "      <th>name</th>\n",
       "      <th>age</th>\n",
       "      <th>city</th>\n",
       "      <th>subscription_type</th>\n",
       "      <th>distance</th>\n",
       "      <th>duration</th>\n",
       "      <th>date</th>\n",
       "      <th>month</th>\n",
       "      <th>minute_price</th>\n",
       "      <th>start_ride_price</th>\n",
       "      <th>subscription_fee</th>\n",
       "    </tr>\n",
       "  </thead>\n",
       "  <tbody>\n",
       "    <tr>\n",
       "      <th>0</th>\n",
       "      <td>1</td>\n",
       "      <td>Кира</td>\n",
       "      <td>22</td>\n",
       "      <td>Тюмень</td>\n",
       "      <td>ultra</td>\n",
       "      <td>4409.919140</td>\n",
       "      <td>26.0</td>\n",
       "      <td>2021-01-01</td>\n",
       "      <td>1</td>\n",
       "      <td>6</td>\n",
       "      <td>0</td>\n",
       "      <td>199</td>\n",
       "    </tr>\n",
       "    <tr>\n",
       "      <th>1</th>\n",
       "      <td>1</td>\n",
       "      <td>Кира</td>\n",
       "      <td>22</td>\n",
       "      <td>Тюмень</td>\n",
       "      <td>ultra</td>\n",
       "      <td>2617.592153</td>\n",
       "      <td>16.0</td>\n",
       "      <td>2021-01-18</td>\n",
       "      <td>1</td>\n",
       "      <td>6</td>\n",
       "      <td>0</td>\n",
       "      <td>199</td>\n",
       "    </tr>\n",
       "    <tr>\n",
       "      <th>2</th>\n",
       "      <td>1</td>\n",
       "      <td>Кира</td>\n",
       "      <td>22</td>\n",
       "      <td>Тюмень</td>\n",
       "      <td>ultra</td>\n",
       "      <td>754.159807</td>\n",
       "      <td>7.0</td>\n",
       "      <td>2021-04-20</td>\n",
       "      <td>4</td>\n",
       "      <td>6</td>\n",
       "      <td>0</td>\n",
       "      <td>199</td>\n",
       "    </tr>\n",
       "    <tr>\n",
       "      <th>3</th>\n",
       "      <td>1</td>\n",
       "      <td>Кира</td>\n",
       "      <td>22</td>\n",
       "      <td>Тюмень</td>\n",
       "      <td>ultra</td>\n",
       "      <td>2694.783254</td>\n",
       "      <td>19.0</td>\n",
       "      <td>2021-08-11</td>\n",
       "      <td>8</td>\n",
       "      <td>6</td>\n",
       "      <td>0</td>\n",
       "      <td>199</td>\n",
       "    </tr>\n",
       "    <tr>\n",
       "      <th>4</th>\n",
       "      <td>1</td>\n",
       "      <td>Кира</td>\n",
       "      <td>22</td>\n",
       "      <td>Тюмень</td>\n",
       "      <td>ultra</td>\n",
       "      <td>4028.687306</td>\n",
       "      <td>27.0</td>\n",
       "      <td>2021-08-28</td>\n",
       "      <td>8</td>\n",
       "      <td>6</td>\n",
       "      <td>0</td>\n",
       "      <td>199</td>\n",
       "    </tr>\n",
       "    <tr>\n",
       "      <th>...</th>\n",
       "      <td>...</td>\n",
       "      <td>...</td>\n",
       "      <td>...</td>\n",
       "      <td>...</td>\n",
       "      <td>...</td>\n",
       "      <td>...</td>\n",
       "      <td>...</td>\n",
       "      <td>...</td>\n",
       "      <td>...</td>\n",
       "      <td>...</td>\n",
       "      <td>...</td>\n",
       "      <td>...</td>\n",
       "    </tr>\n",
       "    <tr>\n",
       "      <th>18063</th>\n",
       "      <td>1534</td>\n",
       "      <td>Альберт</td>\n",
       "      <td>25</td>\n",
       "      <td>Краснодар</td>\n",
       "      <td>free</td>\n",
       "      <td>3781.098080</td>\n",
       "      <td>20.0</td>\n",
       "      <td>2021-11-04</td>\n",
       "      <td>11</td>\n",
       "      <td>8</td>\n",
       "      <td>50</td>\n",
       "      <td>0</td>\n",
       "    </tr>\n",
       "    <tr>\n",
       "      <th>18064</th>\n",
       "      <td>1534</td>\n",
       "      <td>Альберт</td>\n",
       "      <td>25</td>\n",
       "      <td>Краснодар</td>\n",
       "      <td>free</td>\n",
       "      <td>2840.423057</td>\n",
       "      <td>22.0</td>\n",
       "      <td>2021-11-16</td>\n",
       "      <td>11</td>\n",
       "      <td>8</td>\n",
       "      <td>50</td>\n",
       "      <td>0</td>\n",
       "    </tr>\n",
       "    <tr>\n",
       "      <th>18065</th>\n",
       "      <td>1534</td>\n",
       "      <td>Альберт</td>\n",
       "      <td>25</td>\n",
       "      <td>Краснодар</td>\n",
       "      <td>free</td>\n",
       "      <td>3826.185507</td>\n",
       "      <td>19.0</td>\n",
       "      <td>2021-11-18</td>\n",
       "      <td>11</td>\n",
       "      <td>8</td>\n",
       "      <td>50</td>\n",
       "      <td>0</td>\n",
       "    </tr>\n",
       "    <tr>\n",
       "      <th>18066</th>\n",
       "      <td>1534</td>\n",
       "      <td>Альберт</td>\n",
       "      <td>25</td>\n",
       "      <td>Краснодар</td>\n",
       "      <td>free</td>\n",
       "      <td>2902.308661</td>\n",
       "      <td>17.0</td>\n",
       "      <td>2021-11-27</td>\n",
       "      <td>11</td>\n",
       "      <td>8</td>\n",
       "      <td>50</td>\n",
       "      <td>0</td>\n",
       "    </tr>\n",
       "    <tr>\n",
       "      <th>18067</th>\n",
       "      <td>1534</td>\n",
       "      <td>Альберт</td>\n",
       "      <td>25</td>\n",
       "      <td>Краснодар</td>\n",
       "      <td>free</td>\n",
       "      <td>2371.711192</td>\n",
       "      <td>16.0</td>\n",
       "      <td>2021-12-29</td>\n",
       "      <td>12</td>\n",
       "      <td>8</td>\n",
       "      <td>50</td>\n",
       "      <td>0</td>\n",
       "    </tr>\n",
       "  </tbody>\n",
       "</table>\n",
       "<p>18068 rows × 12 columns</p>\n",
       "</div>"
      ],
      "text/plain": [
       "       user_id     name  age       city subscription_type     distance  \\\n",
       "0            1     Кира   22     Тюмень             ultra  4409.919140   \n",
       "1            1     Кира   22     Тюмень             ultra  2617.592153   \n",
       "2            1     Кира   22     Тюмень             ultra   754.159807   \n",
       "3            1     Кира   22     Тюмень             ultra  2694.783254   \n",
       "4            1     Кира   22     Тюмень             ultra  4028.687306   \n",
       "...        ...      ...  ...        ...               ...          ...   \n",
       "18063     1534  Альберт   25  Краснодар              free  3781.098080   \n",
       "18064     1534  Альберт   25  Краснодар              free  2840.423057   \n",
       "18065     1534  Альберт   25  Краснодар              free  3826.185507   \n",
       "18066     1534  Альберт   25  Краснодар              free  2902.308661   \n",
       "18067     1534  Альберт   25  Краснодар              free  2371.711192   \n",
       "\n",
       "       duration       date  month  minute_price  start_ride_price  \\\n",
       "0          26.0 2021-01-01      1             6                 0   \n",
       "1          16.0 2021-01-18      1             6                 0   \n",
       "2           7.0 2021-04-20      4             6                 0   \n",
       "3          19.0 2021-08-11      8             6                 0   \n",
       "4          27.0 2021-08-28      8             6                 0   \n",
       "...         ...        ...    ...           ...               ...   \n",
       "18063      20.0 2021-11-04     11             8                50   \n",
       "18064      22.0 2021-11-16     11             8                50   \n",
       "18065      19.0 2021-11-18     11             8                50   \n",
       "18066      17.0 2021-11-27     11             8                50   \n",
       "18067      16.0 2021-12-29     12             8                50   \n",
       "\n",
       "       subscription_fee  \n",
       "0                   199  \n",
       "1                   199  \n",
       "2                   199  \n",
       "3                   199  \n",
       "4                   199  \n",
       "...                 ...  \n",
       "18063                 0  \n",
       "18064                 0  \n",
       "18065                 0  \n",
       "18066                 0  \n",
       "18067                 0  \n",
       "\n",
       "[18068 rows x 12 columns]"
      ]
     },
     "metadata": {},
     "output_type": "display_data"
    }
   ],
   "source": [
    "# Округлим данные в 'duration'\n",
    "data['duration'] = np.ceil(data['duration'])\n",
    "display(data)"
   ]
  },
  {
   "cell_type": "code",
   "execution_count": 36,
   "id": "1cc27ef1",
   "metadata": {
    "scrolled": false
   },
   "outputs": [
    {
     "data": {
      "text/html": [
       "<div>\n",
       "<style scoped>\n",
       "    .dataframe tbody tr th:only-of-type {\n",
       "        vertical-align: middle;\n",
       "    }\n",
       "\n",
       "    .dataframe tbody tr th {\n",
       "        vertical-align: top;\n",
       "    }\n",
       "\n",
       "    .dataframe thead th {\n",
       "        text-align: right;\n",
       "    }\n",
       "</style>\n",
       "<table border=\"1\" class=\"dataframe\">\n",
       "  <thead>\n",
       "    <tr style=\"text-align: right;\">\n",
       "      <th></th>\n",
       "      <th>user_id</th>\n",
       "      <th>month</th>\n",
       "      <th>sum_distance</th>\n",
       "      <th>sum_duration</th>\n",
       "      <th>minute_price</th>\n",
       "      <th>count_rides</th>\n",
       "      <th>start_ride_price</th>\n",
       "      <th>subscription_fee</th>\n",
       "      <th>subscription_type</th>\n",
       "    </tr>\n",
       "  </thead>\n",
       "  <tbody>\n",
       "    <tr>\n",
       "      <th>0</th>\n",
       "      <td>1</td>\n",
       "      <td>1</td>\n",
       "      <td>7027.511294</td>\n",
       "      <td>42.0</td>\n",
       "      <td>6</td>\n",
       "      <td>2</td>\n",
       "      <td>0</td>\n",
       "      <td>199</td>\n",
       "      <td>ultra</td>\n",
       "    </tr>\n",
       "    <tr>\n",
       "      <th>1</th>\n",
       "      <td>1</td>\n",
       "      <td>4</td>\n",
       "      <td>754.159807</td>\n",
       "      <td>7.0</td>\n",
       "      <td>6</td>\n",
       "      <td>1</td>\n",
       "      <td>0</td>\n",
       "      <td>199</td>\n",
       "      <td>ultra</td>\n",
       "    </tr>\n",
       "    <tr>\n",
       "      <th>2</th>\n",
       "      <td>1</td>\n",
       "      <td>8</td>\n",
       "      <td>6723.470560</td>\n",
       "      <td>46.0</td>\n",
       "      <td>6</td>\n",
       "      <td>2</td>\n",
       "      <td>0</td>\n",
       "      <td>199</td>\n",
       "      <td>ultra</td>\n",
       "    </tr>\n",
       "    <tr>\n",
       "      <th>3</th>\n",
       "      <td>1</td>\n",
       "      <td>10</td>\n",
       "      <td>5809.911100</td>\n",
       "      <td>32.0</td>\n",
       "      <td>6</td>\n",
       "      <td>2</td>\n",
       "      <td>0</td>\n",
       "      <td>199</td>\n",
       "      <td>ultra</td>\n",
       "    </tr>\n",
       "    <tr>\n",
       "      <th>4</th>\n",
       "      <td>1</td>\n",
       "      <td>11</td>\n",
       "      <td>7003.499363</td>\n",
       "      <td>56.0</td>\n",
       "      <td>6</td>\n",
       "      <td>3</td>\n",
       "      <td>0</td>\n",
       "      <td>199</td>\n",
       "      <td>ultra</td>\n",
       "    </tr>\n",
       "    <tr>\n",
       "      <th>...</th>\n",
       "      <td>...</td>\n",
       "      <td>...</td>\n",
       "      <td>...</td>\n",
       "      <td>...</td>\n",
       "      <td>...</td>\n",
       "      <td>...</td>\n",
       "      <td>...</td>\n",
       "      <td>...</td>\n",
       "      <td>...</td>\n",
       "    </tr>\n",
       "    <tr>\n",
       "      <th>11326</th>\n",
       "      <td>1534</td>\n",
       "      <td>6</td>\n",
       "      <td>3409.468534</td>\n",
       "      <td>26.0</td>\n",
       "      <td>8</td>\n",
       "      <td>2</td>\n",
       "      <td>50</td>\n",
       "      <td>0</td>\n",
       "      <td>free</td>\n",
       "    </tr>\n",
       "    <tr>\n",
       "      <th>11327</th>\n",
       "      <td>1534</td>\n",
       "      <td>8</td>\n",
       "      <td>7622.453034</td>\n",
       "      <td>48.0</td>\n",
       "      <td>8</td>\n",
       "      <td>2</td>\n",
       "      <td>50</td>\n",
       "      <td>0</td>\n",
       "      <td>free</td>\n",
       "    </tr>\n",
       "    <tr>\n",
       "      <th>11328</th>\n",
       "      <td>1534</td>\n",
       "      <td>9</td>\n",
       "      <td>4928.173852</td>\n",
       "      <td>23.0</td>\n",
       "      <td>8</td>\n",
       "      <td>1</td>\n",
       "      <td>50</td>\n",
       "      <td>0</td>\n",
       "      <td>free</td>\n",
       "    </tr>\n",
       "    <tr>\n",
       "      <th>11329</th>\n",
       "      <td>1534</td>\n",
       "      <td>11</td>\n",
       "      <td>13350.015305</td>\n",
       "      <td>78.0</td>\n",
       "      <td>8</td>\n",
       "      <td>4</td>\n",
       "      <td>50</td>\n",
       "      <td>0</td>\n",
       "      <td>free</td>\n",
       "    </tr>\n",
       "    <tr>\n",
       "      <th>11330</th>\n",
       "      <td>1534</td>\n",
       "      <td>12</td>\n",
       "      <td>2371.711192</td>\n",
       "      <td>16.0</td>\n",
       "      <td>8</td>\n",
       "      <td>1</td>\n",
       "      <td>50</td>\n",
       "      <td>0</td>\n",
       "      <td>free</td>\n",
       "    </tr>\n",
       "  </tbody>\n",
       "</table>\n",
       "<p>11331 rows × 9 columns</p>\n",
       "</div>"
      ],
      "text/plain": [
       "       user_id  month  sum_distance  sum_duration  minute_price  count_rides  \\\n",
       "0            1      1   7027.511294          42.0             6            2   \n",
       "1            1      4    754.159807           7.0             6            1   \n",
       "2            1      8   6723.470560          46.0             6            2   \n",
       "3            1     10   5809.911100          32.0             6            2   \n",
       "4            1     11   7003.499363          56.0             6            3   \n",
       "...        ...    ...           ...           ...           ...          ...   \n",
       "11326     1534      6   3409.468534          26.0             8            2   \n",
       "11327     1534      8   7622.453034          48.0             8            2   \n",
       "11328     1534      9   4928.173852          23.0             8            1   \n",
       "11329     1534     11  13350.015305          78.0             8            4   \n",
       "11330     1534     12   2371.711192          16.0             8            1   \n",
       "\n",
       "       start_ride_price  subscription_fee subscription_type  \n",
       "0                     0               199             ultra  \n",
       "1                     0               199             ultra  \n",
       "2                     0               199             ultra  \n",
       "3                     0               199             ultra  \n",
       "4                     0               199             ultra  \n",
       "...                 ...               ...               ...  \n",
       "11326                50                 0              free  \n",
       "11327                50                 0              free  \n",
       "11328                50                 0              free  \n",
       "11329                50                 0              free  \n",
       "11330                50                 0              free  \n",
       "\n",
       "[11331 rows x 9 columns]"
      ]
     },
     "metadata": {},
     "output_type": "display_data"
    }
   ],
   "source": [
    "# Создадим сводную таблицу data_sum и добавим столбцы 'sum_distance', 'sum_duration', 'count_rides'\n",
    "data_sum = pd.pivot_table(data, \n",
    "                          index = ['user_id', 'month'], \n",
    "                          values = ['duration', 'distance', 'subscription_type', 'minute_price', \n",
    "                                    'start_ride_price', 'subscription_fee', 'name'], \n",
    "                          aggfunc = {\n",
    "                              'distance': sum, \n",
    "                              'duration' : sum,\n",
    "                              'name' : len,\n",
    "                              'subscription_type' : 'first',\n",
    "                              'minute_price' : 'first',\n",
    "                              'start_ride_price' : 'first',\n",
    "                              'subscription_fee' : 'first'\n",
    "                          })\n",
    "\n",
    "\n",
    "data_sum = data_sum.reset_index()\n",
    "data_sum.rename(columns = {'distance': 'sum_distance', 'duration': 'sum_duration', 'name': 'count_rides'}, inplace = True)\n",
    "\n",
    "# Округлим данные в 'sum_duration'\n",
    "#data_sum['sum_duration'] = np.ceil(data_sum['sum_duration'])\n",
    "\n",
    "display(data_sum)"
   ]
  },
  {
   "cell_type": "markdown",
   "id": "2ca06867",
   "metadata": {},
   "source": [
    "**5.2. В этот же датафрейм добавьте столбец с помесячной выручкой, которую принёс каждый пользователь. Для этого обратитесь к информации об условиях оплаты для подписчиков и тех, у кого нет подписки.**"
   ]
  },
  {
   "cell_type": "code",
   "execution_count": 37,
   "id": "769ce753",
   "metadata": {},
   "outputs": [
    {
     "data": {
      "text/html": [
       "<div>\n",
       "<style scoped>\n",
       "    .dataframe tbody tr th:only-of-type {\n",
       "        vertical-align: middle;\n",
       "    }\n",
       "\n",
       "    .dataframe tbody tr th {\n",
       "        vertical-align: top;\n",
       "    }\n",
       "\n",
       "    .dataframe thead th {\n",
       "        text-align: right;\n",
       "    }\n",
       "</style>\n",
       "<table border=\"1\" class=\"dataframe\">\n",
       "  <thead>\n",
       "    <tr style=\"text-align: right;\">\n",
       "      <th></th>\n",
       "      <th>user_id</th>\n",
       "      <th>month</th>\n",
       "      <th>sum_distance</th>\n",
       "      <th>sum_duration</th>\n",
       "      <th>minute_price</th>\n",
       "      <th>count_rides</th>\n",
       "      <th>start_ride_price</th>\n",
       "      <th>subscription_fee</th>\n",
       "      <th>subscription_type</th>\n",
       "      <th>revenue</th>\n",
       "    </tr>\n",
       "  </thead>\n",
       "  <tbody>\n",
       "    <tr>\n",
       "      <th>0</th>\n",
       "      <td>1</td>\n",
       "      <td>1</td>\n",
       "      <td>7027.511294</td>\n",
       "      <td>42.0</td>\n",
       "      <td>6</td>\n",
       "      <td>2</td>\n",
       "      <td>0</td>\n",
       "      <td>199</td>\n",
       "      <td>ultra</td>\n",
       "      <td>451.0</td>\n",
       "    </tr>\n",
       "    <tr>\n",
       "      <th>1</th>\n",
       "      <td>1</td>\n",
       "      <td>4</td>\n",
       "      <td>754.159807</td>\n",
       "      <td>7.0</td>\n",
       "      <td>6</td>\n",
       "      <td>1</td>\n",
       "      <td>0</td>\n",
       "      <td>199</td>\n",
       "      <td>ultra</td>\n",
       "      <td>241.0</td>\n",
       "    </tr>\n",
       "    <tr>\n",
       "      <th>2</th>\n",
       "      <td>1</td>\n",
       "      <td>8</td>\n",
       "      <td>6723.470560</td>\n",
       "      <td>46.0</td>\n",
       "      <td>6</td>\n",
       "      <td>2</td>\n",
       "      <td>0</td>\n",
       "      <td>199</td>\n",
       "      <td>ultra</td>\n",
       "      <td>475.0</td>\n",
       "    </tr>\n",
       "    <tr>\n",
       "      <th>3</th>\n",
       "      <td>1</td>\n",
       "      <td>10</td>\n",
       "      <td>5809.911100</td>\n",
       "      <td>32.0</td>\n",
       "      <td>6</td>\n",
       "      <td>2</td>\n",
       "      <td>0</td>\n",
       "      <td>199</td>\n",
       "      <td>ultra</td>\n",
       "      <td>391.0</td>\n",
       "    </tr>\n",
       "    <tr>\n",
       "      <th>4</th>\n",
       "      <td>1</td>\n",
       "      <td>11</td>\n",
       "      <td>7003.499363</td>\n",
       "      <td>56.0</td>\n",
       "      <td>6</td>\n",
       "      <td>3</td>\n",
       "      <td>0</td>\n",
       "      <td>199</td>\n",
       "      <td>ultra</td>\n",
       "      <td>535.0</td>\n",
       "    </tr>\n",
       "    <tr>\n",
       "      <th>...</th>\n",
       "      <td>...</td>\n",
       "      <td>...</td>\n",
       "      <td>...</td>\n",
       "      <td>...</td>\n",
       "      <td>...</td>\n",
       "      <td>...</td>\n",
       "      <td>...</td>\n",
       "      <td>...</td>\n",
       "      <td>...</td>\n",
       "      <td>...</td>\n",
       "    </tr>\n",
       "    <tr>\n",
       "      <th>11326</th>\n",
       "      <td>1534</td>\n",
       "      <td>6</td>\n",
       "      <td>3409.468534</td>\n",
       "      <td>26.0</td>\n",
       "      <td>8</td>\n",
       "      <td>2</td>\n",
       "      <td>50</td>\n",
       "      <td>0</td>\n",
       "      <td>free</td>\n",
       "      <td>308.0</td>\n",
       "    </tr>\n",
       "    <tr>\n",
       "      <th>11327</th>\n",
       "      <td>1534</td>\n",
       "      <td>8</td>\n",
       "      <td>7622.453034</td>\n",
       "      <td>48.0</td>\n",
       "      <td>8</td>\n",
       "      <td>2</td>\n",
       "      <td>50</td>\n",
       "      <td>0</td>\n",
       "      <td>free</td>\n",
       "      <td>484.0</td>\n",
       "    </tr>\n",
       "    <tr>\n",
       "      <th>11328</th>\n",
       "      <td>1534</td>\n",
       "      <td>9</td>\n",
       "      <td>4928.173852</td>\n",
       "      <td>23.0</td>\n",
       "      <td>8</td>\n",
       "      <td>1</td>\n",
       "      <td>50</td>\n",
       "      <td>0</td>\n",
       "      <td>free</td>\n",
       "      <td>234.0</td>\n",
       "    </tr>\n",
       "    <tr>\n",
       "      <th>11329</th>\n",
       "      <td>1534</td>\n",
       "      <td>11</td>\n",
       "      <td>13350.015305</td>\n",
       "      <td>78.0</td>\n",
       "      <td>8</td>\n",
       "      <td>4</td>\n",
       "      <td>50</td>\n",
       "      <td>0</td>\n",
       "      <td>free</td>\n",
       "      <td>824.0</td>\n",
       "    </tr>\n",
       "    <tr>\n",
       "      <th>11330</th>\n",
       "      <td>1534</td>\n",
       "      <td>12</td>\n",
       "      <td>2371.711192</td>\n",
       "      <td>16.0</td>\n",
       "      <td>8</td>\n",
       "      <td>1</td>\n",
       "      <td>50</td>\n",
       "      <td>0</td>\n",
       "      <td>free</td>\n",
       "      <td>178.0</td>\n",
       "    </tr>\n",
       "  </tbody>\n",
       "</table>\n",
       "<p>11331 rows × 10 columns</p>\n",
       "</div>"
      ],
      "text/plain": [
       "       user_id  month  sum_distance  sum_duration  minute_price  count_rides  \\\n",
       "0            1      1   7027.511294          42.0             6            2   \n",
       "1            1      4    754.159807           7.0             6            1   \n",
       "2            1      8   6723.470560          46.0             6            2   \n",
       "3            1     10   5809.911100          32.0             6            2   \n",
       "4            1     11   7003.499363          56.0             6            3   \n",
       "...        ...    ...           ...           ...           ...          ...   \n",
       "11326     1534      6   3409.468534          26.0             8            2   \n",
       "11327     1534      8   7622.453034          48.0             8            2   \n",
       "11328     1534      9   4928.173852          23.0             8            1   \n",
       "11329     1534     11  13350.015305          78.0             8            4   \n",
       "11330     1534     12   2371.711192          16.0             8            1   \n",
       "\n",
       "       start_ride_price  subscription_fee subscription_type  revenue  \n",
       "0                     0               199             ultra    451.0  \n",
       "1                     0               199             ultra    241.0  \n",
       "2                     0               199             ultra    475.0  \n",
       "3                     0               199             ultra    391.0  \n",
       "4                     0               199             ultra    535.0  \n",
       "...                 ...               ...               ...      ...  \n",
       "11326                50                 0              free    308.0  \n",
       "11327                50                 0              free    484.0  \n",
       "11328                50                 0              free    234.0  \n",
       "11329                50                 0              free    824.0  \n",
       "11330                50                 0              free    178.0  \n",
       "\n",
       "[11331 rows x 10 columns]"
      ]
     },
     "metadata": {},
     "output_type": "display_data"
    }
   ],
   "source": [
    "data_sum['revenue'] = (data_sum['start_ride_price'] * data_sum['count_rides']) + \\\n",
    "    (data_sum['minute_price'] * data_sum['sum_duration']) + data_sum['subscription_fee'] \n",
    "display(data_sum)"
   ]
  },
  {
   "cell_type": "code",
   "execution_count": 38,
   "id": "d36eb325",
   "metadata": {},
   "outputs": [
    {
     "data": {
      "text/plain": [
       "3878641.0"
      ]
     },
     "execution_count": 38,
     "metadata": {},
     "output_type": "execute_result"
    }
   ],
   "source": [
    "# Посчитаем суммарную выручку\n",
    "data_sum['revenue'].sum()"
   ]
  },
  {
   "cell_type": "markdown",
   "id": "51b40036",
   "metadata": {},
   "source": [
    "**Вывод:**\n",
    "\n",
    "Суммараная выручка по всем пользователям - 3 878 641.0"
   ]
  },
  {
   "cell_type": "markdown",
   "id": "41545ac0",
   "metadata": {},
   "source": [
    "#### Проверка гипотез"
   ]
  },
  {
   "cell_type": "markdown",
   "id": "dcc855ac",
   "metadata": {},
   "source": [
    "**Продакт-менеджеры сервиса хотят увеличить количество пользователей с подпиской. Для этого они будут проводить различные акции, но сначала нужно выяснить несколько важных моментов.**"
   ]
  },
  {
   "cell_type": "markdown",
   "id": "b36f3327",
   "metadata": {},
   "source": [
    "**6.1 Важно понять, тратят ли пользователи с подпиской больше времени на поездки? Если да, то пользователи с подпиской могут быть «выгоднее» для компании. Проверьте гипотезу. Используйте исходные данные о продолжительности каждой сессии — отдельно для подписчиков и тех, у кого нет подписки.**"
   ]
  },
  {
   "cell_type": "markdown",
   "id": "875c45da",
   "metadata": {},
   "source": [
    "Запишем врем на поездки 'duration' в отдельные таблицы, по каждой категории подписки из датафреймов data_ultra и data_free.\n",
    "\n",
    "Проверим гипотезу о том, что пользователи с подпиской тратят больше времени на поездки.\n",
    "\n",
    "Нулевая гипотеза: среднее значение потраченного времени пользователей из двух категорий равны.\n",
    "\n",
    "Альтернативная гипотеза: среднее значение потраченного времени пользователей с подпиской больше, чем среднее значение потраченного времени пользователей без подписки.\n",
    "\n",
    "Чтобы проверить такую гипотезу, передадим в метод ttest_ind()сначала выборку времени пользователей с подпиской (duration_ultra), затем выборку времени пользователей без подписки (duration_free). В качестве alternative укажем 'greater', то есть «больше».\n",
    "\n"
   ]
  },
  {
   "cell_type": "code",
   "execution_count": 39,
   "id": "37cbe09f",
   "metadata": {},
   "outputs": [
    {
     "name": "stdout",
     "output_type": "stream",
     "text": [
      "p-value: 1.2804098316645618e-34\n",
      "Отвергаем нулевую гипотезу\n"
     ]
    }
   ],
   "source": [
    "# задаём уровень значимости\n",
    "alpha = 0.05\n",
    "\n",
    "# время группы пользователей (с подпиской)\n",
    "duration_ultra = data_ultra['duration']\n",
    "\n",
    "# время группы пользователей (без подписки)\n",
    "duration_free = data_free['duration']\n",
    "\n",
    "# проводим ttest для двух выборок, в качестве альтернативной используем одностороннюю гипотезу «больше»\n",
    "results = st.ttest_ind(duration_ultra, duration_free, alternative='greater')\n",
    "\n",
    "print(f'p-value: {results.pvalue}')\n",
    "\n",
    "# проверяем p-value\n",
    "if results.pvalue < alpha:\n",
    "    print('Отвергаем нулевую гипотезу')\n",
    "else:\n",
    "    print('Не получилось отвергнуть нулевую гипотезу')\n"
   ]
  },
  {
   "cell_type": "code",
   "execution_count": 40,
   "id": "7f705da2",
   "metadata": {},
   "outputs": [
    {
     "data": {
      "text/plain": [
       "0       25.599769\n",
       "1       15.816871\n",
       "2        6.232113\n",
       "3       18.511000\n",
       "4       26.265803\n",
       "          ...    \n",
       "6495    24.671163\n",
       "6496    15.892886\n",
       "6497    14.389525\n",
       "6498    15.839579\n",
       "6499    25.217345\n",
       "Name: duration, Length: 6500, dtype: float64"
      ]
     },
     "execution_count": 40,
     "metadata": {},
     "output_type": "execute_result"
    }
   ],
   "source": [
    "duration_ultra"
   ]
  },
  {
   "cell_type": "code",
   "execution_count": 41,
   "id": "b47bb708",
   "metadata": {},
   "outputs": [
    {
     "name": "stdout",
     "output_type": "stream",
     "text": [
      "18.54198516280583\n",
      "17.39090929866399\n"
     ]
    }
   ],
   "source": [
    "# Проверка для себя (не знаю, корректно ли так делать)\n",
    "print(duration_ultra.mean())\n",
    "print(duration_free.mean())"
   ]
  },
  {
   "cell_type": "markdown",
   "id": "a4a0dee1",
   "metadata": {},
   "source": [
    "**Вывод:**\n",
    "\n",
    "Полученное значение p-value меньше заданного уровня значимости, поэтому можно отвергнуть нулевую гипотезу. Есть основания говорить, что пользователи с подпиской тратят больше времени на поездки. Больше потраченного времени, больше выручка, что очень выгодно для бизнесса. "
   ]
  },
  {
   "cell_type": "markdown",
   "id": "e9dbb8ce",
   "metadata": {},
   "source": [
    "**6.2 Расстояние одной поездки в 3130 метров — оптимальное с точки зрения износа самоката. Можно ли сказать, что среднее расстояние, которое проезжают пользователи с подпиской за одну поездку, не превышает 3130 метров? Проверьте гипотезу и сделайте выводы.**"
   ]
  },
  {
   "cell_type": "markdown",
   "id": "ccc3dbb0",
   "metadata": {},
   "source": [
    "Запишем расстояние поездок 'duration' в отдельную таблицу,  из датафрейма data_ultra.\n",
    "\n",
    "Создадим переменную distance со значением 3 130 м.\n",
    "\n",
    "Проверим гипотезу о том, что пользователи с подпиской проезжают менее 3 130 м за одну поездку.\n",
    "\n",
    "Нулевая гипотеза: среднее расстояние поездки пользователей с подпиской равно 3 130 м.\n",
    "\n",
    "Альтернативная гипотеза: среднее расстояние поездки пользователей с подпиской более 3 130 м.\n",
    "\n",
    "Чтобы проверить такую гипотезу, передадим в метод ttest_1samp()сначала выборку расстояния с подпиской (distance_ultra), затем переменную distance . В качестве alternative укажем 'greater', то есть «больше», что бы проверить,  приводит к повышенному износу самоката большее расстояние или нет. "
   ]
  },
  {
   "cell_type": "code",
   "execution_count": 42,
   "id": "4014ed5c",
   "metadata": {},
   "outputs": [
    {
     "name": "stdout",
     "output_type": "stream",
     "text": [
      "p-value: 0.9195368847849785\n",
      "Не получилось отвергнуть нулевую гипотезу: пользователи проезжают больше 3 150 м.\n"
     ]
    }
   ],
   "source": [
    "distance_ultra = data_ultra['distance']\n",
    "distance = 3130\n",
    "\n",
    "alpha = 0.5\n",
    "\n",
    "results = st.ttest_1samp(distance_ultra, distance, alternative='greater')\n",
    "\n",
    "print(f'p-value: {results.pvalue}')\n",
    "\n",
    "if results.pvalue < alpha:\n",
    "    print('Отвергаем нулевую гипотезу: среднее расстояние одной поездки меньше 3 150 м.')\n",
    "else:\n",
    "    print('Не получилось отвергнуть нулевую гипотезу: пользователи проезжают больше 3 150 м.')\n"
   ]
  },
  {
   "cell_type": "code",
   "execution_count": 43,
   "id": "6f5d017b",
   "metadata": {},
   "outputs": [
    {
     "name": "stdout",
     "output_type": "stream",
     "text": [
      "3115.4453880370247\n",
      "3130\n"
     ]
    }
   ],
   "source": [
    "# Проверка для себя (не знаю, корректно ли так делать)\n",
    "print(distance_ultra.mean())\n",
    "print(distance)"
   ]
  },
  {
   "cell_type": "markdown",
   "id": "1389b368",
   "metadata": {},
   "source": [
    "**Вывод:**\n",
    "\n",
    "Полученное значение p-value 0.91953 больше заданного уровня значимости, поэтому не получилось отвергнуть нулевую гипотезу, что подтверждает, что среднее расстояние одной поездки пользователей с подпиской меньше 3 150 м. Это говорит о том, что пользователи, в среднем, не совершают длительных поездок, а значит, оборудование меньше изнашивается, меньше необходимо средст для ремонта или замены самокатов или комплектующих.\n"
   ]
  },
  {
   "cell_type": "markdown",
   "id": "a5ba2bb3",
   "metadata": {},
   "source": [
    "**6.3. Проверьте гипотезу о том, будет ли помесячная выручка от пользователей с подпиской по месяцам выше, чем выручка от пользователей без подписки. Сделайте вывод.**"
   ]
  },
  {
   "cell_type": "markdown",
   "id": "51703bcc",
   "metadata": {},
   "source": [
    "Запишем помесячную выручку 'revenue' в отдельные таблицы по категориям подписки, из датафрейма data_sum.\n",
    "\n",
    "\n",
    "Проверим гипотезу о том, что помесячная выручка пользователи с подпиской выше, чем выручка от пользователей без подписки.\n",
    "\n",
    "Нулевая гипотеза: помесячная выручка пользователей из двух категорий равна.\n",
    "\n",
    "Альтернативная гипотеза: помесячная выручка пользователей с полпиской выше чем чем выручка от пользователей без подписки\n",
    "\n",
    "Чтобы проверить такую гипотезу, передадим в метод ttest_ind()сначала выборку выручки пользователей с подпиской (sum_ultra), затем выборку выручки пользователей без подписки (sum_free). В качестве alternative укажем 'greater', то есть «больше».\n",
    "\n"
   ]
  },
  {
   "cell_type": "code",
   "execution_count": 44,
   "id": "70c15b53",
   "metadata": {},
   "outputs": [
    {
     "name": "stdout",
     "output_type": "stream",
     "text": [
      "p-value: 1.8850394384715216e-31\n",
      "Отвергаем нулевую гипотезу\n"
     ]
    }
   ],
   "source": [
    "sum_ultra = data_sum.loc[data_sum['subscription_type']=='ultra', 'revenue']\n",
    "sum_free = data_sum.loc[data_sum['subscription_type']=='free', 'revenue']\n",
    "\n",
    "# задаём уровень значимости\n",
    "alpha = 0.05\n",
    "\n",
    "results = st.ttest_ind(sum_ultra, sum_free, alternative='greater')\n",
    "\n",
    "print(f'p-value: {results.pvalue}')\n",
    "\n",
    "# проверяем p-value\n",
    "if results.pvalue < alpha:\n",
    "    print('Отвергаем нулевую гипотезу')\n",
    "else:\n",
    "    print('Не получилось отвергнуть нулевую гипотезу')\n"
   ]
  },
  {
   "cell_type": "code",
   "execution_count": 45,
   "id": "558284c6",
   "metadata": {},
   "outputs": [
    {
     "data": {
      "text/plain": [
       "0       451.0\n",
       "1       241.0\n",
       "2       475.0\n",
       "3       391.0\n",
       "4       535.0\n",
       "        ...  \n",
       "4528    301.0\n",
       "4529    469.0\n",
       "4530    385.0\n",
       "4531    295.0\n",
       "4532    355.0\n",
       "Name: revenue, Length: 4533, dtype: float64"
      ]
     },
     "execution_count": 45,
     "metadata": {},
     "output_type": "execute_result"
    }
   ],
   "source": [
    "sum_ultra"
   ]
  },
  {
   "cell_type": "code",
   "execution_count": 46,
   "id": "b1c9d1b7",
   "metadata": {},
   "outputs": [
    {
     "name": "stdout",
     "output_type": "stream",
     "text": [
      "362.7921906022502\n",
      "328.6413651073845\n"
     ]
    }
   ],
   "source": [
    "print(sum_ultra.mean())\n",
    "print(sum_free.mean())"
   ]
  },
  {
   "cell_type": "markdown",
   "id": "79124aee",
   "metadata": {},
   "source": [
    "**Вывод:**\n",
    "\n",
    "Помесячная выручка от пользователей с подпиской по месяцам выше, чем выручка от пользователей без подписки. Стоит обратить внимание на пользователей без подписки и , возможно, провести акции для привлечения людей к оформлению подписки или её продлению.  \n"
   ]
  },
  {
   "cell_type": "markdown",
   "id": "dd4673b7",
   "metadata": {},
   "source": [
    "**6.4 Представьте такую ситуацию: техническая команда сервиса обновила сервера, с которыми взаимодействует мобильное приложение. Она надеется, что из-за этого количество обращений в техподдержку значимо снизилось. Некоторый файл содержит для каждого пользователя данные о количестве обращений до обновления и после него. Какой тест вам понадобился бы для проверки этой гипотезы?**"
   ]
  },
  {
   "cell_type": "markdown",
   "id": "033505a3",
   "metadata": {},
   "source": [
    "Что бы проверить гипотезу о равентве среднего генеральной совокупности для зависимых выборок, применим метод st.ttest_rel().\n",
    "\n",
    "Передадим два параметра - данные до и после обновления. Набор данных должен быть одинаковым по размеру.\n",
    "\n",
    "before = [......]\n",
    "\n",
    "after = [......]\n",
    "\n",
    "alpha = 0.05\n",
    "\n",
    "results = st.ttest_rel(before,after)\n",
    "\n",
    "print(f'p-value: {results.pvalue}')\n",
    "\n",
    "if results.pvalue < alpha:\n",
    "\n",
    "    print('Отвергаем нулевую гипотезу о равенстве обращений в техподдержку')\n",
    "    \n",
    "else:\n",
    "\n",
    "    print('Не получилось отвергнуть нулевую гипотезу')"
   ]
  },
  {
   "cell_type": "markdown",
   "id": "f4bacd57",
   "metadata": {},
   "source": [
    "**Общий вывод.**\n",
    "\n",
    "Мы изучили данные сервиса аренды самокатов GoFast - обработали датафреймы, заменили тип данных и избавились от дублей.\n",
    "\n",
    "Исследовали, что больше всего пользователей арендующих самокаты в городе Пятигорск - 219, меньше всего в Москве - 168. \n",
    "\n",
    "Пользователей без подписки на 9% больше чем пользователей с подпиской. \n",
    "\n",
    "Средний возраст людей - 25 лет. Люди после 35 реже арендуют самокаты. Есть странные данные о возрасте 12 лет. Данную информацию необходимо уточнить у сервиса, как дети до 14/18 лет могут арендовать самокат.\n",
    "\n",
    "Средняя продолжительность поездки - 17 минут. Среднее расстояние - 3 км. Имеются некоторые выбросы в виде аренды на 1 минуту и расстоянии 1 м. Данную информацию так же необходимо уточнить у сервиса. Возможна техническая поломка оборудования или взлом самоката.\n",
    "\n",
    "Для удобной работы с данными, разделили пользователей по категориям - с подпиской и без, добавили столбцы с суммарным расстоянием, количеством поездок и сумарном времени для каждого пользователя. Добавили столбец выручки по месяцам.\n",
    "\n",
    "**Посчитали сумарную выручку по всем пользователям - 3 878 641,00**\n",
    "\n",
    "Проверили гипотезы:\n",
    "-  Пользователи с подпиской тратят больше времени на поездки, чем люди без подписки.\n",
    "-  Среднее расстояние одной поездки пользователей с подпиской не превышает 3 150 м.\n",
    "-  Помесячная выручка от пользователей с подпиской по месяцам выше, чем выручка от пользователей без подписки.\n",
    "\n",
    "**Стоит предложить акции, рекламы для пользователей без подписки, на неё подключение или продление.** \n",
    "\n",
    "\n",
    "P.S. не знакю на сколько корректный расчёт выручки, т.к. в таблице не совсем понятно, как люди платят за пдписку. Если у них подписка, они должны платить за неё ежемесячно, но в данных некоторые месяцы пропущены и не понятно, платили они 199 руб. или нет. т.к. в проете этот момент не обозначен, выручки считала из того, что есть. \n",
    "\n",
    "Так же не избавлялась от выбросов - 12 лет пользователю, 1 минута использования с расстоянием 4 км. Возможно это технические моменты, или кто-то мог взломать систему и бесплатно покататься =) т.к. все эти данные влияют на выручку, их не удаляла. \n"
   ]
  }
 ],
 "metadata": {
  "ExecuteTimeLog": [
   {
    "duration": 392,
    "start_time": "2023-09-11T15:47:30.741Z"
   },
   {
    "duration": 80,
    "start_time": "2023-09-11T15:47:42.617Z"
   },
   {
    "duration": 75,
    "start_time": "2023-09-11T15:47:54.967Z"
   },
   {
    "duration": 8,
    "start_time": "2023-09-11T15:48:15.565Z"
   },
   {
    "duration": 150,
    "start_time": "2023-09-11T15:51:34.918Z"
   },
   {
    "duration": 12,
    "start_time": "2023-09-11T15:51:36.903Z"
   },
   {
    "duration": 7,
    "start_time": "2023-09-12T07:08:12.535Z"
   },
   {
    "duration": 3,
    "start_time": "2023-09-12T07:08:30.209Z"
   },
   {
    "duration": 39,
    "start_time": "2023-09-12T07:09:18.280Z"
   },
   {
    "duration": 6,
    "start_time": "2023-09-12T07:13:57.932Z"
   },
   {
    "duration": 6,
    "start_time": "2023-09-12T07:15:11.570Z"
   },
   {
    "duration": 6,
    "start_time": "2023-09-12T07:15:15.612Z"
   },
   {
    "duration": 376,
    "start_time": "2023-09-12T07:15:22.878Z"
   },
   {
    "duration": 292,
    "start_time": "2023-09-12T07:15:23.257Z"
   },
   {
    "duration": 3,
    "start_time": "2023-09-12T07:15:23.550Z"
   },
   {
    "duration": 110,
    "start_time": "2023-09-12T07:15:23.554Z"
   },
   {
    "duration": 67,
    "start_time": "2023-09-12T07:15:27.494Z"
   },
   {
    "duration": 2,
    "start_time": "2023-09-12T07:15:32.616Z"
   },
   {
    "duration": 7,
    "start_time": "2023-09-12T07:15:38.476Z"
   },
   {
    "duration": 11,
    "start_time": "2023-09-12T07:16:04.191Z"
   },
   {
    "duration": 26,
    "start_time": "2023-09-12T07:21:56.091Z"
   },
   {
    "duration": 13,
    "start_time": "2023-09-12T07:25:29.923Z"
   },
   {
    "duration": 24,
    "start_time": "2023-09-12T07:25:52.309Z"
   },
   {
    "duration": 25,
    "start_time": "2023-09-12T07:26:12.212Z"
   },
   {
    "duration": 29,
    "start_time": "2023-09-12T07:26:27.019Z"
   },
   {
    "duration": 25,
    "start_time": "2023-09-12T07:30:06.233Z"
   },
   {
    "duration": 15,
    "start_time": "2023-09-12T07:30:12.047Z"
   },
   {
    "duration": 28,
    "start_time": "2023-09-12T07:30:33.931Z"
   },
   {
    "duration": 40,
    "start_time": "2023-09-12T07:32:58.794Z"
   },
   {
    "duration": 25,
    "start_time": "2023-09-12T07:44:56.775Z"
   },
   {
    "duration": 26,
    "start_time": "2023-09-12T07:45:15.254Z"
   },
   {
    "duration": 26,
    "start_time": "2023-09-12T07:46:12.380Z"
   },
   {
    "duration": 26,
    "start_time": "2023-09-12T07:46:27.955Z"
   },
   {
    "duration": 25,
    "start_time": "2023-09-12T07:46:56.311Z"
   },
   {
    "duration": 34,
    "start_time": "2023-09-12T07:47:54.480Z"
   },
   {
    "duration": 31,
    "start_time": "2023-09-12T07:48:38.931Z"
   },
   {
    "duration": 39,
    "start_time": "2023-09-12T07:51:59.415Z"
   },
   {
    "duration": 309,
    "start_time": "2023-09-12T07:54:26.148Z"
   },
   {
    "duration": 47,
    "start_time": "2023-09-12T07:54:34.128Z"
   },
   {
    "duration": 37,
    "start_time": "2023-09-12T07:56:50.180Z"
   },
   {
    "duration": 841,
    "start_time": "2023-09-12T07:57:45.645Z"
   },
   {
    "duration": 551,
    "start_time": "2023-09-12T07:58:06.111Z"
   },
   {
    "duration": 319,
    "start_time": "2023-09-12T07:58:40.493Z"
   },
   {
    "duration": 256,
    "start_time": "2023-09-12T08:01:28.677Z"
   },
   {
    "duration": 260,
    "start_time": "2023-09-12T08:03:19.396Z"
   },
   {
    "duration": 331,
    "start_time": "2023-09-12T08:03:31.450Z"
   },
   {
    "duration": 276,
    "start_time": "2023-09-12T08:05:39.677Z"
   },
   {
    "duration": 40,
    "start_time": "2023-09-12T08:07:55.281Z"
   },
   {
    "duration": 11,
    "start_time": "2023-09-12T08:08:10.594Z"
   },
   {
    "duration": 11,
    "start_time": "2023-09-12T08:08:40.193Z"
   },
   {
    "duration": 7,
    "start_time": "2023-09-12T08:08:53.889Z"
   },
   {
    "duration": 89,
    "start_time": "2023-09-12T08:11:42.934Z"
   },
   {
    "duration": 94,
    "start_time": "2023-09-12T08:11:53.233Z"
   },
   {
    "duration": 127,
    "start_time": "2023-09-12T08:12:08.653Z"
   },
   {
    "duration": 88,
    "start_time": "2023-09-12T08:12:26.483Z"
   },
   {
    "duration": 91,
    "start_time": "2023-09-12T08:12:43.053Z"
   },
   {
    "duration": 100,
    "start_time": "2023-09-12T08:12:55.694Z"
   },
   {
    "duration": 5,
    "start_time": "2023-09-12T08:14:01.392Z"
   },
   {
    "duration": 264,
    "start_time": "2023-09-12T08:14:17.643Z"
   },
   {
    "duration": 250,
    "start_time": "2023-09-12T08:15:00.030Z"
   },
   {
    "duration": 249,
    "start_time": "2023-09-12T08:15:20.747Z"
   },
   {
    "duration": 4,
    "start_time": "2023-09-12T08:23:12.711Z"
   },
   {
    "duration": 234,
    "start_time": "2023-09-12T08:23:14.884Z"
   },
   {
    "duration": 406,
    "start_time": "2023-09-12T08:32:55.882Z"
   },
   {
    "duration": 336,
    "start_time": "2023-09-12T08:37:15.480Z"
   },
   {
    "duration": 14,
    "start_time": "2023-09-12T08:45:08.822Z"
   },
   {
    "duration": 12,
    "start_time": "2023-09-12T08:48:14.494Z"
   },
   {
    "duration": 5,
    "start_time": "2023-09-12T08:51:17.826Z"
   },
   {
    "duration": 13,
    "start_time": "2023-09-12T08:52:14.309Z"
   },
   {
    "duration": 12,
    "start_time": "2023-09-12T08:56:24.025Z"
   },
   {
    "duration": 110,
    "start_time": "2023-09-12T08:59:02.370Z"
   },
   {
    "duration": 5,
    "start_time": "2023-09-12T09:03:54.844Z"
   },
   {
    "duration": 7,
    "start_time": "2023-09-12T09:04:28.494Z"
   },
   {
    "duration": 5,
    "start_time": "2023-09-12T09:12:23.248Z"
   },
   {
    "duration": 6,
    "start_time": "2023-09-12T09:12:31.292Z"
   },
   {
    "duration": 4,
    "start_time": "2023-09-12T09:13:14.033Z"
   },
   {
    "duration": 5,
    "start_time": "2023-09-12T09:13:24.784Z"
   },
   {
    "duration": 6,
    "start_time": "2023-09-12T09:17:21.934Z"
   },
   {
    "duration": 6,
    "start_time": "2023-09-12T09:18:34.077Z"
   },
   {
    "duration": 5,
    "start_time": "2023-09-12T09:18:57.969Z"
   },
   {
    "duration": 5,
    "start_time": "2023-09-12T09:20:08.382Z"
   },
   {
    "duration": 1139,
    "start_time": "2023-09-12T09:20:18.686Z"
   },
   {
    "duration": 65,
    "start_time": "2023-09-12T09:20:19.827Z"
   },
   {
    "duration": 4,
    "start_time": "2023-09-12T09:20:19.894Z"
   },
   {
    "duration": 266,
    "start_time": "2023-09-12T09:20:19.900Z"
   },
   {
    "duration": 335,
    "start_time": "2023-09-12T09:20:20.168Z"
   },
   {
    "duration": 344,
    "start_time": "2023-09-12T09:20:20.505Z"
   },
   {
    "duration": 7,
    "start_time": "2023-09-12T09:20:20.851Z"
   },
   {
    "duration": 47,
    "start_time": "2023-09-12T09:20:20.859Z"
   },
   {
    "duration": 18,
    "start_time": "2023-09-12T09:20:20.907Z"
   },
   {
    "duration": 8,
    "start_time": "2023-09-12T09:20:20.927Z"
   },
   {
    "duration": 28,
    "start_time": "2023-09-12T09:20:20.936Z"
   },
   {
    "duration": 32,
    "start_time": "2023-09-12T09:20:20.966Z"
   },
   {
    "duration": 13,
    "start_time": "2023-09-12T09:20:20.999Z"
   },
   {
    "duration": 95,
    "start_time": "2023-09-12T09:23:31.704Z"
   },
   {
    "duration": 8,
    "start_time": "2023-09-12T09:23:37.366Z"
   },
   {
    "duration": 9,
    "start_time": "2023-09-12T09:24:32.135Z"
   },
   {
    "duration": 4,
    "start_time": "2023-09-12T09:24:37.815Z"
   },
   {
    "duration": 9,
    "start_time": "2023-09-12T09:25:31.786Z"
   },
   {
    "duration": 5,
    "start_time": "2023-09-12T09:26:29.293Z"
   },
   {
    "duration": 5,
    "start_time": "2023-09-12T09:26:52.682Z"
   },
   {
    "duration": 5,
    "start_time": "2023-09-12T09:27:13.880Z"
   },
   {
    "duration": 2,
    "start_time": "2023-09-12T09:27:16.406Z"
   },
   {
    "duration": 5,
    "start_time": "2023-09-12T09:27:18.119Z"
   },
   {
    "duration": 1058,
    "start_time": "2023-09-12T09:27:37.966Z"
   },
   {
    "duration": 66,
    "start_time": "2023-09-12T09:27:39.026Z"
   },
   {
    "duration": 4,
    "start_time": "2023-09-12T09:27:39.093Z"
   },
   {
    "duration": 303,
    "start_time": "2023-09-12T09:27:39.099Z"
   },
   {
    "duration": 315,
    "start_time": "2023-09-12T09:27:39.404Z"
   },
   {
    "duration": 315,
    "start_time": "2023-09-12T09:27:39.720Z"
   },
   {
    "duration": 3,
    "start_time": "2023-09-12T09:27:40.043Z"
   },
   {
    "duration": 29,
    "start_time": "2023-09-12T09:27:40.047Z"
   },
   {
    "duration": 29,
    "start_time": "2023-09-12T09:27:40.078Z"
   },
   {
    "duration": 10,
    "start_time": "2023-09-12T09:27:40.109Z"
   },
   {
    "duration": 5,
    "start_time": "2023-09-12T09:27:40.121Z"
   },
   {
    "duration": 11,
    "start_time": "2023-09-12T09:27:40.128Z"
   },
   {
    "duration": 10,
    "start_time": "2023-09-12T09:27:40.141Z"
   },
   {
    "duration": 11,
    "start_time": "2023-09-12T09:27:40.153Z"
   },
   {
    "duration": 112,
    "start_time": "2023-09-12T09:35:24.115Z"
   },
   {
    "duration": 5,
    "start_time": "2023-09-12T09:38:24.374Z"
   },
   {
    "duration": 6,
    "start_time": "2023-09-12T09:41:00.666Z"
   },
   {
    "duration": 6,
    "start_time": "2023-09-12T09:41:23.930Z"
   },
   {
    "duration": 6,
    "start_time": "2023-09-12T09:41:27.042Z"
   },
   {
    "duration": 7,
    "start_time": "2023-09-12T09:41:31.957Z"
   },
   {
    "duration": 6,
    "start_time": "2023-09-12T09:42:02.498Z"
   },
   {
    "duration": 7,
    "start_time": "2023-09-12T09:44:18.467Z"
   },
   {
    "duration": 29,
    "start_time": "2023-09-12T09:44:31.492Z"
   },
   {
    "duration": 6,
    "start_time": "2023-09-12T09:44:40.262Z"
   },
   {
    "duration": 5,
    "start_time": "2023-09-12T09:46:32.561Z"
   },
   {
    "duration": 5,
    "start_time": "2023-09-12T09:46:39.840Z"
   },
   {
    "duration": 2,
    "start_time": "2023-09-12T09:47:09.601Z"
   },
   {
    "duration": 4,
    "start_time": "2023-09-12T09:47:11.000Z"
   },
   {
    "duration": 1134,
    "start_time": "2023-09-12T09:47:20.006Z"
   },
   {
    "duration": 67,
    "start_time": "2023-09-12T09:47:21.143Z"
   },
   {
    "duration": 4,
    "start_time": "2023-09-12T09:47:21.211Z"
   },
   {
    "duration": 297,
    "start_time": "2023-09-12T09:47:21.216Z"
   },
   {
    "duration": 358,
    "start_time": "2023-09-12T09:47:21.515Z"
   },
   {
    "duration": 332,
    "start_time": "2023-09-12T09:47:21.875Z"
   },
   {
    "duration": 15,
    "start_time": "2023-09-12T09:47:22.209Z"
   },
   {
    "duration": 26,
    "start_time": "2023-09-12T09:47:22.225Z"
   },
   {
    "duration": 11,
    "start_time": "2023-09-12T09:47:22.253Z"
   },
   {
    "duration": 16,
    "start_time": "2023-09-12T09:47:22.265Z"
   },
   {
    "duration": 11,
    "start_time": "2023-09-12T09:47:22.283Z"
   },
   {
    "duration": 9,
    "start_time": "2023-09-12T09:47:22.296Z"
   },
   {
    "duration": 17,
    "start_time": "2023-09-12T09:47:22.306Z"
   },
   {
    "duration": 24,
    "start_time": "2023-09-12T09:47:22.327Z"
   },
   {
    "duration": 5,
    "start_time": "2023-09-12T09:48:34.588Z"
   },
   {
    "duration": 5,
    "start_time": "2023-09-12T09:48:36.958Z"
   },
   {
    "duration": 1137,
    "start_time": "2023-09-12T09:48:48.814Z"
   },
   {
    "duration": 66,
    "start_time": "2023-09-12T09:48:49.953Z"
   },
   {
    "duration": 3,
    "start_time": "2023-09-12T09:48:50.021Z"
   },
   {
    "duration": 293,
    "start_time": "2023-09-12T09:48:50.026Z"
   },
   {
    "duration": 337,
    "start_time": "2023-09-12T09:48:50.321Z"
   },
   {
    "duration": 331,
    "start_time": "2023-09-12T09:48:50.659Z"
   },
   {
    "duration": 13,
    "start_time": "2023-09-12T09:48:50.991Z"
   },
   {
    "duration": 19,
    "start_time": "2023-09-12T09:48:51.006Z"
   },
   {
    "duration": 18,
    "start_time": "2023-09-12T09:48:51.027Z"
   },
   {
    "duration": 20,
    "start_time": "2023-09-12T09:48:51.047Z"
   },
   {
    "duration": 11,
    "start_time": "2023-09-12T09:48:51.069Z"
   },
   {
    "duration": 7,
    "start_time": "2023-09-12T09:48:51.082Z"
   },
   {
    "duration": 9,
    "start_time": "2023-09-12T09:48:51.090Z"
   },
   {
    "duration": 13,
    "start_time": "2023-09-12T09:48:51.102Z"
   },
   {
    "duration": 6,
    "start_time": "2023-09-12T09:49:18.833Z"
   },
   {
    "duration": 3,
    "start_time": "2023-09-12T09:54:54.820Z"
   },
   {
    "duration": 4,
    "start_time": "2023-09-12T11:16:34.915Z"
   },
   {
    "duration": 97,
    "start_time": "2023-09-12T11:17:19.637Z"
   },
   {
    "duration": 13,
    "start_time": "2023-09-12T11:19:16.885Z"
   },
   {
    "duration": 13,
    "start_time": "2023-09-12T11:20:48.679Z"
   },
   {
    "duration": 11,
    "start_time": "2023-09-12T11:22:03.151Z"
   },
   {
    "duration": 1242,
    "start_time": "2023-09-12T11:22:09.919Z"
   },
   {
    "duration": 67,
    "start_time": "2023-09-12T11:22:11.163Z"
   },
   {
    "duration": 5,
    "start_time": "2023-09-12T11:22:11.232Z"
   },
   {
    "duration": 435,
    "start_time": "2023-09-12T11:22:11.239Z"
   },
   {
    "duration": 353,
    "start_time": "2023-09-12T11:22:11.677Z"
   },
   {
    "duration": 361,
    "start_time": "2023-09-12T11:22:12.031Z"
   },
   {
    "duration": 17,
    "start_time": "2023-09-12T11:22:12.394Z"
   },
   {
    "duration": 15,
    "start_time": "2023-09-12T11:22:12.412Z"
   },
   {
    "duration": 17,
    "start_time": "2023-09-12T11:22:12.428Z"
   },
   {
    "duration": 13,
    "start_time": "2023-09-12T11:22:12.447Z"
   },
   {
    "duration": 11,
    "start_time": "2023-09-12T11:22:12.461Z"
   },
   {
    "duration": 5,
    "start_time": "2023-09-12T11:22:12.474Z"
   },
   {
    "duration": 19,
    "start_time": "2023-09-12T11:22:12.480Z"
   },
   {
    "duration": 18,
    "start_time": "2023-09-12T11:22:12.502Z"
   },
   {
    "duration": 24,
    "start_time": "2023-09-12T11:22:12.521Z"
   },
   {
    "duration": 5,
    "start_time": "2023-09-12T11:22:12.547Z"
   },
   {
    "duration": 133,
    "start_time": "2023-09-12T11:22:12.558Z"
   },
   {
    "duration": 165,
    "start_time": "2023-09-12T11:24:09.818Z"
   },
   {
    "duration": 122,
    "start_time": "2023-09-12T11:26:02.110Z"
   },
   {
    "duration": 295,
    "start_time": "2023-09-12T11:26:07.187Z"
   },
   {
    "duration": 237,
    "start_time": "2023-09-12T11:31:29.509Z"
   },
   {
    "duration": 1823,
    "start_time": "2023-09-12T11:41:16.621Z"
   },
   {
    "duration": 16,
    "start_time": "2023-09-12T11:44:41.252Z"
   },
   {
    "duration": 248,
    "start_time": "2023-09-12T11:45:19.396Z"
   },
   {
    "duration": 110,
    "start_time": "2023-09-12T11:46:23.886Z"
   },
   {
    "duration": 108,
    "start_time": "2023-09-12T11:46:31.573Z"
   },
   {
    "duration": 135,
    "start_time": "2023-09-12T11:52:00.578Z"
   },
   {
    "duration": 117,
    "start_time": "2023-09-12T11:52:42.387Z"
   },
   {
    "duration": 123,
    "start_time": "2023-09-12T11:54:04.413Z"
   },
   {
    "duration": 114,
    "start_time": "2023-09-12T11:54:15.514Z"
   },
   {
    "duration": 95,
    "start_time": "2023-09-12T11:59:13.349Z"
   },
   {
    "duration": 94,
    "start_time": "2023-09-12T11:59:41.750Z"
   },
   {
    "duration": 97,
    "start_time": "2023-09-12T11:59:49.851Z"
   },
   {
    "duration": 2026,
    "start_time": "2023-09-12T12:17:50.210Z"
   },
   {
    "duration": 405,
    "start_time": "2023-09-12T12:18:59.185Z"
   },
   {
    "duration": 134,
    "start_time": "2023-09-12T12:22:33.672Z"
   },
   {
    "duration": 182,
    "start_time": "2023-09-12T12:22:40.810Z"
   },
   {
    "duration": 81,
    "start_time": "2023-09-12T12:22:59.716Z"
   },
   {
    "duration": 182,
    "start_time": "2023-09-12T12:23:04.266Z"
   },
   {
    "duration": 145,
    "start_time": "2023-09-12T12:23:14.304Z"
   },
   {
    "duration": 159,
    "start_time": "2023-09-12T12:23:49.594Z"
   },
   {
    "duration": 158,
    "start_time": "2023-09-12T12:24:24.630Z"
   },
   {
    "duration": 142,
    "start_time": "2023-09-12T12:24:35.888Z"
   },
   {
    "duration": 151,
    "start_time": "2023-09-12T12:25:07.825Z"
   },
   {
    "duration": 139,
    "start_time": "2023-09-12T12:39:27.186Z"
   },
   {
    "duration": 122,
    "start_time": "2023-09-12T12:39:41.536Z"
   },
   {
    "duration": 121,
    "start_time": "2023-09-12T12:40:01.701Z"
   },
   {
    "duration": 9,
    "start_time": "2023-09-12T12:40:18.152Z"
   },
   {
    "duration": 132,
    "start_time": "2023-09-12T12:40:23.040Z"
   },
   {
    "duration": 131,
    "start_time": "2023-09-12T12:41:12.328Z"
   },
   {
    "duration": 112,
    "start_time": "2023-09-12T12:42:29.237Z"
   },
   {
    "duration": 130,
    "start_time": "2023-09-12T12:43:05.616Z"
   },
   {
    "duration": 236,
    "start_time": "2023-09-12T12:43:12.025Z"
   },
   {
    "duration": 135,
    "start_time": "2023-09-12T12:43:21.140Z"
   },
   {
    "duration": 120,
    "start_time": "2023-09-12T12:43:25.372Z"
   },
   {
    "duration": 125,
    "start_time": "2023-09-12T12:44:38.267Z"
   },
   {
    "duration": 117,
    "start_time": "2023-09-12T12:44:46.820Z"
   },
   {
    "duration": 126,
    "start_time": "2023-09-12T12:45:25.993Z"
   },
   {
    "duration": 6,
    "start_time": "2023-09-12T12:47:47.125Z"
   },
   {
    "duration": 141,
    "start_time": "2023-09-12T12:47:52.943Z"
   },
   {
    "duration": 1173,
    "start_time": "2023-09-12T12:48:00.964Z"
   },
   {
    "duration": 68,
    "start_time": "2023-09-12T12:48:02.139Z"
   },
   {
    "duration": 4,
    "start_time": "2023-09-12T12:48:02.208Z"
   },
   {
    "duration": 326,
    "start_time": "2023-09-12T12:48:02.214Z"
   },
   {
    "duration": 318,
    "start_time": "2023-09-12T12:48:02.544Z"
   },
   {
    "duration": 327,
    "start_time": "2023-09-12T12:48:02.864Z"
   },
   {
    "duration": 13,
    "start_time": "2023-09-12T12:48:03.193Z"
   },
   {
    "duration": 21,
    "start_time": "2023-09-12T12:48:03.207Z"
   },
   {
    "duration": 5,
    "start_time": "2023-09-12T12:48:03.229Z"
   },
   {
    "duration": 19,
    "start_time": "2023-09-12T12:48:03.236Z"
   },
   {
    "duration": 10,
    "start_time": "2023-09-12T12:48:03.256Z"
   },
   {
    "duration": 6,
    "start_time": "2023-09-12T12:48:03.268Z"
   },
   {
    "duration": 6,
    "start_time": "2023-09-12T12:48:03.276Z"
   },
   {
    "duration": 18,
    "start_time": "2023-09-12T12:48:03.283Z"
   },
   {
    "duration": 12,
    "start_time": "2023-09-12T12:48:03.303Z"
   },
   {
    "duration": 141,
    "start_time": "2023-09-12T12:48:03.316Z"
   },
   {
    "duration": 109,
    "start_time": "2023-09-12T12:48:03.458Z"
   },
   {
    "duration": 229,
    "start_time": "2023-09-12T12:48:03.568Z"
   },
   {
    "duration": 239,
    "start_time": "2023-09-12T12:48:03.799Z"
   },
   {
    "duration": 161,
    "start_time": "2023-09-12T12:48:12.715Z"
   },
   {
    "duration": 152,
    "start_time": "2023-09-12T12:48:31.330Z"
   },
   {
    "duration": 136,
    "start_time": "2023-09-12T12:48:38.908Z"
   },
   {
    "duration": 180,
    "start_time": "2023-09-12T12:48:43.943Z"
   },
   {
    "duration": 150,
    "start_time": "2023-09-12T12:49:04.667Z"
   },
   {
    "duration": 149,
    "start_time": "2023-09-12T12:58:19.349Z"
   },
   {
    "duration": 25,
    "start_time": "2023-09-12T13:23:57.242Z"
   },
   {
    "duration": 9,
    "start_time": "2023-09-12T13:27:24.773Z"
   },
   {
    "duration": 17,
    "start_time": "2023-09-12T13:27:30.404Z"
   },
   {
    "duration": 17,
    "start_time": "2023-09-12T13:31:19.888Z"
   },
   {
    "duration": 27,
    "start_time": "2023-09-12T13:32:20.764Z"
   },
   {
    "duration": 100,
    "start_time": "2023-09-12T13:36:38.469Z"
   },
   {
    "duration": 9,
    "start_time": "2023-09-12T13:36:58.597Z"
   },
   {
    "duration": 9,
    "start_time": "2023-09-12T13:39:12.970Z"
   },
   {
    "duration": 30,
    "start_time": "2023-09-12T13:40:15.628Z"
   },
   {
    "duration": 9,
    "start_time": "2023-09-12T13:40:20.482Z"
   },
   {
    "duration": 7,
    "start_time": "2023-09-12T13:40:57.855Z"
   },
   {
    "duration": 11,
    "start_time": "2023-09-12T13:41:34.146Z"
   },
   {
    "duration": 8,
    "start_time": "2023-09-12T13:42:59.935Z"
   },
   {
    "duration": 1326,
    "start_time": "2023-09-12T13:43:08.313Z"
   },
   {
    "duration": 66,
    "start_time": "2023-09-12T13:43:09.643Z"
   },
   {
    "duration": 4,
    "start_time": "2023-09-12T13:43:09.711Z"
   },
   {
    "duration": 262,
    "start_time": "2023-09-12T13:43:09.716Z"
   },
   {
    "duration": 326,
    "start_time": "2023-09-12T13:43:09.981Z"
   },
   {
    "duration": 331,
    "start_time": "2023-09-12T13:43:10.309Z"
   },
   {
    "duration": 14,
    "start_time": "2023-09-12T13:43:10.643Z"
   },
   {
    "duration": 10,
    "start_time": "2023-09-12T13:43:10.658Z"
   },
   {
    "duration": 5,
    "start_time": "2023-09-12T13:43:10.670Z"
   },
   {
    "duration": 23,
    "start_time": "2023-09-12T13:43:10.676Z"
   },
   {
    "duration": 11,
    "start_time": "2023-09-12T13:43:10.700Z"
   },
   {
    "duration": 5,
    "start_time": "2023-09-12T13:43:10.712Z"
   },
   {
    "duration": 5,
    "start_time": "2023-09-12T13:43:10.745Z"
   },
   {
    "duration": 11,
    "start_time": "2023-09-12T13:43:10.752Z"
   },
   {
    "duration": 4,
    "start_time": "2023-09-12T13:43:10.764Z"
   },
   {
    "duration": 133,
    "start_time": "2023-09-12T13:43:10.769Z"
   },
   {
    "duration": 107,
    "start_time": "2023-09-12T13:43:10.904Z"
   },
   {
    "duration": 225,
    "start_time": "2023-09-12T13:43:11.013Z"
   },
   {
    "duration": 174,
    "start_time": "2023-09-12T13:43:11.239Z"
   },
   {
    "duration": 165,
    "start_time": "2023-09-12T13:43:11.414Z"
   },
   {
    "duration": 16,
    "start_time": "2023-09-12T13:43:11.581Z"
   },
   {
    "duration": 23,
    "start_time": "2023-09-12T13:43:11.598Z"
   },
   {
    "duration": 106,
    "start_time": "2023-09-12T13:43:11.623Z"
   },
   {
    "duration": 15,
    "start_time": "2023-09-12T13:43:50.995Z"
   },
   {
    "duration": 8,
    "start_time": "2023-09-12T13:44:18.249Z"
   },
   {
    "duration": 12,
    "start_time": "2023-09-12T13:44:22.585Z"
   },
   {
    "duration": 12,
    "start_time": "2023-09-12T13:45:19.734Z"
   },
   {
    "duration": 6,
    "start_time": "2023-09-12T13:46:00.645Z"
   },
   {
    "duration": 1089,
    "start_time": "2023-09-12T13:46:12.762Z"
   },
   {
    "duration": 65,
    "start_time": "2023-09-12T13:46:13.853Z"
   },
   {
    "duration": 4,
    "start_time": "2023-09-12T13:46:13.919Z"
   },
   {
    "duration": 355,
    "start_time": "2023-09-12T13:46:13.925Z"
   },
   {
    "duration": 341,
    "start_time": "2023-09-12T13:46:14.283Z"
   },
   {
    "duration": 314,
    "start_time": "2023-09-12T13:46:14.626Z"
   },
   {
    "duration": 14,
    "start_time": "2023-09-12T13:46:14.945Z"
   },
   {
    "duration": 30,
    "start_time": "2023-09-12T13:46:14.960Z"
   },
   {
    "duration": 51,
    "start_time": "2023-09-12T13:46:14.991Z"
   },
   {
    "duration": 32,
    "start_time": "2023-09-12T13:46:15.043Z"
   },
   {
    "duration": 45,
    "start_time": "2023-09-12T13:46:15.076Z"
   },
   {
    "duration": 16,
    "start_time": "2023-09-12T13:46:15.123Z"
   },
   {
    "duration": 13,
    "start_time": "2023-09-12T13:46:15.140Z"
   },
   {
    "duration": 7,
    "start_time": "2023-09-12T13:46:15.155Z"
   },
   {
    "duration": 21,
    "start_time": "2023-09-12T13:46:15.163Z"
   },
   {
    "duration": 126,
    "start_time": "2023-09-12T13:46:15.185Z"
   },
   {
    "duration": 105,
    "start_time": "2023-09-12T13:46:15.312Z"
   },
   {
    "duration": 220,
    "start_time": "2023-09-12T13:46:15.419Z"
   },
   {
    "duration": 160,
    "start_time": "2023-09-12T13:46:15.643Z"
   },
   {
    "duration": 164,
    "start_time": "2023-09-12T13:46:15.805Z"
   },
   {
    "duration": 14,
    "start_time": "2023-09-12T13:46:15.971Z"
   },
   {
    "duration": 23,
    "start_time": "2023-09-12T13:46:15.986Z"
   },
   {
    "duration": 13,
    "start_time": "2023-09-12T13:46:16.010Z"
   },
   {
    "duration": 18,
    "start_time": "2023-09-12T13:46:26.885Z"
   },
   {
    "duration": 20,
    "start_time": "2023-09-12T13:48:06.457Z"
   },
   {
    "duration": 88,
    "start_time": "2023-09-12T14:09:15.568Z"
   },
   {
    "duration": 182,
    "start_time": "2023-09-12T14:17:23.983Z"
   },
   {
    "duration": 184,
    "start_time": "2023-09-12T14:17:40.168Z"
   },
   {
    "duration": 453,
    "start_time": "2023-09-12T14:18:36.065Z"
   },
   {
    "duration": 357,
    "start_time": "2023-09-12T14:19:46.835Z"
   },
   {
    "duration": 134,
    "start_time": "2023-09-12T14:20:04.609Z"
   },
   {
    "duration": 401,
    "start_time": "2023-09-12T14:20:09.187Z"
   },
   {
    "duration": 446,
    "start_time": "2023-09-12T14:20:33.863Z"
   },
   {
    "duration": 521,
    "start_time": "2023-09-12T14:20:53.949Z"
   },
   {
    "duration": 424,
    "start_time": "2023-09-12T14:24:41.094Z"
   },
   {
    "duration": 391,
    "start_time": "2023-09-12T14:25:37.966Z"
   },
   {
    "duration": 370,
    "start_time": "2023-09-12T14:26:02.980Z"
   },
   {
    "duration": 389,
    "start_time": "2023-09-12T14:26:13.364Z"
   },
   {
    "duration": 391,
    "start_time": "2023-09-12T14:27:16.193Z"
   },
   {
    "duration": 441,
    "start_time": "2023-09-12T14:27:43.947Z"
   },
   {
    "duration": 411,
    "start_time": "2023-09-12T14:28:18.851Z"
   },
   {
    "duration": 439,
    "start_time": "2023-09-12T14:30:50.845Z"
   },
   {
    "duration": 493,
    "start_time": "2023-09-12T14:31:46.113Z"
   },
   {
    "duration": 440,
    "start_time": "2023-09-12T14:34:10.816Z"
   },
   {
    "duration": 529,
    "start_time": "2023-09-12T14:36:21.473Z"
   },
   {
    "duration": 402,
    "start_time": "2023-09-12T14:37:43.176Z"
   },
   {
    "duration": 456,
    "start_time": "2023-09-12T14:38:02.142Z"
   },
   {
    "duration": 475,
    "start_time": "2023-09-12T14:39:58.639Z"
   },
   {
    "duration": 458,
    "start_time": "2023-09-12T14:42:41.417Z"
   },
   {
    "duration": 14,
    "start_time": "2023-09-12T14:49:04.315Z"
   },
   {
    "duration": 10,
    "start_time": "2023-09-12T14:49:17.500Z"
   },
   {
    "duration": 11,
    "start_time": "2023-09-12T14:49:38.395Z"
   },
   {
    "duration": 9,
    "start_time": "2023-09-12T14:49:51.009Z"
   },
   {
    "duration": 2,
    "start_time": "2023-09-12T14:49:56.585Z"
   },
   {
    "duration": 7,
    "start_time": "2023-09-12T14:50:01.631Z"
   },
   {
    "duration": 7,
    "start_time": "2023-09-12T14:50:11.782Z"
   },
   {
    "duration": 10,
    "start_time": "2023-09-12T14:50:14.949Z"
   },
   {
    "duration": 11,
    "start_time": "2023-09-12T14:50:26.238Z"
   },
   {
    "duration": 8,
    "start_time": "2023-09-12T14:57:47.338Z"
   },
   {
    "duration": 7,
    "start_time": "2023-09-12T14:58:06.746Z"
   },
   {
    "duration": 9,
    "start_time": "2023-09-12T15:03:34.736Z"
   },
   {
    "duration": 8,
    "start_time": "2023-09-12T15:03:53.410Z"
   },
   {
    "duration": 17,
    "start_time": "2023-09-12T16:38:58.921Z"
   },
   {
    "duration": 27,
    "start_time": "2023-09-12T16:46:14.501Z"
   },
   {
    "duration": 13,
    "start_time": "2023-09-12T16:50:01.189Z"
   },
   {
    "duration": 1157,
    "start_time": "2023-09-12T17:00:32.758Z"
   },
   {
    "duration": 27,
    "start_time": "2023-09-12T17:06:27.390Z"
   },
   {
    "duration": 28,
    "start_time": "2023-09-12T17:08:35.792Z"
   },
   {
    "duration": 28,
    "start_time": "2023-09-12T17:09:05.210Z"
   },
   {
    "duration": 30,
    "start_time": "2023-09-12T17:09:56.340Z"
   },
   {
    "duration": 27,
    "start_time": "2023-09-12T17:12:58.457Z"
   },
   {
    "duration": 30,
    "start_time": "2023-09-12T17:13:11.332Z"
   },
   {
    "duration": 32,
    "start_time": "2023-09-12T17:15:12.399Z"
   },
   {
    "duration": 31,
    "start_time": "2023-09-12T17:16:50.824Z"
   },
   {
    "duration": 33,
    "start_time": "2023-09-12T17:17:22.448Z"
   },
   {
    "duration": 43,
    "start_time": "2023-09-12T17:19:14.011Z"
   },
   {
    "duration": 1174,
    "start_time": "2023-09-12T17:23:33.576Z"
   },
   {
    "duration": 35,
    "start_time": "2023-09-12T17:24:29.001Z"
   },
   {
    "duration": 31,
    "start_time": "2023-09-12T17:26:03.268Z"
   },
   {
    "duration": 32,
    "start_time": "2023-09-12T17:26:17.754Z"
   },
   {
    "duration": 28,
    "start_time": "2023-09-12T17:33:37.705Z"
   },
   {
    "duration": 33,
    "start_time": "2023-09-12T17:34:50.797Z"
   },
   {
    "duration": 1072,
    "start_time": "2023-09-12T17:37:08.344Z"
   },
   {
    "duration": 1059,
    "start_time": "2023-09-12T17:40:16.108Z"
   },
   {
    "duration": 28,
    "start_time": "2023-09-12T17:40:50.845Z"
   },
   {
    "duration": 27,
    "start_time": "2023-09-12T17:41:34.761Z"
   },
   {
    "duration": 30,
    "start_time": "2023-09-12T17:41:58.887Z"
   },
   {
    "duration": 41,
    "start_time": "2023-09-12T17:42:56.908Z"
   },
   {
    "duration": 27,
    "start_time": "2023-09-12T17:43:05.067Z"
   },
   {
    "duration": 32,
    "start_time": "2023-09-12T17:43:33.541Z"
   },
   {
    "duration": 32,
    "start_time": "2023-09-12T17:43:58.610Z"
   },
   {
    "duration": 28,
    "start_time": "2023-09-12T17:45:28.048Z"
   },
   {
    "duration": 32,
    "start_time": "2023-09-12T17:45:46.876Z"
   },
   {
    "duration": 41,
    "start_time": "2023-09-12T17:47:24.279Z"
   },
   {
    "duration": 9,
    "start_time": "2023-09-12T17:47:43.991Z"
   },
   {
    "duration": 29,
    "start_time": "2023-09-12T17:48:00.003Z"
   },
   {
    "duration": 32,
    "start_time": "2023-09-12T17:48:11.997Z"
   },
   {
    "duration": 157,
    "start_time": "2023-09-12T17:50:54.200Z"
   },
   {
    "duration": 31,
    "start_time": "2023-09-12T17:51:31.088Z"
   },
   {
    "duration": 28,
    "start_time": "2023-09-12T17:51:54.093Z"
   },
   {
    "duration": 10,
    "start_time": "2023-09-12T17:52:54.542Z"
   },
   {
    "duration": 21,
    "start_time": "2023-09-12T17:53:25.845Z"
   },
   {
    "duration": 23,
    "start_time": "2023-09-12T17:53:54.811Z"
   },
   {
    "duration": 10,
    "start_time": "2023-09-12T17:54:10.474Z"
   },
   {
    "duration": 23,
    "start_time": "2023-09-12T17:54:30.450Z"
   },
   {
    "duration": 29,
    "start_time": "2023-09-12T17:55:34.019Z"
   },
   {
    "duration": 129,
    "start_time": "2023-09-12T17:57:25.401Z"
   },
   {
    "duration": 23,
    "start_time": "2023-09-12T17:57:45.396Z"
   },
   {
    "duration": 29,
    "start_time": "2023-09-12T17:59:39.547Z"
   },
   {
    "duration": 74,
    "start_time": "2023-09-12T18:02:12.950Z"
   },
   {
    "duration": 80,
    "start_time": "2023-09-12T18:02:46.828Z"
   },
   {
    "duration": 124,
    "start_time": "2023-09-12T18:03:06.046Z"
   },
   {
    "duration": 9,
    "start_time": "2023-09-12T18:04:53.978Z"
   },
   {
    "duration": 96,
    "start_time": "2023-09-12T18:05:07.986Z"
   },
   {
    "duration": 98,
    "start_time": "2023-09-12T18:05:29.985Z"
   },
   {
    "duration": 93,
    "start_time": "2023-09-12T18:05:47.277Z"
   },
   {
    "duration": 95,
    "start_time": "2023-09-12T18:07:39.637Z"
   },
   {
    "duration": 94,
    "start_time": "2023-09-12T18:08:49.628Z"
   },
   {
    "duration": 96,
    "start_time": "2023-09-12T18:09:37.834Z"
   },
   {
    "duration": 95,
    "start_time": "2023-09-12T18:13:46.080Z"
   },
   {
    "duration": 114,
    "start_time": "2023-09-12T18:13:52.540Z"
   },
   {
    "duration": 94,
    "start_time": "2023-09-12T18:14:59.697Z"
   },
   {
    "duration": 18,
    "start_time": "2023-09-12T18:26:05.825Z"
   },
   {
    "duration": 15,
    "start_time": "2023-09-12T18:40:16.206Z"
   },
   {
    "duration": 5,
    "start_time": "2023-09-12T18:42:37.834Z"
   },
   {
    "duration": 1377,
    "start_time": "2023-09-13T05:57:42.273Z"
   },
   {
    "duration": 190,
    "start_time": "2023-09-13T05:57:43.652Z"
   },
   {
    "duration": 4,
    "start_time": "2023-09-13T05:57:43.844Z"
   },
   {
    "duration": 287,
    "start_time": "2023-09-13T05:57:43.851Z"
   },
   {
    "duration": 375,
    "start_time": "2023-09-13T05:57:44.140Z"
   },
   {
    "duration": 353,
    "start_time": "2023-09-13T05:57:44.523Z"
   },
   {
    "duration": 14,
    "start_time": "2023-09-13T05:57:44.878Z"
   },
   {
    "duration": 30,
    "start_time": "2023-09-13T05:57:44.894Z"
   },
   {
    "duration": 5,
    "start_time": "2023-09-13T05:57:44.926Z"
   },
   {
    "duration": 19,
    "start_time": "2023-09-13T05:57:44.935Z"
   },
   {
    "duration": 16,
    "start_time": "2023-09-13T05:57:44.956Z"
   },
   {
    "duration": 7,
    "start_time": "2023-09-13T05:57:44.974Z"
   },
   {
    "duration": 7,
    "start_time": "2023-09-13T05:57:44.982Z"
   },
   {
    "duration": 35,
    "start_time": "2023-09-13T05:57:44.990Z"
   },
   {
    "duration": 57,
    "start_time": "2023-09-13T05:57:45.027Z"
   },
   {
    "duration": 145,
    "start_time": "2023-09-13T05:57:45.085Z"
   },
   {
    "duration": 123,
    "start_time": "2023-09-13T05:57:45.232Z"
   },
   {
    "duration": 243,
    "start_time": "2023-09-13T05:57:45.356Z"
   },
   {
    "duration": 180,
    "start_time": "2023-09-13T05:57:45.601Z"
   },
   {
    "duration": 188,
    "start_time": "2023-09-13T05:57:45.783Z"
   },
   {
    "duration": 16,
    "start_time": "2023-09-13T05:57:45.973Z"
   },
   {
    "duration": 40,
    "start_time": "2023-09-13T05:57:45.991Z"
   },
   {
    "duration": 33,
    "start_time": "2023-09-13T05:57:46.032Z"
   },
   {
    "duration": 565,
    "start_time": "2023-09-13T05:57:46.066Z"
   },
   {
    "duration": 451,
    "start_time": "2023-09-13T05:57:46.633Z"
   },
   {
    "duration": 107,
    "start_time": "2023-09-13T05:57:47.085Z"
   },
   {
    "duration": 18,
    "start_time": "2023-09-13T05:57:47.193Z"
   },
   {
    "duration": 136,
    "start_time": "2023-09-13T05:57:47.223Z"
   },
   {
    "duration": 97,
    "start_time": "2023-09-13T06:50:55.554Z"
   },
   {
    "duration": 10,
    "start_time": "2023-09-13T06:51:47.384Z"
   },
   {
    "duration": 8,
    "start_time": "2023-09-13T06:53:34.657Z"
   },
   {
    "duration": 8,
    "start_time": "2023-09-13T06:54:05.278Z"
   },
   {
    "duration": 6,
    "start_time": "2023-09-13T06:54:19.007Z"
   },
   {
    "duration": 9,
    "start_time": "2023-09-13T06:55:04.374Z"
   },
   {
    "duration": 1035,
    "start_time": "2023-09-13T06:56:47.495Z"
   },
   {
    "duration": 1034,
    "start_time": "2023-09-13T06:56:55.815Z"
   },
   {
    "duration": 9,
    "start_time": "2023-09-13T07:01:01.493Z"
   },
   {
    "duration": 5,
    "start_time": "2023-09-13T07:01:47.180Z"
   },
   {
    "duration": 8,
    "start_time": "2023-09-13T07:02:03.007Z"
   },
   {
    "duration": 11,
    "start_time": "2023-09-13T07:02:18.824Z"
   },
   {
    "duration": 5,
    "start_time": "2023-09-13T07:02:29.708Z"
   },
   {
    "duration": 5,
    "start_time": "2023-09-13T07:02:45.409Z"
   },
   {
    "duration": 11,
    "start_time": "2023-09-13T07:08:08.773Z"
   },
   {
    "duration": 9,
    "start_time": "2023-09-13T07:08:47.621Z"
   },
   {
    "duration": 1160,
    "start_time": "2023-09-13T07:09:25.787Z"
   },
   {
    "duration": 68,
    "start_time": "2023-09-13T07:09:26.949Z"
   },
   {
    "duration": 5,
    "start_time": "2023-09-13T07:09:27.018Z"
   },
   {
    "duration": 287,
    "start_time": "2023-09-13T07:09:27.025Z"
   },
   {
    "duration": 359,
    "start_time": "2023-09-13T07:09:27.314Z"
   },
   {
    "duration": 395,
    "start_time": "2023-09-13T07:09:27.674Z"
   },
   {
    "duration": 14,
    "start_time": "2023-09-13T07:09:28.071Z"
   },
   {
    "duration": 29,
    "start_time": "2023-09-13T07:09:28.087Z"
   },
   {
    "duration": 15,
    "start_time": "2023-09-13T07:09:28.117Z"
   },
   {
    "duration": 51,
    "start_time": "2023-09-13T07:09:28.136Z"
   },
   {
    "duration": 19,
    "start_time": "2023-09-13T07:09:28.189Z"
   },
   {
    "duration": 24,
    "start_time": "2023-09-13T07:09:28.210Z"
   },
   {
    "duration": 19,
    "start_time": "2023-09-13T07:09:28.236Z"
   },
   {
    "duration": 36,
    "start_time": "2023-09-13T07:09:28.257Z"
   },
   {
    "duration": 116,
    "start_time": "2023-09-13T07:09:28.295Z"
   },
   {
    "duration": 229,
    "start_time": "2023-09-13T07:09:28.413Z"
   },
   {
    "duration": 121,
    "start_time": "2023-09-13T07:09:28.643Z"
   },
   {
    "duration": 260,
    "start_time": "2023-09-13T07:09:28.766Z"
   },
   {
    "duration": 186,
    "start_time": "2023-09-13T07:09:29.028Z"
   },
   {
    "duration": 199,
    "start_time": "2023-09-13T07:09:29.215Z"
   },
   {
    "duration": 20,
    "start_time": "2023-09-13T07:09:29.415Z"
   },
   {
    "duration": 42,
    "start_time": "2023-09-13T07:09:29.437Z"
   },
   {
    "duration": 24,
    "start_time": "2023-09-13T07:09:29.481Z"
   },
   {
    "duration": 604,
    "start_time": "2023-09-13T07:09:29.507Z"
   },
   {
    "duration": 631,
    "start_time": "2023-09-13T07:09:30.113Z"
   },
   {
    "duration": 141,
    "start_time": "2023-09-13T07:09:30.746Z"
   },
   {
    "duration": 20,
    "start_time": "2023-09-13T07:09:30.889Z"
   },
   {
    "duration": 31,
    "start_time": "2023-09-13T07:09:30.912Z"
   },
   {
    "duration": 71,
    "start_time": "2023-09-13T07:09:30.945Z"
   },
   {
    "duration": 6,
    "start_time": "2023-09-13T07:11:10.741Z"
   },
   {
    "duration": 6,
    "start_time": "2023-09-13T07:11:52.172Z"
   },
   {
    "duration": 6,
    "start_time": "2023-09-13T07:13:01.598Z"
   },
   {
    "duration": 13,
    "start_time": "2023-09-13T07:15:58.321Z"
   },
   {
    "duration": 5,
    "start_time": "2023-09-13T07:16:06.301Z"
   },
   {
    "duration": 7,
    "start_time": "2023-09-13T07:16:52.511Z"
   },
   {
    "duration": 6,
    "start_time": "2023-09-13T07:17:15.246Z"
   },
   {
    "duration": 6,
    "start_time": "2023-09-13T07:17:43.191Z"
   },
   {
    "duration": 7,
    "start_time": "2023-09-13T07:18:16.888Z"
   },
   {
    "duration": 6,
    "start_time": "2023-09-13T07:18:20.165Z"
   },
   {
    "duration": 7,
    "start_time": "2023-09-13T07:18:51.454Z"
   },
   {
    "duration": 7,
    "start_time": "2023-09-13T07:19:04.872Z"
   },
   {
    "duration": 5,
    "start_time": "2023-09-13T07:19:07.199Z"
   },
   {
    "duration": 6,
    "start_time": "2023-09-13T07:19:15.291Z"
   },
   {
    "duration": 6,
    "start_time": "2023-09-13T07:19:51.840Z"
   },
   {
    "duration": 6,
    "start_time": "2023-09-13T07:20:14.337Z"
   },
   {
    "duration": 6,
    "start_time": "2023-09-13T07:20:33.430Z"
   },
   {
    "duration": 6,
    "start_time": "2023-09-13T07:20:47.838Z"
   },
   {
    "duration": 7,
    "start_time": "2023-09-13T07:21:01.461Z"
   },
   {
    "duration": 10,
    "start_time": "2023-09-13T07:21:12.264Z"
   },
   {
    "duration": 6,
    "start_time": "2023-09-13T07:22:39.582Z"
   },
   {
    "duration": 7,
    "start_time": "2023-09-13T07:22:42.361Z"
   },
   {
    "duration": 7,
    "start_time": "2023-09-13T07:22:47.691Z"
   },
   {
    "duration": 7,
    "start_time": "2023-09-13T07:23:21.713Z"
   },
   {
    "duration": 8,
    "start_time": "2023-09-13T07:23:32.270Z"
   },
   {
    "duration": 6,
    "start_time": "2023-09-13T07:25:51.948Z"
   },
   {
    "duration": 7,
    "start_time": "2023-09-13T07:27:08.139Z"
   },
   {
    "duration": 5,
    "start_time": "2023-09-13T07:27:16.729Z"
   },
   {
    "duration": 6,
    "start_time": "2023-09-13T07:27:28.571Z"
   },
   {
    "duration": 6,
    "start_time": "2023-09-13T07:27:35.687Z"
   },
   {
    "duration": 7,
    "start_time": "2023-09-13T07:27:46.305Z"
   },
   {
    "duration": 6,
    "start_time": "2023-09-13T07:28:38.946Z"
   },
   {
    "duration": 6,
    "start_time": "2023-09-13T07:28:48.049Z"
   },
   {
    "duration": 6,
    "start_time": "2023-09-13T07:28:57.910Z"
   },
   {
    "duration": 6,
    "start_time": "2023-09-13T07:29:02.666Z"
   },
   {
    "duration": 7,
    "start_time": "2023-09-13T07:29:09.605Z"
   },
   {
    "duration": 6,
    "start_time": "2023-09-13T07:29:27.937Z"
   },
   {
    "duration": 5,
    "start_time": "2023-09-13T07:29:32.998Z"
   },
   {
    "duration": 8,
    "start_time": "2023-09-13T07:29:40.997Z"
   },
   {
    "duration": 6,
    "start_time": "2023-09-13T07:29:52.617Z"
   },
   {
    "duration": 6,
    "start_time": "2023-09-13T07:30:27.353Z"
   },
   {
    "duration": 6,
    "start_time": "2023-09-13T07:31:04.674Z"
   },
   {
    "duration": 5,
    "start_time": "2023-09-13T07:31:23.260Z"
   },
   {
    "duration": 7,
    "start_time": "2023-09-13T07:31:40.317Z"
   },
   {
    "duration": 7,
    "start_time": "2023-09-13T07:34:17.700Z"
   },
   {
    "duration": 7,
    "start_time": "2023-09-13T07:34:32.902Z"
   },
   {
    "duration": 6,
    "start_time": "2023-09-13T07:38:30.103Z"
   },
   {
    "duration": 5,
    "start_time": "2023-09-13T07:40:43.238Z"
   },
   {
    "duration": 5,
    "start_time": "2023-09-13T07:40:53.512Z"
   },
   {
    "duration": 6,
    "start_time": "2023-09-13T07:41:18.336Z"
   },
   {
    "duration": 5,
    "start_time": "2023-09-13T07:42:15.266Z"
   },
   {
    "duration": 6,
    "start_time": "2023-09-13T07:58:13.239Z"
   },
   {
    "duration": 4,
    "start_time": "2023-09-13T08:01:24.698Z"
   },
   {
    "duration": 4,
    "start_time": "2023-09-13T08:19:03.522Z"
   },
   {
    "duration": 7,
    "start_time": "2023-09-13T08:20:26.477Z"
   },
   {
    "duration": 13,
    "start_time": "2023-09-13T08:20:43.319Z"
   },
   {
    "duration": 6,
    "start_time": "2023-09-13T08:22:47.980Z"
   },
   {
    "duration": 6,
    "start_time": "2023-09-13T08:23:13.190Z"
   },
   {
    "duration": 6,
    "start_time": "2023-09-13T08:23:34.251Z"
   },
   {
    "duration": 6,
    "start_time": "2023-09-13T08:25:14.172Z"
   },
   {
    "duration": 6,
    "start_time": "2023-09-13T08:26:01.178Z"
   },
   {
    "duration": 7,
    "start_time": "2023-09-13T08:26:04.644Z"
   },
   {
    "duration": 1240,
    "start_time": "2023-09-13T08:26:12.918Z"
   },
   {
    "duration": 67,
    "start_time": "2023-09-13T08:26:14.160Z"
   },
   {
    "duration": 4,
    "start_time": "2023-09-13T08:26:14.232Z"
   },
   {
    "duration": 344,
    "start_time": "2023-09-13T08:26:14.237Z"
   },
   {
    "duration": 374,
    "start_time": "2023-09-13T08:26:14.583Z"
   },
   {
    "duration": 395,
    "start_time": "2023-09-13T08:26:14.959Z"
   },
   {
    "duration": 15,
    "start_time": "2023-09-13T08:26:15.355Z"
   },
   {
    "duration": 18,
    "start_time": "2023-09-13T08:26:15.371Z"
   },
   {
    "duration": 4,
    "start_time": "2023-09-13T08:26:15.392Z"
   },
   {
    "duration": 28,
    "start_time": "2023-09-13T08:26:15.398Z"
   },
   {
    "duration": 11,
    "start_time": "2023-09-13T08:26:15.428Z"
   },
   {
    "duration": 6,
    "start_time": "2023-09-13T08:26:15.441Z"
   },
   {
    "duration": 15,
    "start_time": "2023-09-13T08:26:15.448Z"
   },
   {
    "duration": 16,
    "start_time": "2023-09-13T08:26:15.465Z"
   },
   {
    "duration": 13,
    "start_time": "2023-09-13T08:26:15.483Z"
   },
   {
    "duration": 146,
    "start_time": "2023-09-13T08:26:15.498Z"
   },
   {
    "duration": 122,
    "start_time": "2023-09-13T08:26:15.646Z"
   },
   {
    "duration": 272,
    "start_time": "2023-09-13T08:26:15.770Z"
   },
   {
    "duration": 224,
    "start_time": "2023-09-13T08:26:16.044Z"
   },
   {
    "duration": 217,
    "start_time": "2023-09-13T08:26:16.271Z"
   },
   {
    "duration": 16,
    "start_time": "2023-09-13T08:26:16.490Z"
   },
   {
    "duration": 38,
    "start_time": "2023-09-13T08:26:16.507Z"
   },
   {
    "duration": 35,
    "start_time": "2023-09-13T08:26:16.547Z"
   },
   {
    "duration": 523,
    "start_time": "2023-09-13T08:26:16.584Z"
   },
   {
    "duration": 484,
    "start_time": "2023-09-13T08:26:17.109Z"
   },
   {
    "duration": 113,
    "start_time": "2023-09-13T08:26:17.595Z"
   },
   {
    "duration": 26,
    "start_time": "2023-09-13T08:26:17.711Z"
   },
   {
    "duration": 7,
    "start_time": "2023-09-13T08:26:17.738Z"
   },
   {
    "duration": 7,
    "start_time": "2023-09-13T08:26:17.746Z"
   },
   {
    "duration": 8,
    "start_time": "2023-09-13T08:26:17.754Z"
   },
   {
    "duration": 16,
    "start_time": "2023-09-13T08:26:17.763Z"
   },
   {
    "duration": 6,
    "start_time": "2023-09-13T08:27:09.561Z"
   },
   {
    "duration": 6,
    "start_time": "2023-09-13T08:27:17.736Z"
   },
   {
    "duration": 1195,
    "start_time": "2023-09-13T08:27:29.655Z"
   },
   {
    "duration": 76,
    "start_time": "2023-09-13T08:27:30.853Z"
   },
   {
    "duration": 20,
    "start_time": "2023-09-13T08:27:30.932Z"
   },
   {
    "duration": 674,
    "start_time": "2023-09-13T08:27:30.955Z"
   },
   {
    "duration": 383,
    "start_time": "2023-09-13T08:27:31.631Z"
   },
   {
    "duration": 427,
    "start_time": "2023-09-13T08:27:32.023Z"
   },
   {
    "duration": 14,
    "start_time": "2023-09-13T08:27:32.451Z"
   },
   {
    "duration": 181,
    "start_time": "2023-09-13T08:27:32.467Z"
   },
   {
    "duration": 212,
    "start_time": "2023-09-13T08:27:32.650Z"
   },
   {
    "duration": 121,
    "start_time": "2023-09-13T08:27:32.866Z"
   },
   {
    "duration": 83,
    "start_time": "2023-09-13T08:27:32.988Z"
   },
   {
    "duration": 361,
    "start_time": "2023-09-13T08:27:33.073Z"
   },
   {
    "duration": 175,
    "start_time": "2023-09-13T08:27:33.436Z"
   },
   {
    "duration": 137,
    "start_time": "2023-09-13T08:27:33.613Z"
   },
   {
    "duration": 60,
    "start_time": "2023-09-13T08:27:33.752Z"
   },
   {
    "duration": 173,
    "start_time": "2023-09-13T08:27:33.814Z"
   },
   {
    "duration": 127,
    "start_time": "2023-09-13T08:27:33.989Z"
   },
   {
    "duration": 258,
    "start_time": "2023-09-13T08:27:34.118Z"
   },
   {
    "duration": 205,
    "start_time": "2023-09-13T08:27:34.378Z"
   },
   {
    "duration": 213,
    "start_time": "2023-09-13T08:27:34.585Z"
   },
   {
    "duration": 24,
    "start_time": "2023-09-13T08:27:34.800Z"
   },
   {
    "duration": 61,
    "start_time": "2023-09-13T08:27:34.825Z"
   },
   {
    "duration": 24,
    "start_time": "2023-09-13T08:27:34.888Z"
   },
   {
    "duration": 577,
    "start_time": "2023-09-13T08:27:34.914Z"
   },
   {
    "duration": 567,
    "start_time": "2023-09-13T08:27:35.493Z"
   },
   {
    "duration": 124,
    "start_time": "2023-09-13T08:27:36.062Z"
   },
   {
    "duration": 18,
    "start_time": "2023-09-13T08:27:36.187Z"
   },
   {
    "duration": 27,
    "start_time": "2023-09-13T08:27:36.208Z"
   },
   {
    "duration": 104,
    "start_time": "2023-09-13T08:27:36.237Z"
   },
   {
    "duration": 50,
    "start_time": "2023-09-13T08:27:36.343Z"
   },
   {
    "duration": 29,
    "start_time": "2023-09-13T08:27:36.394Z"
   },
   {
    "duration": 4,
    "start_time": "2023-09-13T08:40:52.975Z"
   },
   {
    "duration": 5,
    "start_time": "2023-09-13T08:41:41.911Z"
   },
   {
    "duration": 35,
    "start_time": "2023-09-13T08:45:31.808Z"
   },
   {
    "duration": 6,
    "start_time": "2023-09-13T08:46:11.609Z"
   },
   {
    "duration": 9,
    "start_time": "2023-09-13T08:46:23.251Z"
   },
   {
    "duration": 29,
    "start_time": "2023-09-13T08:46:40.869Z"
   },
   {
    "duration": 21,
    "start_time": "2023-09-13T08:47:21.484Z"
   },
   {
    "duration": 14,
    "start_time": "2023-09-13T08:47:32.270Z"
   },
   {
    "duration": 27,
    "start_time": "2023-09-13T08:47:39.321Z"
   },
   {
    "duration": 7,
    "start_time": "2023-09-13T08:55:03.377Z"
   },
   {
    "duration": 22,
    "start_time": "2023-09-13T09:00:32.953Z"
   },
   {
    "duration": 19,
    "start_time": "2023-09-13T09:01:03.485Z"
   },
   {
    "duration": 21,
    "start_time": "2023-09-13T09:02:05.422Z"
   },
   {
    "duration": 20,
    "start_time": "2023-09-13T09:02:11.671Z"
   },
   {
    "duration": 22,
    "start_time": "2023-09-13T09:02:24.891Z"
   },
   {
    "duration": 14,
    "start_time": "2023-09-13T09:04:12.819Z"
   },
   {
    "duration": 108,
    "start_time": "2023-09-13T09:05:04.116Z"
   },
   {
    "duration": 3,
    "start_time": "2023-09-13T09:05:18.592Z"
   },
   {
    "duration": 19,
    "start_time": "2023-09-13T09:05:24.968Z"
   },
   {
    "duration": 11,
    "start_time": "2023-09-13T09:05:48.846Z"
   },
   {
    "duration": 6,
    "start_time": "2023-09-13T09:17:38.668Z"
   },
   {
    "duration": 1305,
    "start_time": "2023-09-13T09:17:44.563Z"
   },
   {
    "duration": 67,
    "start_time": "2023-09-13T09:17:45.871Z"
   },
   {
    "duration": 215,
    "start_time": "2023-09-13T09:17:45.941Z"
   },
   {
    "duration": 370,
    "start_time": "2023-09-13T09:17:46.159Z"
   },
   {
    "duration": 404,
    "start_time": "2023-09-13T09:17:46.531Z"
   },
   {
    "duration": 407,
    "start_time": "2023-09-13T09:17:46.937Z"
   },
   {
    "duration": 16,
    "start_time": "2023-09-13T09:17:47.346Z"
   },
   {
    "duration": 216,
    "start_time": "2023-09-13T09:17:47.363Z"
   },
   {
    "duration": 150,
    "start_time": "2023-09-13T09:17:47.581Z"
   },
   {
    "duration": 268,
    "start_time": "2023-09-13T09:17:47.735Z"
   },
   {
    "duration": 12,
    "start_time": "2023-09-13T09:17:48.004Z"
   },
   {
    "duration": 6,
    "start_time": "2023-09-13T09:17:48.017Z"
   },
   {
    "duration": 18,
    "start_time": "2023-09-13T09:17:48.025Z"
   },
   {
    "duration": 24,
    "start_time": "2023-09-13T09:17:48.045Z"
   },
   {
    "duration": 29,
    "start_time": "2023-09-13T09:17:48.071Z"
   },
   {
    "duration": 184,
    "start_time": "2023-09-13T09:17:48.102Z"
   },
   {
    "duration": 117,
    "start_time": "2023-09-13T09:17:48.287Z"
   },
   {
    "duration": 289,
    "start_time": "2023-09-13T09:17:48.406Z"
   },
   {
    "duration": 181,
    "start_time": "2023-09-13T09:17:48.697Z"
   },
   {
    "duration": 194,
    "start_time": "2023-09-13T09:17:48.880Z"
   },
   {
    "duration": 16,
    "start_time": "2023-09-13T09:17:49.076Z"
   },
   {
    "duration": 71,
    "start_time": "2023-09-13T09:17:49.094Z"
   },
   {
    "duration": 58,
    "start_time": "2023-09-13T09:17:49.166Z"
   },
   {
    "duration": 88,
    "start_time": "2023-09-13T09:17:49.226Z"
   },
   {
    "duration": 570,
    "start_time": "2023-09-13T09:17:49.316Z"
   },
   {
    "duration": 539,
    "start_time": "2023-09-13T09:17:49.888Z"
   },
   {
    "duration": 119,
    "start_time": "2023-09-13T09:17:50.429Z"
   },
   {
    "duration": 45,
    "start_time": "2023-09-13T09:17:50.551Z"
   },
   {
    "duration": 63,
    "start_time": "2023-09-13T09:17:50.598Z"
   },
   {
    "duration": 40,
    "start_time": "2023-09-13T09:17:50.663Z"
   },
   {
    "duration": 75,
    "start_time": "2023-09-13T09:17:50.705Z"
   },
   {
    "duration": 66,
    "start_time": "2023-09-13T09:17:50.782Z"
   },
   {
    "duration": 101,
    "start_time": "2023-09-13T09:19:16.546Z"
   },
   {
    "duration": 6,
    "start_time": "2023-09-13T09:19:23.847Z"
   },
   {
    "duration": 13,
    "start_time": "2023-09-13T09:19:46.963Z"
   },
   {
    "duration": 6,
    "start_time": "2023-09-13T09:19:52.872Z"
   },
   {
    "duration": 5,
    "start_time": "2023-09-13T09:21:14.249Z"
   },
   {
    "duration": 5,
    "start_time": "2023-09-13T09:21:53.575Z"
   },
   {
    "duration": 4,
    "start_time": "2023-09-13T09:24:57.719Z"
   },
   {
    "duration": 5,
    "start_time": "2023-09-13T09:25:21.601Z"
   },
   {
    "duration": 5,
    "start_time": "2023-09-13T09:25:30.939Z"
   },
   {
    "duration": 7,
    "start_time": "2023-09-13T09:27:05.841Z"
   },
   {
    "duration": 10,
    "start_time": "2023-09-13T09:37:54.985Z"
   },
   {
    "duration": 4,
    "start_time": "2023-09-13T09:38:02.419Z"
   },
   {
    "duration": 5,
    "start_time": "2023-09-13T09:38:14.841Z"
   },
   {
    "duration": 6,
    "start_time": "2023-09-13T09:43:04.698Z"
   },
   {
    "duration": 8,
    "start_time": "2023-09-13T09:44:05.323Z"
   },
   {
    "duration": 9,
    "start_time": "2023-09-13T09:44:21.124Z"
   },
   {
    "duration": 11,
    "start_time": "2023-09-13T09:44:33.114Z"
   },
   {
    "duration": 11,
    "start_time": "2023-09-13T09:44:39.960Z"
   },
   {
    "duration": 8,
    "start_time": "2023-09-13T09:46:18.370Z"
   },
   {
    "duration": 20,
    "start_time": "2023-09-13T09:46:29.438Z"
   },
   {
    "duration": 9,
    "start_time": "2023-09-13T09:46:48.715Z"
   },
   {
    "duration": 12,
    "start_time": "2023-09-13T09:48:12.608Z"
   },
   {
    "duration": 11,
    "start_time": "2023-09-13T09:48:26.627Z"
   },
   {
    "duration": 11,
    "start_time": "2023-09-13T09:48:32.507Z"
   },
   {
    "duration": 9,
    "start_time": "2023-09-13T09:50:22.969Z"
   },
   {
    "duration": 5,
    "start_time": "2023-09-13T09:51:29.973Z"
   },
   {
    "duration": 10,
    "start_time": "2023-09-13T11:06:00.790Z"
   },
   {
    "duration": 5,
    "start_time": "2023-09-13T11:06:24.582Z"
   },
   {
    "duration": 321,
    "start_time": "2023-09-13T11:08:46.667Z"
   },
   {
    "duration": 309,
    "start_time": "2023-09-13T11:40:09.845Z"
   },
   {
    "duration": 1077,
    "start_time": "2023-09-13T14:27:51.148Z"
   },
   {
    "duration": 69,
    "start_time": "2023-09-13T14:27:52.227Z"
   },
   {
    "duration": 4,
    "start_time": "2023-09-13T14:27:52.298Z"
   },
   {
    "duration": 285,
    "start_time": "2023-09-13T14:27:52.305Z"
   },
   {
    "duration": 366,
    "start_time": "2023-09-13T14:27:52.592Z"
   },
   {
    "duration": 353,
    "start_time": "2023-09-13T14:27:52.960Z"
   },
   {
    "duration": 22,
    "start_time": "2023-09-13T14:27:53.314Z"
   },
   {
    "duration": 11,
    "start_time": "2023-09-13T14:27:53.337Z"
   },
   {
    "duration": 5,
    "start_time": "2023-09-13T14:27:53.349Z"
   },
   {
    "duration": 14,
    "start_time": "2023-09-13T14:27:53.357Z"
   },
   {
    "duration": 10,
    "start_time": "2023-09-13T14:27:53.373Z"
   },
   {
    "duration": 5,
    "start_time": "2023-09-13T14:27:53.385Z"
   },
   {
    "duration": 40,
    "start_time": "2023-09-13T14:27:53.391Z"
   },
   {
    "duration": 13,
    "start_time": "2023-09-13T14:27:53.432Z"
   },
   {
    "duration": 15,
    "start_time": "2023-09-13T14:27:53.446Z"
   },
   {
    "duration": 147,
    "start_time": "2023-09-13T14:27:53.463Z"
   },
   {
    "duration": 126,
    "start_time": "2023-09-13T14:27:53.612Z"
   },
   {
    "duration": 223,
    "start_time": "2023-09-13T14:27:53.740Z"
   },
   {
    "duration": 171,
    "start_time": "2023-09-13T14:27:53.965Z"
   },
   {
    "duration": 173,
    "start_time": "2023-09-13T14:27:54.137Z"
   },
   {
    "duration": 21,
    "start_time": "2023-09-13T14:27:54.312Z"
   },
   {
    "duration": 34,
    "start_time": "2023-09-13T14:27:54.334Z"
   },
   {
    "duration": 32,
    "start_time": "2023-09-13T14:27:54.369Z"
   },
   {
    "duration": 20,
    "start_time": "2023-09-13T14:27:54.403Z"
   },
   {
    "duration": 445,
    "start_time": "2023-09-13T14:27:54.424Z"
   },
   {
    "duration": 493,
    "start_time": "2023-09-13T14:27:54.871Z"
   },
   {
    "duration": 106,
    "start_time": "2023-09-13T14:27:55.366Z"
   },
   {
    "duration": 17,
    "start_time": "2023-09-13T14:27:55.475Z"
   },
   {
    "duration": 10,
    "start_time": "2023-09-13T14:27:55.494Z"
   },
   {
    "duration": 19,
    "start_time": "2023-09-13T14:27:55.505Z"
   },
   {
    "duration": 8,
    "start_time": "2023-09-13T14:27:55.525Z"
   },
   {
    "duration": 11,
    "start_time": "2023-09-13T14:27:55.535Z"
   },
   {
    "duration": 7,
    "start_time": "2023-09-13T14:27:55.548Z"
   },
   {
    "duration": 19,
    "start_time": "2023-09-13T14:27:55.557Z"
   },
   {
    "duration": 6,
    "start_time": "2023-09-13T14:27:55.577Z"
   },
   {
    "duration": 12,
    "start_time": "2023-09-13T14:27:55.584Z"
   },
   {
    "duration": 361,
    "start_time": "2023-09-13T14:27:55.597Z"
   },
   {
    "duration": 1317,
    "start_time": "2023-09-13T18:27:22.019Z"
   },
   {
    "duration": 73,
    "start_time": "2023-09-13T18:27:23.338Z"
   },
   {
    "duration": 5,
    "start_time": "2023-09-13T18:27:23.413Z"
   },
   {
    "duration": 327,
    "start_time": "2023-09-13T18:27:23.420Z"
   },
   {
    "duration": 394,
    "start_time": "2023-09-13T18:27:23.750Z"
   },
   {
    "duration": 381,
    "start_time": "2023-09-13T18:27:24.146Z"
   },
   {
    "duration": 17,
    "start_time": "2023-09-13T18:27:24.528Z"
   },
   {
    "duration": 12,
    "start_time": "2023-09-13T18:27:24.547Z"
   },
   {
    "duration": 6,
    "start_time": "2023-09-13T18:27:24.561Z"
   },
   {
    "duration": 44,
    "start_time": "2023-09-13T18:27:24.569Z"
   },
   {
    "duration": 13,
    "start_time": "2023-09-13T18:27:24.615Z"
   },
   {
    "duration": 7,
    "start_time": "2023-09-13T18:27:24.630Z"
   },
   {
    "duration": 5,
    "start_time": "2023-09-13T18:27:24.639Z"
   },
   {
    "duration": 6,
    "start_time": "2023-09-13T18:27:24.648Z"
   },
   {
    "duration": 10,
    "start_time": "2023-09-13T18:27:24.656Z"
   },
   {
    "duration": 178,
    "start_time": "2023-09-13T18:27:24.668Z"
   },
   {
    "duration": 128,
    "start_time": "2023-09-13T18:27:24.847Z"
   },
   {
    "duration": 274,
    "start_time": "2023-09-13T18:27:24.977Z"
   },
   {
    "duration": 209,
    "start_time": "2023-09-13T18:27:25.253Z"
   },
   {
    "duration": 200,
    "start_time": "2023-09-13T18:27:25.464Z"
   },
   {
    "duration": 14,
    "start_time": "2023-09-13T18:27:25.666Z"
   },
   {
    "duration": 34,
    "start_time": "2023-09-13T18:27:25.682Z"
   },
   {
    "duration": 27,
    "start_time": "2023-09-13T18:27:25.718Z"
   },
   {
    "duration": 23,
    "start_time": "2023-09-13T18:27:25.746Z"
   },
   {
    "duration": 516,
    "start_time": "2023-09-13T18:27:25.771Z"
   },
   {
    "duration": 511,
    "start_time": "2023-09-13T18:27:26.289Z"
   },
   {
    "duration": 111,
    "start_time": "2023-09-13T18:27:26.810Z"
   },
   {
    "duration": 21,
    "start_time": "2023-09-13T18:27:26.922Z"
   },
   {
    "duration": 5,
    "start_time": "2023-09-13T18:27:26.944Z"
   },
   {
    "duration": 8,
    "start_time": "2023-09-13T18:27:26.951Z"
   },
   {
    "duration": 9,
    "start_time": "2023-09-13T18:27:26.960Z"
   },
   {
    "duration": 43,
    "start_time": "2023-09-13T18:27:26.971Z"
   },
   {
    "duration": 17,
    "start_time": "2023-09-13T18:27:27.016Z"
   },
   {
    "duration": 23,
    "start_time": "2023-09-13T18:27:27.035Z"
   },
   {
    "duration": 11,
    "start_time": "2023-09-13T18:27:27.060Z"
   },
   {
    "duration": 13,
    "start_time": "2023-09-13T18:27:27.072Z"
   },
   {
    "duration": 365,
    "start_time": "2023-09-13T18:27:27.087Z"
   },
   {
    "duration": 7,
    "start_time": "2023-09-13T20:20:30.401Z"
   },
   {
    "duration": 9,
    "start_time": "2023-09-13T20:20:51.946Z"
   },
   {
    "duration": 5,
    "start_time": "2023-09-13T20:24:35.699Z"
   },
   {
    "duration": 7,
    "start_time": "2023-09-13T20:24:55.115Z"
   },
   {
    "duration": 23,
    "start_time": "2023-09-13T20:25:26.557Z"
   },
   {
    "duration": 1287,
    "start_time": "2023-09-13T20:29:52.375Z"
   },
   {
    "duration": 74,
    "start_time": "2023-09-13T20:29:53.664Z"
   },
   {
    "duration": 4,
    "start_time": "2023-09-13T20:29:53.742Z"
   },
   {
    "duration": 331,
    "start_time": "2023-09-13T20:29:53.749Z"
   },
   {
    "duration": 403,
    "start_time": "2023-09-13T20:29:54.082Z"
   },
   {
    "duration": 413,
    "start_time": "2023-09-13T20:29:54.487Z"
   },
   {
    "duration": 19,
    "start_time": "2023-09-13T20:29:54.902Z"
   },
   {
    "duration": 17,
    "start_time": "2023-09-13T20:29:54.923Z"
   },
   {
    "duration": 6,
    "start_time": "2023-09-13T20:29:54.942Z"
   },
   {
    "duration": 17,
    "start_time": "2023-09-13T20:29:54.949Z"
   },
   {
    "duration": 46,
    "start_time": "2023-09-13T20:29:54.968Z"
   },
   {
    "duration": 5,
    "start_time": "2023-09-13T20:29:55.016Z"
   },
   {
    "duration": 7,
    "start_time": "2023-09-13T20:29:55.024Z"
   },
   {
    "duration": 9,
    "start_time": "2023-09-13T20:29:55.033Z"
   },
   {
    "duration": 13,
    "start_time": "2023-09-13T20:29:55.044Z"
   },
   {
    "duration": 173,
    "start_time": "2023-09-13T20:29:55.059Z"
   },
   {
    "duration": 154,
    "start_time": "2023-09-13T20:29:55.235Z"
   },
   {
    "duration": 265,
    "start_time": "2023-09-13T20:29:55.391Z"
   },
   {
    "duration": 194,
    "start_time": "2023-09-13T20:29:55.658Z"
   },
   {
    "duration": 196,
    "start_time": "2023-09-13T20:29:55.853Z"
   },
   {
    "duration": 17,
    "start_time": "2023-09-13T20:29:56.050Z"
   },
   {
    "duration": 21,
    "start_time": "2023-09-13T20:29:56.068Z"
   },
   {
    "duration": 44,
    "start_time": "2023-09-13T20:29:56.091Z"
   },
   {
    "duration": 23,
    "start_time": "2023-09-13T20:29:56.137Z"
   },
   {
    "duration": 547,
    "start_time": "2023-09-13T20:29:56.162Z"
   },
   {
    "duration": 482,
    "start_time": "2023-09-13T20:29:56.711Z"
   },
   {
    "duration": 122,
    "start_time": "2023-09-13T20:29:57.195Z"
   },
   {
    "duration": 21,
    "start_time": "2023-09-13T20:29:57.319Z"
   },
   {
    "duration": 4,
    "start_time": "2023-09-13T20:29:57.342Z"
   },
   {
    "duration": 8,
    "start_time": "2023-09-13T20:29:57.348Z"
   },
   {
    "duration": 5,
    "start_time": "2023-09-13T20:29:57.357Z"
   },
   {
    "duration": 6,
    "start_time": "2023-09-13T20:29:57.363Z"
   },
   {
    "duration": 39,
    "start_time": "2023-09-13T20:29:57.370Z"
   },
   {
    "duration": 12,
    "start_time": "2023-09-13T20:29:57.412Z"
   },
   {
    "duration": 3,
    "start_time": "2023-09-13T20:29:57.426Z"
   },
   {
    "duration": 6,
    "start_time": "2023-09-13T20:29:57.431Z"
   },
   {
    "duration": 377,
    "start_time": "2023-09-13T20:29:57.439Z"
   },
   {
    "duration": 1592,
    "start_time": "2023-09-14T11:03:51.862Z"
   },
   {
    "duration": 110,
    "start_time": "2023-09-14T11:04:34.028Z"
   },
   {
    "duration": 6,
    "start_time": "2023-09-14T11:12:16.173Z"
   },
   {
    "duration": 1639,
    "start_time": "2023-09-14T11:12:16.182Z"
   },
   {
    "duration": 236,
    "start_time": "2023-09-14T11:12:17.825Z"
   },
   {
    "duration": 5,
    "start_time": "2023-09-14T11:12:18.063Z"
   },
   {
    "duration": 392,
    "start_time": "2023-09-14T11:12:18.070Z"
   },
   {
    "duration": 493,
    "start_time": "2023-09-14T11:12:18.465Z"
   },
   {
    "duration": 478,
    "start_time": "2023-09-14T11:12:18.959Z"
   },
   {
    "duration": 17,
    "start_time": "2023-09-14T11:12:19.439Z"
   },
   {
    "duration": 15,
    "start_time": "2023-09-14T11:12:19.459Z"
   },
   {
    "duration": 9,
    "start_time": "2023-09-14T11:12:19.481Z"
   },
   {
    "duration": 32,
    "start_time": "2023-09-14T11:12:19.491Z"
   },
   {
    "duration": 13,
    "start_time": "2023-09-14T11:12:19.526Z"
   },
   {
    "duration": 12,
    "start_time": "2023-09-14T11:12:19.541Z"
   },
   {
    "duration": 27,
    "start_time": "2023-09-14T11:12:19.556Z"
   },
   {
    "duration": 13,
    "start_time": "2023-09-14T11:12:19.586Z"
   },
   {
    "duration": 7,
    "start_time": "2023-09-14T11:12:19.602Z"
   },
   {
    "duration": 233,
    "start_time": "2023-09-14T11:12:19.611Z"
   },
   {
    "duration": 159,
    "start_time": "2023-09-14T11:12:19.846Z"
   },
   {
    "duration": 335,
    "start_time": "2023-09-14T11:12:20.007Z"
   },
   {
    "duration": 220,
    "start_time": "2023-09-14T11:12:20.344Z"
   },
   {
    "duration": 263,
    "start_time": "2023-09-14T11:12:20.566Z"
   },
   {
    "duration": 21,
    "start_time": "2023-09-14T11:12:20.831Z"
   },
   {
    "duration": 63,
    "start_time": "2023-09-14T11:12:20.854Z"
   },
   {
    "duration": 33,
    "start_time": "2023-09-14T11:12:20.921Z"
   },
   {
    "duration": 30,
    "start_time": "2023-09-14T11:12:20.956Z"
   },
   {
    "duration": 580,
    "start_time": "2023-09-14T11:12:20.989Z"
   },
   {
    "duration": 604,
    "start_time": "2023-09-14T11:12:21.570Z"
   },
   {
    "duration": 149,
    "start_time": "2023-09-14T11:12:22.176Z"
   },
   {
    "duration": 22,
    "start_time": "2023-09-14T11:12:22.326Z"
   },
   {
    "duration": 29,
    "start_time": "2023-09-14T11:12:22.350Z"
   },
   {
    "duration": 26,
    "start_time": "2023-09-14T11:12:22.384Z"
   },
   {
    "duration": 66,
    "start_time": "2023-09-14T11:12:22.412Z"
   },
   {
    "duration": 64,
    "start_time": "2023-09-14T11:12:22.480Z"
   },
   {
    "duration": 34,
    "start_time": "2023-09-14T11:12:22.547Z"
   },
   {
    "duration": 47,
    "start_time": "2023-09-14T11:12:22.583Z"
   },
   {
    "duration": 28,
    "start_time": "2023-09-14T11:12:22.634Z"
   },
   {
    "duration": 34,
    "start_time": "2023-09-14T11:12:22.664Z"
   },
   {
    "duration": 496,
    "start_time": "2023-09-14T11:12:22.701Z"
   },
   {
    "duration": 97,
    "start_time": "2023-09-14T11:15:26.525Z"
   },
   {
    "duration": 330,
    "start_time": "2023-09-14T11:15:31.725Z"
   },
   {
    "duration": 689,
    "start_time": "2023-09-14T11:15:38.251Z"
   },
   {
    "duration": 7,
    "start_time": "2023-09-14T11:16:57.880Z"
   },
   {
    "duration": 1375,
    "start_time": "2023-09-14T11:16:57.908Z"
   },
   {
    "duration": 83,
    "start_time": "2023-09-14T11:16:59.286Z"
   },
   {
    "duration": 4,
    "start_time": "2023-09-14T11:16:59.371Z"
   },
   {
    "duration": 354,
    "start_time": "2023-09-14T11:16:59.376Z"
   },
   {
    "duration": 619,
    "start_time": "2023-09-14T11:16:59.732Z"
   },
   {
    "duration": 415,
    "start_time": "2023-09-14T11:17:00.353Z"
   },
   {
    "duration": 119,
    "start_time": "2023-09-14T11:17:00.770Z"
   },
   {
    "duration": 54,
    "start_time": "2023-09-14T11:17:00.891Z"
   },
   {
    "duration": 22,
    "start_time": "2023-09-14T11:17:00.946Z"
   },
   {
    "duration": 49,
    "start_time": "2023-09-14T11:17:00.971Z"
   },
   {
    "duration": 58,
    "start_time": "2023-09-14T11:17:01.022Z"
   },
   {
    "duration": 61,
    "start_time": "2023-09-14T11:17:01.082Z"
   },
   {
    "duration": 49,
    "start_time": "2023-09-14T11:17:01.144Z"
   },
   {
    "duration": 68,
    "start_time": "2023-09-14T11:17:01.198Z"
   },
   {
    "duration": 73,
    "start_time": "2023-09-14T11:17:01.268Z"
   },
   {
    "duration": 220,
    "start_time": "2023-09-14T11:17:01.342Z"
   },
   {
    "duration": 130,
    "start_time": "2023-09-14T11:17:01.564Z"
   },
   {
    "duration": 189,
    "start_time": "2023-09-14T11:17:01.696Z"
   },
   {
    "duration": 222,
    "start_time": "2023-09-14T11:17:01.887Z"
   },
   {
    "duration": 209,
    "start_time": "2023-09-14T11:17:02.111Z"
   },
   {
    "duration": 17,
    "start_time": "2023-09-14T11:17:02.322Z"
   },
   {
    "duration": 66,
    "start_time": "2023-09-14T11:17:02.341Z"
   },
   {
    "duration": 28,
    "start_time": "2023-09-14T11:17:02.410Z"
   },
   {
    "duration": 45,
    "start_time": "2023-09-14T11:17:02.440Z"
   },
   {
    "duration": 523,
    "start_time": "2023-09-14T11:17:02.487Z"
   },
   {
    "duration": 484,
    "start_time": "2023-09-14T11:17:03.011Z"
   },
   {
    "duration": 143,
    "start_time": "2023-09-14T11:17:03.497Z"
   },
   {
    "duration": 19,
    "start_time": "2023-09-14T11:17:03.642Z"
   },
   {
    "duration": 16,
    "start_time": "2023-09-14T11:17:03.663Z"
   },
   {
    "duration": 29,
    "start_time": "2023-09-14T11:17:03.681Z"
   },
   {
    "duration": 39,
    "start_time": "2023-09-14T11:17:03.712Z"
   },
   {
    "duration": 14,
    "start_time": "2023-09-14T11:17:03.753Z"
   },
   {
    "duration": 21,
    "start_time": "2023-09-14T11:17:03.769Z"
   },
   {
    "duration": 22,
    "start_time": "2023-09-14T11:17:03.792Z"
   },
   {
    "duration": 9,
    "start_time": "2023-09-14T11:17:03.816Z"
   },
   {
    "duration": 11,
    "start_time": "2023-09-14T11:17:03.827Z"
   },
   {
    "duration": 393,
    "start_time": "2023-09-14T11:17:03.839Z"
   },
   {
    "duration": 14,
    "start_time": "2023-09-14T11:19:36.683Z"
   },
   {
    "duration": 4,
    "start_time": "2023-09-14T11:19:57.161Z"
   },
   {
    "duration": 1272,
    "start_time": "2023-09-14T11:19:57.168Z"
   },
   {
    "duration": 79,
    "start_time": "2023-09-14T11:19:58.442Z"
   },
   {
    "duration": 4,
    "start_time": "2023-09-14T11:19:58.523Z"
   },
   {
    "duration": 365,
    "start_time": "2023-09-14T11:19:58.529Z"
   },
   {
    "duration": 995,
    "start_time": "2023-09-14T11:19:58.896Z"
   },
   {
    "duration": 820,
    "start_time": "2023-09-14T11:19:59.897Z"
   },
   {
    "duration": 69,
    "start_time": "2023-09-14T11:20:00.720Z"
   },
   {
    "duration": 48,
    "start_time": "2023-09-14T11:20:00.795Z"
   },
   {
    "duration": 43,
    "start_time": "2023-09-14T11:20:00.846Z"
   },
   {
    "duration": 51,
    "start_time": "2023-09-14T11:20:00.891Z"
   },
   {
    "duration": 56,
    "start_time": "2023-09-14T11:20:00.944Z"
   },
   {
    "duration": 57,
    "start_time": "2023-09-14T11:20:01.002Z"
   },
   {
    "duration": 43,
    "start_time": "2023-09-14T11:20:01.061Z"
   },
   {
    "duration": 31,
    "start_time": "2023-09-14T11:20:01.106Z"
   },
   {
    "duration": 75,
    "start_time": "2023-09-14T11:20:01.139Z"
   },
   {
    "duration": 193,
    "start_time": "2023-09-14T11:20:01.216Z"
   },
   {
    "duration": 209,
    "start_time": "2023-09-14T11:20:01.410Z"
   },
   {
    "duration": 195,
    "start_time": "2023-09-14T11:20:01.621Z"
   },
   {
    "duration": 194,
    "start_time": "2023-09-14T11:20:01.818Z"
   },
   {
    "duration": 202,
    "start_time": "2023-09-14T11:20:02.014Z"
   },
   {
    "duration": 17,
    "start_time": "2023-09-14T11:20:02.218Z"
   },
   {
    "duration": 266,
    "start_time": "2023-09-14T11:20:02.236Z"
   },
   {
    "duration": 62,
    "start_time": "2023-09-14T11:20:02.504Z"
   },
   {
    "duration": 28,
    "start_time": "2023-09-14T11:20:02.567Z"
   },
   {
    "duration": 478,
    "start_time": "2023-09-14T11:20:02.597Z"
   },
   {
    "duration": 540,
    "start_time": "2023-09-14T11:20:03.077Z"
   },
   {
    "duration": 123,
    "start_time": "2023-09-14T11:20:03.621Z"
   },
   {
    "duration": 24,
    "start_time": "2023-09-14T11:20:03.746Z"
   },
   {
    "duration": 15,
    "start_time": "2023-09-14T11:20:03.785Z"
   },
   {
    "duration": 29,
    "start_time": "2023-09-14T11:20:03.801Z"
   },
   {
    "duration": 12,
    "start_time": "2023-09-14T11:20:03.832Z"
   },
   {
    "duration": 18,
    "start_time": "2023-09-14T11:20:03.846Z"
   },
   {
    "duration": 30,
    "start_time": "2023-09-14T11:20:03.866Z"
   },
   {
    "duration": 21,
    "start_time": "2023-09-14T11:20:03.898Z"
   },
   {
    "duration": 4,
    "start_time": "2023-09-14T11:20:03.921Z"
   },
   {
    "duration": 6,
    "start_time": "2023-09-14T11:20:03.927Z"
   },
   {
    "duration": 361,
    "start_time": "2023-09-14T11:20:03.934Z"
   },
   {
    "duration": 8,
    "start_time": "2023-09-14T11:22:46.720Z"
   },
   {
    "duration": 6,
    "start_time": "2023-09-14T11:23:20.203Z"
   },
   {
    "duration": 7,
    "start_time": "2023-09-14T11:23:40.603Z"
   },
   {
    "duration": 9,
    "start_time": "2023-09-14T11:23:57.704Z"
   },
   {
    "duration": 88,
    "start_time": "2023-09-14T11:24:52.294Z"
   },
   {
    "duration": 209,
    "start_time": "2023-09-14T11:30:06.527Z"
   },
   {
    "duration": 148,
    "start_time": "2023-09-14T11:30:57.851Z"
   },
   {
    "duration": 238,
    "start_time": "2023-09-14T11:32:43.994Z"
   },
   {
    "duration": 144,
    "start_time": "2023-09-14T11:33:11.397Z"
   },
   {
    "duration": 96,
    "start_time": "2023-09-14T11:34:09.923Z"
   },
   {
    "duration": 157,
    "start_time": "2023-09-14T11:34:18.074Z"
   },
   {
    "duration": 140,
    "start_time": "2023-09-14T11:34:24.716Z"
   },
   {
    "duration": 183,
    "start_time": "2023-09-14T11:37:05.004Z"
   },
   {
    "duration": 82,
    "start_time": "2023-09-14T11:37:15.782Z"
   },
   {
    "duration": 94,
    "start_time": "2023-09-14T11:38:14.409Z"
   },
   {
    "duration": 121,
    "start_time": "2023-09-14T11:39:05.731Z"
   },
   {
    "duration": 136,
    "start_time": "2023-09-14T11:39:54.179Z"
   },
   {
    "duration": 154,
    "start_time": "2023-09-14T11:40:39.368Z"
   },
   {
    "duration": 127,
    "start_time": "2023-09-14T11:41:27.961Z"
   },
   {
    "duration": 135,
    "start_time": "2023-09-14T11:41:49.083Z"
   },
   {
    "duration": 141,
    "start_time": "2023-09-14T11:42:20.537Z"
   },
   {
    "duration": 119,
    "start_time": "2023-09-14T11:43:20.567Z"
   },
   {
    "duration": 103,
    "start_time": "2023-09-14T11:43:29.409Z"
   },
   {
    "duration": 133,
    "start_time": "2023-09-14T11:43:59.900Z"
   },
   {
    "duration": 245,
    "start_time": "2023-09-14T11:44:05.727Z"
   },
   {
    "duration": 182,
    "start_time": "2023-09-14T11:45:12.757Z"
   },
   {
    "duration": 180,
    "start_time": "2023-09-14T11:45:45.878Z"
   },
   {
    "duration": 256,
    "start_time": "2023-09-14T11:46:13.015Z"
   },
   {
    "duration": 369,
    "start_time": "2023-09-14T11:46:20.716Z"
   },
   {
    "duration": 169,
    "start_time": "2023-09-14T11:46:52.062Z"
   },
   {
    "duration": 337,
    "start_time": "2023-09-14T11:46:58.607Z"
   },
   {
    "duration": 414,
    "start_time": "2023-09-14T11:47:17.311Z"
   },
   {
    "duration": 295,
    "start_time": "2023-09-14T11:47:53.238Z"
   },
   {
    "duration": 7,
    "start_time": "2023-09-14T11:51:36.029Z"
   },
   {
    "duration": 16,
    "start_time": "2023-09-14T11:51:46.551Z"
   },
   {
    "duration": 317,
    "start_time": "2023-09-14T11:57:43.129Z"
   },
   {
    "duration": 257,
    "start_time": "2023-09-14T11:58:44.608Z"
   },
   {
    "duration": 267,
    "start_time": "2023-09-14T11:59:46.176Z"
   },
   {
    "duration": 277,
    "start_time": "2023-09-14T12:00:02.535Z"
   },
   {
    "duration": 327,
    "start_time": "2023-09-14T12:00:08.025Z"
   },
   {
    "duration": 335,
    "start_time": "2023-09-14T12:00:18.058Z"
   },
   {
    "duration": 32,
    "start_time": "2023-09-14T12:02:08.134Z"
   },
   {
    "duration": 200,
    "start_time": "2023-09-14T12:07:44.441Z"
   },
   {
    "duration": 37,
    "start_time": "2023-09-14T12:08:04.295Z"
   },
   {
    "duration": 38,
    "start_time": "2023-09-14T12:08:56.463Z"
   },
   {
    "duration": 14,
    "start_time": "2023-09-14T12:10:00.152Z"
   },
   {
    "duration": 33,
    "start_time": "2023-09-14T12:10:22.467Z"
   },
   {
    "duration": 29,
    "start_time": "2023-09-14T12:10:39.305Z"
   },
   {
    "duration": 4,
    "start_time": "2023-09-14T12:10:49.123Z"
   },
   {
    "duration": 1453,
    "start_time": "2023-09-14T12:10:49.129Z"
   },
   {
    "duration": 136,
    "start_time": "2023-09-14T12:10:50.584Z"
   },
   {
    "duration": 6,
    "start_time": "2023-09-14T12:10:50.723Z"
   },
   {
    "duration": 855,
    "start_time": "2023-09-14T12:10:50.731Z"
   },
   {
    "duration": 1078,
    "start_time": "2023-09-14T12:10:51.588Z"
   },
   {
    "duration": 442,
    "start_time": "2023-09-14T12:10:52.668Z"
   },
   {
    "duration": 12,
    "start_time": "2023-09-14T12:10:53.111Z"
   },
   {
    "duration": 25,
    "start_time": "2023-09-14T12:10:53.125Z"
   },
   {
    "duration": 31,
    "start_time": "2023-09-14T12:10:53.153Z"
   },
   {
    "duration": 31,
    "start_time": "2023-09-14T12:10:53.186Z"
   },
   {
    "duration": 53,
    "start_time": "2023-09-14T12:10:53.219Z"
   },
   {
    "duration": 38,
    "start_time": "2023-09-14T12:10:53.273Z"
   },
   {
    "duration": 19,
    "start_time": "2023-09-14T12:10:53.313Z"
   },
   {
    "duration": 12,
    "start_time": "2023-09-14T12:10:53.334Z"
   },
   {
    "duration": 30,
    "start_time": "2023-09-14T12:10:53.347Z"
   },
   {
    "duration": 28,
    "start_time": "2023-09-14T12:10:53.379Z"
   },
   {
    "duration": 216,
    "start_time": "2023-09-14T12:10:53.409Z"
   },
   {
    "duration": 271,
    "start_time": "2023-09-14T12:10:53.628Z"
   },
   {
    "duration": 140,
    "start_time": "2023-09-14T12:10:53.903Z"
   },
   {
    "duration": 148,
    "start_time": "2023-09-14T12:10:54.045Z"
   },
   {
    "duration": 197,
    "start_time": "2023-09-14T12:10:54.196Z"
   },
   {
    "duration": 274,
    "start_time": "2023-09-14T12:10:54.396Z"
   },
   {
    "duration": 359,
    "start_time": "2023-09-14T12:10:54.672Z"
   },
   {
    "duration": 20,
    "start_time": "2023-09-14T12:10:55.034Z"
   },
   {
    "duration": 119,
    "start_time": "2023-09-14T12:10:55.056Z"
   },
   {
    "duration": 49,
    "start_time": "2023-09-14T12:10:55.177Z"
   },
   {
    "duration": 25,
    "start_time": "2023-09-14T12:10:55.232Z"
   },
   {
    "duration": 557,
    "start_time": "2023-09-14T12:10:55.259Z"
   },
   {
    "duration": 571,
    "start_time": "2023-09-14T12:10:55.818Z"
   },
   {
    "duration": 127,
    "start_time": "2023-09-14T12:10:56.391Z"
   },
   {
    "duration": 19,
    "start_time": "2023-09-14T12:10:56.520Z"
   },
   {
    "duration": 5,
    "start_time": "2023-09-14T12:10:56.540Z"
   },
   {
    "duration": 12,
    "start_time": "2023-09-14T12:10:56.547Z"
   },
   {
    "duration": 21,
    "start_time": "2023-09-14T12:10:56.562Z"
   },
   {
    "duration": 16,
    "start_time": "2023-09-14T12:10:56.586Z"
   },
   {
    "duration": 13,
    "start_time": "2023-09-14T12:10:56.604Z"
   },
   {
    "duration": 17,
    "start_time": "2023-09-14T12:10:56.619Z"
   },
   {
    "duration": 18,
    "start_time": "2023-09-14T12:10:56.637Z"
   },
   {
    "duration": 51,
    "start_time": "2023-09-14T12:10:56.657Z"
   },
   {
    "duration": 456,
    "start_time": "2023-09-14T12:10:56.711Z"
   },
   {
    "duration": 209,
    "start_time": "2023-09-14T12:11:31.457Z"
   },
   {
    "duration": 154,
    "start_time": "2023-09-14T12:11:48.301Z"
   },
   {
    "duration": 85,
    "start_time": "2023-09-14T12:11:52.801Z"
   },
   {
    "duration": 117,
    "start_time": "2023-09-14T12:12:21.366Z"
   },
   {
    "duration": 4,
    "start_time": "2023-09-14T12:13:27.052Z"
   },
   {
    "duration": 23,
    "start_time": "2023-09-14T12:14:01.452Z"
   },
   {
    "duration": 46,
    "start_time": "2023-09-14T12:14:07.320Z"
   },
   {
    "duration": 18,
    "start_time": "2023-09-14T12:16:28.453Z"
   },
   {
    "duration": 9,
    "start_time": "2023-09-14T12:17:59.616Z"
   },
   {
    "duration": 14,
    "start_time": "2023-09-14T12:18:39.036Z"
   },
   {
    "duration": 784,
    "start_time": "2023-09-14T12:21:24.020Z"
   },
   {
    "duration": 611,
    "start_time": "2023-09-14T12:21:42.629Z"
   },
   {
    "duration": 604,
    "start_time": "2023-09-14T12:25:38.010Z"
   },
   {
    "duration": 556,
    "start_time": "2023-09-14T12:27:37.405Z"
   },
   {
    "duration": 537,
    "start_time": "2023-09-14T12:29:35.213Z"
   },
   {
    "duration": 600,
    "start_time": "2023-09-14T12:30:52.362Z"
   },
   {
    "duration": 105,
    "start_time": "2023-09-14T12:33:04.139Z"
   },
   {
    "duration": 619,
    "start_time": "2023-09-14T12:33:08.652Z"
   },
   {
    "duration": 55,
    "start_time": "2023-09-14T12:35:02.406Z"
   },
   {
    "duration": 447,
    "start_time": "2023-09-14T12:35:41.497Z"
   },
   {
    "duration": 433,
    "start_time": "2023-09-14T12:35:48.182Z"
   },
   {
    "duration": 765,
    "start_time": "2023-09-14T12:35:55.272Z"
   },
   {
    "duration": 515,
    "start_time": "2023-09-14T12:36:08.516Z"
   },
   {
    "duration": 585,
    "start_time": "2023-09-14T12:36:14.354Z"
   },
   {
    "duration": 517,
    "start_time": "2023-09-14T12:36:29.709Z"
   },
   {
    "duration": 674,
    "start_time": "2023-09-14T12:36:37.509Z"
   },
   {
    "duration": 670,
    "start_time": "2023-09-14T12:37:13.926Z"
   },
   {
    "duration": 529,
    "start_time": "2023-09-14T12:37:25.421Z"
   },
   {
    "duration": 552,
    "start_time": "2023-09-14T12:37:33.405Z"
   },
   {
    "duration": 607,
    "start_time": "2023-09-14T12:37:46.028Z"
   },
   {
    "duration": 717,
    "start_time": "2023-09-14T12:37:56.210Z"
   },
   {
    "duration": 84,
    "start_time": "2023-09-14T12:40:48.910Z"
   },
   {
    "duration": 80,
    "start_time": "2023-09-14T12:41:10.698Z"
   },
   {
    "duration": 86,
    "start_time": "2023-09-14T12:41:20.508Z"
   },
   {
    "duration": 137,
    "start_time": "2023-09-14T12:42:47.454Z"
   },
   {
    "duration": 117,
    "start_time": "2023-09-14T12:46:45.794Z"
   },
   {
    "duration": 123,
    "start_time": "2023-09-14T12:47:10.175Z"
   },
   {
    "duration": 6,
    "start_time": "2023-09-14T12:58:18.029Z"
   },
   {
    "duration": 5,
    "start_time": "2023-09-14T12:58:35.689Z"
   },
   {
    "duration": 119,
    "start_time": "2023-09-14T13:05:09.764Z"
   },
   {
    "duration": 1700,
    "start_time": "2023-09-14T13:06:27.520Z"
   },
   {
    "duration": 1317,
    "start_time": "2023-09-14T13:07:35.505Z"
   },
   {
    "duration": 2200,
    "start_time": "2023-09-14T13:08:28.805Z"
   },
   {
    "duration": 14,
    "start_time": "2023-09-14T13:09:33.419Z"
   },
   {
    "duration": 17,
    "start_time": "2023-09-14T13:09:40.474Z"
   },
   {
    "duration": 15,
    "start_time": "2023-09-14T13:09:46.866Z"
   },
   {
    "duration": 1571,
    "start_time": "2023-09-14T13:09:57.470Z"
   },
   {
    "duration": 11,
    "start_time": "2023-09-14T13:10:09.333Z"
   },
   {
    "duration": 13,
    "start_time": "2023-09-14T13:10:16.123Z"
   },
   {
    "duration": 12,
    "start_time": "2023-09-14T13:10:45.704Z"
   },
   {
    "duration": 11,
    "start_time": "2023-09-14T13:11:22.094Z"
   },
   {
    "duration": 87,
    "start_time": "2023-09-14T13:11:47.977Z"
   },
   {
    "duration": 13,
    "start_time": "2023-09-14T13:11:53.194Z"
   },
   {
    "duration": 1103,
    "start_time": "2023-09-14T13:14:46.502Z"
   },
   {
    "duration": 2746,
    "start_time": "2023-09-14T13:15:17.332Z"
   },
   {
    "duration": 3,
    "start_time": "2023-09-14T13:16:09.929Z"
   },
   {
    "duration": 1253,
    "start_time": "2023-09-14T13:16:09.935Z"
   },
   {
    "duration": 73,
    "start_time": "2023-09-14T13:16:11.190Z"
   },
   {
    "duration": 4,
    "start_time": "2023-09-14T13:16:11.264Z"
   },
   {
    "duration": 328,
    "start_time": "2023-09-14T13:16:11.270Z"
   },
   {
    "duration": 567,
    "start_time": "2023-09-14T13:16:11.600Z"
   },
   {
    "duration": 397,
    "start_time": "2023-09-14T13:16:12.169Z"
   },
   {
    "duration": 28,
    "start_time": "2023-09-14T13:16:12.568Z"
   },
   {
    "duration": 13,
    "start_time": "2023-09-14T13:16:12.598Z"
   },
   {
    "duration": 7,
    "start_time": "2023-09-14T13:16:12.613Z"
   },
   {
    "duration": 18,
    "start_time": "2023-09-14T13:16:12.621Z"
   },
   {
    "duration": 23,
    "start_time": "2023-09-14T13:16:12.641Z"
   },
   {
    "duration": 26,
    "start_time": "2023-09-14T13:16:12.666Z"
   },
   {
    "duration": 8,
    "start_time": "2023-09-14T13:16:12.694Z"
   },
   {
    "duration": 11,
    "start_time": "2023-09-14T13:16:12.705Z"
   },
   {
    "duration": 21,
    "start_time": "2023-09-14T13:16:12.718Z"
   },
   {
    "duration": 24,
    "start_time": "2023-09-14T13:16:12.740Z"
   },
   {
    "duration": 164,
    "start_time": "2023-09-14T13:16:12.766Z"
   },
   {
    "duration": 239,
    "start_time": "2023-09-14T13:16:12.932Z"
   },
   {
    "duration": 150,
    "start_time": "2023-09-14T13:16:13.173Z"
   },
   {
    "duration": 83,
    "start_time": "2023-09-14T13:16:13.325Z"
   },
   {
    "duration": 200,
    "start_time": "2023-09-14T13:16:13.410Z"
   },
   {
    "duration": 237,
    "start_time": "2023-09-14T13:16:13.612Z"
   },
   {
    "duration": 249,
    "start_time": "2023-09-14T13:16:13.851Z"
   },
   {
    "duration": 14,
    "start_time": "2023-09-14T13:16:14.102Z"
   },
   {
    "duration": 25,
    "start_time": "2023-09-14T13:16:14.118Z"
   },
   {
    "duration": 5,
    "start_time": "2023-09-14T13:16:14.144Z"
   },
   {
    "duration": 65,
    "start_time": "2023-09-14T13:16:14.150Z"
   },
   {
    "duration": 8,
    "start_time": "2023-09-14T13:16:14.216Z"
   },
   {
    "duration": 43,
    "start_time": "2023-09-14T13:16:14.225Z"
   },
   {
    "duration": 11,
    "start_time": "2023-09-14T13:16:14.281Z"
   },
   {
    "duration": 518,
    "start_time": "2023-09-14T13:16:14.295Z"
   },
   {
    "duration": 582,
    "start_time": "2023-09-14T13:16:14.814Z"
   },
   {
    "duration": 53,
    "start_time": "2023-09-14T13:16:15.398Z"
   },
   {
    "duration": 142,
    "start_time": "2023-09-14T13:16:15.453Z"
   },
   {
    "duration": 22,
    "start_time": "2023-09-14T13:16:15.597Z"
   },
   {
    "duration": 6,
    "start_time": "2023-09-14T13:16:15.621Z"
   },
   {
    "duration": 9,
    "start_time": "2023-09-14T13:16:15.629Z"
   },
   {
    "duration": 8,
    "start_time": "2023-09-14T13:16:15.641Z"
   },
   {
    "duration": 41,
    "start_time": "2023-09-14T13:16:15.651Z"
   },
   {
    "duration": 10,
    "start_time": "2023-09-14T13:16:15.694Z"
   },
   {
    "duration": 8,
    "start_time": "2023-09-14T13:16:15.708Z"
   },
   {
    "duration": 123,
    "start_time": "2023-09-14T13:16:15.718Z"
   },
   {
    "duration": 0,
    "start_time": "2023-09-14T13:16:15.843Z"
   },
   {
    "duration": 0,
    "start_time": "2023-09-14T13:16:15.844Z"
   },
   {
    "duration": 10,
    "start_time": "2023-09-14T13:16:35.263Z"
   },
   {
    "duration": 10,
    "start_time": "2023-09-14T13:16:42.221Z"
   },
   {
    "duration": 9,
    "start_time": "2023-09-14T13:16:53.717Z"
   },
   {
    "duration": 5,
    "start_time": "2023-09-14T13:17:28.682Z"
   },
   {
    "duration": 136,
    "start_time": "2023-09-14T13:25:36.149Z"
   },
   {
    "duration": 127,
    "start_time": "2023-09-14T13:31:08.101Z"
   },
   {
    "duration": 6,
    "start_time": "2023-09-14T13:32:38.404Z"
   },
   {
    "duration": 1241,
    "start_time": "2023-09-14T13:32:38.412Z"
   },
   {
    "duration": 85,
    "start_time": "2023-09-14T13:32:39.654Z"
   },
   {
    "duration": 5,
    "start_time": "2023-09-14T13:32:39.741Z"
   },
   {
    "duration": 350,
    "start_time": "2023-09-14T13:32:39.748Z"
   },
   {
    "duration": 599,
    "start_time": "2023-09-14T13:32:40.100Z"
   },
   {
    "duration": 411,
    "start_time": "2023-09-14T13:32:40.701Z"
   },
   {
    "duration": 11,
    "start_time": "2023-09-14T13:32:41.114Z"
   },
   {
    "duration": 39,
    "start_time": "2023-09-14T13:32:41.128Z"
   },
   {
    "duration": 19,
    "start_time": "2023-09-14T13:32:41.170Z"
   },
   {
    "duration": 12,
    "start_time": "2023-09-14T13:32:41.191Z"
   },
   {
    "duration": 21,
    "start_time": "2023-09-14T13:32:41.205Z"
   },
   {
    "duration": 17,
    "start_time": "2023-09-14T13:32:41.229Z"
   },
   {
    "duration": 6,
    "start_time": "2023-09-14T13:32:41.248Z"
   },
   {
    "duration": 7,
    "start_time": "2023-09-14T13:32:41.256Z"
   },
   {
    "duration": 14,
    "start_time": "2023-09-14T13:32:41.285Z"
   },
   {
    "duration": 5,
    "start_time": "2023-09-14T13:32:41.302Z"
   },
   {
    "duration": 152,
    "start_time": "2023-09-14T13:32:41.309Z"
   },
   {
    "duration": 253,
    "start_time": "2023-09-14T13:32:41.462Z"
   },
   {
    "duration": 147,
    "start_time": "2023-09-14T13:32:41.717Z"
   },
   {
    "duration": 93,
    "start_time": "2023-09-14T13:32:41.865Z"
   },
   {
    "duration": 192,
    "start_time": "2023-09-14T13:32:41.960Z"
   },
   {
    "duration": 269,
    "start_time": "2023-09-14T13:32:42.154Z"
   },
   {
    "duration": 242,
    "start_time": "2023-09-14T13:32:42.424Z"
   },
   {
    "duration": 29,
    "start_time": "2023-09-14T13:32:42.668Z"
   },
   {
    "duration": 37,
    "start_time": "2023-09-14T13:32:42.699Z"
   },
   {
    "duration": 4,
    "start_time": "2023-09-14T13:32:42.737Z"
   },
   {
    "duration": 53,
    "start_time": "2023-09-14T13:32:42.745Z"
   },
   {
    "duration": 10,
    "start_time": "2023-09-14T13:32:42.801Z"
   },
   {
    "duration": 41,
    "start_time": "2023-09-14T13:32:42.812Z"
   },
   {
    "duration": 40,
    "start_time": "2023-09-14T13:32:42.854Z"
   },
   {
    "duration": 500,
    "start_time": "2023-09-14T13:32:42.896Z"
   },
   {
    "duration": 471,
    "start_time": "2023-09-14T13:32:43.398Z"
   },
   {
    "duration": 63,
    "start_time": "2023-09-14T13:32:43.872Z"
   },
   {
    "duration": 127,
    "start_time": "2023-09-14T13:32:43.937Z"
   },
   {
    "duration": 31,
    "start_time": "2023-09-14T13:32:44.065Z"
   },
   {
    "duration": 7,
    "start_time": "2023-09-14T13:32:44.098Z"
   },
   {
    "duration": 14,
    "start_time": "2023-09-14T13:32:44.107Z"
   },
   {
    "duration": 33,
    "start_time": "2023-09-14T13:32:44.123Z"
   },
   {
    "duration": 31,
    "start_time": "2023-09-14T13:32:44.158Z"
   },
   {
    "duration": 24,
    "start_time": "2023-09-14T13:32:44.191Z"
   },
   {
    "duration": 17,
    "start_time": "2023-09-14T13:32:44.217Z"
   },
   {
    "duration": 22,
    "start_time": "2023-09-14T13:32:44.236Z"
   },
   {
    "duration": 8,
    "start_time": "2023-09-14T13:32:44.259Z"
   },
   {
    "duration": 354,
    "start_time": "2023-09-14T13:32:44.268Z"
   },
   {
    "duration": 1813,
    "start_time": "2023-09-14T13:36:07.886Z"
   },
   {
    "duration": 23,
    "start_time": "2023-09-14T13:36:33.343Z"
   },
   {
    "duration": 127,
    "start_time": "2023-09-14T13:36:56.324Z"
   },
   {
    "duration": 21,
    "start_time": "2023-09-14T13:37:03.297Z"
   },
   {
    "duration": 5,
    "start_time": "2023-09-14T13:37:08.477Z"
   },
   {
    "duration": 10,
    "start_time": "2023-09-14T13:40:40.732Z"
   },
   {
    "duration": 4,
    "start_time": "2023-09-14T13:40:52.645Z"
   },
   {
    "duration": 4,
    "start_time": "2023-09-14T13:41:03.341Z"
   },
   {
    "duration": 1473,
    "start_time": "2023-09-14T13:41:03.346Z"
   },
   {
    "duration": 76,
    "start_time": "2023-09-14T13:41:04.821Z"
   },
   {
    "duration": 4,
    "start_time": "2023-09-14T13:41:04.899Z"
   },
   {
    "duration": 317,
    "start_time": "2023-09-14T13:41:04.904Z"
   },
   {
    "duration": 609,
    "start_time": "2023-09-14T13:41:05.223Z"
   },
   {
    "duration": 396,
    "start_time": "2023-09-14T13:41:05.834Z"
   },
   {
    "duration": 11,
    "start_time": "2023-09-14T13:41:06.231Z"
   },
   {
    "duration": 28,
    "start_time": "2023-09-14T13:41:06.244Z"
   },
   {
    "duration": 20,
    "start_time": "2023-09-14T13:41:06.283Z"
   },
   {
    "duration": 15,
    "start_time": "2023-09-14T13:41:06.305Z"
   },
   {
    "duration": 28,
    "start_time": "2023-09-14T13:41:06.322Z"
   },
   {
    "duration": 15,
    "start_time": "2023-09-14T13:41:06.352Z"
   },
   {
    "duration": 22,
    "start_time": "2023-09-14T13:41:06.368Z"
   },
   {
    "duration": 22,
    "start_time": "2023-09-14T13:41:06.392Z"
   },
   {
    "duration": 20,
    "start_time": "2023-09-14T13:41:06.416Z"
   },
   {
    "duration": 4,
    "start_time": "2023-09-14T13:41:06.437Z"
   },
   {
    "duration": 146,
    "start_time": "2023-09-14T13:41:06.443Z"
   },
   {
    "duration": 281,
    "start_time": "2023-09-14T13:41:06.593Z"
   },
   {
    "duration": 186,
    "start_time": "2023-09-14T13:41:06.876Z"
   },
   {
    "duration": 104,
    "start_time": "2023-09-14T13:41:07.064Z"
   },
   {
    "duration": 230,
    "start_time": "2023-09-14T13:41:07.170Z"
   },
   {
    "duration": 260,
    "start_time": "2023-09-14T13:41:07.401Z"
   },
   {
    "duration": 265,
    "start_time": "2023-09-14T13:41:07.664Z"
   },
   {
    "duration": 15,
    "start_time": "2023-09-14T13:41:07.931Z"
   },
   {
    "duration": 48,
    "start_time": "2023-09-14T13:41:07.948Z"
   },
   {
    "duration": 6,
    "start_time": "2023-09-14T13:41:07.998Z"
   },
   {
    "duration": 55,
    "start_time": "2023-09-14T13:41:08.006Z"
   },
   {
    "duration": 20,
    "start_time": "2023-09-14T13:41:08.062Z"
   },
   {
    "duration": 39,
    "start_time": "2023-09-14T13:41:08.093Z"
   },
   {
    "duration": 9,
    "start_time": "2023-09-14T13:41:08.134Z"
   },
   {
    "duration": 561,
    "start_time": "2023-09-14T13:41:08.145Z"
   },
   {
    "duration": 647,
    "start_time": "2023-09-14T13:41:08.708Z"
   },
   {
    "duration": 55,
    "start_time": "2023-09-14T13:41:09.356Z"
   },
   {
    "duration": 19,
    "start_time": "2023-09-14T13:41:09.412Z"
   },
   {
    "duration": 184,
    "start_time": "2023-09-14T13:41:09.433Z"
   },
   {
    "duration": 84,
    "start_time": "2023-09-14T13:41:09.619Z"
   },
   {
    "duration": 4,
    "start_time": "2023-09-14T13:41:09.705Z"
   },
   {
    "duration": 22,
    "start_time": "2023-09-14T13:41:09.710Z"
   },
   {
    "duration": 17,
    "start_time": "2023-09-14T13:41:09.734Z"
   },
   {
    "duration": 5,
    "start_time": "2023-09-14T13:41:09.753Z"
   },
   {
    "duration": 6,
    "start_time": "2023-09-14T13:41:09.760Z"
   },
   {
    "duration": 8,
    "start_time": "2023-09-14T13:41:09.768Z"
   },
   {
    "duration": 12,
    "start_time": "2023-09-14T13:41:09.778Z"
   },
   {
    "duration": 13,
    "start_time": "2023-09-14T13:41:09.792Z"
   },
   {
    "duration": 619,
    "start_time": "2023-09-14T13:41:09.808Z"
   },
   {
    "duration": 96,
    "start_time": "2023-09-14T13:42:17.738Z"
   },
   {
    "duration": 4,
    "start_time": "2023-09-14T20:17:11.697Z"
   },
   {
    "duration": 1216,
    "start_time": "2023-09-14T20:17:11.704Z"
   },
   {
    "duration": 77,
    "start_time": "2023-09-14T20:17:12.922Z"
   },
   {
    "duration": 4,
    "start_time": "2023-09-14T20:17:13.001Z"
   },
   {
    "duration": 326,
    "start_time": "2023-09-14T20:17:13.007Z"
   },
   {
    "duration": 581,
    "start_time": "2023-09-14T20:17:13.334Z"
   },
   {
    "duration": 398,
    "start_time": "2023-09-14T20:17:13.917Z"
   },
   {
    "duration": 11,
    "start_time": "2023-09-14T20:17:14.316Z"
   },
   {
    "duration": 19,
    "start_time": "2023-09-14T20:17:14.329Z"
   },
   {
    "duration": 6,
    "start_time": "2023-09-14T20:17:14.350Z"
   },
   {
    "duration": 25,
    "start_time": "2023-09-14T20:17:14.359Z"
   },
   {
    "duration": 24,
    "start_time": "2023-09-14T20:17:14.386Z"
   },
   {
    "duration": 18,
    "start_time": "2023-09-14T20:17:14.412Z"
   },
   {
    "duration": 8,
    "start_time": "2023-09-14T20:17:14.432Z"
   },
   {
    "duration": 11,
    "start_time": "2023-09-14T20:17:14.442Z"
   },
   {
    "duration": 16,
    "start_time": "2023-09-14T20:17:14.455Z"
   },
   {
    "duration": 11,
    "start_time": "2023-09-14T20:17:14.484Z"
   },
   {
    "duration": 152,
    "start_time": "2023-09-14T20:17:14.497Z"
   },
   {
    "duration": 248,
    "start_time": "2023-09-14T20:17:14.651Z"
   },
   {
    "duration": 148,
    "start_time": "2023-09-14T20:17:14.901Z"
   },
   {
    "duration": 99,
    "start_time": "2023-09-14T20:17:15.051Z"
   },
   {
    "duration": 212,
    "start_time": "2023-09-14T20:17:15.152Z"
   },
   {
    "duration": 262,
    "start_time": "2023-09-14T20:17:15.366Z"
   },
   {
    "duration": 254,
    "start_time": "2023-09-14T20:17:15.630Z"
   },
   {
    "duration": 17,
    "start_time": "2023-09-14T20:17:15.890Z"
   },
   {
    "duration": 24,
    "start_time": "2023-09-14T20:17:15.908Z"
   },
   {
    "duration": 4,
    "start_time": "2023-09-14T20:17:15.934Z"
   },
   {
    "duration": 74,
    "start_time": "2023-09-14T20:17:15.939Z"
   },
   {
    "duration": 8,
    "start_time": "2023-09-14T20:17:16.016Z"
   },
   {
    "duration": 73,
    "start_time": "2023-09-14T20:17:16.025Z"
   },
   {
    "duration": 11,
    "start_time": "2023-09-14T20:17:16.100Z"
   },
   {
    "duration": 594,
    "start_time": "2023-09-14T20:17:16.112Z"
   },
   {
    "duration": 643,
    "start_time": "2023-09-14T20:17:16.708Z"
   },
   {
    "duration": 85,
    "start_time": "2023-09-14T20:17:17.354Z"
   },
   {
    "duration": 29,
    "start_time": "2023-09-14T20:17:17.440Z"
   },
   {
    "duration": 168,
    "start_time": "2023-09-14T20:17:17.470Z"
   },
   {
    "duration": 21,
    "start_time": "2023-09-14T20:17:17.641Z"
   },
   {
    "duration": 32,
    "start_time": "2023-09-14T20:17:17.664Z"
   },
   {
    "duration": 9,
    "start_time": "2023-09-14T20:17:17.698Z"
   },
   {
    "duration": 41,
    "start_time": "2023-09-14T20:17:17.709Z"
   },
   {
    "duration": 23,
    "start_time": "2023-09-14T20:17:17.751Z"
   },
   {
    "duration": 35,
    "start_time": "2023-09-14T20:17:17.775Z"
   },
   {
    "duration": 66,
    "start_time": "2023-09-14T20:17:17.812Z"
   },
   {
    "duration": 61,
    "start_time": "2023-09-14T20:17:17.881Z"
   },
   {
    "duration": 35,
    "start_time": "2023-09-14T20:17:17.944Z"
   },
   {
    "duration": 378,
    "start_time": "2023-09-14T20:17:17.981Z"
   },
   {
    "duration": 4,
    "start_time": "2023-09-14T20:26:22.409Z"
   },
   {
    "duration": 667,
    "start_time": "2023-09-14T20:27:21.757Z"
   },
   {
    "duration": 4,
    "start_time": "2023-09-14T20:42:58.303Z"
   },
   {
    "duration": 1324,
    "start_time": "2023-09-14T20:42:58.309Z"
   },
   {
    "duration": 83,
    "start_time": "2023-09-14T20:42:59.635Z"
   },
   {
    "duration": 6,
    "start_time": "2023-09-14T20:42:59.721Z"
   },
   {
    "duration": 355,
    "start_time": "2023-09-14T20:42:59.730Z"
   },
   {
    "duration": 690,
    "start_time": "2023-09-14T20:43:00.088Z"
   },
   {
    "duration": 480,
    "start_time": "2023-09-14T20:43:00.780Z"
   },
   {
    "duration": 34,
    "start_time": "2023-09-14T20:43:01.261Z"
   },
   {
    "duration": 19,
    "start_time": "2023-09-14T20:43:01.297Z"
   },
   {
    "duration": 75,
    "start_time": "2023-09-14T20:43:01.318Z"
   },
   {
    "duration": 54,
    "start_time": "2023-09-14T20:43:01.395Z"
   },
   {
    "duration": 49,
    "start_time": "2023-09-14T20:43:01.452Z"
   },
   {
    "duration": 35,
    "start_time": "2023-09-14T20:43:01.504Z"
   },
   {
    "duration": 68,
    "start_time": "2023-09-14T20:43:01.543Z"
   },
   {
    "duration": 40,
    "start_time": "2023-09-14T20:43:01.613Z"
   },
   {
    "duration": 55,
    "start_time": "2023-09-14T20:43:01.656Z"
   },
   {
    "duration": 57,
    "start_time": "2023-09-14T20:43:01.714Z"
   },
   {
    "duration": 197,
    "start_time": "2023-09-14T20:43:01.773Z"
   },
   {
    "duration": 262,
    "start_time": "2023-09-14T20:43:01.984Z"
   },
   {
    "duration": 208,
    "start_time": "2023-09-14T20:43:02.249Z"
   },
   {
    "duration": 107,
    "start_time": "2023-09-14T20:43:02.460Z"
   },
   {
    "duration": 231,
    "start_time": "2023-09-14T20:43:02.569Z"
   },
   {
    "duration": 267,
    "start_time": "2023-09-14T20:43:02.802Z"
   },
   {
    "duration": 325,
    "start_time": "2023-09-14T20:43:03.082Z"
   },
   {
    "duration": 21,
    "start_time": "2023-09-14T20:43:03.409Z"
   },
   {
    "duration": 29,
    "start_time": "2023-09-14T20:43:03.432Z"
   },
   {
    "duration": 5,
    "start_time": "2023-09-14T20:43:03.482Z"
   },
   {
    "duration": 45,
    "start_time": "2023-09-14T20:43:03.496Z"
   },
   {
    "duration": 13,
    "start_time": "2023-09-14T20:43:03.544Z"
   },
   {
    "duration": 41,
    "start_time": "2023-09-14T20:43:03.558Z"
   },
   {
    "duration": 58,
    "start_time": "2023-09-14T20:43:03.604Z"
   },
   {
    "duration": 31,
    "start_time": "2023-09-14T20:43:03.665Z"
   },
   {
    "duration": 622,
    "start_time": "2023-09-14T20:43:03.707Z"
   },
   {
    "duration": 597,
    "start_time": "2023-09-14T20:43:04.330Z"
   },
   {
    "duration": 616,
    "start_time": "2023-09-14T20:43:04.929Z"
   },
   {
    "duration": 71,
    "start_time": "2023-09-14T20:43:05.548Z"
   },
   {
    "duration": 34,
    "start_time": "2023-09-14T20:43:05.622Z"
   },
   {
    "duration": 189,
    "start_time": "2023-09-14T20:43:05.659Z"
   },
   {
    "duration": 41,
    "start_time": "2023-09-14T20:43:05.851Z"
   },
   {
    "duration": 11,
    "start_time": "2023-09-14T20:43:05.900Z"
   },
   {
    "duration": 8,
    "start_time": "2023-09-14T20:43:05.918Z"
   },
   {
    "duration": 21,
    "start_time": "2023-09-14T20:43:05.929Z"
   },
   {
    "duration": 7,
    "start_time": "2023-09-14T20:43:05.953Z"
   },
   {
    "duration": 23,
    "start_time": "2023-09-14T20:43:05.962Z"
   },
   {
    "duration": 19,
    "start_time": "2023-09-14T20:43:05.987Z"
   },
   {
    "duration": 18,
    "start_time": "2023-09-14T20:43:06.008Z"
   },
   {
    "duration": 8,
    "start_time": "2023-09-14T20:43:06.028Z"
   },
   {
    "duration": 684,
    "start_time": "2023-09-14T20:43:06.039Z"
   },
   {
    "duration": 54,
    "start_time": "2023-09-15T10:20:22.007Z"
   },
   {
    "duration": 10,
    "start_time": "2023-09-15T10:20:53.556Z"
   },
   {
    "duration": 8,
    "start_time": "2023-09-15T10:22:44.166Z"
   },
   {
    "duration": 8,
    "start_time": "2023-09-15T10:22:48.232Z"
   },
   {
    "duration": 1450,
    "start_time": "2023-09-15T10:23:04.169Z"
   },
   {
    "duration": 314,
    "start_time": "2023-09-15T10:23:06.240Z"
   },
   {
    "duration": 155,
    "start_time": "2023-09-15T10:23:16.652Z"
   },
   {
    "duration": 240,
    "start_time": "2023-09-15T10:23:18.808Z"
   },
   {
    "duration": 162,
    "start_time": "2023-09-15T10:23:22.016Z"
   },
   {
    "duration": 84,
    "start_time": "2023-09-15T10:23:23.951Z"
   },
   {
    "duration": 90,
    "start_time": "2023-09-15T10:23:32.953Z"
   },
   {
    "duration": 99,
    "start_time": "2023-09-15T10:23:40.171Z"
   },
   {
    "duration": 88,
    "start_time": "2023-09-15T10:23:44.826Z"
   },
   {
    "duration": 278,
    "start_time": "2023-09-15T10:24:31.798Z"
   },
   {
    "duration": 136,
    "start_time": "2023-09-15T10:26:39.683Z"
   },
   {
    "duration": 154,
    "start_time": "2023-09-15T10:26:49.842Z"
   },
   {
    "duration": 89,
    "start_time": "2023-09-15T10:29:36.669Z"
   },
   {
    "duration": 159,
    "start_time": "2023-09-15T10:33:15.463Z"
   },
   {
    "duration": 162,
    "start_time": "2023-09-15T10:33:22.911Z"
   },
   {
    "duration": 50,
    "start_time": "2023-09-20T11:40:18.060Z"
   },
   {
    "duration": 2,
    "start_time": "2023-09-20T11:40:35.884Z"
   },
   {
    "duration": 1136,
    "start_time": "2023-09-20T11:40:35.888Z"
   },
   {
    "duration": 196,
    "start_time": "2023-09-20T11:40:37.026Z"
   },
   {
    "duration": 4,
    "start_time": "2023-09-20T11:40:37.223Z"
   },
   {
    "duration": 279,
    "start_time": "2023-09-20T11:40:37.229Z"
   },
   {
    "duration": 496,
    "start_time": "2023-09-20T11:40:37.510Z"
   },
   {
    "duration": 337,
    "start_time": "2023-09-20T11:40:38.008Z"
   },
   {
    "duration": 10,
    "start_time": "2023-09-20T11:40:38.350Z"
   },
   {
    "duration": 24,
    "start_time": "2023-09-20T11:40:38.361Z"
   },
   {
    "duration": 17,
    "start_time": "2023-09-20T11:40:38.387Z"
   },
   {
    "duration": 20,
    "start_time": "2023-09-20T11:40:38.407Z"
   },
   {
    "duration": 22,
    "start_time": "2023-09-20T11:40:38.428Z"
   },
   {
    "duration": 19,
    "start_time": "2023-09-20T11:40:38.452Z"
   },
   {
    "duration": 33,
    "start_time": "2023-09-20T11:40:38.473Z"
   },
   {
    "duration": 16,
    "start_time": "2023-09-20T11:40:38.507Z"
   },
   {
    "duration": 19,
    "start_time": "2023-09-20T11:40:38.525Z"
   },
   {
    "duration": 14,
    "start_time": "2023-09-20T11:40:38.546Z"
   },
   {
    "duration": 128,
    "start_time": "2023-09-20T11:40:38.561Z"
   },
   {
    "duration": 209,
    "start_time": "2023-09-20T11:40:38.691Z"
   },
   {
    "duration": 119,
    "start_time": "2023-09-20T11:40:38.902Z"
   },
   {
    "duration": 92,
    "start_time": "2023-09-20T11:40:39.023Z"
   },
   {
    "duration": 179,
    "start_time": "2023-09-20T11:40:39.117Z"
   },
   {
    "duration": 208,
    "start_time": "2023-09-20T11:40:39.298Z"
   },
   {
    "duration": 209,
    "start_time": "2023-09-20T11:40:39.508Z"
   },
   {
    "duration": 15,
    "start_time": "2023-09-20T11:40:39.719Z"
   },
   {
    "duration": 36,
    "start_time": "2023-09-20T11:40:39.735Z"
   },
   {
    "duration": 7,
    "start_time": "2023-09-20T11:40:39.773Z"
   },
   {
    "duration": 49,
    "start_time": "2023-09-20T11:40:39.781Z"
   },
   {
    "duration": 22,
    "start_time": "2023-09-20T11:40:39.834Z"
   },
   {
    "duration": 17,
    "start_time": "2023-09-20T11:40:39.858Z"
   },
   {
    "duration": 63,
    "start_time": "2023-09-20T11:40:39.877Z"
   },
   {
    "duration": 10,
    "start_time": "2023-09-20T11:40:39.941Z"
   },
   {
    "duration": 462,
    "start_time": "2023-09-20T11:40:39.953Z"
   },
   {
    "duration": 587,
    "start_time": "2023-09-20T11:40:40.416Z"
   },
   {
    "duration": 503,
    "start_time": "2023-09-20T11:40:41.004Z"
   },
   {
    "duration": 51,
    "start_time": "2023-09-20T11:40:41.509Z"
   },
   {
    "duration": 16,
    "start_time": "2023-09-20T11:40:41.561Z"
   },
   {
    "duration": 116,
    "start_time": "2023-09-20T11:40:41.579Z"
   },
   {
    "duration": 16,
    "start_time": "2023-09-20T11:40:41.697Z"
   },
   {
    "duration": 12,
    "start_time": "2023-09-20T11:40:41.714Z"
   },
   {
    "duration": 12,
    "start_time": "2023-09-20T11:40:41.728Z"
   },
   {
    "duration": 5,
    "start_time": "2023-09-20T11:40:41.749Z"
   },
   {
    "duration": 15,
    "start_time": "2023-09-20T11:40:41.756Z"
   },
   {
    "duration": 24,
    "start_time": "2023-09-20T11:40:41.772Z"
   },
   {
    "duration": 13,
    "start_time": "2023-09-20T11:40:41.797Z"
   },
   {
    "duration": 10,
    "start_time": "2023-09-20T11:40:41.811Z"
   },
   {
    "duration": 17,
    "start_time": "2023-09-20T11:40:41.823Z"
   },
   {
    "duration": 13,
    "start_time": "2023-09-20T11:40:41.841Z"
   },
   {
    "duration": 379,
    "start_time": "2023-09-20T11:40:41.855Z"
   },
   {
    "duration": 9,
    "start_time": "2023-09-20T11:48:24.229Z"
   },
   {
    "duration": 1328,
    "start_time": "2024-07-26T14:04:47.398Z"
   },
   {
    "duration": 290,
    "start_time": "2024-07-26T14:04:48.729Z"
   },
   {
    "duration": 4,
    "start_time": "2024-07-26T14:04:49.021Z"
   },
   {
    "duration": 339,
    "start_time": "2024-07-26T14:04:49.027Z"
   },
   {
    "duration": 589,
    "start_time": "2024-07-26T14:04:49.368Z"
   },
   {
    "duration": 407,
    "start_time": "2024-07-26T14:04:49.960Z"
   },
   {
    "duration": 11,
    "start_time": "2024-07-26T14:04:50.369Z"
   },
   {
    "duration": 52,
    "start_time": "2024-07-26T14:04:50.381Z"
   },
   {
    "duration": 6,
    "start_time": "2024-07-26T14:04:50.435Z"
   },
   {
    "duration": 25,
    "start_time": "2024-07-26T14:04:50.444Z"
   },
   {
    "duration": 19,
    "start_time": "2024-07-26T14:04:50.471Z"
   },
   {
    "duration": 17,
    "start_time": "2024-07-26T14:04:50.492Z"
   },
   {
    "duration": 8,
    "start_time": "2024-07-26T14:04:50.511Z"
   },
   {
    "duration": 10,
    "start_time": "2024-07-26T14:04:50.521Z"
   },
   {
    "duration": 32,
    "start_time": "2024-07-26T14:04:50.533Z"
   },
   {
    "duration": 10,
    "start_time": "2024-07-26T14:04:50.567Z"
   },
   {
    "duration": 198,
    "start_time": "2024-07-26T14:04:50.579Z"
   },
   {
    "duration": 252,
    "start_time": "2024-07-26T14:04:50.779Z"
   },
   {
    "duration": 146,
    "start_time": "2024-07-26T14:04:51.033Z"
   },
   {
    "duration": 101,
    "start_time": "2024-07-26T14:04:51.180Z"
   },
   {
    "duration": 195,
    "start_time": "2024-07-26T14:04:51.282Z"
   },
   {
    "duration": 258,
    "start_time": "2024-07-26T14:04:51.479Z"
   },
   {
    "duration": 249,
    "start_time": "2024-07-26T14:04:51.738Z"
   },
   {
    "duration": 14,
    "start_time": "2024-07-26T14:04:51.989Z"
   },
   {
    "duration": 32,
    "start_time": "2024-07-26T14:04:52.005Z"
   },
   {
    "duration": 15,
    "start_time": "2024-07-26T14:04:52.048Z"
   },
   {
    "duration": 42,
    "start_time": "2024-07-26T14:04:52.064Z"
   },
   {
    "duration": 8,
    "start_time": "2024-07-26T14:04:52.110Z"
   },
   {
    "duration": 15,
    "start_time": "2024-07-26T14:04:52.120Z"
   },
   {
    "duration": 76,
    "start_time": "2024-07-26T14:04:52.137Z"
   },
   {
    "duration": 11,
    "start_time": "2024-07-26T14:04:52.215Z"
   },
   {
    "duration": 580,
    "start_time": "2024-07-26T14:04:52.227Z"
   },
   {
    "duration": 556,
    "start_time": "2024-07-26T14:04:52.809Z"
   },
   {
    "duration": 516,
    "start_time": "2024-07-26T14:04:53.366Z"
   },
   {
    "duration": 75,
    "start_time": "2024-07-26T14:04:53.883Z"
   },
   {
    "duration": 27,
    "start_time": "2024-07-26T14:04:53.962Z"
   },
   {
    "duration": 167,
    "start_time": "2024-07-26T14:04:53.990Z"
   },
   {
    "duration": 28,
    "start_time": "2024-07-26T14:04:54.161Z"
   },
   {
    "duration": 66,
    "start_time": "2024-07-26T14:04:54.191Z"
   },
   {
    "duration": 28,
    "start_time": "2024-07-26T14:04:54.260Z"
   },
   {
    "duration": 45,
    "start_time": "2024-07-26T14:04:54.290Z"
   },
   {
    "duration": 33,
    "start_time": "2024-07-26T14:04:54.337Z"
   },
   {
    "duration": 31,
    "start_time": "2024-07-26T14:04:54.372Z"
   },
   {
    "duration": 19,
    "start_time": "2024-07-26T14:04:54.404Z"
   },
   {
    "duration": 38,
    "start_time": "2024-07-26T14:04:54.424Z"
   },
   {
    "duration": 38,
    "start_time": "2024-07-26T14:04:54.464Z"
   },
   {
    "duration": 28,
    "start_time": "2024-07-26T14:04:54.504Z"
   },
   {
    "duration": 8,
    "start_time": "2024-07-26T14:04:54.533Z"
   },
   {
    "duration": 463,
    "start_time": "2024-07-26T14:04:54.543Z"
   },
   {
    "duration": 150,
    "start_time": "2024-07-26T14:06:18.057Z"
   },
   {
    "duration": 149,
    "start_time": "2024-07-26T14:06:25.165Z"
   },
   {
    "duration": 88,
    "start_time": "2024-07-26T14:07:31.314Z"
   },
   {
    "duration": 89,
    "start_time": "2024-07-26T14:07:40.784Z"
   },
   {
    "duration": 88,
    "start_time": "2024-07-26T14:08:32.394Z"
   },
   {
    "duration": 155,
    "start_time": "2024-07-26T14:08:47.513Z"
   },
   {
    "duration": 83,
    "start_time": "2024-07-26T14:08:57.411Z"
   },
   {
    "duration": 48,
    "start_time": "2024-07-26T14:11:11.839Z"
   },
   {
    "duration": 545,
    "start_time": "2024-07-26T14:14:13.718Z"
   },
   {
    "duration": 506,
    "start_time": "2024-07-26T14:14:53.558Z"
   },
   {
    "duration": 56,
    "start_time": "2024-07-26T14:15:17.809Z"
   },
   {
    "duration": 62,
    "start_time": "2024-07-26T14:15:30.951Z"
   },
   {
    "duration": 28,
    "start_time": "2024-07-26T14:16:36.530Z"
   },
   {
    "duration": 31,
    "start_time": "2024-07-26T14:17:17.179Z"
   },
   {
    "duration": 1238,
    "start_time": "2024-07-26T14:21:45.944Z"
   },
   {
    "duration": 73,
    "start_time": "2024-07-26T14:21:47.185Z"
   },
   {
    "duration": 4,
    "start_time": "2024-07-26T14:21:47.260Z"
   },
   {
    "duration": 341,
    "start_time": "2024-07-26T14:21:47.266Z"
   },
   {
    "duration": 557,
    "start_time": "2024-07-26T14:21:47.609Z"
   },
   {
    "duration": 369,
    "start_time": "2024-07-26T14:21:48.167Z"
   },
   {
    "duration": 17,
    "start_time": "2024-07-26T14:21:48.539Z"
   },
   {
    "duration": 37,
    "start_time": "2024-07-26T14:21:48.558Z"
   },
   {
    "duration": 18,
    "start_time": "2024-07-26T14:21:48.597Z"
   },
   {
    "duration": 23,
    "start_time": "2024-07-26T14:21:48.620Z"
   },
   {
    "duration": 29,
    "start_time": "2024-07-26T14:21:48.645Z"
   },
   {
    "duration": 27,
    "start_time": "2024-07-26T14:21:48.676Z"
   },
   {
    "duration": 11,
    "start_time": "2024-07-26T14:21:48.705Z"
   },
   {
    "duration": 42,
    "start_time": "2024-07-26T14:21:48.718Z"
   },
   {
    "duration": 23,
    "start_time": "2024-07-26T14:21:48.762Z"
   },
   {
    "duration": 28,
    "start_time": "2024-07-26T14:21:48.787Z"
   },
   {
    "duration": 169,
    "start_time": "2024-07-26T14:21:48.817Z"
   },
   {
    "duration": 228,
    "start_time": "2024-07-26T14:21:48.987Z"
   },
   {
    "duration": 154,
    "start_time": "2024-07-26T14:21:49.216Z"
   },
   {
    "duration": 94,
    "start_time": "2024-07-26T14:21:49.372Z"
   },
   {
    "duration": 203,
    "start_time": "2024-07-26T14:21:49.467Z"
   },
   {
    "duration": 240,
    "start_time": "2024-07-26T14:21:49.672Z"
   },
   {
    "duration": 226,
    "start_time": "2024-07-26T14:21:49.914Z"
   },
   {
    "duration": 13,
    "start_time": "2024-07-26T14:21:50.145Z"
   },
   {
    "duration": 69,
    "start_time": "2024-07-26T14:21:50.160Z"
   },
   {
    "duration": 4,
    "start_time": "2024-07-26T14:21:50.230Z"
   },
   {
    "duration": 61,
    "start_time": "2024-07-26T14:21:50.236Z"
   },
   {
    "duration": 23,
    "start_time": "2024-07-26T14:21:50.300Z"
   },
   {
    "duration": 36,
    "start_time": "2024-07-26T14:21:50.325Z"
   },
   {
    "duration": 75,
    "start_time": "2024-07-26T14:21:50.363Z"
   },
   {
    "duration": 9,
    "start_time": "2024-07-26T14:21:50.439Z"
   },
   {
    "duration": 511,
    "start_time": "2024-07-26T14:21:50.450Z"
   },
   {
    "duration": 514,
    "start_time": "2024-07-26T14:21:50.962Z"
   },
   {
    "duration": 70,
    "start_time": "2024-07-26T14:21:51.478Z"
   },
   {
    "duration": 19,
    "start_time": "2024-07-26T14:21:51.549Z"
   },
   {
    "duration": 120,
    "start_time": "2024-07-26T14:21:51.570Z"
   },
   {
    "duration": 19,
    "start_time": "2024-07-26T14:21:51.692Z"
   },
   {
    "duration": 50,
    "start_time": "2024-07-26T14:21:51.712Z"
   },
   {
    "duration": 5,
    "start_time": "2024-07-26T14:21:51.764Z"
   },
   {
    "duration": 14,
    "start_time": "2024-07-26T14:21:51.771Z"
   },
   {
    "duration": 5,
    "start_time": "2024-07-26T14:21:51.786Z"
   },
   {
    "duration": 5,
    "start_time": "2024-07-26T14:21:51.792Z"
   },
   {
    "duration": 5,
    "start_time": "2024-07-26T14:21:51.799Z"
   },
   {
    "duration": 26,
    "start_time": "2024-07-26T14:21:51.806Z"
   },
   {
    "duration": 9,
    "start_time": "2024-07-26T14:21:51.834Z"
   },
   {
    "duration": 5,
    "start_time": "2024-07-26T14:21:51.845Z"
   }
  ],
  "kernelspec": {
   "display_name": "Python 3 (ipykernel)",
   "language": "python",
   "name": "python3"
  },
  "language_info": {
   "codemirror_mode": {
    "name": "ipython",
    "version": 3
   },
   "file_extension": ".py",
   "mimetype": "text/x-python",
   "name": "python",
   "nbconvert_exporter": "python",
   "pygments_lexer": "ipython3",
   "version": "3.9.5"
  },
  "toc": {
   "base_numbering": 1,
   "nav_menu": {},
   "number_sections": true,
   "sideBar": true,
   "skip_h1_title": true,
   "title_cell": "Table of Contents",
   "title_sidebar": "Contents",
   "toc_cell": false,
   "toc_position": {
    "height": "499.2px",
    "left": "37px",
    "top": "138.525px",
    "width": "224px"
   },
   "toc_section_display": true,
   "toc_window_display": true
  }
 },
 "nbformat": 4,
 "nbformat_minor": 5
}
