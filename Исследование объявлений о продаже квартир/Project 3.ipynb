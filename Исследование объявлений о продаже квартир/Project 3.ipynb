{
 "cells": [
  {
   "cell_type": "markdown",
   "metadata": {},
   "source": [
    "# Исследование объявлений о продаже квартир\n",
    "\n",
    "В вашем распоряжении данные сервиса Яндекс.Недвижимость — архив объявлений о продаже квартир в Санкт-Петербурге и соседних населённых пунктов за несколько лет. Нужно научиться определять рыночную стоимость объектов недвижимости. Ваша задача — установить параметры. Это позволит построить автоматизированную систему: она отследит аномалии и мошенническую деятельность. \n",
    "\n",
    "По каждой квартире на продажу доступны два вида данных. Первые вписаны пользователем, вторые — получены автоматически на основе картографических данных. Например, расстояние до центра, аэропорта, ближайшего парка и водоёма. "
   ]
  },
  {
   "cell_type": "markdown",
   "metadata": {},
   "source": [
    "### Откройте файл с данными и изучите общую информацию. "
   ]
  },
  {
   "cell_type": "markdown",
   "metadata": {},
   "source": [
    "**1.1. Импортируем библиотеку pandas. Прочитаем csv-файл в датафрейм и сохраним в переменную data**"
   ]
  },
  {
   "cell_type": "code",
   "execution_count": 1,
   "metadata": {},
   "outputs": [],
   "source": [
    "import pandas as pd # импортируем библиотеку pandas\n",
    "import numpy as np\n",
    "import matplotlib.pyplot as plt\n",
    "import seaborn as sns\n"
   ]
  },
  {
   "cell_type": "code",
   "execution_count": 2,
   "metadata": {},
   "outputs": [],
   "source": [
    "data = pd.read_csv('/datasets/real_estate_data.csv', sep='\\t') # прочитаем csv-файл"
   ]
  },
  {
   "cell_type": "markdown",
   "metadata": {},
   "source": [
    "**1.2. Выведем первые 20 строчек датафрейма data на экран.**"
   ]
  },
  {
   "cell_type": "code",
   "execution_count": 3,
   "metadata": {},
   "outputs": [
    {
     "data": {
      "text/html": [
       "<div>\n",
       "<style scoped>\n",
       "    .dataframe tbody tr th:only-of-type {\n",
       "        vertical-align: middle;\n",
       "    }\n",
       "\n",
       "    .dataframe tbody tr th {\n",
       "        vertical-align: top;\n",
       "    }\n",
       "\n",
       "    .dataframe thead th {\n",
       "        text-align: right;\n",
       "    }\n",
       "</style>\n",
       "<table border=\"1\" class=\"dataframe\">\n",
       "  <thead>\n",
       "    <tr style=\"text-align: right;\">\n",
       "      <th></th>\n",
       "      <th>total_images</th>\n",
       "      <th>last_price</th>\n",
       "      <th>total_area</th>\n",
       "      <th>first_day_exposition</th>\n",
       "      <th>rooms</th>\n",
       "      <th>ceiling_height</th>\n",
       "      <th>floors_total</th>\n",
       "      <th>living_area</th>\n",
       "      <th>floor</th>\n",
       "      <th>is_apartment</th>\n",
       "      <th>...</th>\n",
       "      <th>kitchen_area</th>\n",
       "      <th>balcony</th>\n",
       "      <th>locality_name</th>\n",
       "      <th>airports_nearest</th>\n",
       "      <th>cityCenters_nearest</th>\n",
       "      <th>parks_around3000</th>\n",
       "      <th>parks_nearest</th>\n",
       "      <th>ponds_around3000</th>\n",
       "      <th>ponds_nearest</th>\n",
       "      <th>days_exposition</th>\n",
       "    </tr>\n",
       "  </thead>\n",
       "  <tbody>\n",
       "    <tr>\n",
       "      <th>0</th>\n",
       "      <td>20</td>\n",
       "      <td>13000000.0</td>\n",
       "      <td>108.00</td>\n",
       "      <td>2019-03-07T00:00:00</td>\n",
       "      <td>3</td>\n",
       "      <td>2.70</td>\n",
       "      <td>16.0</td>\n",
       "      <td>51.00</td>\n",
       "      <td>8</td>\n",
       "      <td>NaN</td>\n",
       "      <td>...</td>\n",
       "      <td>25.00</td>\n",
       "      <td>NaN</td>\n",
       "      <td>Санкт-Петербург</td>\n",
       "      <td>18863.0</td>\n",
       "      <td>16028.0</td>\n",
       "      <td>1.0</td>\n",
       "      <td>482.0</td>\n",
       "      <td>2.0</td>\n",
       "      <td>755.0</td>\n",
       "      <td>NaN</td>\n",
       "    </tr>\n",
       "    <tr>\n",
       "      <th>1</th>\n",
       "      <td>7</td>\n",
       "      <td>3350000.0</td>\n",
       "      <td>40.40</td>\n",
       "      <td>2018-12-04T00:00:00</td>\n",
       "      <td>1</td>\n",
       "      <td>NaN</td>\n",
       "      <td>11.0</td>\n",
       "      <td>18.60</td>\n",
       "      <td>1</td>\n",
       "      <td>NaN</td>\n",
       "      <td>...</td>\n",
       "      <td>11.00</td>\n",
       "      <td>2.0</td>\n",
       "      <td>посёлок Шушары</td>\n",
       "      <td>12817.0</td>\n",
       "      <td>18603.0</td>\n",
       "      <td>0.0</td>\n",
       "      <td>NaN</td>\n",
       "      <td>0.0</td>\n",
       "      <td>NaN</td>\n",
       "      <td>81.0</td>\n",
       "    </tr>\n",
       "    <tr>\n",
       "      <th>2</th>\n",
       "      <td>10</td>\n",
       "      <td>5196000.0</td>\n",
       "      <td>56.00</td>\n",
       "      <td>2015-08-20T00:00:00</td>\n",
       "      <td>2</td>\n",
       "      <td>NaN</td>\n",
       "      <td>5.0</td>\n",
       "      <td>34.30</td>\n",
       "      <td>4</td>\n",
       "      <td>NaN</td>\n",
       "      <td>...</td>\n",
       "      <td>8.30</td>\n",
       "      <td>0.0</td>\n",
       "      <td>Санкт-Петербург</td>\n",
       "      <td>21741.0</td>\n",
       "      <td>13933.0</td>\n",
       "      <td>1.0</td>\n",
       "      <td>90.0</td>\n",
       "      <td>2.0</td>\n",
       "      <td>574.0</td>\n",
       "      <td>558.0</td>\n",
       "    </tr>\n",
       "    <tr>\n",
       "      <th>3</th>\n",
       "      <td>0</td>\n",
       "      <td>64900000.0</td>\n",
       "      <td>159.00</td>\n",
       "      <td>2015-07-24T00:00:00</td>\n",
       "      <td>3</td>\n",
       "      <td>NaN</td>\n",
       "      <td>14.0</td>\n",
       "      <td>NaN</td>\n",
       "      <td>9</td>\n",
       "      <td>NaN</td>\n",
       "      <td>...</td>\n",
       "      <td>NaN</td>\n",
       "      <td>0.0</td>\n",
       "      <td>Санкт-Петербург</td>\n",
       "      <td>28098.0</td>\n",
       "      <td>6800.0</td>\n",
       "      <td>2.0</td>\n",
       "      <td>84.0</td>\n",
       "      <td>3.0</td>\n",
       "      <td>234.0</td>\n",
       "      <td>424.0</td>\n",
       "    </tr>\n",
       "    <tr>\n",
       "      <th>4</th>\n",
       "      <td>2</td>\n",
       "      <td>10000000.0</td>\n",
       "      <td>100.00</td>\n",
       "      <td>2018-06-19T00:00:00</td>\n",
       "      <td>2</td>\n",
       "      <td>3.03</td>\n",
       "      <td>14.0</td>\n",
       "      <td>32.00</td>\n",
       "      <td>13</td>\n",
       "      <td>NaN</td>\n",
       "      <td>...</td>\n",
       "      <td>41.00</td>\n",
       "      <td>NaN</td>\n",
       "      <td>Санкт-Петербург</td>\n",
       "      <td>31856.0</td>\n",
       "      <td>8098.0</td>\n",
       "      <td>2.0</td>\n",
       "      <td>112.0</td>\n",
       "      <td>1.0</td>\n",
       "      <td>48.0</td>\n",
       "      <td>121.0</td>\n",
       "    </tr>\n",
       "    <tr>\n",
       "      <th>5</th>\n",
       "      <td>10</td>\n",
       "      <td>2890000.0</td>\n",
       "      <td>30.40</td>\n",
       "      <td>2018-09-10T00:00:00</td>\n",
       "      <td>1</td>\n",
       "      <td>NaN</td>\n",
       "      <td>12.0</td>\n",
       "      <td>14.40</td>\n",
       "      <td>5</td>\n",
       "      <td>NaN</td>\n",
       "      <td>...</td>\n",
       "      <td>9.10</td>\n",
       "      <td>NaN</td>\n",
       "      <td>городской посёлок Янино-1</td>\n",
       "      <td>NaN</td>\n",
       "      <td>NaN</td>\n",
       "      <td>NaN</td>\n",
       "      <td>NaN</td>\n",
       "      <td>NaN</td>\n",
       "      <td>NaN</td>\n",
       "      <td>55.0</td>\n",
       "    </tr>\n",
       "    <tr>\n",
       "      <th>6</th>\n",
       "      <td>6</td>\n",
       "      <td>3700000.0</td>\n",
       "      <td>37.30</td>\n",
       "      <td>2017-11-02T00:00:00</td>\n",
       "      <td>1</td>\n",
       "      <td>NaN</td>\n",
       "      <td>26.0</td>\n",
       "      <td>10.60</td>\n",
       "      <td>6</td>\n",
       "      <td>NaN</td>\n",
       "      <td>...</td>\n",
       "      <td>14.40</td>\n",
       "      <td>1.0</td>\n",
       "      <td>посёлок Парголово</td>\n",
       "      <td>52996.0</td>\n",
       "      <td>19143.0</td>\n",
       "      <td>0.0</td>\n",
       "      <td>NaN</td>\n",
       "      <td>0.0</td>\n",
       "      <td>NaN</td>\n",
       "      <td>155.0</td>\n",
       "    </tr>\n",
       "    <tr>\n",
       "      <th>7</th>\n",
       "      <td>5</td>\n",
       "      <td>7915000.0</td>\n",
       "      <td>71.60</td>\n",
       "      <td>2019-04-18T00:00:00</td>\n",
       "      <td>2</td>\n",
       "      <td>NaN</td>\n",
       "      <td>24.0</td>\n",
       "      <td>NaN</td>\n",
       "      <td>22</td>\n",
       "      <td>NaN</td>\n",
       "      <td>...</td>\n",
       "      <td>18.90</td>\n",
       "      <td>2.0</td>\n",
       "      <td>Санкт-Петербург</td>\n",
       "      <td>23982.0</td>\n",
       "      <td>11634.0</td>\n",
       "      <td>0.0</td>\n",
       "      <td>NaN</td>\n",
       "      <td>0.0</td>\n",
       "      <td>NaN</td>\n",
       "      <td>NaN</td>\n",
       "    </tr>\n",
       "    <tr>\n",
       "      <th>8</th>\n",
       "      <td>20</td>\n",
       "      <td>2900000.0</td>\n",
       "      <td>33.16</td>\n",
       "      <td>2018-05-23T00:00:00</td>\n",
       "      <td>1</td>\n",
       "      <td>NaN</td>\n",
       "      <td>27.0</td>\n",
       "      <td>15.43</td>\n",
       "      <td>26</td>\n",
       "      <td>NaN</td>\n",
       "      <td>...</td>\n",
       "      <td>8.81</td>\n",
       "      <td>NaN</td>\n",
       "      <td>посёлок Мурино</td>\n",
       "      <td>NaN</td>\n",
       "      <td>NaN</td>\n",
       "      <td>NaN</td>\n",
       "      <td>NaN</td>\n",
       "      <td>NaN</td>\n",
       "      <td>NaN</td>\n",
       "      <td>189.0</td>\n",
       "    </tr>\n",
       "    <tr>\n",
       "      <th>9</th>\n",
       "      <td>18</td>\n",
       "      <td>5400000.0</td>\n",
       "      <td>61.00</td>\n",
       "      <td>2017-02-26T00:00:00</td>\n",
       "      <td>3</td>\n",
       "      <td>2.50</td>\n",
       "      <td>9.0</td>\n",
       "      <td>43.60</td>\n",
       "      <td>7</td>\n",
       "      <td>NaN</td>\n",
       "      <td>...</td>\n",
       "      <td>6.50</td>\n",
       "      <td>2.0</td>\n",
       "      <td>Санкт-Петербург</td>\n",
       "      <td>50898.0</td>\n",
       "      <td>15008.0</td>\n",
       "      <td>0.0</td>\n",
       "      <td>NaN</td>\n",
       "      <td>0.0</td>\n",
       "      <td>NaN</td>\n",
       "      <td>289.0</td>\n",
       "    </tr>\n",
       "    <tr>\n",
       "      <th>10</th>\n",
       "      <td>5</td>\n",
       "      <td>5050000.0</td>\n",
       "      <td>39.60</td>\n",
       "      <td>2017-11-16T00:00:00</td>\n",
       "      <td>1</td>\n",
       "      <td>2.67</td>\n",
       "      <td>12.0</td>\n",
       "      <td>20.30</td>\n",
       "      <td>3</td>\n",
       "      <td>NaN</td>\n",
       "      <td>...</td>\n",
       "      <td>8.50</td>\n",
       "      <td>NaN</td>\n",
       "      <td>Санкт-Петербург</td>\n",
       "      <td>38357.0</td>\n",
       "      <td>13878.0</td>\n",
       "      <td>1.0</td>\n",
       "      <td>310.0</td>\n",
       "      <td>2.0</td>\n",
       "      <td>553.0</td>\n",
       "      <td>137.0</td>\n",
       "    </tr>\n",
       "    <tr>\n",
       "      <th>11</th>\n",
       "      <td>9</td>\n",
       "      <td>3300000.0</td>\n",
       "      <td>44.00</td>\n",
       "      <td>2018-08-27T00:00:00</td>\n",
       "      <td>2</td>\n",
       "      <td>NaN</td>\n",
       "      <td>5.0</td>\n",
       "      <td>31.00</td>\n",
       "      <td>4</td>\n",
       "      <td>False</td>\n",
       "      <td>...</td>\n",
       "      <td>6.00</td>\n",
       "      <td>1.0</td>\n",
       "      <td>Ломоносов</td>\n",
       "      <td>48252.0</td>\n",
       "      <td>51677.0</td>\n",
       "      <td>0.0</td>\n",
       "      <td>NaN</td>\n",
       "      <td>0.0</td>\n",
       "      <td>NaN</td>\n",
       "      <td>7.0</td>\n",
       "    </tr>\n",
       "    <tr>\n",
       "      <th>12</th>\n",
       "      <td>10</td>\n",
       "      <td>3890000.0</td>\n",
       "      <td>54.00</td>\n",
       "      <td>2016-06-30T00:00:00</td>\n",
       "      <td>2</td>\n",
       "      <td>NaN</td>\n",
       "      <td>5.0</td>\n",
       "      <td>30.00</td>\n",
       "      <td>5</td>\n",
       "      <td>NaN</td>\n",
       "      <td>...</td>\n",
       "      <td>9.00</td>\n",
       "      <td>0.0</td>\n",
       "      <td>Сертолово</td>\n",
       "      <td>NaN</td>\n",
       "      <td>NaN</td>\n",
       "      <td>NaN</td>\n",
       "      <td>NaN</td>\n",
       "      <td>NaN</td>\n",
       "      <td>NaN</td>\n",
       "      <td>90.0</td>\n",
       "    </tr>\n",
       "    <tr>\n",
       "      <th>13</th>\n",
       "      <td>20</td>\n",
       "      <td>3550000.0</td>\n",
       "      <td>42.80</td>\n",
       "      <td>2017-07-01T00:00:00</td>\n",
       "      <td>2</td>\n",
       "      <td>2.56</td>\n",
       "      <td>5.0</td>\n",
       "      <td>27.00</td>\n",
       "      <td>5</td>\n",
       "      <td>NaN</td>\n",
       "      <td>...</td>\n",
       "      <td>5.20</td>\n",
       "      <td>1.0</td>\n",
       "      <td>Петергоф</td>\n",
       "      <td>37868.0</td>\n",
       "      <td>33058.0</td>\n",
       "      <td>1.0</td>\n",
       "      <td>294.0</td>\n",
       "      <td>3.0</td>\n",
       "      <td>298.0</td>\n",
       "      <td>366.0</td>\n",
       "    </tr>\n",
       "    <tr>\n",
       "      <th>14</th>\n",
       "      <td>1</td>\n",
       "      <td>4400000.0</td>\n",
       "      <td>36.00</td>\n",
       "      <td>2016-06-23T00:00:00</td>\n",
       "      <td>1</td>\n",
       "      <td>NaN</td>\n",
       "      <td>6.0</td>\n",
       "      <td>17.00</td>\n",
       "      <td>1</td>\n",
       "      <td>NaN</td>\n",
       "      <td>...</td>\n",
       "      <td>8.00</td>\n",
       "      <td>0.0</td>\n",
       "      <td>Пушкин</td>\n",
       "      <td>20782.0</td>\n",
       "      <td>30759.0</td>\n",
       "      <td>0.0</td>\n",
       "      <td>NaN</td>\n",
       "      <td>1.0</td>\n",
       "      <td>96.0</td>\n",
       "      <td>203.0</td>\n",
       "    </tr>\n",
       "    <tr>\n",
       "      <th>15</th>\n",
       "      <td>16</td>\n",
       "      <td>4650000.0</td>\n",
       "      <td>39.00</td>\n",
       "      <td>2017-11-18T00:00:00</td>\n",
       "      <td>1</td>\n",
       "      <td>NaN</td>\n",
       "      <td>14.0</td>\n",
       "      <td>20.50</td>\n",
       "      <td>5</td>\n",
       "      <td>NaN</td>\n",
       "      <td>...</td>\n",
       "      <td>7.60</td>\n",
       "      <td>1.0</td>\n",
       "      <td>Санкт-Петербург</td>\n",
       "      <td>12900.0</td>\n",
       "      <td>14259.0</td>\n",
       "      <td>1.0</td>\n",
       "      <td>590.0</td>\n",
       "      <td>1.0</td>\n",
       "      <td>296.0</td>\n",
       "      <td>19.0</td>\n",
       "    </tr>\n",
       "    <tr>\n",
       "      <th>16</th>\n",
       "      <td>11</td>\n",
       "      <td>6700000.0</td>\n",
       "      <td>82.00</td>\n",
       "      <td>2017-11-23T00:00:00</td>\n",
       "      <td>3</td>\n",
       "      <td>3.05</td>\n",
       "      <td>5.0</td>\n",
       "      <td>55.60</td>\n",
       "      <td>1</td>\n",
       "      <td>NaN</td>\n",
       "      <td>...</td>\n",
       "      <td>9.00</td>\n",
       "      <td>NaN</td>\n",
       "      <td>Санкт-Петербург</td>\n",
       "      <td>22108.0</td>\n",
       "      <td>10698.0</td>\n",
       "      <td>3.0</td>\n",
       "      <td>420.0</td>\n",
       "      <td>0.0</td>\n",
       "      <td>NaN</td>\n",
       "      <td>397.0</td>\n",
       "    </tr>\n",
       "    <tr>\n",
       "      <th>17</th>\n",
       "      <td>6</td>\n",
       "      <td>4180000.0</td>\n",
       "      <td>36.00</td>\n",
       "      <td>2016-09-09T00:00:00</td>\n",
       "      <td>1</td>\n",
       "      <td>NaN</td>\n",
       "      <td>17.0</td>\n",
       "      <td>16.50</td>\n",
       "      <td>7</td>\n",
       "      <td>NaN</td>\n",
       "      <td>...</td>\n",
       "      <td>11.00</td>\n",
       "      <td>1.0</td>\n",
       "      <td>Санкт-Петербург</td>\n",
       "      <td>33564.0</td>\n",
       "      <td>14616.0</td>\n",
       "      <td>0.0</td>\n",
       "      <td>NaN</td>\n",
       "      <td>1.0</td>\n",
       "      <td>859.0</td>\n",
       "      <td>571.0</td>\n",
       "    </tr>\n",
       "    <tr>\n",
       "      <th>18</th>\n",
       "      <td>8</td>\n",
       "      <td>3250000.0</td>\n",
       "      <td>31.00</td>\n",
       "      <td>2017-01-27T00:00:00</td>\n",
       "      <td>1</td>\n",
       "      <td>2.50</td>\n",
       "      <td>5.0</td>\n",
       "      <td>19.40</td>\n",
       "      <td>2</td>\n",
       "      <td>NaN</td>\n",
       "      <td>...</td>\n",
       "      <td>5.60</td>\n",
       "      <td>1.0</td>\n",
       "      <td>Санкт-Петербург</td>\n",
       "      <td>44060.0</td>\n",
       "      <td>10842.0</td>\n",
       "      <td>1.0</td>\n",
       "      <td>759.0</td>\n",
       "      <td>0.0</td>\n",
       "      <td>NaN</td>\n",
       "      <td>168.0</td>\n",
       "    </tr>\n",
       "    <tr>\n",
       "      <th>19</th>\n",
       "      <td>16</td>\n",
       "      <td>14200000.0</td>\n",
       "      <td>121.00</td>\n",
       "      <td>2019-01-09T00:00:00</td>\n",
       "      <td>3</td>\n",
       "      <td>2.75</td>\n",
       "      <td>16.0</td>\n",
       "      <td>76.00</td>\n",
       "      <td>8</td>\n",
       "      <td>NaN</td>\n",
       "      <td>...</td>\n",
       "      <td>12.00</td>\n",
       "      <td>NaN</td>\n",
       "      <td>Санкт-Петербург</td>\n",
       "      <td>38900.0</td>\n",
       "      <td>12843.0</td>\n",
       "      <td>0.0</td>\n",
       "      <td>NaN</td>\n",
       "      <td>0.0</td>\n",
       "      <td>NaN</td>\n",
       "      <td>97.0</td>\n",
       "    </tr>\n",
       "  </tbody>\n",
       "</table>\n",
       "<p>20 rows × 22 columns</p>\n",
       "</div>"
      ],
      "text/plain": [
       "    total_images  last_price  total_area first_day_exposition  rooms  \\\n",
       "0             20  13000000.0      108.00  2019-03-07T00:00:00      3   \n",
       "1              7   3350000.0       40.40  2018-12-04T00:00:00      1   \n",
       "2             10   5196000.0       56.00  2015-08-20T00:00:00      2   \n",
       "3              0  64900000.0      159.00  2015-07-24T00:00:00      3   \n",
       "4              2  10000000.0      100.00  2018-06-19T00:00:00      2   \n",
       "5             10   2890000.0       30.40  2018-09-10T00:00:00      1   \n",
       "6              6   3700000.0       37.30  2017-11-02T00:00:00      1   \n",
       "7              5   7915000.0       71.60  2019-04-18T00:00:00      2   \n",
       "8             20   2900000.0       33.16  2018-05-23T00:00:00      1   \n",
       "9             18   5400000.0       61.00  2017-02-26T00:00:00      3   \n",
       "10             5   5050000.0       39.60  2017-11-16T00:00:00      1   \n",
       "11             9   3300000.0       44.00  2018-08-27T00:00:00      2   \n",
       "12            10   3890000.0       54.00  2016-06-30T00:00:00      2   \n",
       "13            20   3550000.0       42.80  2017-07-01T00:00:00      2   \n",
       "14             1   4400000.0       36.00  2016-06-23T00:00:00      1   \n",
       "15            16   4650000.0       39.00  2017-11-18T00:00:00      1   \n",
       "16            11   6700000.0       82.00  2017-11-23T00:00:00      3   \n",
       "17             6   4180000.0       36.00  2016-09-09T00:00:00      1   \n",
       "18             8   3250000.0       31.00  2017-01-27T00:00:00      1   \n",
       "19            16  14200000.0      121.00  2019-01-09T00:00:00      3   \n",
       "\n",
       "    ceiling_height  floors_total  living_area  floor is_apartment  ...  \\\n",
       "0             2.70          16.0        51.00      8          NaN  ...   \n",
       "1              NaN          11.0        18.60      1          NaN  ...   \n",
       "2              NaN           5.0        34.30      4          NaN  ...   \n",
       "3              NaN          14.0          NaN      9          NaN  ...   \n",
       "4             3.03          14.0        32.00     13          NaN  ...   \n",
       "5              NaN          12.0        14.40      5          NaN  ...   \n",
       "6              NaN          26.0        10.60      6          NaN  ...   \n",
       "7              NaN          24.0          NaN     22          NaN  ...   \n",
       "8              NaN          27.0        15.43     26          NaN  ...   \n",
       "9             2.50           9.0        43.60      7          NaN  ...   \n",
       "10            2.67          12.0        20.30      3          NaN  ...   \n",
       "11             NaN           5.0        31.00      4        False  ...   \n",
       "12             NaN           5.0        30.00      5          NaN  ...   \n",
       "13            2.56           5.0        27.00      5          NaN  ...   \n",
       "14             NaN           6.0        17.00      1          NaN  ...   \n",
       "15             NaN          14.0        20.50      5          NaN  ...   \n",
       "16            3.05           5.0        55.60      1          NaN  ...   \n",
       "17             NaN          17.0        16.50      7          NaN  ...   \n",
       "18            2.50           5.0        19.40      2          NaN  ...   \n",
       "19            2.75          16.0        76.00      8          NaN  ...   \n",
       "\n",
       "    kitchen_area  balcony              locality_name  airports_nearest  \\\n",
       "0          25.00      NaN            Санкт-Петербург           18863.0   \n",
       "1          11.00      2.0             посёлок Шушары           12817.0   \n",
       "2           8.30      0.0            Санкт-Петербург           21741.0   \n",
       "3            NaN      0.0            Санкт-Петербург           28098.0   \n",
       "4          41.00      NaN            Санкт-Петербург           31856.0   \n",
       "5           9.10      NaN  городской посёлок Янино-1               NaN   \n",
       "6          14.40      1.0          посёлок Парголово           52996.0   \n",
       "7          18.90      2.0            Санкт-Петербург           23982.0   \n",
       "8           8.81      NaN             посёлок Мурино               NaN   \n",
       "9           6.50      2.0            Санкт-Петербург           50898.0   \n",
       "10          8.50      NaN            Санкт-Петербург           38357.0   \n",
       "11          6.00      1.0                  Ломоносов           48252.0   \n",
       "12          9.00      0.0                  Сертолово               NaN   \n",
       "13          5.20      1.0                   Петергоф           37868.0   \n",
       "14          8.00      0.0                     Пушкин           20782.0   \n",
       "15          7.60      1.0            Санкт-Петербург           12900.0   \n",
       "16          9.00      NaN            Санкт-Петербург           22108.0   \n",
       "17         11.00      1.0            Санкт-Петербург           33564.0   \n",
       "18          5.60      1.0            Санкт-Петербург           44060.0   \n",
       "19         12.00      NaN            Санкт-Петербург           38900.0   \n",
       "\n",
       "   cityCenters_nearest  parks_around3000  parks_nearest  ponds_around3000  \\\n",
       "0              16028.0               1.0          482.0               2.0   \n",
       "1              18603.0               0.0            NaN               0.0   \n",
       "2              13933.0               1.0           90.0               2.0   \n",
       "3               6800.0               2.0           84.0               3.0   \n",
       "4               8098.0               2.0          112.0               1.0   \n",
       "5                  NaN               NaN            NaN               NaN   \n",
       "6              19143.0               0.0            NaN               0.0   \n",
       "7              11634.0               0.0            NaN               0.0   \n",
       "8                  NaN               NaN            NaN               NaN   \n",
       "9              15008.0               0.0            NaN               0.0   \n",
       "10             13878.0               1.0          310.0               2.0   \n",
       "11             51677.0               0.0            NaN               0.0   \n",
       "12                 NaN               NaN            NaN               NaN   \n",
       "13             33058.0               1.0          294.0               3.0   \n",
       "14             30759.0               0.0            NaN               1.0   \n",
       "15             14259.0               1.0          590.0               1.0   \n",
       "16             10698.0               3.0          420.0               0.0   \n",
       "17             14616.0               0.0            NaN               1.0   \n",
       "18             10842.0               1.0          759.0               0.0   \n",
       "19             12843.0               0.0            NaN               0.0   \n",
       "\n",
       "    ponds_nearest  days_exposition  \n",
       "0           755.0              NaN  \n",
       "1             NaN             81.0  \n",
       "2           574.0            558.0  \n",
       "3           234.0            424.0  \n",
       "4            48.0            121.0  \n",
       "5             NaN             55.0  \n",
       "6             NaN            155.0  \n",
       "7             NaN              NaN  \n",
       "8             NaN            189.0  \n",
       "9             NaN            289.0  \n",
       "10          553.0            137.0  \n",
       "11            NaN              7.0  \n",
       "12            NaN             90.0  \n",
       "13          298.0            366.0  \n",
       "14           96.0            203.0  \n",
       "15          296.0             19.0  \n",
       "16            NaN            397.0  \n",
       "17          859.0            571.0  \n",
       "18            NaN            168.0  \n",
       "19            NaN             97.0  \n",
       "\n",
       "[20 rows x 22 columns]"
      ]
     },
     "metadata": {},
     "output_type": "display_data"
    }
   ],
   "source": [
    "display(data.head(20))"
   ]
  },
  {
   "cell_type": "markdown",
   "metadata": {},
   "source": [
    "**1.3. Выведем основную информацию о датафрейме с помощью метода info().**"
   ]
  },
  {
   "cell_type": "code",
   "execution_count": 4,
   "metadata": {},
   "outputs": [
    {
     "name": "stdout",
     "output_type": "stream",
     "text": [
      "<class 'pandas.core.frame.DataFrame'>\n",
      "RangeIndex: 23699 entries, 0 to 23698\n",
      "Data columns (total 22 columns):\n",
      " #   Column                Non-Null Count  Dtype  \n",
      "---  ------                --------------  -----  \n",
      " 0   total_images          23699 non-null  int64  \n",
      " 1   last_price            23699 non-null  float64\n",
      " 2   total_area            23699 non-null  float64\n",
      " 3   first_day_exposition  23699 non-null  object \n",
      " 4   rooms                 23699 non-null  int64  \n",
      " 5   ceiling_height        14504 non-null  float64\n",
      " 6   floors_total          23613 non-null  float64\n",
      " 7   living_area           21796 non-null  float64\n",
      " 8   floor                 23699 non-null  int64  \n",
      " 9   is_apartment          2775 non-null   object \n",
      " 10  studio                23699 non-null  bool   \n",
      " 11  open_plan             23699 non-null  bool   \n",
      " 12  kitchen_area          21421 non-null  float64\n",
      " 13  balcony               12180 non-null  float64\n",
      " 14  locality_name         23650 non-null  object \n",
      " 15  airports_nearest      18157 non-null  float64\n",
      " 16  cityCenters_nearest   18180 non-null  float64\n",
      " 17  parks_around3000      18181 non-null  float64\n",
      " 18  parks_nearest         8079 non-null   float64\n",
      " 19  ponds_around3000      18181 non-null  float64\n",
      " 20  ponds_nearest         9110 non-null   float64\n",
      " 21  days_exposition       20518 non-null  float64\n",
      "dtypes: bool(2), float64(14), int64(3), object(3)\n",
      "memory usage: 3.7+ MB\n"
     ]
    }
   ],
   "source": [
    "data.info()"
   ]
  },
  {
   "cell_type": "markdown",
   "metadata": {},
   "source": [
    "**Вывод:**\n",
    "\n",
    "Заметили следующее:\n",
    "\n",
    "\n",
    "1. Всего в датафрейме 23 699 строк;\n",
    "2. В столбцах есть нулевые значения (Изучем пропуски позже);\n",
    "3. Не верный тип данных (Изучем и изменим тип данных позже). "
   ]
  },
  {
   "cell_type": "markdown",
   "metadata": {},
   "source": [
    "**1.4. Расчитаем описательную статистику для всего датафрейма**"
   ]
  },
  {
   "cell_type": "code",
   "execution_count": 5,
   "metadata": {},
   "outputs": [
    {
     "name": "stdout",
     "output_type": "stream",
     "text": [
      "       total_images    last_price    total_area         rooms  ceiling_height  \\\n",
      "count  23699.000000  2.369900e+04  23699.000000  23699.000000    14504.000000   \n",
      "mean       9.858475  6.541549e+06     60.348651      2.070636        2.771499   \n",
      "std        5.682529  1.088701e+07     35.654083      1.078405        1.261056   \n",
      "min        0.000000  1.219000e+04     12.000000      0.000000        1.000000   \n",
      "25%        6.000000  3.400000e+06     40.000000      1.000000        2.520000   \n",
      "50%        9.000000  4.650000e+06     52.000000      2.000000        2.650000   \n",
      "75%       14.000000  6.800000e+06     69.900000      3.000000        2.800000   \n",
      "max       50.000000  7.630000e+08    900.000000     19.000000      100.000000   \n",
      "\n",
      "       floors_total   living_area         floor  kitchen_area       balcony  \\\n",
      "count  23613.000000  21796.000000  23699.000000  21421.000000  12180.000000   \n",
      "mean      10.673824     34.457852      5.892358     10.569807      1.150082   \n",
      "std        6.597173     22.030445      4.885249      5.905438      1.071300   \n",
      "min        1.000000      2.000000      1.000000      1.300000      0.000000   \n",
      "25%        5.000000     18.600000      2.000000      7.000000      0.000000   \n",
      "50%        9.000000     30.000000      4.000000      9.100000      1.000000   \n",
      "75%       16.000000     42.300000      8.000000     12.000000      2.000000   \n",
      "max       60.000000    409.700000     33.000000    112.000000      5.000000   \n",
      "\n",
      "       airports_nearest  cityCenters_nearest  parks_around3000  parks_nearest  \\\n",
      "count      18157.000000         18180.000000      18181.000000    8079.000000   \n",
      "mean       28793.672193         14191.277833          0.611408     490.804555   \n",
      "std        12630.880622          8608.386210          0.802074     342.317995   \n",
      "min            0.000000           181.000000          0.000000       1.000000   \n",
      "25%        18585.000000          9238.000000          0.000000     288.000000   \n",
      "50%        26726.000000         13098.500000          0.000000     455.000000   \n",
      "75%        37273.000000         16293.000000          1.000000     612.000000   \n",
      "max        84869.000000         65968.000000          3.000000    3190.000000   \n",
      "\n",
      "       ponds_around3000  ponds_nearest  days_exposition  \n",
      "count      18181.000000    9110.000000     20518.000000  \n",
      "mean           0.770255     517.980900       180.888634  \n",
      "std            0.938346     277.720643       219.727988  \n",
      "min            0.000000      13.000000         1.000000  \n",
      "25%            0.000000     294.000000        45.000000  \n",
      "50%            1.000000     502.000000        95.000000  \n",
      "75%            1.000000     729.000000       232.000000  \n",
      "max            3.000000    1344.000000      1580.000000  \n"
     ]
    }
   ],
   "source": [
    "print(data.describe())"
   ]
  },
  {
   "cell_type": "markdown",
   "metadata": {},
   "source": [
    "**1.5. Построим гистограмму для всех числовых столбцов таблицы на одном графике.**"
   ]
  },
  {
   "cell_type": "code",
   "execution_count": 6,
   "metadata": {},
   "outputs": [
    {
     "data": {
      "image/png": "[encoded data removed]",
      "text/plain": [
       "<Figure size 1080x1440 with 20 Axes>"
      ]
     },
     "metadata": {
      "needs_background": "light"
     },
     "output_type": "display_data"
    }
   ],
   "source": [
    "data.hist(figsize=(15, 20));\n"
   ]
  },
  {
   "cell_type": "markdown",
   "metadata": {},
   "source": [
    "**Вывод:**\n",
    "Из описательной статистики и графика заметили:\n",
    "1. Высота потолков 'ceiling_height' до 100 м.;\n",
    "2. Присутствуют квартиры с пятью балконами;\n",
    "3. Большой разброс в 'days_exposition' от 1 - 1 580;\n",
    "4. 19 комнат в квартире 'rooms'.\n",
    "\n",
    "Есть небольшие анамалии, далее изучим подробно каждый столбец. "
   ]
  },
  {
   "cell_type": "markdown",
   "metadata": {},
   "source": [
    "### Предобработка данных"
   ]
  },
  {
   "cell_type": "markdown",
   "metadata": {},
   "source": [
    "**Выведем количество пропущенных значений для каждого столбца**"
   ]
  },
  {
   "cell_type": "code",
   "execution_count": 7,
   "metadata": {},
   "outputs": [
    {
     "name": "stdout",
     "output_type": "stream",
     "text": [
      "total_images                0\n",
      "last_price                  0\n",
      "total_area                  0\n",
      "first_day_exposition        0\n",
      "rooms                       0\n",
      "ceiling_height           9195\n",
      "floors_total               86\n",
      "living_area              1903\n",
      "floor                       0\n",
      "is_apartment            20924\n",
      "studio                      0\n",
      "open_plan                   0\n",
      "kitchen_area             2278\n",
      "balcony                 11519\n",
      "locality_name              49\n",
      "airports_nearest         5542\n",
      "cityCenters_nearest      5519\n",
      "parks_around3000         5518\n",
      "parks_nearest           15620\n",
      "ponds_around3000         5518\n",
      "ponds_nearest           14589\n",
      "days_exposition          3181\n",
      "dtype: int64\n"
     ]
    }
   ],
   "source": [
    "print(data.isna().sum())"
   ]
  },
  {
   "cell_type": "markdown",
   "metadata": {},
   "source": [
    "**Изучим отдельно каждый столбец с пропущенными значениями - заполним пропуски, избавимся от дубликатов, изменим тип данных и т.д.**"
   ]
  },
  {
   "cell_type": "markdown",
   "metadata": {},
   "source": [
    "**2.1. Предобработка 'ceiling_height'**"
   ]
  },
  {
   "cell_type": "code",
   "execution_count": 8,
   "metadata": {},
   "outputs": [
    {
     "name": "stdout",
     "output_type": "stream",
     "text": [
      "[  2.7     nan   3.03   2.5    2.67   2.56   3.05   2.75   2.6    2.9\n",
      "   2.8    2.55   3.     2.65   3.2    2.61   3.25   3.45   2.77   2.85\n",
      "   2.64   2.57   4.15   3.5    3.3    2.71   4.     2.47   2.73   2.84\n",
      "   3.1    2.34   3.4    3.06   2.72   2.54   2.51   2.78   2.76  25.\n",
      "   2.58   3.7    2.52   5.2    2.87   2.66   2.59   2.     2.45   3.6\n",
      "   2.92   3.11   3.13   3.8    3.15   3.55   3.16   3.62   3.12   2.53\n",
      "   2.74   2.96   2.46   5.3    5.     2.79   2.95   4.06   2.94   3.82\n",
      "   3.54   3.53   2.83   4.7    2.4    3.38   3.01   5.6    3.65   3.9\n",
      "   3.18   3.35   2.3    3.57   2.48   2.62   2.82   3.98   2.63   3.83\n",
      "   3.52   3.95   3.75   2.88   3.67   3.87   3.66   3.85   3.86   4.19\n",
      "   3.24   4.8    4.5    4.2    3.36  32.     3.08   3.68   3.07   3.37\n",
      "   3.09   8.     3.26   3.34   2.81   3.44   2.97   3.14   4.37   2.68\n",
      "   3.22   3.27  27.     4.1    2.93   3.46  24.     3.47   3.33   3.63\n",
      "   3.32  26.     1.2    8.3    2.98   2.86   3.17   4.4    3.28   3.04\n",
      "   4.45   5.5    3.84   3.23   3.02   3.21   3.43   3.78   4.3    3.39\n",
      "   2.69   3.31   4.65   3.56   2.2    3.51   3.93   3.42   2.99   3.49\n",
      "  14.     4.14   2.91   3.88   1.75   4.25   3.29  20.     2.25   3.76\n",
      "   3.69   6.    22.6    2.89   3.58   5.8   27.5    2.49   4.9    3.48\n",
      "  10.3    1.   100.     3.59]\n"
     ]
    }
   ],
   "source": [
    "print(data['ceiling_height'].unique()) #Определим уникальные значения"
   ]
  },
  {
   "cell_type": "code",
   "execution_count": 9,
   "metadata": {},
   "outputs": [
    {
     "name": "stdout",
     "output_type": "stream",
     "text": [
      "count    14504.000000\n",
      "mean         2.771499\n",
      "std          1.261056\n",
      "min          1.000000\n",
      "25%          2.520000\n",
      "50%          2.650000\n",
      "75%          2.800000\n",
      "max        100.000000\n",
      "Name: ceiling_height, dtype: float64\n"
     ]
    }
   ],
   "source": [
    "print(data['ceiling_height'].describe()) # Расчитаем описательную статистику"
   ]
  },
  {
   "cell_type": "markdown",
   "metadata": {},
   "source": [
    "Присутствет большое количество пропущенных значений. Взаимосвязи не выявленно с другими столбцами с пропусками.\n",
    "Медиана от среднего не сильно отличается (2,77 и 2,65), на фоне выбросов в выборке.\n",
    "Изучив информацию о минимальной высоте стен, заполним пропущенные значения - 2,7 - этот показатель почти равен средней и медиане."
   ]
  },
  {
   "cell_type": "code",
   "execution_count": 10,
   "metadata": {},
   "outputs": [],
   "source": [
    "data['ceiling_height'] = data['ceiling_height'].fillna(2.7) #Заменяем пропуски на 2.7"
   ]
  },
  {
   "cell_type": "markdown",
   "metadata": {},
   "source": [
    "Изучим квартиры с потолками менее 2,5 м. (Согласно СанПиН минимальная высота потолков - 2,5 м)\n"
   ]
  },
  {
   "cell_type": "code",
   "execution_count": 11,
   "metadata": {},
   "outputs": [
    {
     "name": "stdout",
     "output_type": "stream",
     "text": [
      "Процент квартир с потолками меньше 2,5 м: 0.308030%\n"
     ]
    }
   ],
   "source": [
    "print('Процент квартир с потолками меньше 2,5 м: {:%}'.format(len(data[data['ceiling_height']<2.5]) / data['ceiling_height'].count()))"
   ]
  },
  {
   "cell_type": "markdown",
   "metadata": {},
   "source": [
    "Квартир с потолками меньше 2,5 м менее 1%. Удалим эти данные из датафрейма."
   ]
  },
  {
   "cell_type": "code",
   "execution_count": 12,
   "metadata": {},
   "outputs": [],
   "source": [
    "data = data.loc[data['ceiling_height']>=2.5] #Перезаполним столбец с потолками, что бы высота была от 2,5 и выше"
   ]
  },
  {
   "cell_type": "code",
   "execution_count": 13,
   "metadata": {},
   "outputs": [
    {
     "name": "stdout",
     "output_type": "stream",
     "text": [
      "       total_images  last_price  total_area first_day_exposition  rooms  \\\n",
      "355              17   3600000.0        55.2  2018-07-12T00:00:00      2   \n",
      "3148             14   2900000.0        75.0  2018-11-12T00:00:00      3   \n",
      "4643              0   4300000.0        45.0  2018-02-01T00:00:00      2   \n",
      "4876              7   3000000.0        25.0  2017-09-27T00:00:00      0   \n",
      "5246              0   2500000.0        54.0  2017-10-13T00:00:00      2   \n",
      "5669              4   4400000.0        50.0  2017-08-08T00:00:00      2   \n",
      "5807             17   8150000.0        80.0  2019-01-09T00:00:00      2   \n",
      "6246              6   3300000.0        44.4  2019-03-25T00:00:00      2   \n",
      "9379              5   3950000.0        42.0  2017-03-26T00:00:00      3   \n",
      "10773             8   3800000.0        58.0  2017-10-13T00:00:00      2   \n",
      "11285             0   1950000.0        37.0  2019-03-20T00:00:00      1   \n",
      "14382             9   1700000.0        35.0  2015-12-04T00:00:00      1   \n",
      "17857             1   3900000.0        56.0  2017-12-22T00:00:00      3   \n",
      "18545             6   3750000.0        43.0  2019-03-18T00:00:00      2   \n",
      "20478            11   8000000.0        45.0  2017-07-18T00:00:00      1   \n",
      "21377            19   4900000.0        42.0  2017-04-18T00:00:00      1   \n",
      "21824            20   2450000.0        44.0  2019-02-12T00:00:00      2   \n",
      "22336            19   9999000.0        92.4  2019-04-05T00:00:00      2   \n",
      "22869             0  15000000.0        25.0  2018-07-25T00:00:00      1   \n",
      "22938            14   4000000.0        98.0  2018-03-15T00:00:00      4   \n",
      "\n",
      "       ceiling_height  floors_total  living_area  floor is_apartment  ...  \\\n",
      "355              25.0           5.0         32.0      2        False  ...   \n",
      "3148             32.0           3.0         53.0      2          NaN  ...   \n",
      "4643             25.0           9.0         30.0      2          NaN  ...   \n",
      "4876             27.0          25.0         17.0     17          NaN  ...   \n",
      "5246             27.0           5.0         30.0      3          NaN  ...   \n",
      "5669             26.0           9.0         21.3      3          NaN  ...   \n",
      "5807             27.0          36.0         41.0     13          NaN  ...   \n",
      "6246             25.0           5.0         31.3      5          NaN  ...   \n",
      "9379             25.0           5.0         30.0      2          NaN  ...   \n",
      "10773            27.0          10.0         30.1      3        False  ...   \n",
      "11285            25.0           5.0         17.0      4        False  ...   \n",
      "14382            25.0           5.0         20.0      2        False  ...   \n",
      "17857            27.0           5.0         33.0      4        False  ...   \n",
      "18545            25.0           5.0         29.0      3        False  ...   \n",
      "20478            27.0           4.0         22.0      2          NaN  ...   \n",
      "21377            27.5          24.0         37.7     19        False  ...   \n",
      "21824            27.0           2.0         38.0      2        False  ...   \n",
      "22336            32.0           6.0         55.5      5        False  ...   \n",
      "22869           100.0           5.0         14.0      5         True  ...   \n",
      "22938            27.0           2.0         73.0      2         True  ...   \n",
      "\n",
      "       kitchen_area  balcony                    locality_name  \\\n",
      "355             NaN      2.0                          Гатчина   \n",
      "3148            8.0      NaN                           Волхов   \n",
      "4643            7.0      1.0                  Санкт-Петербург   \n",
      "4876            NaN      2.0                   посёлок Мурино   \n",
      "5246            9.0      2.0                     деревня Мины   \n",
      "5669            7.0      2.0                  Санкт-Петербург   \n",
      "5807           12.0      5.0                  Санкт-Петербург   \n",
      "6246            5.7      NaN                        Кронштадт   \n",
      "9379            5.2      NaN                  Санкт-Петербург   \n",
      "10773           8.1      2.0                   посёлок Мурино   \n",
      "11285           9.0      2.0                             Луга   \n",
      "14382           8.0      1.0               поселок Новый Свет   \n",
      "17857           NaN      NaN                  Санкт-Петербург   \n",
      "18545           NaN      NaN                  Санкт-Петербург   \n",
      "20478          10.0      1.0                  Санкт-Петербург   \n",
      "21377          11.0      2.0                  Санкт-Петербург   \n",
      "21824           8.6      2.0  городской поселок Большая Ижора   \n",
      "22336          16.5      4.0                  Санкт-Петербург   \n",
      "22869          11.0      5.0                  Санкт-Петербург   \n",
      "22938           9.0      1.0                   деревня Нижняя   \n",
      "\n",
      "       airports_nearest cityCenters_nearest  parks_around3000  parks_nearest  \\\n",
      "355                 NaN                 NaN               NaN            NaN   \n",
      "3148                NaN                 NaN               NaN            NaN   \n",
      "4643            12016.0             13256.0               1.0          658.0   \n",
      "4876                NaN                 NaN               NaN            NaN   \n",
      "5246                NaN                 NaN               NaN            NaN   \n",
      "5669            28981.0             10912.0               1.0          305.0   \n",
      "5807            18732.0             20444.0               0.0            NaN   \n",
      "6246            68923.0             50649.0               1.0          417.0   \n",
      "9379            11647.0             13581.0               0.0            NaN   \n",
      "10773               NaN                 NaN               NaN            NaN   \n",
      "11285               NaN                 NaN               NaN            NaN   \n",
      "14382               NaN                 NaN               NaN            NaN   \n",
      "17857           41030.0             15543.0               0.0            NaN   \n",
      "18545           27054.0              8033.0               1.0          540.0   \n",
      "20478           18975.0              3246.0               0.0            NaN   \n",
      "21377           42742.0              9760.0               0.0            NaN   \n",
      "21824               NaN                 NaN               NaN            NaN   \n",
      "22336           18838.0              3506.0               0.0            NaN   \n",
      "22869           34963.0              8283.0               1.0          223.0   \n",
      "22938               NaN                 NaN               NaN            NaN   \n",
      "\n",
      "       ponds_around3000  ponds_nearest  days_exposition  \n",
      "355                 NaN            NaN            259.0  \n",
      "3148                NaN            NaN              NaN  \n",
      "4643                1.0          331.0            181.0  \n",
      "4876                NaN            NaN             28.0  \n",
      "5246                NaN            NaN            540.0  \n",
      "5669                0.0            NaN            267.0  \n",
      "5807                3.0           80.0             38.0  \n",
      "6246                2.0           73.0              NaN  \n",
      "9379                0.0            NaN              NaN  \n",
      "10773               NaN            NaN             71.0  \n",
      "11285               NaN            NaN             18.0  \n",
      "14382               NaN            NaN            206.0  \n",
      "17857               0.0            NaN             73.0  \n",
      "18545               0.0            NaN             12.0  \n",
      "20478               3.0          449.0            429.0  \n",
      "21377               0.0            NaN             61.0  \n",
      "21824               NaN            NaN              NaN  \n",
      "22336               3.0          511.0              NaN  \n",
      "22869               3.0           30.0             19.0  \n",
      "22938               NaN            NaN             27.0  \n",
      "\n",
      "[20 rows x 22 columns]\n"
     ]
    }
   ],
   "source": [
    "#далее работаем с анамальными значениями\n",
    "print(data[data['ceiling_height'] >= 25].head(40))"
   ]
  },
  {
   "cell_type": "markdown",
   "metadata": {},
   "source": [
    "Высота потолков от 25-100 м.\n",
    "\n",
    "Скорее всего, это ошибка при заполнении - потолок 25 м - это потолок 2,5 м.\n",
    "\n",
    "Изменим это, разделив значения на 10"
   ]
  },
  {
   "cell_type": "code",
   "execution_count": 14,
   "metadata": {},
   "outputs": [
    {
     "name": "stdout",
     "output_type": "stream",
     "text": [
      "[ 2.7   3.03  2.5   2.67  2.56  3.05  2.75  2.6   2.9   2.8   2.55  3.\n",
      "  2.65  3.2   2.61  3.25  3.45  2.77  2.85  2.64  2.57  4.15  3.5   3.3\n",
      "  2.71  4.    2.73  2.84  3.1   3.4   3.06  2.72  2.54  2.51  2.78  2.76\n",
      "  2.58  3.7   2.52  5.2   2.87  2.66  2.59  3.6   2.92  3.11  3.13  3.8\n",
      "  3.15  3.55  3.16  3.62  3.12  2.53  2.74  2.96  5.3   5.    2.79  2.95\n",
      "  4.06  2.94  3.82  3.54  3.53  2.83  4.7   3.38  3.01  5.6   3.65  3.9\n",
      "  3.18  3.35  3.57  2.62  2.82  3.98  2.63  3.83  3.52  3.95  3.75  2.88\n",
      "  3.67  3.87  3.66  3.85  3.86  4.19  3.24  4.8   4.5   4.2   3.36  3.08\n",
      "  3.68  3.07  3.37  3.09  8.    3.26  3.34  2.81  3.44  2.97  3.14  4.37\n",
      "  2.68  3.22  3.27  4.1   2.93  3.46 24.    3.47  3.33  3.63  3.32  8.3\n",
      "  2.98  2.86  3.17  4.4   3.28  3.04  4.45  5.5   3.84  3.23  3.02  3.21\n",
      "  3.43  3.78  4.3   3.39  2.69  3.31  4.65  3.56  3.51  3.93  3.42  2.99\n",
      "  3.49 14.    4.14  2.91  3.88  4.25  3.29 20.    3.76  3.69  6.   22.6\n",
      "  2.89  3.58  5.8   4.9   3.48 10.3  10.    3.59]\n"
     ]
    }
   ],
   "source": [
    "data.loc[(data['ceiling_height'] >= 25), 'ceiling_height'] = data['ceiling_height'] / 10\n",
    "print(data['ceiling_height'].unique()) #Убедимся, что избавились от потолков > 25м. "
   ]
  },
  {
   "cell_type": "markdown",
   "metadata": {},
   "source": [
    "Остаются потолки выше 2,7 м.\n",
    "\n",
    "Согласно СанПиН, потолки возвышаются до 4 м в элитных жилых комплексах, так же квартиры могут быть и двухуровневыми.\n",
    "\n",
    "Проверим, сколько квартир выше 8 м."
   ]
  },
  {
   "cell_type": "code",
   "execution_count": 15,
   "metadata": {},
   "outputs": [
    {
     "name": "stdout",
     "output_type": "stream",
     "text": [
      "Процент квартирс потолками большк 8 м: 0.029628%\n"
     ]
    }
   ],
   "source": [
    "print('Процент квартирс потолками большк 8 м: {:%}'.format(len(data[data['ceiling_height'] > 8.0]) / data['ceiling_height'].count()))"
   ]
  },
  {
   "cell_type": "markdown",
   "metadata": {},
   "source": [
    "Таких квартир менее 1 %.\n",
    "\n",
    "Удалим эти строки из таблицы"
   ]
  },
  {
   "cell_type": "code",
   "execution_count": 16,
   "metadata": {},
   "outputs": [
    {
     "name": "stdout",
     "output_type": "stream",
     "text": [
      "[2.7  3.03 2.5  2.67 2.56 3.05 2.75 2.6  2.9  2.8  2.55 3.   2.65 3.2\n",
      " 2.61 3.25 3.45 2.77 2.85 2.64 2.57 4.15 3.5  3.3  2.71 4.   2.73 2.84\n",
      " 3.1  3.4  3.06 2.72 2.54 2.51 2.78 2.76 2.58 3.7  2.52 5.2  2.87 2.66\n",
      " 2.59 3.6  2.92 3.11 3.13 3.8  3.15 3.55 3.16 3.62 3.12 2.53 2.74 2.96\n",
      " 5.3  5.   2.79 2.95 4.06 2.94 3.82 3.54 3.53 2.83 4.7  3.38 3.01 5.6\n",
      " 3.65 3.9  3.18 3.35 3.57 2.62 2.82 3.98 2.63 3.83 3.52 3.95 3.75 2.88\n",
      " 3.67 3.87 3.66 3.85 3.86 4.19 3.24 4.8  4.5  4.2  3.36 3.08 3.68 3.07\n",
      " 3.37 3.09 8.   3.26 3.34 2.81 3.44 2.97 3.14 4.37 2.68 3.22 3.27 4.1\n",
      " 2.93 3.46 3.47 3.33 3.63 3.32 2.98 2.86 3.17 4.4  3.28 3.04 4.45 5.5\n",
      " 3.84 3.23 3.02 3.21 3.43 3.78 4.3  3.39 2.69 3.31 4.65 3.56 3.51 3.93\n",
      " 3.42 2.99 3.49 4.14 2.91 3.88 4.25 3.29 3.76 3.69 6.   2.89 3.58 5.8\n",
      " 4.9  3.48 3.59]\n",
      "<class 'pandas.core.frame.DataFrame'>\n",
      "Int64Index: 23619 entries, 0 to 23698\n",
      "Data columns (total 22 columns):\n",
      " #   Column                Non-Null Count  Dtype  \n",
      "---  ------                --------------  -----  \n",
      " 0   total_images          23619 non-null  int64  \n",
      " 1   last_price            23619 non-null  float64\n",
      " 2   total_area            23619 non-null  float64\n",
      " 3   first_day_exposition  23619 non-null  object \n",
      " 4   rooms                 23619 non-null  int64  \n",
      " 5   ceiling_height        23619 non-null  float64\n",
      " 6   floors_total          23533 non-null  float64\n",
      " 7   living_area           21722 non-null  float64\n",
      " 8   floor                 23619 non-null  int64  \n",
      " 9   is_apartment          2761 non-null   object \n",
      " 10  studio                23619 non-null  bool   \n",
      " 11  open_plan             23619 non-null  bool   \n",
      " 12  kitchen_area          21349 non-null  float64\n",
      " 13  balcony               12132 non-null  float64\n",
      " 14  locality_name         23570 non-null  object \n",
      " 15  airports_nearest      18108 non-null  float64\n",
      " 16  cityCenters_nearest   18131 non-null  float64\n",
      " 17  parks_around3000      18132 non-null  float64\n",
      " 18  parks_nearest         8049 non-null   float64\n",
      " 19  ponds_around3000      18132 non-null  float64\n",
      " 20  ponds_nearest         9084 non-null   float64\n",
      " 21  days_exposition       20449 non-null  float64\n",
      "dtypes: bool(2), float64(14), int64(3), object(3)\n",
      "memory usage: 3.8+ MB\n"
     ]
    }
   ],
   "source": [
    "data = data.loc[data['ceiling_height'] <= 8.00]\n",
    "print(data['ceiling_height'].unique())\n",
    "data.info()"
   ]
  },
  {
   "cell_type": "markdown",
   "metadata": {},
   "source": [
    "**Итог:**\n",
    "\n",
    "Оставили квартиры с потолками 2,5 - 8,0 м. Тип данных не меняем, т.к. числа с плавающей точкой."
   ]
  },
  {
   "cell_type": "markdown",
   "metadata": {},
   "source": [
    "**2.2. Предобработка 'balcony'**"
   ]
  },
  {
   "cell_type": "code",
   "execution_count": 17,
   "metadata": {},
   "outputs": [
    {
     "name": "stdout",
     "output_type": "stream",
     "text": [
      "[nan  2.  0.  1.  5.  4.  3.]\n",
      "1.0    4170\n",
      "0.0    3752\n",
      "2.0    3648\n",
      "5.0     300\n",
      "4.0     183\n",
      "3.0      79\n",
      "Name: balcony, dtype: int64\n"
     ]
    }
   ],
   "source": [
    "print(data['balcony'].unique()) #Определим уникальные значения\n",
    "print(data['balcony'].value_counts())"
   ]
  },
  {
   "cell_type": "markdown",
   "metadata": {},
   "source": [
    "Заполним пропущенные значения на 0.\n",
    "\n",
    "Скорее всего, пропуски - это отсутствие балкона. Не заполнение данных на платформе/сайте должно было автоматически проставить 0, либо прописать 'без балкона'. Но данные выгрузились в таком формате.\n",
    "\n",
    "Пропуски не звязаны с этажностью.\n",
    "\n",
    "Наличие пяти балконов не считаем анамалией, т.к. такое количество балконов возможно и будет считаться, для кого-то, преимуществом при покупке квартиры. К тому же такиз квартир 300. Оставим данные как есть.\n",
    "\n",
    "Изменим тип данных на int, т.к. балкон - целое число.\n"
   ]
  },
  {
   "cell_type": "code",
   "execution_count": 18,
   "metadata": {},
   "outputs": [
    {
     "name": "stdout",
     "output_type": "stream",
     "text": [
      "<class 'pandas.core.frame.DataFrame'>\n",
      "Int64Index: 23619 entries, 0 to 23698\n",
      "Data columns (total 22 columns):\n",
      " #   Column                Non-Null Count  Dtype  \n",
      "---  ------                --------------  -----  \n",
      " 0   total_images          23619 non-null  int64  \n",
      " 1   last_price            23619 non-null  float64\n",
      " 2   total_area            23619 non-null  float64\n",
      " 3   first_day_exposition  23619 non-null  object \n",
      " 4   rooms                 23619 non-null  int64  \n",
      " 5   ceiling_height        23619 non-null  float64\n",
      " 6   floors_total          23533 non-null  float64\n",
      " 7   living_area           21722 non-null  float64\n",
      " 8   floor                 23619 non-null  int64  \n",
      " 9   is_apartment          2761 non-null   object \n",
      " 10  studio                23619 non-null  bool   \n",
      " 11  open_plan             23619 non-null  bool   \n",
      " 12  kitchen_area          21349 non-null  float64\n",
      " 13  balcony               23619 non-null  int64  \n",
      " 14  locality_name         23570 non-null  object \n",
      " 15  airports_nearest      18108 non-null  float64\n",
      " 16  cityCenters_nearest   18131 non-null  float64\n",
      " 17  parks_around3000      18132 non-null  float64\n",
      " 18  parks_nearest         8049 non-null   float64\n",
      " 19  ponds_around3000      18132 non-null  float64\n",
      " 20  ponds_nearest         9084 non-null   float64\n",
      " 21  days_exposition       20449 non-null  float64\n",
      "dtypes: bool(2), float64(13), int64(4), object(3)\n",
      "memory usage: 3.8+ MB\n"
     ]
    }
   ],
   "source": [
    "data['balcony'] = data['balcony'].fillna(0).astype('int')\n",
    "data.info()"
   ]
  },
  {
   "cell_type": "markdown",
   "metadata": {},
   "source": [
    "**Итог:**\n",
    "\n",
    "Заменили пропуски на 0, изменили тип данных."
   ]
  },
  {
   "cell_type": "markdown",
   "metadata": {},
   "source": [
    "**2.3. Предобработка 'floors_total '**"
   ]
  },
  {
   "cell_type": "code",
   "execution_count": 19,
   "metadata": {},
   "outputs": [
    {
     "name": "stdout",
     "output_type": "stream",
     "text": [
      "[16. 11.  5. 14. 12. 26. 24. 27.  9.  6. 17. 25.  3. 23. 19. 18.  4. 22.\n",
      "  8.  2. 10.  7. 13. 15. nan 20. 28. 36. 21. 35. 34. 60.  1. 29. 33. 52.]\n",
      "5.0     5753\n",
      "9.0     3751\n",
      "16.0    1373\n",
      "12.0    1355\n",
      "4.0     1198\n",
      "10.0    1173\n",
      "25.0    1075\n",
      "6.0      911\n",
      "17.0     831\n",
      "3.0      668\n",
      "7.0      591\n",
      "14.0     549\n",
      "18.0     504\n",
      "24.0     469\n",
      "8.0      388\n",
      "2.0      379\n",
      "15.0     364\n",
      "23.0     352\n",
      "19.0     339\n",
      "22.0     286\n",
      "20.0     271\n",
      "13.0     229\n",
      "11.0     202\n",
      "27.0     164\n",
      "21.0     158\n",
      "26.0     124\n",
      "35.0      24\n",
      "1.0       23\n",
      "28.0      21\n",
      "36.0       3\n",
      "29.0       1\n",
      "60.0       1\n",
      "52.0       1\n",
      "34.0       1\n",
      "33.0       1\n",
      "Name: floors_total, dtype: int64\n"
     ]
    }
   ],
   "source": [
    "print(data['floors_total'].unique())\n",
    "print(data['floors_total'].value_counts())"
   ]
  },
  {
   "cell_type": "markdown",
   "metadata": {},
   "source": [
    "Взаимосвязи с другими пропусками нет. Возможно при заполнении не заполнили данную строку, т.к. есть строка 'floor'.\n",
    "\n",
    "Пропусков менее 1%, запоним данные 0, для дальнейшего анализа и изменения типа данных.\n",
    "\n",
    "Изменим тип даннх на int, т.к. этажи - целое число."
   ]
  },
  {
   "cell_type": "code",
   "execution_count": 20,
   "metadata": {},
   "outputs": [
    {
     "name": "stdout",
     "output_type": "stream",
     "text": [
      "<class 'pandas.core.frame.DataFrame'>\n",
      "Int64Index: 23619 entries, 0 to 23698\n",
      "Data columns (total 22 columns):\n",
      " #   Column                Non-Null Count  Dtype  \n",
      "---  ------                --------------  -----  \n",
      " 0   total_images          23619 non-null  int64  \n",
      " 1   last_price            23619 non-null  float64\n",
      " 2   total_area            23619 non-null  float64\n",
      " 3   first_day_exposition  23619 non-null  object \n",
      " 4   rooms                 23619 non-null  int64  \n",
      " 5   ceiling_height        23619 non-null  float64\n",
      " 6   floors_total          23619 non-null  int64  \n",
      " 7   living_area           21722 non-null  float64\n",
      " 8   floor                 23619 non-null  int64  \n",
      " 9   is_apartment          2761 non-null   object \n",
      " 10  studio                23619 non-null  bool   \n",
      " 11  open_plan             23619 non-null  bool   \n",
      " 12  kitchen_area          21349 non-null  float64\n",
      " 13  balcony               23619 non-null  int64  \n",
      " 14  locality_name         23570 non-null  object \n",
      " 15  airports_nearest      18108 non-null  float64\n",
      " 16  cityCenters_nearest   18131 non-null  float64\n",
      " 17  parks_around3000      18132 non-null  float64\n",
      " 18  parks_nearest         8049 non-null   float64\n",
      " 19  ponds_around3000      18132 non-null  float64\n",
      " 20  ponds_nearest         9084 non-null   float64\n",
      " 21  days_exposition       20449 non-null  float64\n",
      "dtypes: bool(2), float64(12), int64(5), object(3)\n",
      "memory usage: 3.8+ MB\n"
     ]
    }
   ],
   "source": [
    "data['floors_total'] = data['floors_total'].fillna(0).astype('int')\n",
    "data.info()"
   ]
  },
  {
   "cell_type": "markdown",
   "metadata": {},
   "source": [
    "**Итог:**\n",
    "\n",
    "Заменили пропуски на 0. Изменили тип данных на int."
   ]
  },
  {
   "cell_type": "markdown",
   "metadata": {},
   "source": [
    "**2.4. Предобработка 'is_apartment'**"
   ]
  },
  {
   "cell_type": "markdown",
   "metadata": {},
   "source": [
    "Столбец аппартаменты содержит много пропущенных значений, судя по годам, данные по аппартаментам заполнялись не с самого начала. Заполним пропущенные значения на False."
   ]
  },
  {
   "cell_type": "code",
   "execution_count": 21,
   "metadata": {},
   "outputs": [
    {
     "name": "stdout",
     "output_type": "stream",
     "text": [
      "<class 'pandas.core.frame.DataFrame'>\n",
      "Int64Index: 23619 entries, 0 to 23698\n",
      "Data columns (total 22 columns):\n",
      " #   Column                Non-Null Count  Dtype  \n",
      "---  ------                --------------  -----  \n",
      " 0   total_images          23619 non-null  int64  \n",
      " 1   last_price            23619 non-null  float64\n",
      " 2   total_area            23619 non-null  float64\n",
      " 3   first_day_exposition  23619 non-null  object \n",
      " 4   rooms                 23619 non-null  int64  \n",
      " 5   ceiling_height        23619 non-null  float64\n",
      " 6   floors_total          23619 non-null  int64  \n",
      " 7   living_area           21722 non-null  float64\n",
      " 8   floor                 23619 non-null  int64  \n",
      " 9   is_apartment          23619 non-null  bool   \n",
      " 10  studio                23619 non-null  bool   \n",
      " 11  open_plan             23619 non-null  bool   \n",
      " 12  kitchen_area          21349 non-null  float64\n",
      " 13  balcony               23619 non-null  int64  \n",
      " 14  locality_name         23570 non-null  object \n",
      " 15  airports_nearest      18108 non-null  float64\n",
      " 16  cityCenters_nearest   18131 non-null  float64\n",
      " 17  parks_around3000      18132 non-null  float64\n",
      " 18  parks_nearest         8049 non-null   float64\n",
      " 19  ponds_around3000      18132 non-null  float64\n",
      " 20  ponds_nearest         9084 non-null   float64\n",
      " 21  days_exposition       20449 non-null  float64\n",
      "dtypes: bool(3), float64(12), int64(5), object(2)\n",
      "memory usage: 3.7+ MB\n"
     ]
    }
   ],
   "source": [
    "data['is_apartment'] = data['is_apartment'].fillna(False)\n",
    "data.info()"
   ]
  },
  {
   "cell_type": "markdown",
   "metadata": {},
   "source": [
    "**Итог:**\n",
    "\n",
    "Заменили пропуски на False, тип данных автоматически поменялся на bool.\n"
   ]
  },
  {
   "cell_type": "markdown",
   "metadata": {},
   "source": [
    "**2.5. Предобработка 'area'**"
   ]
  },
  {
   "cell_type": "markdown",
   "metadata": {},
   "source": [
    "Столбец  'total_area' заполнен и не имеет пропущенных значений, тип данных float, т.к. площадь указана не в целых числах.\n",
    "\n",
    "Столбцы 'living_area' и 'kitchen_area' содержат пропущенные значения, около 9-10 %\n",
    "\n",
    "Можно посчитать средний процент жилой площади и площади кухни от всей площади по выборке, и высчитать жилую площадь и площадь кухни для строк с пропусками, но данные по общай площади разнятся от 12 - 900, жилая площадь от 2 - 409. При заполнении средним или медианой, площадь кухни или жилая могут оказаться больше, чем общая площадь.\n",
    "\n",
    "Столбцы оставим без изменения, тип данных не меняем. Если в дальнейшем потребуется сравнение, проведём отдельную обработку."
   ]
  },
  {
   "cell_type": "markdown",
   "metadata": {},
   "source": [
    "**2.6. Предобработка 'locality_name'**"
   ]
  },
  {
   "cell_type": "markdown",
   "metadata": {},
   "source": [
    "Причина пропущенных значений не понятна, взаимосвязей с другими столбцами с пропусками не выявлена.\n",
    "\n",
    "Пропущенные значения составляют менее 1%.\n",
    "\n",
    "Можно оставить строки пустыми, или удалить, но мы их заполним, чтобы не было пропусков\n",
    "\n",
    "Заполним пустоты - 'без названия'. Для дальнейшей работы и возможного заполнения."
   ]
  },
  {
   "cell_type": "code",
   "execution_count": 22,
   "metadata": {},
   "outputs": [
    {
     "name": "stdout",
     "output_type": "stream",
     "text": [
      "<class 'pandas.core.frame.DataFrame'>\n",
      "Int64Index: 23570 entries, 0 to 23698\n",
      "Data columns (total 22 columns):\n",
      " #   Column                Non-Null Count  Dtype  \n",
      "---  ------                --------------  -----  \n",
      " 0   total_images          23570 non-null  int64  \n",
      " 1   last_price            23570 non-null  float64\n",
      " 2   total_area            23570 non-null  float64\n",
      " 3   first_day_exposition  23570 non-null  object \n",
      " 4   rooms                 23570 non-null  int64  \n",
      " 5   ceiling_height        23570 non-null  float64\n",
      " 6   floors_total          23570 non-null  int64  \n",
      " 7   living_area           21678 non-null  float64\n",
      " 8   floor                 23570 non-null  int64  \n",
      " 9   is_apartment          23570 non-null  bool   \n",
      " 10  studio                23570 non-null  bool   \n",
      " 11  open_plan             23570 non-null  bool   \n",
      " 12  kitchen_area          21309 non-null  float64\n",
      " 13  balcony               23570 non-null  int64  \n",
      " 14  locality_name         23570 non-null  object \n",
      " 15  airports_nearest      18067 non-null  float64\n",
      " 16  cityCenters_nearest   18090 non-null  float64\n",
      " 17  parks_around3000      18091 non-null  float64\n",
      " 18  parks_nearest         8034 non-null   float64\n",
      " 19  ponds_around3000      18091 non-null  float64\n",
      " 20  ponds_nearest         9059 non-null   float64\n",
      " 21  days_exposition       20401 non-null  float64\n",
      "dtypes: bool(3), float64(12), int64(5), object(2)\n",
      "memory usage: 3.7+ MB\n"
     ]
    }
   ],
   "source": [
    "#data['locality_name'] = data['locality_name'].fillna('без названия')\n",
    "#print(data[data['locality_name'] == 'без названия'])\n",
    "data.dropna(subset=['locality_name'], inplace=True )\n",
    "data.info()"
   ]
  },
  {
   "cell_type": "markdown",
   "metadata": {},
   "source": [
    "Приведём значения столбца к единому виду - оставим только название, без города, пгт, села и тд. Так, в дальнейшем будет легче анализировать информацию.\n"
   ]
  },
  {
   "cell_type": "code",
   "execution_count": 23,
   "metadata": {},
   "outputs": [
    {
     "name": "stdout",
     "output_type": "stream",
     "text": [
      "['Санкт-Петербург' 'Шушары' 'Янино-1' 'Парголово' 'Мурино' 'Ломоносов'\n",
      " 'Сертолово' 'Петергоф' 'Пушкин' 'Кудрово' 'Коммунар' 'Колпино'\n",
      " 'Красный Бор' 'Гатчина' 'Фёдоровское' 'Выборг' 'Кронштадт' 'Кировск'\n",
      " 'Новое Девяткино' 'Металлострой' 'Лебяжье' 'Сиверский' 'Молодцово'\n",
      " 'Кузьмоловский' 'Новая Ропша' 'Павловск' 'Пикколово' 'Всеволожск'\n",
      " 'Волхов' 'Кингисепп' 'Приозерск' 'Сестрорецк' 'Куттузи' 'Аннино'\n",
      " 'Ефимовский' 'Плодовое' 'Заклинье' 'Торковичи' 'Первомайское'\n",
      " 'Красное Село' 'Понтонный' 'Сясьстрой' 'Старая' 'Лесколово' 'Сланцы'\n",
      " 'Путилово' 'Ивангород' 'Шлиссельбург' 'Никольское' 'Зеленогорск'\n",
      " 'Сосновый Бор' 'Новый Свет' 'Оржицы' 'Кальтино' 'Романовка' 'Бугры'\n",
      " 'Рощино' 'Кириши' 'Луга' 'Волосово' 'Отрадное' 'Павлово' 'Оредеж'\n",
      " 'Копорье' 'Молодёжное' 'Тихвин' 'Победа' 'Нурма' 'Синявино' 'Тосно'\n",
      " 'Стрельна' 'Бокситогорск' 'Александровская' 'Лопухинка' 'Пикалёво'\n",
      " 'Терволово' 'Советский' 'Подпорожье' 'Петровское' 'Токсово' 'Сельцо'\n",
      " 'Вырица' 'Кипень' 'Келози' 'Вартемяги' 'Тельмана' 'Севастьяново'\n",
      " 'Большая Ижора' 'Агалатово' 'Новогорелово' 'Лесогорский' 'Лаголово'\n",
      " 'Цвелодубово' 'Рахья' 'Белогорка' 'Заводской' 'Новоселье'\n",
      " 'Большие Колпаны' 'Горбунки' 'Батово' 'Заневка' 'Иссад' 'Приморск'\n",
      " 'Мистолово' 'Новая Ладога' 'Зимитицы' 'Барышево' 'Разметелево'\n",
      " 'Свердлова' 'Пеники' 'Рябово' 'Пудомяги' 'Корнево' 'Низино' 'Бегуницы'\n",
      " 'Поляны' 'Мга' 'Елизаветино' 'Кузнечное' 'Колтуши' 'Запорожское'\n",
      " 'Гостилицы' 'Малое Карлино' 'Мичуринское' 'Морозова' 'Песочный' 'Сосново'\n",
      " 'Аро' 'Ильичёво' 'Тайцы' 'Малое Верево' 'Извара' 'Вещево' 'Паша'\n",
      " 'Калитино' 'Ульяновка' 'Чудской Бор' 'Дубровка' 'Мины' 'Войсковицы'\n",
      " 'Коркино' 'Ропша' 'Приладожский' 'Щеглово' 'Гаврилово' 'Лодейное Поле'\n",
      " 'Рабитицы' 'Никольский' 'Кузьмолово' 'Малые Колпаны' 'Петро-Славянка'\n",
      " 'Назия' 'Репино' 'Углово' 'Старая Малукса' 'Меньково' 'Старые Бегуницы'\n",
      " 'Сапёрный' 'Семрино' 'Глажево' 'Кобринское' 'Гарболово' 'Юкки'\n",
      " 'Приветнинское' 'Мануйлово' 'Пчева' 'Цвылёво' 'Мельниково' 'Пудость'\n",
      " 'Усть-Луга' 'Светогорск' 'Любань' 'Селезнёво' 'Каменногорск' 'Кривко'\n",
      " 'Глебычево' 'Парицы' 'Жилпосёлок' 'Войскорово' 'Стеклянный' 'Важины'\n",
      " 'Мыза-Ивановка' 'Русско-Высоцкое' 'Форносово' 'Старая Ладога' 'Житково'\n",
      " 'Виллози' 'Лампово' 'Шпаньково' 'Лаврики' 'Сумино' 'Возрождение'\n",
      " 'Старосиверская' 'Кикерино' 'Старое Хинколово' 'Пригородный' 'Торфяное'\n",
      " 'Будогощь' 'Суходолье' 'Красная Долина' 'Хапо-Ое' 'Дружная Горка'\n",
      " 'Лисий Нос' 'Яльгелево' 'Рождествено' 'Старополье' 'Левашово'\n",
      " 'Сяськелево' 'Камышовка' 'Лесная Поляна' 'Хязельки' 'Жилгородок' 'Ялгино'\n",
      " 'Новый Учхоз' 'Гончарово' 'Почап' 'Платформа 69-й километр' 'Каложицы'\n",
      " 'Фалилеево' 'Пельгора' 'Торошковичи' 'Белоостров' 'Алексеевка'\n",
      " 'Серебрянский' 'Лукаши' 'Тарасово' 'Кингисеппский' 'Ушаки' 'Котлы'\n",
      " 'Сижно' 'Торосово' 'Форт Красная Горка' 'Новолисино' 'Громово' 'Глинка'\n",
      " 'Старая Пустошь' 'Коммунары' 'Починок' 'Вознесенье' 'Разбегаево'\n",
      " 'Гладкое' 'Тёсово-4' 'Бор' 'Коробицыно' 'Большая Вруда' 'Курковицы'\n",
      " 'Кобралово' 'Суоранда' 'Кондратьево' 'Счастье' 'Реброво' 'Тойворово'\n",
      " 'Семиозерье' 'Лесное' 'Совхозный' 'Сапёрное' 'Ленинское' 'Суйда'\n",
      " 'Нижние Осельки' 'Свирь' 'Перово' 'Высоцк' 'Шум' 'Котельский' 'Лужайка'\n",
      " 'Большая Пустомержа' 'Красносельское' 'Вахнова Кара' 'Пижма'\n",
      " 'Кивеннапа Север' 'Ромашки' 'Каськово' 'Куровицы' 'Плоское' 'Кирпичное'\n",
      " 'Ям-Тесово' 'Раздолье' 'Терпилицы' 'Шугозеро' 'Ваганово' 'Пушное' 'Садко'\n",
      " 'Усть-Ижора' 'Выскатка' 'Кисельня' 'Трубников Бор' 'Высокоключевой'\n",
      " 'Зелёный Бор' 'Ненимяки' 'Снегирёвка' 'Рапполово' 'Пустынка'\n",
      " 'Большой Сабск' 'Русско' 'Лупполово' 'Большое Рейзино' 'Малая Романовка'\n",
      " 'Дружноселье' 'Пчевжа' 'Володарское' 'Нижняя' 'Тихковицы'\n",
      " 'Борисова Грива' 'Дзержинского']\n"
     ]
    }
   ],
   "source": [
    "data['locality_name'] = (data['locality_name']\n",
    "                         .replace('посёлок ', '', regex=True)\n",
    "                         .replace('городской ', '', regex=True)\n",
    "                         .replace('деревня ', '', regex=True)\n",
    "                         .replace('поселок ', '', regex=True)\n",
    "                         .replace('городского ', '', regex=True)\n",
    "                         .replace('типа ', '', regex=True)\n",
    "                         .replace('садовое товарищество ', '', regex=True)\n",
    "                         .replace('село ', '', regex=True)\n",
    "                         .replace('имени ', '', regex=True)\n",
    "                         .replace('станции ', '', regex=True)\n",
    "                         .replace('садоводческое некоммерческое товарищество ', '', regex=True)\n",
    "                         .replace('при железнодорожной ', '', regex=True)\n",
    "                         .replace('коттеджный ', '', regex=True)\n",
    "                         .replace('Пансионат ', '', regex=True)\n",
    "                                                  \n",
    ")\n",
    "\n",
    "print(data['locality_name'].unique())"
   ]
  },
  {
   "cell_type": "markdown",
   "metadata": {},
   "source": [
    "**Итог:**\n",
    "\n",
    "Привели значения столбца к единому виду, пропуски заполнили - 'без названия'."
   ]
  },
  {
   "cell_type": "markdown",
   "metadata": {},
   "source": [
    "**2.9. Предобработка 'days_exposition'**"
   ]
  },
  {
   "cell_type": "code",
   "execution_count": 24,
   "metadata": {},
   "outputs": [
    {
     "name": "stdout",
     "output_type": "stream",
     "text": [
      "<class 'pandas.core.frame.DataFrame'>\n",
      "Int64Index: 23570 entries, 0 to 23698\n",
      "Data columns (total 22 columns):\n",
      " #   Column                Non-Null Count  Dtype  \n",
      "---  ------                --------------  -----  \n",
      " 0   total_images          23570 non-null  int64  \n",
      " 1   last_price            23570 non-null  float64\n",
      " 2   total_area            23570 non-null  float64\n",
      " 3   first_day_exposition  23570 non-null  object \n",
      " 4   rooms                 23570 non-null  int64  \n",
      " 5   ceiling_height        23570 non-null  float64\n",
      " 6   floors_total          23570 non-null  int64  \n",
      " 7   living_area           21678 non-null  float64\n",
      " 8   floor                 23570 non-null  int64  \n",
      " 9   is_apartment          23570 non-null  bool   \n",
      " 10  studio                23570 non-null  bool   \n",
      " 11  open_plan             23570 non-null  bool   \n",
      " 12  kitchen_area          21309 non-null  float64\n",
      " 13  balcony               23570 non-null  int64  \n",
      " 14  locality_name         23570 non-null  object \n",
      " 15  airports_nearest      18067 non-null  float64\n",
      " 16  cityCenters_nearest   18090 non-null  float64\n",
      " 17  parks_around3000      18091 non-null  float64\n",
      " 18  parks_nearest         8034 non-null   float64\n",
      " 19  ponds_around3000      18091 non-null  float64\n",
      " 20  ponds_nearest         9059 non-null   float64\n",
      " 21  days_exposition       20401 non-null  Int64  \n",
      "dtypes: Int64(1), bool(3), float64(11), int64(5), object(2)\n",
      "memory usage: 3.7+ MB\n"
     ]
    }
   ],
   "source": [
    "data['days_exposition'] = np.floor(pd.to_numeric(data['days_exposition'], errors='coerce')).astype('Int64')\n",
    "data.info()"
   ]
  },
  {
   "cell_type": "markdown",
   "metadata": {},
   "source": [
    "**Итог:**\n",
    "\n",
    "Пропуски не заполнили, т.к. это означает, что квартира ещё не продана. Изменили тип данных на int."
   ]
  },
  {
   "cell_type": "markdown",
   "metadata": {},
   "source": [
    "**2.10. Предобработка 'first_day_exposition'**"
   ]
  },
  {
   "cell_type": "markdown",
   "metadata": {},
   "source": [
    "Переведем столбец с датой публикации в формат даты без времени, т.к. время не указано, изменим тип данных на datetime."
   ]
  },
  {
   "cell_type": "code",
   "execution_count": 25,
   "metadata": {},
   "outputs": [
    {
     "name": "stdout",
     "output_type": "stream",
     "text": [
      "<class 'pandas.core.frame.DataFrame'>\n",
      "Int64Index: 23570 entries, 0 to 23698\n",
      "Data columns (total 22 columns):\n",
      " #   Column                Non-Null Count  Dtype         \n",
      "---  ------                --------------  -----         \n",
      " 0   total_images          23570 non-null  int64         \n",
      " 1   last_price            23570 non-null  float64       \n",
      " 2   total_area            23570 non-null  float64       \n",
      " 3   first_day_exposition  23570 non-null  datetime64[ns]\n",
      " 4   rooms                 23570 non-null  int64         \n",
      " 5   ceiling_height        23570 non-null  float64       \n",
      " 6   floors_total          23570 non-null  int64         \n",
      " 7   living_area           21678 non-null  float64       \n",
      " 8   floor                 23570 non-null  int64         \n",
      " 9   is_apartment          23570 non-null  bool          \n",
      " 10  studio                23570 non-null  bool          \n",
      " 11  open_plan             23570 non-null  bool          \n",
      " 12  kitchen_area          21309 non-null  float64       \n",
      " 13  balcony               23570 non-null  int64         \n",
      " 14  locality_name         23570 non-null  object        \n",
      " 15  airports_nearest      18067 non-null  float64       \n",
      " 16  cityCenters_nearest   18090 non-null  float64       \n",
      " 17  parks_around3000      18091 non-null  float64       \n",
      " 18  parks_nearest         8034 non-null   float64       \n",
      " 19  ponds_around3000      18091 non-null  float64       \n",
      " 20  ponds_nearest         9059 non-null   float64       \n",
      " 21  days_exposition       20401 non-null  Int64         \n",
      "dtypes: Int64(1), bool(3), datetime64[ns](1), float64(11), int64(5), object(1)\n",
      "memory usage: 3.7+ MB\n"
     ]
    }
   ],
   "source": [
    "data['first_day_exposition'] = pd.to_datetime(data['first_day_exposition'], format = '%Y-%m-%d')\n",
    "data.info()"
   ]
  },
  {
   "cell_type": "markdown",
   "metadata": {},
   "source": [
    "**2.11. Предобработка 'last_price'**"
   ]
  },
  {
   "cell_type": "markdown",
   "metadata": {},
   "source": [
    "Изменим цену на тип данных int, для удобного просмотра."
   ]
  },
  {
   "cell_type": "code",
   "execution_count": 26,
   "metadata": {},
   "outputs": [
    {
     "name": "stdout",
     "output_type": "stream",
     "text": [
      "<class 'pandas.core.frame.DataFrame'>\n",
      "Int64Index: 23570 entries, 0 to 23698\n",
      "Data columns (total 22 columns):\n",
      " #   Column                Non-Null Count  Dtype         \n",
      "---  ------                --------------  -----         \n",
      " 0   total_images          23570 non-null  int64         \n",
      " 1   last_price            23570 non-null  int64         \n",
      " 2   total_area            23570 non-null  float64       \n",
      " 3   first_day_exposition  23570 non-null  datetime64[ns]\n",
      " 4   rooms                 23570 non-null  int64         \n",
      " 5   ceiling_height        23570 non-null  float64       \n",
      " 6   floors_total          23570 non-null  int64         \n",
      " 7   living_area           21678 non-null  float64       \n",
      " 8   floor                 23570 non-null  int64         \n",
      " 9   is_apartment          23570 non-null  bool          \n",
      " 10  studio                23570 non-null  bool          \n",
      " 11  open_plan             23570 non-null  bool          \n",
      " 12  kitchen_area          21309 non-null  float64       \n",
      " 13  balcony               23570 non-null  int64         \n",
      " 14  locality_name         23570 non-null  object        \n",
      " 15  airports_nearest      18067 non-null  float64       \n",
      " 16  cityCenters_nearest   18090 non-null  float64       \n",
      " 17  parks_around3000      18091 non-null  float64       \n",
      " 18  parks_nearest         8034 non-null   float64       \n",
      " 19  ponds_around3000      18091 non-null  float64       \n",
      " 20  ponds_nearest         9059 non-null   float64       \n",
      " 21  days_exposition       20401 non-null  Int64         \n",
      "dtypes: Int64(1), bool(3), datetime64[ns](1), float64(10), int64(6), object(1)\n",
      "memory usage: 3.7+ MB\n"
     ]
    }
   ],
   "source": [
    "data['last_price'] = data['last_price'].astype('int')\n",
    "data.info()"
   ]
  },
  {
   "cell_type": "markdown",
   "metadata": {},
   "source": [
    "**2.11. Предобработка 'airports_nearest', 'cityCenters_nearest', 'parks_around3000', 'parks_nearest', 'parks_nearest', 'ponds_around3000','ponds_nearest'.**"
   ]
  },
  {
   "cell_type": "markdown",
   "metadata": {},
   "source": [
    "Пропуски в данных столбцах территориальные. Можно конечно заполнить средним значение по названиям местностей, но, если в дальнейшем, эти данные нам не понадобятся, оставим столбцы без изменений.\n",
    "\n",
    "Скорее всего, пропуски связаны с невозможность физически заполнить такие данные - либо рядом не пруда, либо нет возможности измерить расстояние и т.д. Да, заполненные данные - это преимущество, но не критичное."
   ]
  },
  {
   "cell_type": "markdown",
   "metadata": {},
   "source": [
    "**Итог по предобработке данных:**\n",
    "\n",
    "**1. Определили, в каких столбцах есть пропуски.**\n",
    "\n",
    "**2. Заполнили пропущенные значения там, где это возможно. Часть строк удалили и часть оставили без изменений.**\n",
    "\n",
    "**3. Рассмотрели и изменили тип данных, где это было необходимо.**\n",
    "\n",
    "**4. Изучили уникальные значения в столбце с названиями и устранили неявные дубликаты.**\n"
   ]
  },
  {
   "cell_type": "markdown",
   "metadata": {},
   "source": [
    "### Добавьте в таблицу новые столбцы со следующими параметрами:"
   ]
  },
  {
   "cell_type": "markdown",
   "metadata": {},
   "source": [
    "**3.1. Цена одного квадратного метра.**"
   ]
  },
  {
   "cell_type": "code",
   "execution_count": 27,
   "metadata": {},
   "outputs": [
    {
     "name": "stdout",
     "output_type": "stream",
     "text": [
      "       total_images  last_price  total_area first_day_exposition  rooms  \\\n",
      "0                20    13000000      108.00           2019-03-07      3   \n",
      "1                 7     3350000       40.40           2018-12-04      1   \n",
      "2                10     5196000       56.00           2015-08-20      2   \n",
      "3                 0    64900000      159.00           2015-07-24      3   \n",
      "4                 2    10000000      100.00           2018-06-19      2   \n",
      "...             ...         ...         ...                  ...    ...   \n",
      "23694             9     9700000      133.81           2017-03-21      3   \n",
      "23695            14     3100000       59.00           2018-01-15      3   \n",
      "23696            18     2500000       56.70           2018-02-11      2   \n",
      "23697            13    11475000       76.75           2017-03-28      2   \n",
      "23698             4     1350000       32.30           2017-07-21      1   \n",
      "\n",
      "       ceiling_height  floors_total  living_area  floor  is_apartment  ...  \\\n",
      "0                2.70            16         51.0      8         False  ...   \n",
      "1                2.70            11         18.6      1         False  ...   \n",
      "2                2.70             5         34.3      4         False  ...   \n",
      "3                2.70            14          NaN      9         False  ...   \n",
      "4                3.03            14         32.0     13         False  ...   \n",
      "...               ...           ...          ...    ...           ...  ...   \n",
      "23694            3.70             5         73.3      3         False  ...   \n",
      "23695            2.70             5         38.0      4         False  ...   \n",
      "23696            2.70             3         29.7      1         False  ...   \n",
      "23697            3.00            17          NaN     12         False  ...   \n",
      "23698            2.50             5         12.3      1         False  ...   \n",
      "\n",
      "       balcony    locality_name  airports_nearest  cityCenters_nearest  \\\n",
      "0            0  Санкт-Петербург           18863.0              16028.0   \n",
      "1            2           Шушары           12817.0              18603.0   \n",
      "2            0  Санкт-Петербург           21741.0              13933.0   \n",
      "3            0  Санкт-Петербург           28098.0               6800.0   \n",
      "4            0  Санкт-Петербург           31856.0               8098.0   \n",
      "...        ...              ...               ...                  ...   \n",
      "23694        0  Санкт-Петербург           24665.0               4232.0   \n",
      "23695        0            Тосно               NaN                  NaN   \n",
      "23696        0      Рождествено               NaN                  NaN   \n",
      "23697        2  Санкт-Петербург           39140.0              10364.0   \n",
      "23698        0      Новый Учхоз               NaN                  NaN   \n",
      "\n",
      "      parks_around3000  parks_nearest  ponds_around3000  ponds_nearest  \\\n",
      "0                  1.0          482.0               2.0          755.0   \n",
      "1                  0.0            NaN               0.0            NaN   \n",
      "2                  1.0           90.0               2.0          574.0   \n",
      "3                  2.0           84.0               3.0          234.0   \n",
      "4                  2.0          112.0               1.0           48.0   \n",
      "...                ...            ...               ...            ...   \n",
      "23694              1.0          796.0               3.0          381.0   \n",
      "23695              NaN            NaN               NaN            NaN   \n",
      "23696              NaN            NaN               NaN            NaN   \n",
      "23697              2.0          173.0               3.0          196.0   \n",
      "23698              NaN            NaN               NaN            NaN   \n",
      "\n",
      "       days_exposition  price_per_square_meter  \n",
      "0                 <NA>               120370.37  \n",
      "1                   81                82920.79  \n",
      "2                  558                92785.71  \n",
      "3                  424               408176.10  \n",
      "4                  121               100000.00  \n",
      "...                ...                     ...  \n",
      "23694             <NA>                72490.85  \n",
      "23695               45                52542.37  \n",
      "23696             <NA>                44091.71  \n",
      "23697              602               149511.40  \n",
      "23698             <NA>                41795.67  \n",
      "\n",
      "[23570 rows x 23 columns]\n"
     ]
    }
   ],
   "source": [
    "# Поделим стоимость объекта на его общую площадь \n",
    "data['price_per_square_meter'] = data['last_price'] / data['total_area']\n",
    "# Округлим до двух знаков после запятой\n",
    "data['price_per_square_meter'] = data['price_per_square_meter'].round(2)\n",
    "print(data)"
   ]
  },
  {
   "cell_type": "markdown",
   "metadata": {},
   "source": [
    "**3.2. День недели публикации объявления.**"
   ]
  },
  {
   "cell_type": "code",
   "execution_count": 28,
   "metadata": {},
   "outputs": [],
   "source": [
    "# Создадим столбец 'weekday_exposition' \n",
    "data['weekday_exposition'] = data['first_day_exposition'].dt.weekday"
   ]
  },
  {
   "cell_type": "markdown",
   "metadata": {},
   "source": [
    "**3.3. Месяц публикации объявления.**"
   ]
  },
  {
   "cell_type": "code",
   "execution_count": 29,
   "metadata": {},
   "outputs": [],
   "source": [
    "# Создадим столбец 'month_exposition'\n",
    "data['month_exposition'] = data['first_day_exposition'].dt.month"
   ]
  },
  {
   "cell_type": "markdown",
   "metadata": {},
   "source": [
    "**3.4. Год публикации объявления.**"
   ]
  },
  {
   "cell_type": "code",
   "execution_count": 30,
   "metadata": {},
   "outputs": [],
   "source": [
    "# Создадим столбец 'year_exposition'\n",
    "data['year_exposition'] = data['first_day_exposition'].dt.year"
   ]
  },
  {
   "cell_type": "markdown",
   "metadata": {},
   "source": [
    "**3.5. Тип этажа квартиры.** "
   ]
  },
  {
   "cell_type": "code",
   "execution_count": 31,
   "metadata": {},
   "outputs": [
    {
     "name": "stdout",
     "output_type": "stream",
     "text": [
      "   total_images  last_price  total_area first_day_exposition  rooms  \\\n",
      "0            20    13000000       108.0           2019-03-07      3   \n",
      "1             7     3350000        40.4           2018-12-04      1   \n",
      "2            10     5196000        56.0           2015-08-20      2   \n",
      "3             0    64900000       159.0           2015-07-24      3   \n",
      "4             2    10000000       100.0           2018-06-19      2   \n",
      "\n",
      "   ceiling_height  floors_total  living_area  floor  is_apartment  ...  \\\n",
      "0            2.70            16         51.0      8         False  ...   \n",
      "1            2.70            11         18.6      1         False  ...   \n",
      "2            2.70             5         34.3      4         False  ...   \n",
      "3            2.70            14          NaN      9         False  ...   \n",
      "4            3.03            14         32.0     13         False  ...   \n",
      "\n",
      "   parks_around3000  parks_nearest  ponds_around3000  ponds_nearest  \\\n",
      "0               1.0          482.0               2.0          755.0   \n",
      "1               0.0            NaN               0.0            NaN   \n",
      "2               1.0           90.0               2.0          574.0   \n",
      "3               2.0           84.0               3.0          234.0   \n",
      "4               2.0          112.0               1.0           48.0   \n",
      "\n",
      "  days_exposition  price_per_square_meter  weekday_exposition  \\\n",
      "0            <NA>               120370.37                   3   \n",
      "1              81                82920.79                   1   \n",
      "2             558                92785.71                   3   \n",
      "3             424               408176.10                   4   \n",
      "4             121               100000.00                   1   \n",
      "\n",
      "   month_exposition  year_exposition  floor_type  \n",
      "0                 3             2019      другой  \n",
      "1                12             2018      первый  \n",
      "2                 8             2015      другой  \n",
      "3                 7             2015      другой  \n",
      "4                 6             2018      другой  \n",
      "\n",
      "[5 rows x 27 columns]\n",
      "<class 'pandas.core.frame.DataFrame'>\n",
      "Int64Index: 23570 entries, 0 to 23698\n",
      "Data columns (total 27 columns):\n",
      " #   Column                  Non-Null Count  Dtype         \n",
      "---  ------                  --------------  -----         \n",
      " 0   total_images            23570 non-null  int64         \n",
      " 1   last_price              23570 non-null  int64         \n",
      " 2   total_area              23570 non-null  float64       \n",
      " 3   first_day_exposition    23570 non-null  datetime64[ns]\n",
      " 4   rooms                   23570 non-null  int64         \n",
      " 5   ceiling_height          23570 non-null  float64       \n",
      " 6   floors_total            23570 non-null  int64         \n",
      " 7   living_area             21678 non-null  float64       \n",
      " 8   floor                   23570 non-null  int64         \n",
      " 9   is_apartment            23570 non-null  bool          \n",
      " 10  studio                  23570 non-null  bool          \n",
      " 11  open_plan               23570 non-null  bool          \n",
      " 12  kitchen_area            21309 non-null  float64       \n",
      " 13  balcony                 23570 non-null  int64         \n",
      " 14  locality_name           23570 non-null  object        \n",
      " 15  airports_nearest        18067 non-null  float64       \n",
      " 16  cityCenters_nearest     18090 non-null  float64       \n",
      " 17  parks_around3000        18091 non-null  float64       \n",
      " 18  parks_nearest           8034 non-null   float64       \n",
      " 19  ponds_around3000        18091 non-null  float64       \n",
      " 20  ponds_nearest           9059 non-null   float64       \n",
      " 21  days_exposition         20401 non-null  Int64         \n",
      " 22  price_per_square_meter  23570 non-null  float64       \n",
      " 23  weekday_exposition      23570 non-null  int64         \n",
      " 24  month_exposition        23570 non-null  int64         \n",
      " 25  year_exposition         23570 non-null  int64         \n",
      " 26  floor_type              23488 non-null  object        \n",
      "dtypes: Int64(1), bool(3), datetime64[ns](1), float64(11), int64(9), object(2)\n",
      "memory usage: 4.6+ MB\n"
     ]
    }
   ],
   "source": [
    "# Напишем функцию категоризации по этажам, используя метод apply\n",
    "def floor_type(row):\n",
    "    floors_total = row['floors_total']\n",
    "    floor = row['floor']\n",
    "    if floor == 1:\n",
    "        return 'первый'\n",
    "    elif floor == floors_total:\n",
    "        return 'последний'\n",
    "    elif 1 < floor < floors_total:\n",
    "        return 'другой'\n",
    "    \n",
    "data['floor_type'] = data.apply(floor_type, axis = 1)  \n",
    "print(data.head(5))\n",
    "data.info()"
   ]
  },
  {
   "cell_type": "markdown",
   "metadata": {},
   "source": [
    "**3.6. Расстояние до центра города в километрах.**"
   ]
  },
  {
   "cell_type": "code",
   "execution_count": 32,
   "metadata": {},
   "outputs": [],
   "source": [
    "# Переводим значения в км\n",
    "data['cityCenters_nearest'] = data['cityCenters_nearest'] / 1000\n",
    "# Округляем до ближайших целых значений\n",
    "data['cityCenters_nearest'] = round(data['cityCenters_nearest'])"
   ]
  },
  {
   "cell_type": "markdown",
   "metadata": {},
   "source": [
    "### Проведите исследовательский анализ данных"
   ]
  },
  {
   "cell_type": "markdown",
   "metadata": {},
   "source": [
    "**Изучите перечисленные ниже параметры объектов и постройте отдельные гистограммы для каждого из этих параметров.**"
   ]
  },
  {
   "cell_type": "markdown",
   "metadata": {},
   "source": [
    "**4.1. Изучим общую площадь.**"
   ]
  },
  {
   "cell_type": "code",
   "execution_count": 33,
   "metadata": {},
   "outputs": [
    {
     "name": "stdout",
     "output_type": "stream",
     "text": [
      "count    23570.000000\n",
      "mean        60.369424\n",
      "std         35.704916\n",
      "min         12.000000\n",
      "25%         40.000000\n",
      "50%         52.000000\n",
      "75%         69.900000\n",
      "max        900.000000\n",
      "Name: total_area, dtype: float64\n",
      "AxesSubplot(0.125,0.125;0.775x0.755)\n"
     ]
    },
    {
     "data": {
      "image/png": "[encoded data removed]",
      "text/plain": [
       "<Figure size 432x288 with 1 Axes>"
      ]
     },
     "metadata": {
      "needs_background": "light"
     },
     "output_type": "display_data"
    },
    {
     "data": {
      "image/png": "[encoded data removed]",
      "text/plain": [
       "<Figure size 504x360 with 1 Axes>"
      ]
     },
     "metadata": {
      "needs_background": "light"
     },
     "output_type": "display_data"
    }
   ],
   "source": [
    "# Построим гистограмму двумя способами\n",
    "print(data['total_area'].describe())\n",
    "print(data['total_area'].hist(bins=50));\n",
    "data.plot(y = 'total_area', kind = 'hist', bins = 100, grid=True, figsize = (7,5), range = (0,500));"
   ]
  },
  {
   "cell_type": "markdown",
   "metadata": {},
   "source": [
    "Есть выбросы после 200 м2. Квартир с такой площадью практически нет. Удалим эти выбросы."
   ]
  },
  {
   "cell_type": "code",
   "execution_count": 34,
   "metadata": {},
   "outputs": [
    {
     "name": "stdout",
     "output_type": "stream",
     "text": [
      "count    23343.000000\n",
      "mean        58.188790\n",
      "std         26.543082\n",
      "min         12.000000\n",
      "25%         40.000000\n",
      "50%         51.900000\n",
      "75%         69.000000\n",
      "max        200.000000\n",
      "Name: total_area, dtype: float64\n"
     ]
    },
    {
     "data": {
      "image/png": "[encoded data removed]",
      "text/plain": [
       "<Figure size 504x360 with 1 Axes>"
      ]
     },
     "metadata": {
      "needs_background": "light"
     },
     "output_type": "display_data"
    },
    {
     "data": {
      "image/png": "[encoded data removed]",
      "text/plain": [
       "<Figure size 504x360 with 1 Axes>"
      ]
     },
     "metadata": {
      "needs_background": "light"
     },
     "output_type": "display_data"
    }
   ],
   "source": [
    "# Оставим площадь менее 200 м2\n",
    "data = data[data['total_area'] <= 200]\n",
    "\n",
    "#Обновим график и describe()\n",
    "data.plot(y = 'total_area', kind = 'hist', bins = 100, grid=True, figsize = (7,5), range = (0,200));\n",
    "data.plot(y = 'total_area', kind = 'hist', bins = 100, grid=True, figsize = (7,5), range = (0,100));\n",
    "print(data['total_area'].describe())\n"
   ]
  },
  {
   "cell_type": "markdown",
   "metadata": {},
   "source": [
    "Общая площадь в выборке от 12 до 200 м2, среднее значение 58 м2, медиана 51 м2.\n",
    "\n",
    "От выбросов избавились.\n",
    "\n",
    "Больше всего квартир с площадью от 30 до 45 м2"
   ]
  },
  {
   "cell_type": "markdown",
   "metadata": {},
   "source": [
    "**4.2. Изучим жилую площадь.**"
   ]
  },
  {
   "cell_type": "code",
   "execution_count": 35,
   "metadata": {},
   "outputs": [
    {
     "name": "stdout",
     "output_type": "stream",
     "text": [
      "count    21479.000000\n",
      "mean        33.253058\n",
      "std         17.379839\n",
      "min          2.000000\n",
      "25%         18.600000\n",
      "50%         30.000000\n",
      "75%         42.000000\n",
      "max        164.700000\n",
      "Name: living_area, dtype: float64\n",
      "AxesSubplot(0.125,0.125;0.775x0.755)\n"
     ]
    },
    {
     "data": {
      "image/png": "[encoded data removed]",
      "text/plain": [
       "<Figure size 432x288 with 1 Axes>"
      ]
     },
     "metadata": {
      "needs_background": "light"
     },
     "output_type": "display_data"
    },
    {
     "data": {
      "image/png": "[encoded data removed]",
      "text/plain": [
       "<Figure size 504x360 with 1 Axes>"
      ]
     },
     "metadata": {
      "needs_background": "light"
     },
     "output_type": "display_data"
    }
   ],
   "source": [
    "print(data['living_area'].describe())\n",
    "print(data['living_area'].hist(bins=50));\n",
    "data.plot(y = 'living_area', kind = 'hist', bins = 100, grid=True, figsize = (7,5), range = (0,100));\n"
   ]
  },
  {
   "cell_type": "markdown",
   "metadata": {},
   "source": [
    "Распределение данных нормальное, есть небольшие выбросы, на фоне большой общей площади, которые не влияют на данные.\n",
    "\n",
    "Жилая площадь в выборке 2 - 164 м2. Больше всего квартир с жилой площадью 18-19 м2. \n",
    "\n",
    "Выбросы не удаляем.\n"
   ]
  },
  {
   "cell_type": "markdown",
   "metadata": {},
   "source": [
    "**4.3. Изучим площадь кухни**"
   ]
  },
  {
   "cell_type": "code",
   "execution_count": 36,
   "metadata": {},
   "outputs": [
    {
     "name": "stdout",
     "output_type": "stream",
     "text": [
      "count    21111.000000\n",
      "mean        10.390983\n",
      "std          5.370524\n",
      "min          1.300000\n",
      "25%          7.000000\n",
      "50%          9.000000\n",
      "75%         12.000000\n",
      "max         93.200000\n",
      "Name: kitchen_area, dtype: float64\n",
      "AxesSubplot(0.125,0.125;0.775x0.755)\n"
     ]
    },
    {
     "data": {
      "image/png": "[encoded data removed]",
      "text/plain": [
       "<Figure size 432x288 with 1 Axes>"
      ]
     },
     "metadata": {
      "needs_background": "light"
     },
     "output_type": "display_data"
    }
   ],
   "source": [
    "print(data['kitchen_area'].describe())\n",
    "print(data['kitchen_area'].hist(bins=50));"
   ]
  },
  {
   "cell_type": "markdown",
   "metadata": {},
   "source": [
    "Распределение данных нормальное. Площадь колеблется от 1,3 до 93 м2. Средняя площадь кухни 10 м2."
   ]
  },
  {
   "cell_type": "markdown",
   "metadata": {},
   "source": [
    "**4.4. Изучим цену объекта.**"
   ]
  },
  {
   "cell_type": "code",
   "execution_count": 37,
   "metadata": {},
   "outputs": [
    {
     "name": "stdout",
     "output_type": "stream",
     "text": [
      "[13000000  3350000  5196000 ...  6151120 21400000 11475000]\n",
      "count    2.334300e+04\n",
      "mean     6.031786e+06\n",
      "std      6.248975e+06\n",
      "min      1.219000e+04\n",
      "25%      3.400000e+06\n",
      "50%      4.600000e+06\n",
      "75%      6.700000e+06\n",
      "max      3.300000e+08\n",
      "Name: last_price, dtype: float64\n",
      "AxesSubplot(0.125,0.125;0.775x0.755)\n"
     ]
    },
    {
     "data": {
      "text/plain": [
       "<AxesSubplot:ylabel='Frequency'>"
      ]
     },
     "execution_count": 37,
     "metadata": {},
     "output_type": "execute_result"
    },
    {
     "data": {
      "image/png": "[encoded data removed]",
      "text/plain": [
       "<Figure size 432x288 with 1 Axes>"
      ]
     },
     "metadata": {
      "needs_background": "light"
     },
     "output_type": "display_data"
    },
    {
     "data": {
      "image/png": "[encoded data removed]",
      "text/plain": [
       "<Figure size 504x360 with 1 Axes>"
      ]
     },
     "metadata": {
      "needs_background": "light"
     },
     "output_type": "display_data"
    },
    {
     "data": {
      "image/png": "[encoded data removed]",
      "text/plain": [
       "<Figure size 504x360 with 1 Axes>"
      ]
     },
     "metadata": {
      "needs_background": "light"
     },
     "output_type": "display_data"
    }
   ],
   "source": [
    "#data['last_price'] = data['last_price']\n",
    "print(data['last_price'].unique())\n",
    "print(data['last_price'].describe())\n",
    "\n",
    "print(data['last_price'].hist(bins = 100));\n",
    "data.plot(y = 'last_price', kind = 'hist', bins = 100, grid=True, range = (0,25000000), figsize = (7,5))\n",
    "data.plot(y = 'last_price', kind = 'hist', bins = 100, grid=True, range = (0,46000000), figsize = (7,5))\n"
   ]
  },
  {
   "cell_type": "markdown",
   "metadata": {},
   "source": [
    "Имеются выбросы после 20 млн руб. Избавимся от них, т.к. квартир с такой стоимостью мало."
   ]
  },
  {
   "cell_type": "code",
   "execution_count": 38,
   "metadata": {},
   "outputs": [
    {
     "name": "stdout",
     "output_type": "stream",
     "text": [
      "count    2.282200e+04\n",
      "mean     5.406655e+06\n",
      "std      3.187452e+06\n",
      "min      1.219000e+04\n",
      "25%      3.400000e+06\n",
      "50%      4.550000e+06\n",
      "75%      6.500000e+06\n",
      "max      2.000000e+07\n",
      "Name: last_price, dtype: float64\n"
     ]
    },
    {
     "data": {
      "image/png": "[encoded data removed]",
      "text/plain": [
       "<Figure size 504x360 with 1 Axes>"
      ]
     },
     "metadata": {
      "needs_background": "light"
     },
     "output_type": "display_data"
    },
    {
     "data": {
      "image/png": "[encoded data removed]",
      "text/plain": [
       "<Figure size 504x360 with 1 Axes>"
      ]
     },
     "metadata": {
      "needs_background": "light"
     },
     "output_type": "display_data"
    }
   ],
   "source": [
    "# Оставим цену меньше 20 млн. руб\n",
    "data = data[data['last_price'] <= 20000000]\n",
    "print(data['last_price'].describe())\n",
    "\n",
    "data.plot(y = 'last_price', kind = 'hist', bins = 100, grid=True, range = (0,20000000), figsize = (7,5));\n",
    "data.plot(y = 'last_price', kind = 'hist', bins = 100, grid=True, range = (0,10000000), figsize = (7,5));"
   ]
  },
  {
   "cell_type": "markdown",
   "metadata": {},
   "source": [
    "Распределение данных нормальное (Гаусса). Средняя цена квартиры 5,4 млн руб. Больше всего объявлений за 3-5 млн руб."
   ]
  },
  {
   "cell_type": "markdown",
   "metadata": {},
   "source": [
    "**4.5. Изучим количество комнат**"
   ]
  },
  {
   "cell_type": "code",
   "execution_count": 39,
   "metadata": {},
   "outputs": [
    {
     "name": "stdout",
     "output_type": "stream",
     "text": [
      "count    22822.000000\n",
      "mean         2.003023\n",
      "std          0.971140\n",
      "min          0.000000\n",
      "25%          1.000000\n",
      "50%          2.000000\n",
      "75%          3.000000\n",
      "max         11.000000\n",
      "Name: rooms, dtype: float64\n",
      "AxesSubplot(0.125,0.125;0.775x0.755)\n"
     ]
    },
    {
     "data": {
      "image/png": "[encoded data removed]",
      "text/plain": [
       "<Figure size 432x288 with 1 Axes>"
      ]
     },
     "metadata": {
      "needs_background": "light"
     },
     "output_type": "display_data"
    }
   ],
   "source": [
    "print(data['rooms'].describe())\n",
    "print(data['rooms'].hist(bins=30))"
   ]
  },
  {
   "cell_type": "markdown",
   "metadata": {},
   "source": [
    "Имеютя выбросы после 4 комнат и выше, так же квартиры с 0 комнат. Избавимся от этих выбросов."
   ]
  },
  {
   "cell_type": "code",
   "execution_count": 40,
   "metadata": {},
   "outputs": [
    {
     "name": "stdout",
     "output_type": "stream",
     "text": [
      "count    2.234100e+04\n",
      "mean     5.346007e+06\n",
      "std      3.095043e+06\n",
      "min      1.219000e+04\n",
      "25%      3.400000e+06\n",
      "50%      4.550000e+06\n",
      "75%      6.400000e+06\n",
      "max      2.000000e+07\n",
      "Name: last_price, dtype: float64\n",
      "AxesSubplot(0.125,0.125;0.775x0.755)\n"
     ]
    },
    {
     "data": {
      "image/png": "[encoded data removed]",
      "text/plain": [
       "<Figure size 432x288 with 1 Axes>"
      ]
     },
     "metadata": {
      "needs_background": "light"
     },
     "output_type": "display_data"
    }
   ],
   "source": [
    "data = data[data['rooms'] <= 4]\n",
    "data = data[data['rooms'] > 0]\n",
    "print(data['last_price'].describe())\n",
    "print(data['rooms'].hist(bins=10));"
   ]
  },
  {
   "cell_type": "markdown",
   "metadata": {},
   "source": [
    "Больше всего объявлений с 1 и 2 комнатными квартирами. Квартиры с 4 комнатами попадаются в 8 раз реже."
   ]
  },
  {
   "cell_type": "markdown",
   "metadata": {},
   "source": [
    "**4.6. Изучим высоту потолков.**"
   ]
  },
  {
   "cell_type": "code",
   "execution_count": 41,
   "metadata": {},
   "outputs": [
    {
     "name": "stdout",
     "output_type": "stream",
     "text": [
      "count    22341.000000\n",
      "mean         2.703495\n",
      "std          0.201670\n",
      "min          2.500000\n",
      "25%          2.600000\n",
      "50%          2.700000\n",
      "75%          2.700000\n",
      "max          8.000000\n",
      "Name: ceiling_height, dtype: float64\n",
      "AxesSubplot(0.125,0.125;0.775x0.755)\n"
     ]
    },
    {
     "data": {
      "image/png": "[encoded data removed]",
      "text/plain": [
       "<Figure size 432x288 with 1 Axes>"
      ]
     },
     "metadata": {
      "needs_background": "light"
     },
     "output_type": "display_data"
    },
    {
     "data": {
      "image/png": "[encoded data removed]",
      "text/plain": [
       "<Figure size 504x360 with 1 Axes>"
      ]
     },
     "metadata": {
      "needs_background": "light"
     },
     "output_type": "display_data"
    }
   ],
   "source": [
    "print(data['ceiling_height'].describe())\n",
    "print(data['ceiling_height'].hist(bins=8))\n",
    "data.plot(y = 'ceiling_height', kind = 'hist', bins = 10, grid=True, figsize = (7,5), range=(2.5,3.5));\n"
   ]
  },
  {
   "cell_type": "markdown",
   "metadata": {},
   "source": [
    "Высота потолков от 2,5 до 8 м. Больше всего квартир с высотой стен 2,7 м., Реже встречаюся квартиры с высотой потолков больше 3 м."
   ]
  },
  {
   "cell_type": "markdown",
   "metadata": {},
   "source": [
    "**4.7. Изучим тип этажа квартиры («первый», «последний», «другой»)**"
   ]
  },
  {
   "cell_type": "code",
   "execution_count": 42,
   "metadata": {},
   "outputs": [
    {
     "name": "stdout",
     "output_type": "stream",
     "text": [
      "AxesSubplot(0.125,0.125;0.775x0.755)\n"
     ]
    },
    {
     "data": {
      "image/png": "[encoded data removed]",
      "text/plain": [
       "<Figure size 432x288 with 1 Axes>"
      ]
     },
     "metadata": {
      "needs_background": "light"
     },
     "output_type": "display_data"
    }
   ],
   "source": [
    "print(data['floor_type'].hist(bins=5));"
   ]
  },
  {
   "cell_type": "markdown",
   "metadata": {},
   "source": [
    "Больше всего объявлений с квартирой не на первом и не на последнем этажах. В предобработке даных пропуски заполнили - 0, который попал в тип \"другой\", т.к. этих данных было менее 1 %, это не сильно повлияло на гистограмму. Объявлений с квартирой на первом этаже чуть меньше, чем на последнем."
   ]
  },
  {
   "cell_type": "markdown",
   "metadata": {},
   "source": [
    "**4.8. Изучим общее количество этажей в доме.**"
   ]
  },
  {
   "cell_type": "code",
   "execution_count": 43,
   "metadata": {},
   "outputs": [
    {
     "name": "stdout",
     "output_type": "stream",
     "text": [
      "count    22341.000000\n",
      "mean        10.717157\n",
      "std          6.632884\n",
      "min          0.000000\n",
      "25%          5.000000\n",
      "50%          9.000000\n",
      "75%         16.000000\n",
      "max         60.000000\n",
      "Name: floors_total, dtype: float64\n",
      "AxesSubplot(0.125,0.125;0.775x0.755)\n"
     ]
    },
    {
     "data": {
      "image/png": "[encoded data removed]",
      "text/plain": [
       "<Figure size 432x288 with 1 Axes>"
      ]
     },
     "metadata": {
      "needs_background": "light"
     },
     "output_type": "display_data"
    }
   ],
   "source": [
    "print(data['floors_total'].describe())\n",
    "print(data['floors_total'].hist(bins=50));"
   ]
  },
  {
   "cell_type": "markdown",
   "metadata": {},
   "source": [
    "В объявлениях представлены квартиры с этажностью дома от 0 до 60 этажа.\n",
    "\n",
    "0 этаж - это заполненные строки с пустыми значениями, не влияют на данные, т.к составляют менее 1%, удалять не будем.\n",
    "\n",
    "Больше всего объявлений в пятиэтажных домах. На счёт домов выше 30 этажа нужно уточнить и проверить информацию."
   ]
  },
  {
   "cell_type": "markdown",
   "metadata": {},
   "source": [
    "**4.9. Изучим расстояние до центра города в метрах.**"
   ]
  },
  {
   "cell_type": "code",
   "execution_count": 44,
   "metadata": {},
   "outputs": [
    {
     "name": "stdout",
     "output_type": "stream",
     "text": [
      "AxesSubplot(0.125,0.125;0.775x0.755)\n"
     ]
    },
    {
     "data": {
      "image/png": "[encoded data removed]",
      "text/plain": [
       "<Figure size 432x288 with 1 Axes>"
      ]
     },
     "metadata": {
      "needs_background": "light"
     },
     "output_type": "display_data"
    }
   ],
   "source": [
    "print(data['floors_total'].hist(bins=20));"
   ]
  },
  {
   "cell_type": "markdown",
   "metadata": {},
   "source": [
    "Расстояние до центра города в пределах 0-30 км.**\n",
    "Больше всего объявлений, где расстояние до ценра  около 5 км. Возможно, Чем дальше от центра, тем меньше объявлений или упоминания об растоянии. Либо, если это объявление в области, то там нет необходимости указавать данный параметр."
   ]
  },
  {
   "cell_type": "markdown",
   "metadata": {},
   "source": [
    "**4.10. Изучим расстояние до ближайшего парка.**"
   ]
  },
  {
   "cell_type": "code",
   "execution_count": 45,
   "metadata": {},
   "outputs": [
    {
     "name": "stdout",
     "output_type": "stream",
     "text": [
      "count    7314.000000\n",
      "mean      495.139732\n",
      "std       343.698750\n",
      "min         1.000000\n",
      "25%       290.000000\n",
      "50%       458.000000\n",
      "75%       617.000000\n",
      "max      3190.000000\n",
      "Name: parks_nearest, dtype: float64\n",
      "AxesSubplot(0.125,0.125;0.775x0.755)\n"
     ]
    },
    {
     "data": {
      "image/png": "[encoded data removed]",
      "text/plain": [
       "<Figure size 432x288 with 1 Axes>"
      ]
     },
     "metadata": {
      "needs_background": "light"
     },
     "output_type": "display_data"
    }
   ],
   "source": [
    "print(data['parks_nearest'].describe())\n",
    "print(data['parks_nearest'].hist(bins=50));"
   ]
  },
  {
   "cell_type": "markdown",
   "metadata": {},
   "source": [
    "Не во всех объявлениях было указано о наличии пруда. В среднем, водоём расположен примерно в 500 м от дома. Так же есть объявления, где указывали расстояние до пруда, если он находится дальше чем 1 км."
   ]
  },
  {
   "cell_type": "markdown",
   "metadata": {},
   "source": [
    "**Вывод по исследовательскому анализу данных на основе гистограмм:**\n",
    "\n",
    "**В данных встречаются аномалии - 19 комнат, цена квартиры больше 40-50 млн, рублей, площадь квартиры больше 200 м2. От всех выбросов избавились и проанализировали нормальные значения.**"
   ]
  },
  {
   "cell_type": "code",
   "execution_count": 46,
   "metadata": {},
   "outputs": [
    {
     "data": {
      "image/png": "[encoded data removed]",
      "text/plain": [
       "<Figure size 432x288 with 1 Axes>"
      ]
     },
     "metadata": {
      "needs_background": "light"
     },
     "output_type": "display_data"
    }
   ],
   "source": [
    "#проверка аномалий\n",
    "data2 = pd.read_csv('/datasets/real_estate_data.csv', sep='\\t')\n",
    "(data2['total_area']).hist(bins=30);"
   ]
  },
  {
   "cell_type": "markdown",
   "metadata": {},
   "source": [
    "**Задание 1 - \"Изучите, как быстро продавались квартиры (столбец days_exposition). Этот параметр показывает, сколько дней «висело» каждое объявление\".**"
   ]
  },
  {
   "cell_type": "code",
   "execution_count": 47,
   "metadata": {},
   "outputs": [
    {
     "data": {
      "text/plain": [
       "<AxesSubplot:ylabel='Frequency'>"
      ]
     },
     "execution_count": 47,
     "metadata": {},
     "output_type": "execute_result"
    },
    {
     "data": {
      "image/png": "[encoded data removed]",
      "text/plain": [
       "<Figure size 432x288 with 1 Axes>"
      ]
     },
     "metadata": {
      "needs_background": "light"
     },
     "output_type": "display_data"
    },
    {
     "data": {
      "image/png": "[encoded data removed]",
      "text/plain": [
       "<Figure size 432x288 with 1 Axes>"
      ]
     },
     "metadata": {
      "needs_background": "light"
     },
     "output_type": "display_data"
    }
   ],
   "source": [
    "#import matplotlib.pyplot as plt #импортируем библиотеку для визуализации данных. \n",
    "#Без неё график не строился. Импортирую тут, т.к. ранее мы не знали, что она понадобится.\n",
    "#print(data[data['days_exposition']!=0]['days_exposition'].describe()) #исключаем 0 дней\n",
    "#plt.boxplot(data['days_exposition']) # Нарисуем диаграмму размаха\n",
    "\n",
    "data.plot(y = 'days_exposition', kind = 'hist', bins = 50, grid = True, range = (1,1600))\n",
    "#Посмотрим диапазон(1,300)\n",
    "data.plot(y = 'days_exposition', kind = 'hist', bins = 100, grid = True, range = (1,300))"
   ]
  },
  {
   "cell_type": "markdown",
   "metadata": {},
   "source": [
    "Проверим уникальные значения, т.к. есть выбросы в районе 40 дней, 60 и 80-90."
   ]
  },
  {
   "cell_type": "code",
   "execution_count": 48,
   "metadata": {},
   "outputs": [
    {
     "name": "stdout",
     "output_type": "stream",
     "text": [
      "45    859\n",
      "60    531\n",
      "7     225\n",
      "30    197\n",
      "4     169\n",
      "90    163\n",
      "3     152\n",
      "14    141\n",
      "5     140\n",
      "20    136\n",
      "Name: days_exposition, dtype: Int64\n"
     ]
    }
   ],
   "source": [
    "print(data['days_exposition'].value_counts().head(10))\n"
   ]
  },
  {
   "cell_type": "markdown",
   "metadata": {},
   "source": [
    "0 ней - это наша замена. Возможно, что тут бы пригодило удалить эти данные, но, т.к. мы знаем, что это пустые значения, оставим их и проанализируем.\n",
    "\n",
    "Уникальные значения - 0,45,60,7,30 и 90 дней.\n",
    "\n",
    "Среднее значение - 181 день, медиана - 95 дней.\n",
    "\n",
    "Очень много объявлений продаются за 45 и 60 дней. Возможно это не связано именно с продажей. Необходимо изучить правила размещения объявлений, т.к. на многих платформах есть сроки публикации платные и бесплатные**\n",
    "\n",
    "Изучив информацию на сайте Яндекс Недвижимость, находим информацию о сроках публикации - 45,60 и 90 дней. По истечению этого срока, объявление исчезает. Это говорит нам о том, что большой выброс - снятие объявление с публикации, но, возмножно и то, что объявление закрыли по реальной продаже квартиры. К сожалению, проверить процент реальных продаж в такие сроки не реально.\n",
    "\n",
    "О 7 и 30 днях информации нет, что касалось бы продажи, есть информация об длитеной аренде, но не думаю, что эти сроки подходят для типа объявления - продажа.\n",
    "\n",
    "\n",
    "т.к. 45,60 и 90 дней, не говорят нам о продаже квартиры, эти дни не учитываем.\n",
    "\n",
    "0 дней - возможно, это технический момент, который не отразил количество дней, либо объявление находилось на сайте несколько часов и его удалили. Этот день так же не будем учитывать.\n",
    "\n",
    "Межквартильный размах от 45 до 232. По boxplot диапазон примерно до 500 дней, всё, что выше - не понятные долгие сроки.\n",
    "\n",
    "Из всего выше сказанного, диапазон дней продажи квартир 1 - 500. Быстрых продаж нет.\n",
    "\n",
    "Необходимо уточнить у коллег по поводу дней публикаций - 7, 30, что бы их тоже можно было исключить из выборки.\n",
    "\n",
    "Можем предварительно убрать все эти дни из воборки и проверить, как поменяются показатели describe(). Для того создадим новю таблицу 'data_day'\n"
   ]
  },
  {
   "cell_type": "code",
   "execution_count": 49,
   "metadata": {},
   "outputs": [],
   "source": [
    "data_day = data.query('days_exposition != 0 and days_exposition != 7 and days_exposition != 30 and days_exposition != 45 and days_exposition != 60 and days_exposition != 90') "
   ]
  },
  {
   "cell_type": "code",
   "execution_count": 50,
   "metadata": {},
   "outputs": [
    {
     "data": {
      "text/plain": [
       "count    17487.000000\n",
       "mean       191.920398\n",
       "std        222.712517\n",
       "min          1.000000\n",
       "25%         44.000000\n",
       "50%        112.000000\n",
       "75%        252.000000\n",
       "max       1580.000000\n",
       "Name: days_exposition, dtype: float64"
      ]
     },
     "execution_count": 50,
     "metadata": {},
     "output_type": "execute_result"
    }
   ],
   "source": [
    "data_day['days_exposition'].describe()"
   ]
  },
  {
   "cell_type": "markdown",
   "metadata": {},
   "source": [
    "Построим те же гистограммы."
   ]
  },
  {
   "cell_type": "code",
   "execution_count": 51,
   "metadata": {},
   "outputs": [
    {
     "data": {
      "text/plain": [
       "<AxesSubplot:ylabel='Frequency'>"
      ]
     },
     "execution_count": 51,
     "metadata": {},
     "output_type": "execute_result"
    },
    {
     "data": {
      "image/png": "[encoded data removed]",
      "text/plain": [
       "<Figure size 432x288 with 1 Axes>"
      ]
     },
     "metadata": {
      "needs_background": "light"
     },
     "output_type": "display_data"
    },
    {
     "data": {
      "image/png": "[encoded data removed]",
      "text/plain": [
       "<Figure size 432x288 with 1 Axes>"
      ]
     },
     "metadata": {
      "needs_background": "light"
     },
     "output_type": "display_data"
    },
    {
     "data": {
      "image/png": "[encoded data removed]",
      "text/plain": [
       "<Figure size 432x288 with 1 Axes>"
      ]
     },
     "metadata": {
      "needs_background": "light"
     },
     "output_type": "display_data"
    }
   ],
   "source": [
    "plt.boxplot(data_day['days_exposition'])\n",
    "data_day.plot(y = 'days_exposition', kind = 'hist', bins = 50, grid = True, range = (1,1600))\n",
    "data_day.plot(y = 'days_exposition', kind = 'hist', bins = 100, grid = True, range = (1,200)) #возьмём меньше"
   ]
  },
  {
   "cell_type": "markdown",
   "metadata": {},
   "source": [
    "В обновлённых данных изменились показатели:\n",
    "\n",
    "Среднее было 181 стало 191\n",
    "\n",
    "Медиана была 95 стала 112\n",
    "\n",
    "Диапазон дней продажи квартир теперь  1 - 600\n",
    "\n",
    "Необходимо дождаться данных от коллег по поводу сроков публикации и уточнения о 7 и 30 днях.\n"
   ]
  },
  {
   "cell_type": "markdown",
   "metadata": {},
   "source": [
    "**Задание 2 - \"Какие факторы больше всего влияют на общую (полную) стоимость объекта?\".**"
   ]
  },
  {
   "cell_type": "markdown",
   "metadata": {},
   "source": [
    "**- Изучим зависимость цены  от общей площади квартиры.**"
   ]
  },
  {
   "cell_type": "code",
   "execution_count": 52,
   "metadata": {},
   "outputs": [
    {
     "data": {
      "text/plain": [
       "0.7632580817102217"
      ]
     },
     "execution_count": 52,
     "metadata": {},
     "output_type": "execute_result"
    },
    {
     "data": {
      "image/png": "[encoded data removed]",
      "text/plain": [
       "<Figure size 432x288 with 1 Axes>"
      ]
     },
     "metadata": {
      "needs_background": "light"
     },
     "output_type": "display_data"
    }
   ],
   "source": [
    "# Создадим сводную таблицу pivot_total_area\n",
    "pivot_total_area = data.pivot_table(index = 'total_area', values = 'last_price', aggfunc = ['mean', 'count', 'median'])\n",
    "pivot_total_area.columns = ['mean', 'count', 'median'] # Переименуем столбцы\n",
    "pivot_total_area.plot(y = 'median', style = 'o') # Построим график точками\n",
    "\n",
    "data['total_area'].corr(data['last_price']) # Вычислим корреляцию "
   ]
  },
  {
   "cell_type": "markdown",
   "metadata": {},
   "source": [
    "\n",
    "Коэффициент корреляции Пирсона 0,76. Связь сильная. Чем больше площадь квартиры, тем дороже стоимость квартиры."
   ]
  },
  {
   "cell_type": "markdown",
   "metadata": {},
   "source": [
    "**- Изучим зависимость цены от жилой площади квартиры.**"
   ]
  },
  {
   "cell_type": "code",
   "execution_count": 53,
   "metadata": {},
   "outputs": [
    {
     "data": {
      "text/plain": [
       "0.6375111960809093"
      ]
     },
     "execution_count": 53,
     "metadata": {},
     "output_type": "execute_result"
    },
    {
     "data": {
      "image/png": "[encoded data removed]",
      "text/plain": [
       "<Figure size 432x288 with 1 Axes>"
      ]
     },
     "metadata": {
      "needs_background": "light"
     },
     "output_type": "display_data"
    }
   ],
   "source": [
    "# Создадим сводную таблицу pivot_living_area\n",
    "pivot_living_area = data.pivot_table(index = 'living_area', values = 'last_price', aggfunc = ['mean', 'count', 'median'])\n",
    "pivot_living_area.columns = ['mean', 'count', 'median'] # Переименуем столбцы\n",
    "pivot_living_area.plot(y = 'median', style = 'o') # Построим график точками\n",
    "\n",
    "data['living_area'].corr(data['last_price']) # Вычислим корреляцию "
   ]
  },
  {
   "cell_type": "markdown",
   "metadata": {},
   "source": [
    "Зависимость почти така же, как и от общей площади. Коэффициент корреляции 0,63. Связь средняя. Чем больше жилая площадь квартиры, тем возврастает цена квартиры."
   ]
  },
  {
   "cell_type": "markdown",
   "metadata": {},
   "source": [
    "**- Изучим зависимость цены от площади кухнию**\n"
   ]
  },
  {
   "cell_type": "code",
   "execution_count": 54,
   "metadata": {},
   "outputs": [
    {
     "data": {
      "text/plain": [
       "0.5712402947382251"
      ]
     },
     "execution_count": 54,
     "metadata": {},
     "output_type": "execute_result"
    },
    {
     "data": {
      "image/png": "[encoded data removed]",
      "text/plain": [
       "<Figure size 432x288 with 1 Axes>"
      ]
     },
     "metadata": {
      "needs_background": "light"
     },
     "output_type": "display_data"
    }
   ],
   "source": [
    "# Создадим сводную таблицу pivot_kitchen_area\n",
    "pivot_kitchen_area = data.pivot_table(index = 'kitchen_area', values = 'last_price', aggfunc = ['mean', 'count', 'median'])\n",
    "pivot_kitchen_area.columns = ['mean', 'count', 'median'] # Переименуем столбцы\n",
    "pivot_kitchen_area.plot(y = 'median', style = 'o') # Построим график точками\n",
    "\n",
    "data['kitchen_area'].corr(data['last_price']) # Вычислим корреляцию "
   ]
  },
  {
   "cell_type": "markdown",
   "metadata": {},
   "source": [
    "Коэффициент корреляции 0,57. Связь средняя. Чем больше площадь кухни квартиры, тем чуть выше стоимость квартиры."
   ]
  },
  {
   "cell_type": "markdown",
   "metadata": {},
   "source": [
    "**- Изучим зависимость цены от количества комнат.**"
   ]
  },
  {
   "cell_type": "code",
   "execution_count": 55,
   "metadata": {},
   "outputs": [
    {
     "data": {
      "text/plain": [
       "0.463878310098315"
      ]
     },
     "execution_count": 55,
     "metadata": {},
     "output_type": "execute_result"
    },
    {
     "data": {
      "image/png": "[encoded data removed]",
      "text/plain": [
       "<Figure size 432x288 with 1 Axes>"
      ]
     },
     "metadata": {
      "needs_background": "light"
     },
     "output_type": "display_data"
    }
   ],
   "source": [
    "# Создадим сводную таблицу pivot_rooms\n",
    "pivot_rooms = data.pivot_table(index = 'rooms', values = 'last_price', aggfunc = ['mean', 'count', 'median'])\n",
    "pivot_rooms.columns = ['mean', 'count', 'median'] # Переименуем столбцы\n",
    "pivot_rooms.plot(y = 'median', style = 'o-') # Построим график точками\n",
    "\n",
    "data['rooms'].corr(data['last_price']) # Вычислим корреляцию "
   ]
  },
  {
   "cell_type": "markdown",
   "metadata": {},
   "source": [
    "Коэффициент корреляции 0,46. Связь средняя. Квартиры с 4 комнатами стоят дороже, чем однушки. 2х комнатные квартиры стоят дороде 1 комнатных."
   ]
  },
  {
   "cell_type": "markdown",
   "metadata": {},
   "source": [
    "**- Изучим зависимость цены от этажа, на котором расположена квартира (первый, последний, другой).**"
   ]
  },
  {
   "cell_type": "code",
   "execution_count": 56,
   "metadata": {},
   "outputs": [
    {
     "name": "stdout",
     "output_type": "stream",
     "text": [
      "                    mean  count   median\n",
      "floor_type                              \n",
      "другой      5.588210e+06  16378  4749000\n",
      "первый      4.296865e+06   2791  3850000\n",
      "последний   4.986152e+06   3097  4190000\n"
     ]
    },
    {
     "data": {
      "image/png": "[encoded data removed]",
      "text/plain": [
       "<Figure size 432x288 with 1 Axes>"
      ]
     },
     "metadata": {
      "needs_background": "light"
     },
     "output_type": "display_data"
    }
   ],
   "source": [
    "# Создадим сводную таблицу pivot_floor_type\n",
    "pivot_floor_type = data.pivot_table(index = 'floor_type', values = 'last_price', aggfunc = ['mean', 'count', 'median'])\n",
    "pivot_floor_type.columns = ['mean', 'count', 'median'] # Переименуем столбцы\n",
    "pivot_floor_type.plot(y = 'median') # Построим график\n",
    "print(pivot_floor_type)\n"
   ]
  },
  {
   "cell_type": "markdown",
   "metadata": {},
   "source": [
    "т.к. число квартир на других этажах превышает квартиры на первом и последнем этажах, можно сделать вывод, что квартиры на первом этаже стоят чуть дешевле, чем квартиры на последних этажах. Но, квартиры на последниъ этажах стоят дешевле, чем на каком либо другом."
   ]
  },
  {
   "cell_type": "markdown",
   "metadata": {},
   "source": [
    "**- Изучим зависимость цены от даты размещения (день недели).**"
   ]
  },
  {
   "cell_type": "code",
   "execution_count": 57,
   "metadata": {},
   "outputs": [
    {
     "data": {
      "image/png": "[encoded data removed]",
      "text/plain": [
       "<Figure size 432x288 with 1 Axes>"
      ]
     },
     "metadata": {
      "needs_background": "light"
     },
     "output_type": "display_data"
    }
   ],
   "source": [
    "# Создадим сводную таблицу pivot_weekday_exposition\n",
    "pivot_weekday_exposition = data.pivot_table(index = 'weekday_exposition', values = 'last_price', aggfunc = ['mean', 'count', 'median'])\n",
    "pivot_weekday_exposition.columns = ['mean', 'count', 'median'] # Переименуем столбцы\n",
    "pivot_weekday_exposition.plot(y = 'median', style = 'o-', grid=True); # Построим график точками\n"
   ]
  },
  {
   "cell_type": "markdown",
   "metadata": {},
   "source": [
    "Объявления выставленные в начале недели с более высокой стоимостью квартир. Объявления выложенные с четверга по вескресенье с самой низкой стоимостью.\n",
    "\n",
    "Но, тут скорее всего связано с работой риэлторов, с помощью которых продают квартиры. Риэлторы могут не работать на выходных, понедельник - день планирования, а вторник и среда самые продуктивны дни."
   ]
  },
  {
   "cell_type": "markdown",
   "metadata": {},
   "source": [
    "**- Изучим зависимость цены от даты размещения (месяц).**"
   ]
  },
  {
   "cell_type": "code",
   "execution_count": 58,
   "metadata": {},
   "outputs": [
    {
     "name": "stdout",
     "output_type": "stream",
     "text": [
      "                          mean  count   median\n",
      "month_exposition                              \n",
      "4                 5.484679e+06   2267  4700000\n",
      "9                 5.553121e+06   1871  4600000\n",
      "11                5.404757e+06   2214  4600000\n",
      "12                5.364686e+06   1545  4600000\n",
      "3                 5.314147e+06   2453  4550000\n",
      "2                 5.269255e+06   2482  4515000\n",
      "1                 5.307631e+06   1400  4500000\n",
      "7                 5.326426e+06   1590  4500000\n",
      "8                 5.378485e+06   1648  4500000\n",
      "10                5.348536e+06   2020  4500000\n",
      "5                 5.269215e+06   1191  4450000\n",
      "6                 5.060183e+06   1660  4300000\n"
     ]
    },
    {
     "data": {
      "image/png": "[encoded data removed]",
      "text/plain": [
       "<Figure size 432x288 with 1 Axes>"
      ]
     },
     "metadata": {
      "needs_background": "light"
     },
     "output_type": "display_data"
    }
   ],
   "source": [
    "# Создадим сводную таблицу pivot_month_exposition\n",
    "pivot_month_exposition = data.pivot_table(index = 'month_exposition', values = 'last_price', aggfunc = ['mean', 'count', 'median'])\n",
    "pivot_month_exposition.columns = ['mean', 'count', 'median'] # Переименуем столбцы\n",
    "pivot_month_exposition.plot(y = 'median', style = 'o-', grid=True) # Построим график точками\n",
    "\n",
    "print(pivot_month_exposition.sort_values('median', ascending = False))"
   ]
  },
  {
   "cell_type": "markdown",
   "metadata": {},
   "source": [
    "Самая высокая стоимость квартир в апреле, самая низкая в июне и мае. Возможно, это связано с отпусками людей - июнь первый месяц лета, так же сказывается май, где пол месяца - это не рабочие дни."
   ]
  },
  {
   "cell_type": "markdown",
   "metadata": {},
   "source": [
    "**- Изучим зависимость цены от даты размещения (год).**"
   ]
  },
  {
   "cell_type": "code",
   "execution_count": 59,
   "metadata": {},
   "outputs": [
    {
     "name": "stdout",
     "output_type": "stream",
     "text": [
      "                         mean  count   median\n",
      "year_exposition                              \n",
      "2014             7.955265e+06    114  6325000\n",
      "2015             5.963206e+06   1068  5095000\n",
      "2019             5.648179e+06   2732  4960000\n",
      "2018             5.217024e+06   8119  4500000\n",
      "2016             5.313983e+06   2611  4400000\n",
      "2017             5.261387e+06   7697  4400000\n"
     ]
    },
    {
     "data": {
      "image/png": "[encoded data removed]",
      "text/plain": [
       "<Figure size 432x288 with 1 Axes>"
      ]
     },
     "metadata": {
      "needs_background": "light"
     },
     "output_type": "display_data"
    }
   ],
   "source": [
    "# Создадим сводную таблицу pivot_year_exposition\n",
    "pivot_year_exposition = data.pivot_table(index = 'year_exposition', values = 'last_price', aggfunc = ['mean', 'count', 'median'])\n",
    "pivot_year_exposition.columns = ['mean', 'count', 'median'] # Переименуем столбцы\n",
    "pivot_year_exposition.plot(y = 'median', style = 'o-', grid=True) # Построим график точками\n",
    "\n",
    "print(pivot_year_exposition.sort_values('median', ascending = False))"
   ]
  },
  {
   "cell_type": "markdown",
   "metadata": {},
   "source": [
    "С 2014 - 2016 стоимость квартир уменьшалась. С 2017 цена совсем чуть-чуть начала расти по сравнению 2016 г.\n",
    "\n",
    "Причина - рост курса доллара в 2014-2015 гг, стоимость квартир упала."
   ]
  },
  {
   "cell_type": "markdown",
   "metadata": {},
   "source": [
    "**Задание 3 - \"Посчитайте среднюю цену одного квадратного метра в 10 населённых пунктах с наибольшим числом объявлений — постройте сводную таблицу с количеством объявлений и средней ценой квадратного метра для этих населенных пунктов. Выделите населённые пункты с самой высокой и низкой стоимостью квадратного метра\".**"
   ]
  },
  {
   "cell_type": "code",
   "execution_count": 60,
   "metadata": {},
   "outputs": [
    {
     "name": "stdout",
     "output_type": "stream",
     "text": [
      "                 count           mean\n",
      "locality_name                        \n",
      "Санкт-Петербург  14601  108904.760983\n",
      "Мурино             560   85522.593036\n",
      "Кудрово            450   95151.880622\n",
      "Шушары             434   78438.609562\n",
      "Всеволожск         390   67217.765590\n",
      "Пушкин             353  101982.315439\n",
      "Колпино            334   75440.286916\n",
      "Парголово          321   90479.242305\n",
      "Гатчина            306   68797.701797\n",
      "Выборг             234   58305.943547\n"
     ]
    }
   ],
   "source": [
    "# Создадим сводную таблицу pivot_locality_name\n",
    "pivot_locality_name = data.pivot_table(index = 'locality_name', values = 'price_per_square_meter', aggfunc= ['count', 'mean'])\n",
    "# Переименуем столбцы\n",
    "pivot_locality_name.columns = ['count', 'mean']\n",
    "# Отсортируем кол-во  по возрастанию и сохраним 10 населённых пунктов\n",
    "pivot_locality_name = pivot_locality_name.sort_values('count', ascending = False).head(10)\n",
    "print(pivot_locality_name)\n"
   ]
  },
  {
   "cell_type": "code",
   "execution_count": 61,
   "metadata": {},
   "outputs": [
    {
     "name": "stdout",
     "output_type": "stream",
     "text": [
      "                 count           mean\n",
      "locality_name                        \n",
      "Санкт-Петербург  14601  108904.760983\n",
      "               count          mean\n",
      "locality_name                     \n",
      "Выборг           234  58305.943547\n"
     ]
    }
   ],
   "source": [
    "# Найдём самую высокую и низкую стоимость\n",
    "print(pivot_locality_name[pivot_locality_name['mean'] == pivot_locality_name['mean'].max()])\n",
    "print(pivot_locality_name[pivot_locality_name['mean'] == pivot_locality_name['mean'].min()])"
   ]
  },
  {
   "cell_type": "markdown",
   "metadata": {},
   "source": [
    "**Итог:**\n",
    "\n",
    "Самая высокая стоимость квадратного метра жилья из 10 населённых пунктов, с самым большим количеством объявлений - Санкт-Петербург. Самая низка - Выборг - 58 305 руб/м2.\n",
    "\n",
    "В Санкт-Птербурге больше всего объявлений о продаже квартир, оно и не удивительно, т.к. это крупный город. Пушкин занимает 6 место по кол-ву объявлений, но при этом стоимость м2 - 108 905 руб.   "
   ]
  },
  {
   "cell_type": "markdown",
   "metadata": {},
   "source": [
    "**Задание 4 - Ранее вы посчитали расстояние до центра в километрах. Теперь выделите квартиры в Санкт-Петербурге с помощью столбца locality_name и вычислите среднюю цену каждого километра. Опишите, как стоимость объектов зависит от расстояния до центра города — постройте график изменения средней цены для каждого километра от центра Петербурга.**\n"
   ]
  },
  {
   "cell_type": "code",
   "execution_count": 62,
   "metadata": {},
   "outputs": [
    {
     "name": "stdout",
     "output_type": "stream",
     "text": [
      "cityCenters_nearest\n",
      "0.0      9248.333333\n",
      "1.0     10242.587406\n",
      "2.0      9723.035088\n",
      "3.0      8515.983154\n",
      "4.0      8954.500292\n",
      "5.0      9148.420618\n",
      "6.0      8383.687697\n",
      "7.0      7934.286396\n",
      "8.0      7915.096353\n",
      "9.0      6399.525548\n",
      "10.0     6054.801916\n",
      "11.0     5895.037614\n",
      "12.0     5708.686565\n",
      "13.0     5969.225751\n",
      "14.0     5554.358117\n",
      "15.0     5672.677992\n",
      "16.0     5263.822196\n",
      "17.0     5171.324765\n",
      "18.0     4884.326074\n",
      "19.0     5067.515903\n",
      "20.0     6097.429935\n",
      "21.0     5516.834052\n",
      "22.0     5367.840323\n",
      "23.0     4754.587500\n",
      "24.0     3890.686800\n",
      "25.0     4052.839923\n",
      "26.0     3973.012509\n",
      "27.0     8300.000000\n",
      "28.0     5026.428571\n",
      "29.0     4236.666667\n",
      "Name: last_price, dtype: float64\n"
     ]
    },
    {
     "data": {
      "text/plain": [
       "<AxesSubplot:xlabel='cityCenters_nearest'>"
      ]
     },
     "execution_count": 62,
     "metadata": {},
     "output_type": "execute_result"
    },
    {
     "data": {
      "image/png": "[encoded data removed]",
      "text/plain": [
       "<Figure size 432x288 with 1 Axes>"
      ]
     },
     "metadata": {
      "needs_background": "light"
     },
     "output_type": "display_data"
    }
   ],
   "source": [
    "# Сделаем срез по Санкт-Петербургу и создадим сводную тпблицу pivot_km\n",
    "pivot_km = data.query('locality_name == \"Санкт-Петербург\"').pivot_table(index = 'cityCenters_nearest', values = 'last_price', aggfunc = 'mean')\n",
    "print(pivot_km['last_price']/1000) # для наглядности цены\n",
    "pivot_km.plot(style = 'o-', grid=True)"
   ]
  },
  {
   "cell_type": "markdown",
   "metadata": {},
   "source": [
    "**Итог:**\n",
    "\n",
    "В центре города самая высокая стоимость квартир. В 2-3 км от центра цена снижается. В 4-7 км от центра города цена увеличивается - спальные районы, больше жидых домов, не все мечтают жить в центре. В 15 км находится аэропорт.Есть небольшой выброс на 27 км.  "
   ]
  },
  {
   "cell_type": "markdown",
   "metadata": {},
   "source": [
    "### Общий вывод"
   ]
  },
  {
   "cell_type": "markdown",
   "metadata": {},
   "source": [
    "Мы изучили данные сервиса Яндекс Недвижимость - обработали пропущенные значения,где это было возможно, заменили тип данных и избавились от уникальных значений в названиях населённых пунктах. \n",
    "\n",
    "Добавили в таблицу новые столбцы - ценка м2, размещение объявлений по месяцам, неделям и годам, тип этажа квартиры(«первый», «последний», «другой») и расстояние до центра города в км.\n",
    "\n",
    "Провели анализ по списку параметров и выявили аномалии в данных высоты потолка, общей площади квартиры, количестве комнат, стоимости квартиры - все анамальные значении отбросили. Пропуски в днях публикации объявления, не заполняли, т.к. это говорит о том, что квартиру ещё не продали иобъявление не сняли с публикации.\n",
    "\n",
    "Изучили, что средняя продажа квартиры занимает от 1 до 500 дней. Но на графиках выявлены дни снятия объявлений с публикации (условия сайта), которые нельзя считать днём продажи - 7,30,45,60 и 90 дней. Тут необходимо уточнение у сборщиков информации. Если данные аномалии подтверждаются и эти дни исключить из анализа, количество дней на продажу квартир увеличится 1 - 600.\n",
    "\n",
    "Выявили, что на стоимость квартир больше всего влияет площадь и количество комнат, чем больше эти показатели, тем выше цена квартир. Квартиры на первом этаже стоят дешевле, чем квартиры на последниъ этажах на 10%. Заметили, что и время публикации так же влияет на стоимость - объявления размещённые во вторник, самый продуктивный день недели, стоят дорже, чем квартира опубликованная в воскресенье. В публикациях была замечена сезонность - квартиры опубликованные в мае - начале лета стоят дешевле, чем квартира выложенная в апреле. В анализе был отрезок 2014-2019 гг. Экономические проблемы и рост курса доллара в 2014-2015 гг так же сказался на стоимости квартир, лишь с 2017 г цена по немногу начала расти. И конечно, в центре города квартиры стоят дороже, чем на расстоянии 10 км от центра.\n",
    "\n",
    "Провели анализ 10 населённых пунктов с самым большим количеством объявлений и выяснили, что самое дорогое жильё в Санкт-Петербурге - 108 905 руб/м2., а самая низкая цена в Выборге - 58 305 руб/м2.\n",
    "\n",
    "\n"
   ]
  }
 ],
 "metadata": {
  "ExecuteTimeLog": [
   {
    "duration": 708,
    "start_time": "2023-08-24T18:33:19.198Z"
   },
   {
    "duration": 20,
    "start_time": "2023-08-24T18:33:25.304Z"
   },
   {
    "duration": 19,
    "start_time": "2023-08-24T18:37:04.462Z"
   },
   {
    "duration": 618,
    "start_time": "2023-08-25T08:08:26.158Z"
   },
   {
    "duration": 17,
    "start_time": "2023-08-25T08:08:26.778Z"
   },
   {
    "duration": 26,
    "start_time": "2023-08-25T08:08:26.796Z"
   },
   {
    "duration": 95,
    "start_time": "2023-08-25T08:08:32.106Z"
   },
   {
    "duration": 104,
    "start_time": "2023-08-25T08:08:44.494Z"
   },
   {
    "duration": 48,
    "start_time": "2023-08-25T08:08:47.353Z"
   },
   {
    "duration": 20,
    "start_time": "2023-08-25T08:08:51.674Z"
   },
   {
    "duration": 11,
    "start_time": "2023-08-25T08:09:00.904Z"
   },
   {
    "duration": 15,
    "start_time": "2023-08-25T08:17:54.260Z"
   },
   {
    "duration": 51,
    "start_time": "2023-08-25T09:31:22.040Z"
   },
   {
    "duration": 18,
    "start_time": "2023-08-25T09:33:14.588Z"
   },
   {
    "duration": 19,
    "start_time": "2023-08-25T09:34:23.218Z"
   },
   {
    "duration": 5,
    "start_time": "2023-08-25T09:34:52.953Z"
   },
   {
    "duration": 87,
    "start_time": "2023-08-25T09:35:31.204Z"
   },
   {
    "duration": 5,
    "start_time": "2023-08-25T09:35:54.116Z"
   },
   {
    "duration": 75,
    "start_time": "2023-08-25T09:36:19.716Z"
   },
   {
    "duration": 8,
    "start_time": "2023-08-25T09:36:25.841Z"
   },
   {
    "duration": 4,
    "start_time": "2023-08-25T09:36:29.140Z"
   },
   {
    "duration": 29,
    "start_time": "2023-08-25T09:36:52.715Z"
   },
   {
    "duration": 20,
    "start_time": "2023-08-25T09:37:08.613Z"
   },
   {
    "duration": 2830,
    "start_time": "2023-08-25T12:20:25.319Z"
   },
   {
    "duration": 37,
    "start_time": "2023-08-25T13:37:24.305Z"
   },
   {
    "duration": 29,
    "start_time": "2023-08-25T14:10:55.573Z"
   },
   {
    "duration": 30,
    "start_time": "2023-08-25T14:11:38.981Z"
   },
   {
    "duration": 27,
    "start_time": "2023-08-25T14:11:45.482Z"
   },
   {
    "duration": 27,
    "start_time": "2023-08-25T14:11:52.912Z"
   },
   {
    "duration": 23,
    "start_time": "2023-08-25T14:12:32.818Z"
   },
   {
    "duration": 26,
    "start_time": "2023-08-25T14:12:54.988Z"
   },
   {
    "duration": 52,
    "start_time": "2023-08-25T14:18:43.508Z"
   },
   {
    "duration": 74,
    "start_time": "2023-08-25T14:18:59.984Z"
   },
   {
    "duration": 67,
    "start_time": "2023-08-25T14:19:30.114Z"
   },
   {
    "duration": 22,
    "start_time": "2023-08-25T14:23:56.242Z"
   },
   {
    "duration": 31,
    "start_time": "2023-08-25T14:25:28.448Z"
   },
   {
    "duration": 30,
    "start_time": "2023-08-25T14:25:41.608Z"
   },
   {
    "duration": 35,
    "start_time": "2023-08-25T14:26:16.555Z"
   },
   {
    "duration": 42,
    "start_time": "2023-08-25T14:43:48.335Z"
   },
   {
    "duration": 16,
    "start_time": "2023-08-25T14:52:55.378Z"
   },
   {
    "duration": 38,
    "start_time": "2023-08-25T15:14:43.707Z"
   },
   {
    "duration": 50,
    "start_time": "2023-08-26T05:10:39.013Z"
   },
   {
    "duration": 719,
    "start_time": "2023-08-26T05:10:43.904Z"
   },
   {
    "duration": 28,
    "start_time": "2023-08-26T05:10:44.625Z"
   },
   {
    "duration": 15,
    "start_time": "2023-08-26T05:10:44.655Z"
   },
   {
    "duration": 27,
    "start_time": "2023-08-26T05:10:44.672Z"
   },
   {
    "duration": 26,
    "start_time": "2023-08-26T05:20:18.411Z"
   },
   {
    "duration": 34,
    "start_time": "2023-08-26T05:21:21.845Z"
   },
   {
    "duration": 25,
    "start_time": "2023-08-26T05:21:32.171Z"
   },
   {
    "duration": 510,
    "start_time": "2023-08-26T05:21:41.184Z"
   },
   {
    "duration": 28,
    "start_time": "2023-08-26T05:21:41.697Z"
   },
   {
    "duration": 16,
    "start_time": "2023-08-26T05:21:41.730Z"
   },
   {
    "duration": 42,
    "start_time": "2023-08-26T05:21:41.748Z"
   },
   {
    "duration": 26,
    "start_time": "2023-08-26T05:22:04.223Z"
   },
   {
    "duration": 25,
    "start_time": "2023-08-26T05:26:06.881Z"
   },
   {
    "duration": 518,
    "start_time": "2023-08-26T05:26:15.396Z"
   },
   {
    "duration": 30,
    "start_time": "2023-08-26T05:26:15.917Z"
   },
   {
    "duration": 15,
    "start_time": "2023-08-26T05:26:15.951Z"
   },
   {
    "duration": 25,
    "start_time": "2023-08-26T05:26:15.982Z"
   },
   {
    "duration": 26,
    "start_time": "2023-08-26T05:26:50.599Z"
   },
   {
    "duration": 27,
    "start_time": "2023-08-26T05:28:19.902Z"
   },
   {
    "duration": 45,
    "start_time": "2023-08-26T10:31:50.165Z"
   },
   {
    "duration": 751,
    "start_time": "2023-08-26T10:31:56.548Z"
   },
   {
    "duration": 34,
    "start_time": "2023-08-26T10:31:57.301Z"
   },
   {
    "duration": 2512,
    "start_time": "2023-08-26T10:31:57.338Z"
   },
   {
    "duration": 30,
    "start_time": "2023-08-26T10:31:59.852Z"
   },
   {
    "duration": 341,
    "start_time": "2023-08-26T10:32:19.094Z"
   },
   {
    "duration": 2177,
    "start_time": "2023-08-26T10:38:04.253Z"
   },
   {
    "duration": 2640,
    "start_time": "2023-08-26T11:09:23.922Z"
   },
   {
    "duration": 228,
    "start_time": "2023-08-26T11:09:32.950Z"
   },
   {
    "duration": 8,
    "start_time": "2023-08-26T11:10:02.107Z"
   },
   {
    "duration": 2124,
    "start_time": "2023-08-26T11:10:09.374Z"
   },
   {
    "duration": 174,
    "start_time": "2023-08-26T11:35:48.551Z"
   },
   {
    "duration": 256,
    "start_time": "2023-08-26T11:36:16.857Z"
   },
   {
    "duration": 109,
    "start_time": "2023-08-26T11:37:08.119Z"
   },
   {
    "duration": 124,
    "start_time": "2023-08-26T11:37:24.558Z"
   },
   {
    "duration": 9,
    "start_time": "2023-08-26T11:43:51.669Z"
   },
   {
    "duration": 283,
    "start_time": "2023-08-26T11:48:53.292Z"
   },
   {
    "duration": 779,
    "start_time": "2023-08-28T06:49:27.059Z"
   },
   {
    "duration": 34,
    "start_time": "2023-08-28T06:49:27.840Z"
   },
   {
    "duration": 20,
    "start_time": "2023-08-28T06:54:00.977Z"
   },
   {
    "duration": 15,
    "start_time": "2023-08-28T06:55:18.426Z"
   },
   {
    "duration": 78,
    "start_time": "2023-08-28T07:05:06.067Z"
   },
   {
    "duration": 2879,
    "start_time": "2023-08-28T07:06:46.592Z"
   },
   {
    "duration": 2577,
    "start_time": "2023-08-28T07:07:00.605Z"
   },
   {
    "duration": 339,
    "start_time": "2023-08-28T07:07:34.398Z"
   },
   {
    "duration": 76,
    "start_time": "2023-08-28T07:08:11.040Z"
   },
   {
    "duration": 348,
    "start_time": "2023-08-28T07:08:18.964Z"
   },
   {
    "duration": 2230,
    "start_time": "2023-08-28T07:08:45.888Z"
   },
   {
    "duration": 9,
    "start_time": "2023-08-28T07:27:26.819Z"
   },
   {
    "duration": 6,
    "start_time": "2023-08-28T07:29:02.755Z"
   },
   {
    "duration": 9,
    "start_time": "2023-08-28T07:31:17.706Z"
   },
   {
    "duration": 5,
    "start_time": "2023-08-28T07:32:47.762Z"
   },
   {
    "duration": 9,
    "start_time": "2023-08-28T07:33:00.259Z"
   },
   {
    "duration": 5,
    "start_time": "2023-08-28T07:43:11.764Z"
   },
   {
    "duration": 7,
    "start_time": "2023-08-28T07:47:07.554Z"
   },
   {
    "duration": 7,
    "start_time": "2023-08-28T07:50:09.153Z"
   },
   {
    "duration": 23,
    "start_time": "2023-08-28T07:50:32.749Z"
   },
   {
    "duration": 9,
    "start_time": "2023-08-28T07:55:36.674Z"
   },
   {
    "duration": 11,
    "start_time": "2023-08-28T07:56:05.223Z"
   },
   {
    "duration": 8,
    "start_time": "2023-08-28T07:57:06.309Z"
   },
   {
    "duration": 6,
    "start_time": "2023-08-28T08:01:12.338Z"
   },
   {
    "duration": 11,
    "start_time": "2023-08-28T08:02:34.006Z"
   },
   {
    "duration": 11,
    "start_time": "2023-08-28T08:02:47.030Z"
   },
   {
    "duration": 20,
    "start_time": "2023-08-28T08:03:04.538Z"
   },
   {
    "duration": 6,
    "start_time": "2023-08-28T08:09:38.885Z"
   },
   {
    "duration": 17,
    "start_time": "2023-08-28T08:25:53.299Z"
   },
   {
    "duration": 6,
    "start_time": "2023-08-28T08:29:44.735Z"
   },
   {
    "duration": 19,
    "start_time": "2023-08-28T08:36:08.121Z"
   },
   {
    "duration": 13,
    "start_time": "2023-08-28T08:37:15.333Z"
   },
   {
    "duration": 12,
    "start_time": "2023-08-28T08:38:23.195Z"
   },
   {
    "duration": 29,
    "start_time": "2023-08-28T08:38:43.115Z"
   },
   {
    "duration": 16,
    "start_time": "2023-08-28T08:42:40.603Z"
   },
   {
    "duration": 23,
    "start_time": "2023-08-28T11:00:07.842Z"
   },
   {
    "duration": 15,
    "start_time": "2023-08-28T11:28:33.280Z"
   },
   {
    "duration": 49,
    "start_time": "2023-08-28T11:29:06.922Z"
   },
   {
    "duration": 357,
    "start_time": "2023-08-28T11:32:25.371Z"
   },
   {
    "duration": 6,
    "start_time": "2023-08-28T11:33:07.075Z"
   },
   {
    "duration": 357,
    "start_time": "2023-08-28T11:33:10.206Z"
   },
   {
    "duration": 359,
    "start_time": "2023-08-28T11:34:39.481Z"
   },
   {
    "duration": 345,
    "start_time": "2023-08-28T11:35:46.933Z"
   },
   {
    "duration": 332,
    "start_time": "2023-08-28T11:36:26.258Z"
   },
   {
    "duration": 6,
    "start_time": "2023-08-28T11:36:45.436Z"
   },
   {
    "duration": 333,
    "start_time": "2023-08-28T11:37:17.595Z"
   },
   {
    "duration": 333,
    "start_time": "2023-08-28T11:37:42.557Z"
   },
   {
    "duration": 3,
    "start_time": "2023-08-28T11:40:43.890Z"
   },
   {
    "duration": 20,
    "start_time": "2023-08-28T11:45:47.447Z"
   },
   {
    "duration": 22,
    "start_time": "2023-08-28T11:48:31.436Z"
   },
   {
    "duration": 14,
    "start_time": "2023-08-28T11:54:33.980Z"
   },
   {
    "duration": 25,
    "start_time": "2023-08-28T12:16:40.480Z"
   },
   {
    "duration": 8,
    "start_time": "2023-08-28T12:18:35.686Z"
   },
   {
    "duration": 38,
    "start_time": "2023-08-28T12:18:42.137Z"
   },
   {
    "duration": 31,
    "start_time": "2023-08-28T12:18:55.334Z"
   },
   {
    "duration": 19,
    "start_time": "2023-08-28T12:20:02.189Z"
   },
   {
    "duration": 29,
    "start_time": "2023-08-28T12:21:27.232Z"
   },
   {
    "duration": 7,
    "start_time": "2023-08-28T12:24:38.146Z"
   },
   {
    "duration": 6,
    "start_time": "2023-08-28T12:25:37.006Z"
   },
   {
    "duration": 6,
    "start_time": "2023-08-28T12:26:10.859Z"
   },
   {
    "duration": 6,
    "start_time": "2023-08-28T12:26:35.762Z"
   },
   {
    "duration": 317,
    "start_time": "2023-08-28T12:29:09.028Z"
   },
   {
    "duration": 324,
    "start_time": "2023-08-28T12:29:29.985Z"
   },
   {
    "duration": 323,
    "start_time": "2023-08-28T12:29:40.478Z"
   },
   {
    "duration": 19,
    "start_time": "2023-08-28T12:32:29.142Z"
   },
   {
    "duration": 7,
    "start_time": "2023-08-28T12:33:31.644Z"
   },
   {
    "duration": 9,
    "start_time": "2023-08-28T12:33:52.059Z"
   },
   {
    "duration": 16,
    "start_time": "2023-08-28T12:34:36.383Z"
   },
   {
    "duration": 44,
    "start_time": "2023-08-28T12:36:28.519Z"
   },
   {
    "duration": 21,
    "start_time": "2023-08-28T12:37:10.505Z"
   },
   {
    "duration": 15,
    "start_time": "2023-08-28T12:38:29.423Z"
   },
   {
    "duration": 13,
    "start_time": "2023-08-28T12:38:58.626Z"
   },
   {
    "duration": 10,
    "start_time": "2023-08-28T12:39:06.707Z"
   },
   {
    "duration": 10,
    "start_time": "2023-08-28T12:40:51.173Z"
   },
   {
    "duration": 6,
    "start_time": "2023-08-28T12:41:11.324Z"
   },
   {
    "duration": 6,
    "start_time": "2023-08-28T12:42:54.246Z"
   },
   {
    "duration": 21,
    "start_time": "2023-08-28T12:43:53.959Z"
   },
   {
    "duration": 22,
    "start_time": "2023-08-28T12:46:12.984Z"
   },
   {
    "duration": 22,
    "start_time": "2023-08-28T12:46:49.527Z"
   },
   {
    "duration": 24,
    "start_time": "2023-08-28T12:47:06.990Z"
   },
   {
    "duration": 4,
    "start_time": "2023-08-28T12:49:30.190Z"
   },
   {
    "duration": 123,
    "start_time": "2023-08-28T12:53:18.375Z"
   },
   {
    "duration": 220,
    "start_time": "2023-08-28T12:53:24.126Z"
   },
   {
    "duration": 157,
    "start_time": "2023-08-28T12:53:36.743Z"
   },
   {
    "duration": 191,
    "start_time": "2023-08-28T12:53:42.945Z"
   },
   {
    "duration": 507,
    "start_time": "2023-08-28T12:54:43.756Z"
   },
   {
    "duration": 493,
    "start_time": "2023-08-28T13:03:53.440Z"
   },
   {
    "duration": 645,
    "start_time": "2023-08-28T13:04:26.461Z"
   },
   {
    "duration": 500,
    "start_time": "2023-08-28T13:04:40.718Z"
   },
   {
    "duration": 701,
    "start_time": "2023-08-28T13:05:09.062Z"
   },
   {
    "duration": 819,
    "start_time": "2023-08-28T13:06:13.960Z"
   },
   {
    "duration": 530,
    "start_time": "2023-08-28T13:06:26.244Z"
   },
   {
    "duration": 191,
    "start_time": "2023-08-28T13:12:35.510Z"
   },
   {
    "duration": 489,
    "start_time": "2023-08-28T13:15:55.501Z"
   },
   {
    "duration": 944,
    "start_time": "2023-08-28T13:16:33.198Z"
   },
   {
    "duration": 813,
    "start_time": "2023-08-28T13:16:44.999Z"
   },
   {
    "duration": 136,
    "start_time": "2023-08-28T13:26:31.335Z"
   },
   {
    "duration": 159,
    "start_time": "2023-08-28T13:26:56.438Z"
   },
   {
    "duration": 180,
    "start_time": "2023-08-28T13:27:02.385Z"
   },
   {
    "duration": 382,
    "start_time": "2023-08-28T13:27:14.404Z"
   },
   {
    "duration": 129,
    "start_time": "2023-08-28T13:31:13.303Z"
   },
   {
    "duration": 389,
    "start_time": "2023-08-28T13:31:35.277Z"
   },
   {
    "duration": 340,
    "start_time": "2023-08-28T13:31:45.627Z"
   },
   {
    "duration": 86,
    "start_time": "2023-08-28T13:32:28.439Z"
   },
   {
    "duration": 314,
    "start_time": "2023-08-28T13:32:34.522Z"
   },
   {
    "duration": 367,
    "start_time": "2023-08-28T13:32:45.414Z"
   },
   {
    "duration": 127,
    "start_time": "2023-08-28T13:35:41.841Z"
   },
   {
    "duration": 190,
    "start_time": "2023-08-28T13:39:54.297Z"
   },
   {
    "duration": 208,
    "start_time": "2023-08-28T13:46:19.517Z"
   },
   {
    "duration": 189,
    "start_time": "2023-08-28T13:46:39.440Z"
   },
   {
    "duration": 174,
    "start_time": "2023-08-28T13:47:04.547Z"
   },
   {
    "duration": 361,
    "start_time": "2023-08-28T13:51:39.660Z"
   },
   {
    "duration": 9,
    "start_time": "2023-08-28T14:40:14.296Z"
   },
   {
    "duration": 123,
    "start_time": "2023-08-28T14:40:37.507Z"
   },
   {
    "duration": 107,
    "start_time": "2023-08-28T14:44:00.595Z"
   },
   {
    "duration": 100,
    "start_time": "2023-08-28T14:44:54.715Z"
   },
   {
    "duration": 106,
    "start_time": "2023-08-28T14:45:02.987Z"
   },
   {
    "duration": 113,
    "start_time": "2023-08-28T14:45:08.077Z"
   },
   {
    "duration": 124,
    "start_time": "2023-08-28T14:47:46.178Z"
   },
   {
    "duration": 360,
    "start_time": "2023-08-28T14:48:27.557Z"
   },
   {
    "duration": 314,
    "start_time": "2023-08-28T14:48:39.151Z"
   },
   {
    "duration": 410,
    "start_time": "2023-08-28T14:48:51.229Z"
   },
   {
    "duration": 692,
    "start_time": "2023-08-28T14:51:23.384Z"
   },
   {
    "duration": 854,
    "start_time": "2023-08-28T14:52:50.042Z"
   },
   {
    "duration": 725,
    "start_time": "2023-08-28T14:53:27.202Z"
   },
   {
    "duration": 684,
    "start_time": "2023-08-28T14:53:45.796Z"
   },
   {
    "duration": 10,
    "start_time": "2023-08-28T14:55:23.394Z"
   },
   {
    "duration": 9,
    "start_time": "2023-08-28T14:56:22.408Z"
   },
   {
    "duration": 6,
    "start_time": "2023-08-28T14:56:32.271Z"
   },
   {
    "duration": 8,
    "start_time": "2023-08-28T14:58:35.571Z"
   },
   {
    "duration": 11,
    "start_time": "2023-08-28T15:32:11.316Z"
   },
   {
    "duration": 32,
    "start_time": "2023-08-28T15:32:22.377Z"
   },
   {
    "duration": 10,
    "start_time": "2023-08-28T15:32:44.595Z"
   },
   {
    "duration": 11,
    "start_time": "2023-08-28T15:33:04.105Z"
   },
   {
    "duration": 9,
    "start_time": "2023-08-28T15:33:06.552Z"
   },
   {
    "duration": 756,
    "start_time": "2023-08-28T15:34:32.030Z"
   },
   {
    "duration": 551,
    "start_time": "2023-08-28T15:34:47.669Z"
   },
   {
    "duration": 580,
    "start_time": "2023-08-28T15:35:33.088Z"
   },
   {
    "duration": 688,
    "start_time": "2023-08-28T15:36:18.173Z"
   },
   {
    "duration": 13,
    "start_time": "2023-08-28T15:53:57.967Z"
   },
   {
    "duration": 1292,
    "start_time": "2023-08-28T15:55:34.082Z"
   },
   {
    "duration": 16,
    "start_time": "2023-08-28T15:56:08.506Z"
   },
   {
    "duration": 16,
    "start_time": "2023-08-28T15:56:38.507Z"
   },
   {
    "duration": 1871,
    "start_time": "2023-08-28T16:46:37.759Z"
   },
   {
    "duration": 88,
    "start_time": "2023-08-28T16:46:54.007Z"
   },
   {
    "duration": 169,
    "start_time": "2023-08-28T16:47:26.034Z"
   },
   {
    "duration": 0,
    "start_time": "2023-08-28T16:47:36.018Z"
   },
   {
    "duration": 35,
    "start_time": "2023-08-28T16:52:45.766Z"
   },
   {
    "duration": 30,
    "start_time": "2023-08-28T16:57:33.962Z"
   },
   {
    "duration": 185,
    "start_time": "2023-08-28T16:58:27.183Z"
   },
   {
    "duration": 145,
    "start_time": "2023-08-28T16:59:08.705Z"
   },
   {
    "duration": 159,
    "start_time": "2023-08-28T16:59:28.248Z"
   },
   {
    "duration": 159,
    "start_time": "2023-08-28T17:05:37.865Z"
   },
   {
    "duration": 348,
    "start_time": "2023-08-28T17:06:14.874Z"
   },
   {
    "duration": 163,
    "start_time": "2023-08-28T17:06:20.748Z"
   },
   {
    "duration": 155,
    "start_time": "2023-08-28T17:06:50.983Z"
   },
   {
    "duration": 162,
    "start_time": "2023-08-28T17:07:23.673Z"
   },
   {
    "duration": 162,
    "start_time": "2023-08-28T17:07:51.739Z"
   },
   {
    "duration": 161,
    "start_time": "2023-08-28T17:09:41.325Z"
   },
   {
    "duration": 161,
    "start_time": "2023-08-28T17:17:01.089Z"
   },
   {
    "duration": 153,
    "start_time": "2023-08-28T17:17:18.415Z"
   },
   {
    "duration": 168,
    "start_time": "2023-08-28T17:19:01.163Z"
   },
   {
    "duration": 174,
    "start_time": "2023-08-28T17:22:42.745Z"
   },
   {
    "duration": 159,
    "start_time": "2023-08-28T17:24:13.331Z"
   },
   {
    "duration": 160,
    "start_time": "2023-08-28T17:27:14.126Z"
   },
   {
    "duration": 603,
    "start_time": "2023-08-28T17:34:17.133Z"
   },
   {
    "duration": 30,
    "start_time": "2023-08-28T17:36:59.423Z"
   },
   {
    "duration": 567,
    "start_time": "2023-08-28T17:40:08.570Z"
   },
   {
    "duration": 165,
    "start_time": "2023-08-28T17:40:37.020Z"
   },
   {
    "duration": 167,
    "start_time": "2023-08-28T17:41:10.278Z"
   },
   {
    "duration": 166,
    "start_time": "2023-08-28T17:41:15.125Z"
   },
   {
    "duration": 176,
    "start_time": "2023-08-28T17:47:10.598Z"
   },
   {
    "duration": 190,
    "start_time": "2023-08-28T17:48:22.853Z"
   },
   {
    "duration": 190,
    "start_time": "2023-08-28T17:58:53.540Z"
   },
   {
    "duration": 175,
    "start_time": "2023-08-28T18:00:26.762Z"
   },
   {
    "duration": 194,
    "start_time": "2023-08-28T18:00:48.963Z"
   },
   {
    "duration": 175,
    "start_time": "2023-08-28T18:01:06.174Z"
   },
   {
    "duration": 171,
    "start_time": "2023-08-28T18:06:46.512Z"
   },
   {
    "duration": 165,
    "start_time": "2023-08-28T18:07:36.605Z"
   },
   {
    "duration": 87,
    "start_time": "2023-08-29T05:31:48.586Z"
   },
   {
    "duration": 93,
    "start_time": "2023-08-29T05:32:17.256Z"
   },
   {
    "duration": 42,
    "start_time": "2023-08-29T05:33:01.633Z"
   },
   {
    "duration": 7,
    "start_time": "2023-08-29T05:33:13.332Z"
   },
   {
    "duration": 725,
    "start_time": "2023-08-29T05:33:19.746Z"
   },
   {
    "duration": 20,
    "start_time": "2023-08-29T05:33:20.472Z"
   },
   {
    "duration": 15,
    "start_time": "2023-08-29T05:33:20.493Z"
   },
   {
    "duration": 69,
    "start_time": "2023-08-29T05:33:20.510Z"
   },
   {
    "duration": 2156,
    "start_time": "2023-08-29T05:33:20.580Z"
   },
   {
    "duration": 8,
    "start_time": "2023-08-29T05:33:22.738Z"
   },
   {
    "duration": 4,
    "start_time": "2023-08-29T05:33:22.748Z"
   },
   {
    "duration": 7,
    "start_time": "2023-08-29T05:33:22.754Z"
   },
   {
    "duration": 3,
    "start_time": "2023-08-29T05:33:22.763Z"
   },
   {
    "duration": 6,
    "start_time": "2023-08-29T05:33:22.768Z"
   },
   {
    "duration": 8,
    "start_time": "2023-08-29T05:33:22.775Z"
   },
   {
    "duration": 19,
    "start_time": "2023-08-29T05:33:22.784Z"
   },
   {
    "duration": 6,
    "start_time": "2023-08-29T05:33:22.804Z"
   },
   {
    "duration": 41,
    "start_time": "2023-08-29T05:33:22.811Z"
   },
   {
    "duration": 19,
    "start_time": "2023-08-29T05:33:22.853Z"
   },
   {
    "duration": 5,
    "start_time": "2023-08-29T05:33:22.874Z"
   },
   {
    "duration": 21,
    "start_time": "2023-08-29T05:33:22.880Z"
   },
   {
    "duration": 6,
    "start_time": "2023-08-29T05:33:22.902Z"
   },
   {
    "duration": 50,
    "start_time": "2023-08-29T05:33:22.909Z"
   },
   {
    "duration": 14,
    "start_time": "2023-08-29T05:33:22.960Z"
   },
   {
    "duration": 36,
    "start_time": "2023-08-29T05:33:22.976Z"
   },
   {
    "duration": 288,
    "start_time": "2023-08-29T05:33:23.013Z"
   },
   {
    "duration": 14,
    "start_time": "2023-08-29T05:33:23.302Z"
   },
   {
    "duration": 25,
    "start_time": "2023-08-29T05:33:23.317Z"
   },
   {
    "duration": 12,
    "start_time": "2023-08-29T05:33:23.349Z"
   },
   {
    "duration": 22,
    "start_time": "2023-08-29T05:33:23.363Z"
   },
   {
    "duration": 4,
    "start_time": "2023-08-29T05:33:23.387Z"
   },
   {
    "duration": 5,
    "start_time": "2023-08-29T05:33:23.394Z"
   },
   {
    "duration": 12,
    "start_time": "2023-08-29T05:33:23.400Z"
   },
   {
    "duration": 295,
    "start_time": "2023-08-29T05:33:23.414Z"
   },
   {
    "duration": 4,
    "start_time": "2023-08-29T05:33:23.711Z"
   },
   {
    "duration": 486,
    "start_time": "2023-08-29T05:33:23.717Z"
   },
   {
    "duration": 449,
    "start_time": "2023-08-29T05:33:24.205Z"
   },
   {
    "duration": 178,
    "start_time": "2023-08-29T05:33:24.656Z"
   },
   {
    "duration": 695,
    "start_time": "2023-08-29T05:33:24.835Z"
   },
   {
    "duration": 167,
    "start_time": "2023-08-29T05:33:25.531Z"
   },
   {
    "duration": 427,
    "start_time": "2023-08-29T05:33:25.699Z"
   },
   {
    "duration": 137,
    "start_time": "2023-08-29T05:33:26.128Z"
   },
   {
    "duration": 189,
    "start_time": "2023-08-29T05:33:26.266Z"
   },
   {
    "duration": 149,
    "start_time": "2023-08-29T05:33:26.457Z"
   },
   {
    "duration": 170,
    "start_time": "2023-08-29T05:33:26.608Z"
   },
   {
    "duration": 599,
    "start_time": "2023-08-29T05:33:26.779Z"
   },
   {
    "duration": 5,
    "start_time": "2023-08-29T05:33:27.380Z"
   },
   {
    "duration": 15,
    "start_time": "2023-08-29T05:33:27.386Z"
   },
   {
    "duration": 7,
    "start_time": "2023-08-29T05:33:27.403Z"
   },
   {
    "duration": 684,
    "start_time": "2023-08-29T05:33:27.412Z"
   },
   {
    "duration": 140,
    "start_time": "2023-08-29T05:33:28.098Z"
   },
   {
    "duration": 173,
    "start_time": "2023-08-29T05:33:28.239Z"
   },
   {
    "duration": 144,
    "start_time": "2023-08-29T05:33:28.414Z"
   },
   {
    "duration": 151,
    "start_time": "2023-08-29T05:33:28.560Z"
   },
   {
    "duration": 143,
    "start_time": "2023-08-29T05:33:28.713Z"
   },
   {
    "duration": 170,
    "start_time": "2023-08-29T05:33:28.858Z"
   },
   {
    "duration": 180,
    "start_time": "2023-08-29T05:33:29.030Z"
   },
   {
    "duration": 165,
    "start_time": "2023-08-29T05:33:29.212Z"
   },
   {
    "duration": 107,
    "start_time": "2023-08-29T05:33:29.379Z"
   },
   {
    "duration": 24,
    "start_time": "2023-08-29T05:33:35.219Z"
   },
   {
    "duration": 22,
    "start_time": "2023-08-29T05:34:02.309Z"
   },
   {
    "duration": 20,
    "start_time": "2023-08-29T05:34:18.784Z"
   },
   {
    "duration": 21,
    "start_time": "2023-08-29T05:35:01.234Z"
   },
   {
    "duration": 20,
    "start_time": "2023-08-29T05:35:12.772Z"
   },
   {
    "duration": 4,
    "start_time": "2023-08-29T05:38:10.157Z"
   },
   {
    "duration": 1549,
    "start_time": "2023-08-29T05:38:24.396Z"
   },
   {
    "duration": 4,
    "start_time": "2023-08-29T05:40:36.309Z"
   },
   {
    "duration": 10,
    "start_time": "2023-08-29T05:43:13.648Z"
   },
   {
    "duration": 1677,
    "start_time": "2023-08-29T05:43:49.005Z"
   },
   {
    "duration": 6,
    "start_time": "2023-08-29T05:47:28.430Z"
   },
   {
    "duration": 9,
    "start_time": "2023-08-29T05:47:59.723Z"
   },
   {
    "duration": 21,
    "start_time": "2023-08-29T05:49:30.170Z"
   },
   {
    "duration": 21,
    "start_time": "2023-08-29T05:52:06.590Z"
   },
   {
    "duration": 19,
    "start_time": "2023-08-29T05:54:28.702Z"
   },
   {
    "duration": 7,
    "start_time": "2023-08-29T05:54:34.571Z"
   },
   {
    "duration": 132,
    "start_time": "2023-08-29T06:13:05.562Z"
   },
   {
    "duration": 150,
    "start_time": "2023-08-29T06:13:37.609Z"
   },
   {
    "duration": 142,
    "start_time": "2023-08-29T06:14:41.496Z"
   },
   {
    "duration": 200,
    "start_time": "2023-08-29T06:17:52.390Z"
   },
   {
    "duration": 149,
    "start_time": "2023-08-29T07:08:55.317Z"
   },
   {
    "duration": 146,
    "start_time": "2023-08-29T07:09:04.091Z"
   },
   {
    "duration": 558,
    "start_time": "2023-08-29T07:35:54.320Z"
   },
   {
    "duration": 23,
    "start_time": "2023-08-29T07:35:54.880Z"
   },
   {
    "duration": 14,
    "start_time": "2023-08-29T07:35:54.904Z"
   },
   {
    "duration": 77,
    "start_time": "2023-08-29T07:35:54.920Z"
   },
   {
    "duration": 2365,
    "start_time": "2023-08-29T07:35:54.999Z"
   },
   {
    "duration": 9,
    "start_time": "2023-08-29T07:35:57.366Z"
   },
   {
    "duration": 8,
    "start_time": "2023-08-29T07:35:57.376Z"
   },
   {
    "duration": 14,
    "start_time": "2023-08-29T07:35:57.385Z"
   },
   {
    "duration": 34,
    "start_time": "2023-08-29T07:35:57.401Z"
   },
   {
    "duration": 18,
    "start_time": "2023-08-29T07:35:57.438Z"
   },
   {
    "duration": 10,
    "start_time": "2023-08-29T07:35:57.458Z"
   },
   {
    "duration": 22,
    "start_time": "2023-08-29T07:35:57.470Z"
   },
   {
    "duration": 12,
    "start_time": "2023-08-29T07:35:57.494Z"
   },
   {
    "duration": 38,
    "start_time": "2023-08-29T07:35:57.507Z"
   },
   {
    "duration": 37,
    "start_time": "2023-08-29T07:35:57.546Z"
   },
   {
    "duration": 5,
    "start_time": "2023-08-29T07:35:57.585Z"
   },
   {
    "duration": 22,
    "start_time": "2023-08-29T07:35:57.592Z"
   },
   {
    "duration": 6,
    "start_time": "2023-08-29T07:35:57.616Z"
   },
   {
    "duration": 25,
    "start_time": "2023-08-29T07:35:57.624Z"
   },
   {
    "duration": 15,
    "start_time": "2023-08-29T07:35:57.658Z"
   },
   {
    "duration": 49,
    "start_time": "2023-08-29T07:35:57.675Z"
   },
   {
    "duration": 298,
    "start_time": "2023-08-29T07:35:57.726Z"
   },
   {
    "duration": 21,
    "start_time": "2023-08-29T07:35:58.026Z"
   },
   {
    "duration": 27,
    "start_time": "2023-08-29T07:35:58.048Z"
   },
   {
    "duration": 14,
    "start_time": "2023-08-29T07:35:58.077Z"
   },
   {
    "duration": 28,
    "start_time": "2023-08-29T07:35:58.093Z"
   },
   {
    "duration": 37,
    "start_time": "2023-08-29T07:35:58.123Z"
   },
   {
    "duration": 10,
    "start_time": "2023-08-29T07:35:58.164Z"
   },
   {
    "duration": 5,
    "start_time": "2023-08-29T07:35:58.176Z"
   },
   {
    "duration": 313,
    "start_time": "2023-08-29T07:35:58.183Z"
   },
   {
    "duration": 4,
    "start_time": "2023-08-29T07:35:58.498Z"
   },
   {
    "duration": 555,
    "start_time": "2023-08-29T07:35:58.504Z"
   },
   {
    "duration": 510,
    "start_time": "2023-08-29T07:35:59.061Z"
   },
   {
    "duration": 187,
    "start_time": "2023-08-29T07:35:59.573Z"
   },
   {
    "duration": 777,
    "start_time": "2023-08-29T07:35:59.762Z"
   },
   {
    "duration": 186,
    "start_time": "2023-08-29T07:36:00.541Z"
   },
   {
    "duration": 442,
    "start_time": "2023-08-29T07:36:00.729Z"
   },
   {
    "duration": 135,
    "start_time": "2023-08-29T07:36:01.174Z"
   },
   {
    "duration": 204,
    "start_time": "2023-08-29T07:36:01.311Z"
   },
   {
    "duration": 157,
    "start_time": "2023-08-29T07:36:01.517Z"
   },
   {
    "duration": 192,
    "start_time": "2023-08-29T07:36:01.676Z"
   },
   {
    "duration": 679,
    "start_time": "2023-08-29T07:36:01.870Z"
   },
   {
    "duration": 10,
    "start_time": "2023-08-29T07:36:02.552Z"
   },
   {
    "duration": 34,
    "start_time": "2023-08-29T07:36:02.564Z"
   },
   {
    "duration": 69,
    "start_time": "2023-08-29T07:36:02.600Z"
   },
   {
    "duration": 832,
    "start_time": "2023-08-29T07:36:02.671Z"
   },
   {
    "duration": 150,
    "start_time": "2023-08-29T07:36:03.504Z"
   },
   {
    "duration": 171,
    "start_time": "2023-08-29T07:36:03.660Z"
   },
   {
    "duration": 157,
    "start_time": "2023-08-29T07:36:03.833Z"
   },
   {
    "duration": 213,
    "start_time": "2023-08-29T07:36:03.991Z"
   },
   {
    "duration": 164,
    "start_time": "2023-08-29T07:36:04.206Z"
   },
   {
    "duration": 181,
    "start_time": "2023-08-29T07:36:04.372Z"
   },
   {
    "duration": 185,
    "start_time": "2023-08-29T07:36:04.559Z"
   },
   {
    "duration": 185,
    "start_time": "2023-08-29T07:36:04.745Z"
   },
   {
    "duration": 30,
    "start_time": "2023-08-29T07:36:04.932Z"
   },
   {
    "duration": 15,
    "start_time": "2023-08-29T07:36:04.964Z"
   },
   {
    "duration": 181,
    "start_time": "2023-08-29T07:36:04.981Z"
   },
   {
    "duration": 8,
    "start_time": "2023-08-29T07:39:34.976Z"
   },
   {
    "duration": 90,
    "start_time": "2023-08-29T07:41:00.320Z"
   },
   {
    "duration": 236,
    "start_time": "2023-08-29T07:42:35.508Z"
   },
   {
    "duration": 6,
    "start_time": "2023-08-29T08:05:13.279Z"
   },
   {
    "duration": 112,
    "start_time": "2023-08-29T08:05:14.918Z"
   },
   {
    "duration": 25,
    "start_time": "2023-08-29T08:07:29.482Z"
   },
   {
    "duration": 26,
    "start_time": "2023-08-29T08:08:15.470Z"
   },
   {
    "duration": 35,
    "start_time": "2023-08-29T08:08:25.065Z"
   },
   {
    "duration": 108,
    "start_time": "2023-08-29T08:09:11.089Z"
   },
   {
    "duration": 2109,
    "start_time": "2023-08-29T08:10:38.891Z"
   },
   {
    "duration": 9,
    "start_time": "2023-08-29T08:23:56.874Z"
   },
   {
    "duration": 3,
    "start_time": "2023-08-29T08:24:15.241Z"
   },
   {
    "duration": 15,
    "start_time": "2023-08-29T08:24:22.725Z"
   },
   {
    "duration": 97,
    "start_time": "2023-08-29T08:25:41.470Z"
   },
   {
    "duration": 2,
    "start_time": "2023-08-29T08:25:50.400Z"
   },
   {
    "duration": 262,
    "start_time": "2023-08-29T08:27:04.399Z"
   },
   {
    "duration": 834,
    "start_time": "2023-08-29T08:28:51.577Z"
   },
   {
    "duration": 893,
    "start_time": "2023-08-29T08:29:35.835Z"
   },
   {
    "duration": 756,
    "start_time": "2023-08-29T08:29:58.004Z"
   },
   {
    "duration": 419,
    "start_time": "2023-08-29T08:30:07.006Z"
   },
   {
    "duration": 114,
    "start_time": "2023-08-29T08:30:07.427Z"
   },
   {
    "duration": 29,
    "start_time": "2023-08-29T08:30:07.542Z"
   },
   {
    "duration": 35,
    "start_time": "2023-08-29T08:30:07.574Z"
   },
   {
    "duration": 30,
    "start_time": "2023-08-29T08:30:07.610Z"
   },
   {
    "duration": 77,
    "start_time": "2023-08-29T08:30:07.641Z"
   },
   {
    "duration": 2312,
    "start_time": "2023-08-29T08:30:07.720Z"
   },
   {
    "duration": 9,
    "start_time": "2023-08-29T08:30:10.034Z"
   },
   {
    "duration": 31,
    "start_time": "2023-08-29T08:30:10.045Z"
   },
   {
    "duration": 9,
    "start_time": "2023-08-29T08:30:10.082Z"
   },
   {
    "duration": 6,
    "start_time": "2023-08-29T08:30:10.092Z"
   },
   {
    "duration": 28,
    "start_time": "2023-08-29T08:30:10.100Z"
   },
   {
    "duration": 32,
    "start_time": "2023-08-29T08:30:10.130Z"
   },
   {
    "duration": 43,
    "start_time": "2023-08-29T08:30:10.164Z"
   },
   {
    "duration": 29,
    "start_time": "2023-08-29T08:30:10.209Z"
   },
   {
    "duration": 13,
    "start_time": "2023-08-29T08:30:10.239Z"
   },
   {
    "duration": 30,
    "start_time": "2023-08-29T08:30:10.256Z"
   },
   {
    "duration": 6,
    "start_time": "2023-08-29T08:30:10.288Z"
   },
   {
    "duration": 48,
    "start_time": "2023-08-29T08:30:10.296Z"
   },
   {
    "duration": 8,
    "start_time": "2023-08-29T08:30:10.345Z"
   },
   {
    "duration": 37,
    "start_time": "2023-08-29T08:30:10.355Z"
   },
   {
    "duration": 17,
    "start_time": "2023-08-29T08:30:10.394Z"
   },
   {
    "duration": 73,
    "start_time": "2023-08-29T08:30:10.412Z"
   },
   {
    "duration": 353,
    "start_time": "2023-08-29T08:30:10.487Z"
   },
   {
    "duration": 7,
    "start_time": "2023-08-29T08:30:10.842Z"
   },
   {
    "duration": 60,
    "start_time": "2023-08-29T08:30:10.851Z"
   },
   {
    "duration": 15,
    "start_time": "2023-08-29T08:30:10.913Z"
   },
   {
    "duration": 23,
    "start_time": "2023-08-29T08:30:10.932Z"
   },
   {
    "duration": 42,
    "start_time": "2023-08-29T08:30:10.957Z"
   },
   {
    "duration": 6,
    "start_time": "2023-08-29T08:30:11.002Z"
   },
   {
    "duration": 63,
    "start_time": "2023-08-29T08:30:11.010Z"
   },
   {
    "duration": 24,
    "start_time": "2023-08-29T08:30:11.075Z"
   },
   {
    "duration": 400,
    "start_time": "2023-08-29T08:30:11.101Z"
   },
   {
    "duration": 5,
    "start_time": "2023-08-29T08:30:11.503Z"
   },
   {
    "duration": 623,
    "start_time": "2023-08-29T08:30:11.510Z"
   },
   {
    "duration": 737,
    "start_time": "2023-08-29T08:30:12.136Z"
   },
   {
    "duration": 219,
    "start_time": "2023-08-29T08:30:12.878Z"
   },
   {
    "duration": 760,
    "start_time": "2023-08-29T08:30:13.099Z"
   },
   {
    "duration": 204,
    "start_time": "2023-08-29T08:30:13.860Z"
   },
   {
    "duration": 320,
    "start_time": "2023-08-29T08:30:14.066Z"
   },
   {
    "duration": 207,
    "start_time": "2023-08-29T08:30:14.390Z"
   },
   {
    "duration": 211,
    "start_time": "2023-08-29T08:30:14.599Z"
   },
   {
    "duration": 232,
    "start_time": "2023-08-29T08:30:14.812Z"
   },
   {
    "duration": 271,
    "start_time": "2023-08-29T08:30:15.046Z"
   },
   {
    "duration": 323,
    "start_time": "2023-08-29T08:30:15.318Z"
   },
   {
    "duration": 897,
    "start_time": "2023-08-29T08:30:15.643Z"
   },
   {
    "duration": 0,
    "start_time": "2023-08-29T08:30:16.542Z"
   },
   {
    "duration": 0,
    "start_time": "2023-08-29T08:30:16.544Z"
   },
   {
    "duration": 0,
    "start_time": "2023-08-29T08:30:16.545Z"
   },
   {
    "duration": 0,
    "start_time": "2023-08-29T08:30:16.551Z"
   },
   {
    "duration": 0,
    "start_time": "2023-08-29T08:30:16.552Z"
   },
   {
    "duration": 0,
    "start_time": "2023-08-29T08:30:16.553Z"
   },
   {
    "duration": 0,
    "start_time": "2023-08-29T08:30:16.554Z"
   },
   {
    "duration": 0,
    "start_time": "2023-08-29T08:30:16.555Z"
   },
   {
    "duration": 0,
    "start_time": "2023-08-29T08:30:16.556Z"
   },
   {
    "duration": 0,
    "start_time": "2023-08-29T08:30:16.557Z"
   },
   {
    "duration": 0,
    "start_time": "2023-08-29T08:30:16.558Z"
   },
   {
    "duration": 0,
    "start_time": "2023-08-29T08:30:16.559Z"
   },
   {
    "duration": 0,
    "start_time": "2023-08-29T08:30:16.560Z"
   },
   {
    "duration": 0,
    "start_time": "2023-08-29T08:30:16.561Z"
   },
   {
    "duration": 0,
    "start_time": "2023-08-29T08:30:16.562Z"
   },
   {
    "duration": 743,
    "start_time": "2023-08-29T08:31:07.375Z"
   },
   {
    "duration": 803,
    "start_time": "2023-08-29T08:31:24.526Z"
   },
   {
    "duration": 710,
    "start_time": "2023-08-29T08:31:34.078Z"
   },
   {
    "duration": 787,
    "start_time": "2023-08-29T08:31:41.616Z"
   },
   {
    "duration": 406,
    "start_time": "2023-08-29T08:31:57.478Z"
   },
   {
    "duration": 198,
    "start_time": "2023-08-29T08:32:20.377Z"
   },
   {
    "duration": 181,
    "start_time": "2023-08-29T08:32:43.740Z"
   },
   {
    "duration": 150,
    "start_time": "2023-08-29T08:32:52.888Z"
   },
   {
    "duration": 157,
    "start_time": "2023-08-29T08:33:28.277Z"
   },
   {
    "duration": 253,
    "start_time": "2023-08-29T08:33:36.342Z"
   },
   {
    "duration": 120,
    "start_time": "2023-08-29T08:34:42.627Z"
   },
   {
    "duration": 134,
    "start_time": "2023-08-29T08:34:55.465Z"
   },
   {
    "duration": 359,
    "start_time": "2023-08-29T08:35:06.797Z"
   },
   {
    "duration": 105,
    "start_time": "2023-08-29T08:35:07.163Z"
   },
   {
    "duration": 22,
    "start_time": "2023-08-29T08:35:07.269Z"
   },
   {
    "duration": 37,
    "start_time": "2023-08-29T08:35:07.292Z"
   },
   {
    "duration": 14,
    "start_time": "2023-08-29T08:35:07.332Z"
   },
   {
    "duration": 64,
    "start_time": "2023-08-29T08:35:07.354Z"
   },
   {
    "duration": 2124,
    "start_time": "2023-08-29T08:35:07.420Z"
   },
   {
    "duration": 14,
    "start_time": "2023-08-29T08:35:09.546Z"
   },
   {
    "duration": 15,
    "start_time": "2023-08-29T08:35:09.567Z"
   },
   {
    "duration": 8,
    "start_time": "2023-08-29T08:35:09.584Z"
   },
   {
    "duration": 3,
    "start_time": "2023-08-29T08:35:09.594Z"
   },
   {
    "duration": 6,
    "start_time": "2023-08-29T08:35:09.599Z"
   },
   {
    "duration": 19,
    "start_time": "2023-08-29T08:35:09.606Z"
   },
   {
    "duration": 18,
    "start_time": "2023-08-29T08:35:09.628Z"
   },
   {
    "duration": 32,
    "start_time": "2023-08-29T08:35:09.648Z"
   },
   {
    "duration": 18,
    "start_time": "2023-08-29T08:35:09.682Z"
   },
   {
    "duration": 22,
    "start_time": "2023-08-29T08:35:09.703Z"
   },
   {
    "duration": 5,
    "start_time": "2023-08-29T08:35:09.727Z"
   },
   {
    "duration": 33,
    "start_time": "2023-08-29T08:35:09.733Z"
   },
   {
    "duration": 9,
    "start_time": "2023-08-29T08:35:09.769Z"
   },
   {
    "duration": 32,
    "start_time": "2023-08-29T08:35:09.780Z"
   },
   {
    "duration": 51,
    "start_time": "2023-08-29T08:35:09.813Z"
   },
   {
    "duration": 43,
    "start_time": "2023-08-29T08:35:09.866Z"
   },
   {
    "duration": 311,
    "start_time": "2023-08-29T08:35:09.911Z"
   },
   {
    "duration": 2,
    "start_time": "2023-08-29T08:35:10.223Z"
   },
   {
    "duration": 33,
    "start_time": "2023-08-29T08:35:10.227Z"
   },
   {
    "duration": 29,
    "start_time": "2023-08-29T08:35:10.261Z"
   },
   {
    "duration": 14,
    "start_time": "2023-08-29T08:35:10.292Z"
   },
   {
    "duration": 24,
    "start_time": "2023-08-29T08:35:10.308Z"
   },
   {
    "duration": 26,
    "start_time": "2023-08-29T08:35:10.334Z"
   },
   {
    "duration": 12,
    "start_time": "2023-08-29T08:35:10.365Z"
   },
   {
    "duration": 5,
    "start_time": "2023-08-29T08:35:10.381Z"
   },
   {
    "duration": 327,
    "start_time": "2023-08-29T08:35:10.387Z"
   },
   {
    "duration": 5,
    "start_time": "2023-08-29T08:35:10.715Z"
   },
   {
    "duration": 491,
    "start_time": "2023-08-29T08:35:10.722Z"
   },
   {
    "duration": 576,
    "start_time": "2023-08-29T08:35:11.215Z"
   },
   {
    "duration": 198,
    "start_time": "2023-08-29T08:35:11.792Z"
   },
   {
    "duration": 153,
    "start_time": "2023-08-29T08:35:11.992Z"
   },
   {
    "duration": 226,
    "start_time": "2023-08-29T08:35:12.150Z"
   },
   {
    "duration": 308,
    "start_time": "2023-08-29T08:35:12.377Z"
   },
   {
    "duration": 124,
    "start_time": "2023-08-29T08:35:12.689Z"
   },
   {
    "duration": 193,
    "start_time": "2023-08-29T08:35:12.815Z"
   },
   {
    "duration": 151,
    "start_time": "2023-08-29T08:35:13.009Z"
   },
   {
    "duration": 253,
    "start_time": "2023-08-29T08:35:13.161Z"
   },
   {
    "duration": 237,
    "start_time": "2023-08-29T08:35:13.416Z"
   },
   {
    "duration": 1323,
    "start_time": "2023-08-29T08:35:13.655Z"
   },
   {
    "duration": 0,
    "start_time": "2023-08-29T08:35:14.980Z"
   },
   {
    "duration": 0,
    "start_time": "2023-08-29T08:35:14.982Z"
   },
   {
    "duration": 0,
    "start_time": "2023-08-29T08:35:14.983Z"
   },
   {
    "duration": 0,
    "start_time": "2023-08-29T08:35:14.984Z"
   },
   {
    "duration": 0,
    "start_time": "2023-08-29T08:35:14.986Z"
   },
   {
    "duration": 0,
    "start_time": "2023-08-29T08:35:14.987Z"
   },
   {
    "duration": 0,
    "start_time": "2023-08-29T08:35:14.988Z"
   },
   {
    "duration": 0,
    "start_time": "2023-08-29T08:35:14.990Z"
   },
   {
    "duration": 0,
    "start_time": "2023-08-29T08:35:14.991Z"
   },
   {
    "duration": 0,
    "start_time": "2023-08-29T08:35:14.993Z"
   },
   {
    "duration": 0,
    "start_time": "2023-08-29T08:35:14.994Z"
   },
   {
    "duration": 0,
    "start_time": "2023-08-29T08:35:14.996Z"
   },
   {
    "duration": 0,
    "start_time": "2023-08-29T08:35:14.997Z"
   },
   {
    "duration": 0,
    "start_time": "2023-08-29T08:35:14.998Z"
   },
   {
    "duration": 0,
    "start_time": "2023-08-29T08:35:15.000Z"
   },
   {
    "duration": 120,
    "start_time": "2023-08-29T08:35:48.288Z"
   },
   {
    "duration": 134,
    "start_time": "2023-08-29T08:35:57.501Z"
   },
   {
    "duration": 94,
    "start_time": "2023-08-29T08:36:40.688Z"
   },
   {
    "duration": 135,
    "start_time": "2023-08-29T08:36:50.980Z"
   },
   {
    "duration": 163,
    "start_time": "2023-08-29T08:37:12.573Z"
   },
   {
    "duration": 165,
    "start_time": "2023-08-29T08:37:21.474Z"
   },
   {
    "duration": 210,
    "start_time": "2023-08-29T08:37:29.977Z"
   },
   {
    "duration": 167,
    "start_time": "2023-08-29T08:37:41.415Z"
   },
   {
    "duration": 146,
    "start_time": "2023-08-29T08:38:22.873Z"
   },
   {
    "duration": 380,
    "start_time": "2023-08-29T08:38:39.485Z"
   },
   {
    "duration": 293,
    "start_time": "2023-08-29T08:38:47.732Z"
   },
   {
    "duration": 152,
    "start_time": "2023-08-29T08:38:53.783Z"
   },
   {
    "duration": 282,
    "start_time": "2023-08-29T08:39:13.627Z"
   },
   {
    "duration": 16,
    "start_time": "2023-08-29T08:49:48.333Z"
   },
   {
    "duration": 388,
    "start_time": "2023-08-29T08:50:14.570Z"
   },
   {
    "duration": 109,
    "start_time": "2023-08-29T08:50:14.960Z"
   },
   {
    "duration": 25,
    "start_time": "2023-08-29T08:50:15.071Z"
   },
   {
    "duration": 62,
    "start_time": "2023-08-29T08:50:15.098Z"
   },
   {
    "duration": 29,
    "start_time": "2023-08-29T08:50:15.162Z"
   },
   {
    "duration": 67,
    "start_time": "2023-08-29T08:50:15.193Z"
   },
   {
    "duration": 2278,
    "start_time": "2023-08-29T08:50:15.270Z"
   },
   {
    "duration": 14,
    "start_time": "2023-08-29T08:50:17.553Z"
   },
   {
    "duration": 21,
    "start_time": "2023-08-29T08:50:17.569Z"
   },
   {
    "duration": 17,
    "start_time": "2023-08-29T08:50:17.591Z"
   },
   {
    "duration": 5,
    "start_time": "2023-08-29T08:50:17.609Z"
   },
   {
    "duration": 8,
    "start_time": "2023-08-29T08:50:17.615Z"
   },
   {
    "duration": 11,
    "start_time": "2023-08-29T08:50:17.624Z"
   },
   {
    "duration": 29,
    "start_time": "2023-08-29T08:50:17.637Z"
   },
   {
    "duration": 10,
    "start_time": "2023-08-29T08:50:17.669Z"
   },
   {
    "duration": 19,
    "start_time": "2023-08-29T08:50:17.683Z"
   },
   {
    "duration": 30,
    "start_time": "2023-08-29T08:50:17.704Z"
   },
   {
    "duration": 10,
    "start_time": "2023-08-29T08:50:17.736Z"
   },
   {
    "duration": 30,
    "start_time": "2023-08-29T08:50:17.747Z"
   },
   {
    "duration": 9,
    "start_time": "2023-08-29T08:50:17.778Z"
   },
   {
    "duration": 19,
    "start_time": "2023-08-29T08:50:17.789Z"
   },
   {
    "duration": 16,
    "start_time": "2023-08-29T08:50:17.810Z"
   },
   {
    "duration": 28,
    "start_time": "2023-08-29T08:50:17.827Z"
   },
   {
    "duration": 338,
    "start_time": "2023-08-29T08:50:17.856Z"
   },
   {
    "duration": 3,
    "start_time": "2023-08-29T08:50:18.196Z"
   },
   {
    "duration": 72,
    "start_time": "2023-08-29T08:50:18.200Z"
   },
   {
    "duration": 18,
    "start_time": "2023-08-29T08:50:18.276Z"
   },
   {
    "duration": 23,
    "start_time": "2023-08-29T08:50:18.296Z"
   },
   {
    "duration": 41,
    "start_time": "2023-08-29T08:50:18.321Z"
   },
   {
    "duration": 10,
    "start_time": "2023-08-29T08:50:18.371Z"
   },
   {
    "duration": 17,
    "start_time": "2023-08-29T08:50:18.383Z"
   },
   {
    "duration": 30,
    "start_time": "2023-08-29T08:50:18.401Z"
   },
   {
    "duration": 383,
    "start_time": "2023-08-29T08:50:18.433Z"
   },
   {
    "duration": 5,
    "start_time": "2023-08-29T08:50:18.818Z"
   },
   {
    "duration": 598,
    "start_time": "2023-08-29T08:50:18.825Z"
   },
   {
    "duration": 716,
    "start_time": "2023-08-29T08:50:19.425Z"
   },
   {
    "duration": 254,
    "start_time": "2023-08-29T08:50:20.143Z"
   },
   {
    "duration": 371,
    "start_time": "2023-08-29T08:50:20.399Z"
   },
   {
    "duration": 226,
    "start_time": "2023-08-29T08:50:20.772Z"
   },
   {
    "duration": 318,
    "start_time": "2023-08-29T08:50:21.003Z"
   },
   {
    "duration": 145,
    "start_time": "2023-08-29T08:50:21.325Z"
   },
   {
    "duration": 215,
    "start_time": "2023-08-29T08:50:21.474Z"
   },
   {
    "duration": 245,
    "start_time": "2023-08-29T08:50:21.691Z"
   },
   {
    "duration": 190,
    "start_time": "2023-08-29T08:50:21.938Z"
   },
   {
    "duration": 271,
    "start_time": "2023-08-29T08:50:22.130Z"
   },
   {
    "duration": 957,
    "start_time": "2023-08-29T08:50:22.403Z"
   },
   {
    "duration": 1,
    "start_time": "2023-08-29T08:50:23.365Z"
   },
   {
    "duration": 0,
    "start_time": "2023-08-29T08:50:23.369Z"
   },
   {
    "duration": 0,
    "start_time": "2023-08-29T08:50:23.373Z"
   },
   {
    "duration": 0,
    "start_time": "2023-08-29T08:50:23.377Z"
   },
   {
    "duration": 0,
    "start_time": "2023-08-29T08:50:23.381Z"
   },
   {
    "duration": 0,
    "start_time": "2023-08-29T08:50:23.385Z"
   },
   {
    "duration": 0,
    "start_time": "2023-08-29T08:50:23.389Z"
   },
   {
    "duration": 0,
    "start_time": "2023-08-29T08:50:23.393Z"
   },
   {
    "duration": 0,
    "start_time": "2023-08-29T08:50:23.394Z"
   },
   {
    "duration": 0,
    "start_time": "2023-08-29T08:50:23.399Z"
   },
   {
    "duration": 0,
    "start_time": "2023-08-29T08:50:23.400Z"
   },
   {
    "duration": 0,
    "start_time": "2023-08-29T08:50:23.402Z"
   },
   {
    "duration": 0,
    "start_time": "2023-08-29T08:50:23.403Z"
   },
   {
    "duration": 0,
    "start_time": "2023-08-29T08:50:23.405Z"
   },
   {
    "duration": 0,
    "start_time": "2023-08-29T08:50:23.406Z"
   },
   {
    "duration": 15,
    "start_time": "2023-08-29T08:51:32.830Z"
   },
   {
    "duration": 18,
    "start_time": "2023-08-29T08:52:01.068Z"
   },
   {
    "duration": 15,
    "start_time": "2023-08-29T08:52:04.414Z"
   },
   {
    "duration": 20,
    "start_time": "2023-08-29T08:55:04.695Z"
   },
   {
    "duration": 450,
    "start_time": "2023-08-29T08:55:24.038Z"
   },
   {
    "duration": 120,
    "start_time": "2023-08-29T08:55:24.492Z"
   },
   {
    "duration": 27,
    "start_time": "2023-08-29T08:55:24.613Z"
   },
   {
    "duration": 79,
    "start_time": "2023-08-29T08:55:24.642Z"
   },
   {
    "duration": 22,
    "start_time": "2023-08-29T08:55:24.733Z"
   },
   {
    "duration": 88,
    "start_time": "2023-08-29T08:55:24.763Z"
   },
   {
    "duration": 2466,
    "start_time": "2023-08-29T08:55:24.862Z"
   },
   {
    "duration": 8,
    "start_time": "2023-08-29T08:55:27.330Z"
   },
   {
    "duration": 34,
    "start_time": "2023-08-29T08:55:27.340Z"
   },
   {
    "duration": 31,
    "start_time": "2023-08-29T08:55:27.376Z"
   },
   {
    "duration": 21,
    "start_time": "2023-08-29T08:55:27.408Z"
   },
   {
    "duration": 32,
    "start_time": "2023-08-29T08:55:27.431Z"
   },
   {
    "duration": 19,
    "start_time": "2023-08-29T08:55:27.465Z"
   },
   {
    "duration": 26,
    "start_time": "2023-08-29T08:55:27.497Z"
   },
   {
    "duration": 32,
    "start_time": "2023-08-29T08:55:27.524Z"
   },
   {
    "duration": 7,
    "start_time": "2023-08-29T08:55:27.557Z"
   },
   {
    "duration": 64,
    "start_time": "2023-08-29T08:55:27.566Z"
   },
   {
    "duration": 7,
    "start_time": "2023-08-29T08:55:27.632Z"
   },
   {
    "duration": 57,
    "start_time": "2023-08-29T08:55:27.641Z"
   },
   {
    "duration": 14,
    "start_time": "2023-08-29T08:55:27.699Z"
   },
   {
    "duration": 24,
    "start_time": "2023-08-29T08:55:27.714Z"
   },
   {
    "duration": 41,
    "start_time": "2023-08-29T08:55:27.740Z"
   },
   {
    "duration": 27,
    "start_time": "2023-08-29T08:55:27.783Z"
   },
   {
    "duration": 388,
    "start_time": "2023-08-29T08:55:27.813Z"
   },
   {
    "duration": 4,
    "start_time": "2023-08-29T08:55:28.209Z"
   },
   {
    "duration": 20,
    "start_time": "2023-08-29T08:55:28.215Z"
   },
   {
    "duration": 18,
    "start_time": "2023-08-29T08:55:28.236Z"
   },
   {
    "duration": 20,
    "start_time": "2023-08-29T08:55:28.261Z"
   },
   {
    "duration": 29,
    "start_time": "2023-08-29T08:55:28.283Z"
   },
   {
    "duration": 7,
    "start_time": "2023-08-29T08:55:28.313Z"
   },
   {
    "duration": 12,
    "start_time": "2023-08-29T08:55:28.321Z"
   },
   {
    "duration": 5,
    "start_time": "2023-08-29T08:55:28.335Z"
   },
   {
    "duration": 367,
    "start_time": "2023-08-29T08:55:28.341Z"
   },
   {
    "duration": 4,
    "start_time": "2023-08-29T08:55:28.709Z"
   },
   {
    "duration": 497,
    "start_time": "2023-08-29T08:55:28.714Z"
   },
   {
    "duration": 609,
    "start_time": "2023-08-29T08:55:29.213Z"
   },
   {
    "duration": 181,
    "start_time": "2023-08-29T08:55:29.824Z"
   },
   {
    "duration": 301,
    "start_time": "2023-08-29T08:55:30.008Z"
   },
   {
    "duration": 184,
    "start_time": "2023-08-29T08:55:30.311Z"
   },
   {
    "duration": 314,
    "start_time": "2023-08-29T08:55:30.497Z"
   },
   {
    "duration": 111,
    "start_time": "2023-08-29T08:55:30.812Z"
   },
   {
    "duration": 199,
    "start_time": "2023-08-29T08:55:30.925Z"
   },
   {
    "duration": 241,
    "start_time": "2023-08-29T08:55:31.125Z"
   },
   {
    "duration": 180,
    "start_time": "2023-08-29T08:55:31.375Z"
   },
   {
    "duration": 254,
    "start_time": "2023-08-29T08:55:31.557Z"
   },
   {
    "duration": 1109,
    "start_time": "2023-08-29T08:55:31.812Z"
   },
   {
    "duration": 0,
    "start_time": "2023-08-29T08:55:32.922Z"
   },
   {
    "duration": 0,
    "start_time": "2023-08-29T08:55:32.923Z"
   },
   {
    "duration": 0,
    "start_time": "2023-08-29T08:55:32.924Z"
   },
   {
    "duration": 0,
    "start_time": "2023-08-29T08:55:32.925Z"
   },
   {
    "duration": 0,
    "start_time": "2023-08-29T08:55:32.926Z"
   },
   {
    "duration": 0,
    "start_time": "2023-08-29T08:55:32.927Z"
   },
   {
    "duration": 0,
    "start_time": "2023-08-29T08:55:32.928Z"
   },
   {
    "duration": 0,
    "start_time": "2023-08-29T08:55:32.928Z"
   },
   {
    "duration": 0,
    "start_time": "2023-08-29T08:55:32.929Z"
   },
   {
    "duration": 1,
    "start_time": "2023-08-29T08:55:32.930Z"
   },
   {
    "duration": 0,
    "start_time": "2023-08-29T08:55:32.932Z"
   },
   {
    "duration": 0,
    "start_time": "2023-08-29T08:55:32.933Z"
   },
   {
    "duration": 0,
    "start_time": "2023-08-29T08:55:32.933Z"
   },
   {
    "duration": 0,
    "start_time": "2023-08-29T08:55:32.935Z"
   },
   {
    "duration": 0,
    "start_time": "2023-08-29T08:55:32.936Z"
   },
   {
    "duration": 32,
    "start_time": "2023-08-29T08:55:43.935Z"
   },
   {
    "duration": 476,
    "start_time": "2023-08-29T08:58:15.413Z"
   },
   {
    "duration": 523,
    "start_time": "2023-08-29T08:58:26.799Z"
   },
   {
    "duration": 211,
    "start_time": "2023-08-29T08:58:39.177Z"
   },
   {
    "duration": 612,
    "start_time": "2023-08-29T09:00:31.597Z"
   },
   {
    "duration": 347,
    "start_time": "2023-08-29T09:01:34.113Z"
   },
   {
    "duration": 379,
    "start_time": "2023-08-29T09:02:17.499Z"
   },
   {
    "duration": 364,
    "start_time": "2023-08-29T09:02:27.852Z"
   },
   {
    "duration": 98,
    "start_time": "2023-08-29T09:09:05.094Z"
   },
   {
    "duration": 126,
    "start_time": "2023-08-29T09:09:42.640Z"
   },
   {
    "duration": 93,
    "start_time": "2023-08-29T09:10:08.140Z"
   },
   {
    "duration": 6,
    "start_time": "2023-08-29T09:10:23.813Z"
   },
   {
    "duration": 5,
    "start_time": "2023-08-29T09:10:58.015Z"
   },
   {
    "duration": 5,
    "start_time": "2023-08-29T09:11:00.110Z"
   },
   {
    "duration": 12,
    "start_time": "2023-08-29T09:11:24.669Z"
   },
   {
    "duration": 388,
    "start_time": "2023-08-29T09:11:34.298Z"
   },
   {
    "duration": 116,
    "start_time": "2023-08-29T09:11:34.687Z"
   },
   {
    "duration": 18,
    "start_time": "2023-08-29T09:11:34.805Z"
   },
   {
    "duration": 47,
    "start_time": "2023-08-29T09:11:34.824Z"
   },
   {
    "duration": 20,
    "start_time": "2023-08-29T09:11:34.873Z"
   },
   {
    "duration": 70,
    "start_time": "2023-08-29T09:11:34.895Z"
   },
   {
    "duration": 2412,
    "start_time": "2023-08-29T09:11:34.967Z"
   },
   {
    "duration": 16,
    "start_time": "2023-08-29T09:11:37.389Z"
   },
   {
    "duration": 5,
    "start_time": "2023-08-29T09:11:37.407Z"
   },
   {
    "duration": 13,
    "start_time": "2023-08-29T09:11:37.414Z"
   },
   {
    "duration": 5,
    "start_time": "2023-08-29T09:11:37.428Z"
   },
   {
    "duration": 7,
    "start_time": "2023-08-29T09:11:37.434Z"
   },
   {
    "duration": 24,
    "start_time": "2023-08-29T09:11:37.443Z"
   },
   {
    "duration": 36,
    "start_time": "2023-08-29T09:11:37.469Z"
   },
   {
    "duration": 8,
    "start_time": "2023-08-29T09:11:37.506Z"
   },
   {
    "duration": 6,
    "start_time": "2023-08-29T09:11:37.515Z"
   },
   {
    "duration": 23,
    "start_time": "2023-08-29T09:11:37.523Z"
   },
   {
    "duration": 24,
    "start_time": "2023-08-29T09:11:37.547Z"
   },
   {
    "duration": 29,
    "start_time": "2023-08-29T09:11:37.576Z"
   },
   {
    "duration": 8,
    "start_time": "2023-08-29T09:11:37.606Z"
   },
   {
    "duration": 16,
    "start_time": "2023-08-29T09:11:37.616Z"
   },
   {
    "duration": 25,
    "start_time": "2023-08-29T09:11:37.634Z"
   },
   {
    "duration": 34,
    "start_time": "2023-08-29T09:11:37.662Z"
   },
   {
    "duration": 378,
    "start_time": "2023-08-29T09:11:37.698Z"
   },
   {
    "duration": 4,
    "start_time": "2023-08-29T09:11:38.078Z"
   },
   {
    "duration": 34,
    "start_time": "2023-08-29T09:11:38.083Z"
   },
   {
    "duration": 18,
    "start_time": "2023-08-29T09:11:38.119Z"
   },
   {
    "duration": 23,
    "start_time": "2023-08-29T09:11:38.138Z"
   },
   {
    "duration": 30,
    "start_time": "2023-08-29T09:11:38.163Z"
   },
   {
    "duration": 12,
    "start_time": "2023-08-29T09:11:38.195Z"
   },
   {
    "duration": 10,
    "start_time": "2023-08-29T09:11:38.209Z"
   },
   {
    "duration": 12,
    "start_time": "2023-08-29T09:11:38.221Z"
   },
   {
    "duration": 399,
    "start_time": "2023-08-29T09:11:38.234Z"
   },
   {
    "duration": 4,
    "start_time": "2023-08-29T09:11:38.635Z"
   },
   {
    "duration": 489,
    "start_time": "2023-08-29T09:11:38.641Z"
   },
   {
    "duration": 5,
    "start_time": "2023-08-29T09:11:39.132Z"
   },
   {
    "duration": 648,
    "start_time": "2023-08-29T09:11:39.138Z"
   },
   {
    "duration": 186,
    "start_time": "2023-08-29T09:11:39.787Z"
   },
   {
    "duration": 323,
    "start_time": "2023-08-29T09:11:39.974Z"
   },
   {
    "duration": 171,
    "start_time": "2023-08-29T09:11:40.300Z"
   },
   {
    "duration": 302,
    "start_time": "2023-08-29T09:11:40.478Z"
   },
   {
    "duration": 128,
    "start_time": "2023-08-29T09:11:40.789Z"
   },
   {
    "duration": 192,
    "start_time": "2023-08-29T09:11:40.918Z"
   },
   {
    "duration": 147,
    "start_time": "2023-08-29T09:11:41.112Z"
   },
   {
    "duration": 260,
    "start_time": "2023-08-29T09:11:41.264Z"
   },
   {
    "duration": 272,
    "start_time": "2023-08-29T09:11:41.526Z"
   },
   {
    "duration": 835,
    "start_time": "2023-08-29T09:11:41.800Z"
   },
   {
    "duration": 0,
    "start_time": "2023-08-29T09:11:42.637Z"
   },
   {
    "duration": 0,
    "start_time": "2023-08-29T09:11:42.638Z"
   },
   {
    "duration": 0,
    "start_time": "2023-08-29T09:11:42.639Z"
   },
   {
    "duration": 0,
    "start_time": "2023-08-29T09:11:42.639Z"
   },
   {
    "duration": 0,
    "start_time": "2023-08-29T09:11:42.661Z"
   },
   {
    "duration": 0,
    "start_time": "2023-08-29T09:11:42.663Z"
   },
   {
    "duration": 0,
    "start_time": "2023-08-29T09:11:42.664Z"
   },
   {
    "duration": 0,
    "start_time": "2023-08-29T09:11:42.665Z"
   },
   {
    "duration": 0,
    "start_time": "2023-08-29T09:11:42.665Z"
   },
   {
    "duration": 0,
    "start_time": "2023-08-29T09:11:42.667Z"
   },
   {
    "duration": 0,
    "start_time": "2023-08-29T09:11:42.669Z"
   },
   {
    "duration": 0,
    "start_time": "2023-08-29T09:11:42.670Z"
   },
   {
    "duration": 0,
    "start_time": "2023-08-29T09:11:42.673Z"
   },
   {
    "duration": 0,
    "start_time": "2023-08-29T09:11:42.674Z"
   },
   {
    "duration": 0,
    "start_time": "2023-08-29T09:11:42.675Z"
   },
   {
    "duration": 4,
    "start_time": "2023-08-29T09:12:07.888Z"
   },
   {
    "duration": 22,
    "start_time": "2023-08-29T09:18:24.270Z"
   },
   {
    "duration": 187,
    "start_time": "2023-08-29T09:20:01.497Z"
   },
   {
    "duration": 433,
    "start_time": "2023-08-29T09:20:08.650Z"
   },
   {
    "duration": 116,
    "start_time": "2023-08-29T09:20:09.089Z"
   },
   {
    "duration": 24,
    "start_time": "2023-08-29T09:20:09.207Z"
   },
   {
    "duration": 53,
    "start_time": "2023-08-29T09:20:09.233Z"
   },
   {
    "duration": 18,
    "start_time": "2023-08-29T09:20:09.292Z"
   },
   {
    "duration": 71,
    "start_time": "2023-08-29T09:20:09.312Z"
   },
   {
    "duration": 2320,
    "start_time": "2023-08-29T09:20:09.388Z"
   },
   {
    "duration": 8,
    "start_time": "2023-08-29T09:20:11.710Z"
   },
   {
    "duration": 11,
    "start_time": "2023-08-29T09:20:11.720Z"
   },
   {
    "duration": 29,
    "start_time": "2023-08-29T09:20:11.734Z"
   },
   {
    "duration": 16,
    "start_time": "2023-08-29T09:20:11.764Z"
   },
   {
    "duration": 17,
    "start_time": "2023-08-29T09:20:11.783Z"
   },
   {
    "duration": 16,
    "start_time": "2023-08-29T09:20:11.801Z"
   },
   {
    "duration": 48,
    "start_time": "2023-08-29T09:20:11.818Z"
   },
   {
    "duration": 24,
    "start_time": "2023-08-29T09:20:11.868Z"
   },
   {
    "duration": 55,
    "start_time": "2023-08-29T09:20:11.894Z"
   },
   {
    "duration": 55,
    "start_time": "2023-08-29T09:20:11.953Z"
   },
   {
    "duration": 14,
    "start_time": "2023-08-29T09:20:12.010Z"
   },
   {
    "duration": 70,
    "start_time": "2023-08-29T09:20:12.025Z"
   },
   {
    "duration": 6,
    "start_time": "2023-08-29T09:20:12.097Z"
   },
   {
    "duration": 20,
    "start_time": "2023-08-29T09:20:12.104Z"
   },
   {
    "duration": 30,
    "start_time": "2023-08-29T09:20:12.126Z"
   },
   {
    "duration": 68,
    "start_time": "2023-08-29T09:20:12.163Z"
   },
   {
    "duration": 401,
    "start_time": "2023-08-29T09:20:12.232Z"
   },
   {
    "duration": 2,
    "start_time": "2023-08-29T09:20:12.635Z"
   },
   {
    "duration": 57,
    "start_time": "2023-08-29T09:20:12.638Z"
   },
   {
    "duration": 41,
    "start_time": "2023-08-29T09:20:12.697Z"
   },
   {
    "duration": 18,
    "start_time": "2023-08-29T09:20:12.742Z"
   },
   {
    "duration": 38,
    "start_time": "2023-08-29T09:20:12.766Z"
   },
   {
    "duration": 5,
    "start_time": "2023-08-29T09:20:12.806Z"
   },
   {
    "duration": 31,
    "start_time": "2023-08-29T09:20:12.812Z"
   },
   {
    "duration": 39,
    "start_time": "2023-08-29T09:20:12.845Z"
   },
   {
    "duration": 319,
    "start_time": "2023-08-29T09:20:12.885Z"
   },
   {
    "duration": 4,
    "start_time": "2023-08-29T09:20:13.206Z"
   },
   {
    "duration": 483,
    "start_time": "2023-08-29T09:20:13.211Z"
   },
   {
    "duration": 100,
    "start_time": "2023-08-29T09:20:13.697Z"
   },
   {
    "duration": 0,
    "start_time": "2023-08-29T09:20:13.800Z"
   },
   {
    "duration": 0,
    "start_time": "2023-08-29T09:20:13.801Z"
   },
   {
    "duration": 0,
    "start_time": "2023-08-29T09:20:13.802Z"
   },
   {
    "duration": 0,
    "start_time": "2023-08-29T09:20:13.803Z"
   },
   {
    "duration": 0,
    "start_time": "2023-08-29T09:20:13.806Z"
   },
   {
    "duration": 0,
    "start_time": "2023-08-29T09:20:13.806Z"
   },
   {
    "duration": 0,
    "start_time": "2023-08-29T09:20:13.807Z"
   },
   {
    "duration": 0,
    "start_time": "2023-08-29T09:20:13.809Z"
   },
   {
    "duration": 0,
    "start_time": "2023-08-29T09:20:13.810Z"
   },
   {
    "duration": 0,
    "start_time": "2023-08-29T09:20:13.811Z"
   },
   {
    "duration": 0,
    "start_time": "2023-08-29T09:20:13.812Z"
   },
   {
    "duration": 0,
    "start_time": "2023-08-29T09:20:13.813Z"
   },
   {
    "duration": 0,
    "start_time": "2023-08-29T09:20:13.814Z"
   },
   {
    "duration": 0,
    "start_time": "2023-08-29T09:20:13.815Z"
   },
   {
    "duration": 0,
    "start_time": "2023-08-29T09:20:13.816Z"
   },
   {
    "duration": 0,
    "start_time": "2023-08-29T09:20:13.818Z"
   },
   {
    "duration": 0,
    "start_time": "2023-08-29T09:20:13.819Z"
   },
   {
    "duration": 0,
    "start_time": "2023-08-29T09:20:13.820Z"
   },
   {
    "duration": 0,
    "start_time": "2023-08-29T09:20:13.850Z"
   },
   {
    "duration": 0,
    "start_time": "2023-08-29T09:20:13.957Z"
   },
   {
    "duration": 0,
    "start_time": "2023-08-29T09:20:13.965Z"
   },
   {
    "duration": 0,
    "start_time": "2023-08-29T09:20:13.965Z"
   },
   {
    "duration": 0,
    "start_time": "2023-08-29T09:20:13.968Z"
   },
   {
    "duration": 0,
    "start_time": "2023-08-29T09:20:13.972Z"
   },
   {
    "duration": 0,
    "start_time": "2023-08-29T09:20:13.974Z"
   },
   {
    "duration": 0,
    "start_time": "2023-08-29T09:20:13.979Z"
   },
   {
    "duration": 32,
    "start_time": "2023-08-29T09:20:58.439Z"
   },
   {
    "duration": 16,
    "start_time": "2023-08-29T09:21:08.085Z"
   },
   {
    "duration": 20,
    "start_time": "2023-08-29T09:21:15.239Z"
   },
   {
    "duration": 385,
    "start_time": "2023-08-29T09:29:25.335Z"
   },
   {
    "duration": 14,
    "start_time": "2023-08-29T09:29:30.186Z"
   },
   {
    "duration": 17,
    "start_time": "2023-08-29T09:33:33.067Z"
   },
   {
    "duration": 204,
    "start_time": "2023-08-29T09:33:44.618Z"
   },
   {
    "duration": 386,
    "start_time": "2023-08-29T09:33:54.633Z"
   },
   {
    "duration": 108,
    "start_time": "2023-08-29T09:33:55.021Z"
   },
   {
    "duration": 25,
    "start_time": "2023-08-29T09:33:55.130Z"
   },
   {
    "duration": 63,
    "start_time": "2023-08-29T09:33:55.158Z"
   },
   {
    "duration": 34,
    "start_time": "2023-08-29T09:33:55.224Z"
   },
   {
    "duration": 71,
    "start_time": "2023-08-29T09:33:55.267Z"
   },
   {
    "duration": 2489,
    "start_time": "2023-08-29T09:33:55.340Z"
   },
   {
    "duration": 9,
    "start_time": "2023-08-29T09:33:57.831Z"
   },
   {
    "duration": 21,
    "start_time": "2023-08-29T09:33:57.841Z"
   },
   {
    "duration": 18,
    "start_time": "2023-08-29T09:33:57.865Z"
   },
   {
    "duration": 17,
    "start_time": "2023-08-29T09:33:57.887Z"
   },
   {
    "duration": 15,
    "start_time": "2023-08-29T09:33:57.906Z"
   },
   {
    "duration": 10,
    "start_time": "2023-08-29T09:33:57.923Z"
   },
   {
    "duration": 25,
    "start_time": "2023-08-29T09:33:57.935Z"
   },
   {
    "duration": 10,
    "start_time": "2023-08-29T09:33:57.962Z"
   },
   {
    "duration": 5,
    "start_time": "2023-08-29T09:33:57.975Z"
   },
   {
    "duration": 36,
    "start_time": "2023-08-29T09:33:57.981Z"
   },
   {
    "duration": 7,
    "start_time": "2023-08-29T09:33:58.019Z"
   },
   {
    "duration": 52,
    "start_time": "2023-08-29T09:33:58.028Z"
   },
   {
    "duration": 8,
    "start_time": "2023-08-29T09:33:58.084Z"
   },
   {
    "duration": 17,
    "start_time": "2023-08-29T09:33:58.094Z"
   },
   {
    "duration": 16,
    "start_time": "2023-08-29T09:33:58.112Z"
   },
   {
    "duration": 41,
    "start_time": "2023-08-29T09:33:58.129Z"
   },
   {
    "duration": 327,
    "start_time": "2023-08-29T09:33:58.175Z"
   },
   {
    "duration": 2,
    "start_time": "2023-08-29T09:33:58.504Z"
   },
   {
    "duration": 57,
    "start_time": "2023-08-29T09:33:58.509Z"
   },
   {
    "duration": 23,
    "start_time": "2023-08-29T09:33:58.574Z"
   },
   {
    "duration": 22,
    "start_time": "2023-08-29T09:33:58.600Z"
   },
   {
    "duration": 58,
    "start_time": "2023-08-29T09:33:58.625Z"
   },
   {
    "duration": 6,
    "start_time": "2023-08-29T09:33:58.688Z"
   },
   {
    "duration": 73,
    "start_time": "2023-08-29T09:33:58.696Z"
   },
   {
    "duration": 7,
    "start_time": "2023-08-29T09:33:58.777Z"
   },
   {
    "duration": 321,
    "start_time": "2023-08-29T09:33:58.787Z"
   },
   {
    "duration": 5,
    "start_time": "2023-08-29T09:33:59.110Z"
   },
   {
    "duration": 491,
    "start_time": "2023-08-29T09:33:59.116Z"
   },
   {
    "duration": 14,
    "start_time": "2023-08-29T09:33:59.609Z"
   },
   {
    "duration": 719,
    "start_time": "2023-08-29T09:33:59.625Z"
   },
   {
    "duration": 184,
    "start_time": "2023-08-29T09:34:00.351Z"
   },
   {
    "duration": 305,
    "start_time": "2023-08-29T09:34:00.536Z"
   },
   {
    "duration": 244,
    "start_time": "2023-08-29T09:34:00.843Z"
   },
   {
    "duration": 320,
    "start_time": "2023-08-29T09:34:01.090Z"
   },
   {
    "duration": 119,
    "start_time": "2023-08-29T09:34:01.412Z"
   },
   {
    "duration": 197,
    "start_time": "2023-08-29T09:34:01.533Z"
   },
   {
    "duration": 258,
    "start_time": "2023-08-29T09:34:01.732Z"
   },
   {
    "duration": 293,
    "start_time": "2023-08-29T09:34:01.993Z"
   },
   {
    "duration": 255,
    "start_time": "2023-08-29T09:34:02.288Z"
   },
   {
    "duration": 729,
    "start_time": "2023-08-29T09:34:02.560Z"
   },
   {
    "duration": 0,
    "start_time": "2023-08-29T09:34:03.292Z"
   },
   {
    "duration": 0,
    "start_time": "2023-08-29T09:34:03.293Z"
   },
   {
    "duration": 0,
    "start_time": "2023-08-29T09:34:03.295Z"
   },
   {
    "duration": 0,
    "start_time": "2023-08-29T09:34:03.296Z"
   },
   {
    "duration": 0,
    "start_time": "2023-08-29T09:34:03.298Z"
   },
   {
    "duration": 0,
    "start_time": "2023-08-29T09:34:03.300Z"
   },
   {
    "duration": 0,
    "start_time": "2023-08-29T09:34:03.301Z"
   },
   {
    "duration": 0,
    "start_time": "2023-08-29T09:34:03.303Z"
   },
   {
    "duration": 0,
    "start_time": "2023-08-29T09:34:03.305Z"
   },
   {
    "duration": 0,
    "start_time": "2023-08-29T09:34:03.306Z"
   },
   {
    "duration": 0,
    "start_time": "2023-08-29T09:34:03.308Z"
   },
   {
    "duration": 0,
    "start_time": "2023-08-29T09:34:03.310Z"
   },
   {
    "duration": 0,
    "start_time": "2023-08-29T09:34:03.311Z"
   },
   {
    "duration": 0,
    "start_time": "2023-08-29T09:34:03.313Z"
   },
   {
    "duration": 0,
    "start_time": "2023-08-29T09:34:03.315Z"
   },
   {
    "duration": 21,
    "start_time": "2023-08-29T09:34:27.868Z"
   },
   {
    "duration": 392,
    "start_time": "2023-08-29T09:34:48.982Z"
   },
   {
    "duration": 107,
    "start_time": "2023-08-29T09:34:49.376Z"
   },
   {
    "duration": 19,
    "start_time": "2023-08-29T09:34:49.485Z"
   },
   {
    "duration": 68,
    "start_time": "2023-08-29T09:34:49.505Z"
   },
   {
    "duration": 20,
    "start_time": "2023-08-29T09:34:49.575Z"
   },
   {
    "duration": 70,
    "start_time": "2023-08-29T09:34:49.597Z"
   },
   {
    "duration": 2213,
    "start_time": "2023-08-29T09:34:49.671Z"
   },
   {
    "duration": 10,
    "start_time": "2023-08-29T09:34:51.886Z"
   },
   {
    "duration": 20,
    "start_time": "2023-08-29T09:34:51.898Z"
   },
   {
    "duration": 22,
    "start_time": "2023-08-29T09:34:51.920Z"
   },
   {
    "duration": 36,
    "start_time": "2023-08-29T09:34:51.944Z"
   },
   {
    "duration": 12,
    "start_time": "2023-08-29T09:34:51.981Z"
   },
   {
    "duration": 28,
    "start_time": "2023-08-29T09:34:51.995Z"
   },
   {
    "duration": 64,
    "start_time": "2023-08-29T09:34:52.026Z"
   },
   {
    "duration": 16,
    "start_time": "2023-08-29T09:34:52.092Z"
   },
   {
    "duration": 23,
    "start_time": "2023-08-29T09:34:52.109Z"
   },
   {
    "duration": 52,
    "start_time": "2023-08-29T09:34:52.134Z"
   },
   {
    "duration": 30,
    "start_time": "2023-08-29T09:34:52.188Z"
   },
   {
    "duration": 21,
    "start_time": "2023-08-29T09:34:52.220Z"
   },
   {
    "duration": 29,
    "start_time": "2023-08-29T09:34:52.243Z"
   },
   {
    "duration": 59,
    "start_time": "2023-08-29T09:34:52.273Z"
   },
   {
    "duration": 33,
    "start_time": "2023-08-29T09:34:52.334Z"
   },
   {
    "duration": 21,
    "start_time": "2023-08-29T09:34:52.369Z"
   },
   {
    "duration": 336,
    "start_time": "2023-08-29T09:34:52.392Z"
   },
   {
    "duration": 2,
    "start_time": "2023-08-29T09:34:52.730Z"
   },
   {
    "duration": 30,
    "start_time": "2023-08-29T09:34:52.734Z"
   },
   {
    "duration": 31,
    "start_time": "2023-08-29T09:34:52.769Z"
   },
   {
    "duration": 29,
    "start_time": "2023-08-29T09:34:52.802Z"
   },
   {
    "duration": 51,
    "start_time": "2023-08-29T09:34:52.832Z"
   },
   {
    "duration": 15,
    "start_time": "2023-08-29T09:34:52.885Z"
   },
   {
    "duration": 19,
    "start_time": "2023-08-29T09:34:52.901Z"
   },
   {
    "duration": 33,
    "start_time": "2023-08-29T09:34:52.922Z"
   },
   {
    "duration": 332,
    "start_time": "2023-08-29T09:34:52.956Z"
   },
   {
    "duration": 4,
    "start_time": "2023-08-29T09:34:53.290Z"
   },
   {
    "duration": 490,
    "start_time": "2023-08-29T09:34:53.296Z"
   },
   {
    "duration": 26,
    "start_time": "2023-08-29T09:34:53.788Z"
   },
   {
    "duration": 606,
    "start_time": "2023-08-29T09:34:53.815Z"
   },
   {
    "duration": 184,
    "start_time": "2023-08-29T09:34:54.423Z"
   },
   {
    "duration": 286,
    "start_time": "2023-08-29T09:34:54.609Z"
   },
   {
    "duration": 179,
    "start_time": "2023-08-29T09:34:54.897Z"
   },
   {
    "duration": 256,
    "start_time": "2023-08-29T09:34:55.086Z"
   },
   {
    "duration": 121,
    "start_time": "2023-08-29T09:34:55.344Z"
   },
   {
    "duration": 166,
    "start_time": "2023-08-29T09:34:55.476Z"
   },
   {
    "duration": 166,
    "start_time": "2023-08-29T09:34:55.644Z"
   },
   {
    "duration": 270,
    "start_time": "2023-08-29T09:34:55.812Z"
   },
   {
    "duration": 253,
    "start_time": "2023-08-29T09:34:56.084Z"
   },
   {
    "duration": 756,
    "start_time": "2023-08-29T09:34:56.340Z"
   },
   {
    "duration": 0,
    "start_time": "2023-08-29T09:34:57.098Z"
   },
   {
    "duration": 0,
    "start_time": "2023-08-29T09:34:57.099Z"
   },
   {
    "duration": 0,
    "start_time": "2023-08-29T09:34:57.100Z"
   },
   {
    "duration": 0,
    "start_time": "2023-08-29T09:34:57.101Z"
   },
   {
    "duration": 0,
    "start_time": "2023-08-29T09:34:57.102Z"
   },
   {
    "duration": 0,
    "start_time": "2023-08-29T09:34:57.104Z"
   },
   {
    "duration": 0,
    "start_time": "2023-08-29T09:34:57.106Z"
   },
   {
    "duration": 0,
    "start_time": "2023-08-29T09:34:57.107Z"
   },
   {
    "duration": 0,
    "start_time": "2023-08-29T09:34:57.108Z"
   },
   {
    "duration": 0,
    "start_time": "2023-08-29T09:34:57.110Z"
   },
   {
    "duration": 0,
    "start_time": "2023-08-29T09:34:57.111Z"
   },
   {
    "duration": 1,
    "start_time": "2023-08-29T09:34:57.112Z"
   },
   {
    "duration": 0,
    "start_time": "2023-08-29T09:34:57.114Z"
   },
   {
    "duration": 0,
    "start_time": "2023-08-29T09:34:57.115Z"
   },
   {
    "duration": 0,
    "start_time": "2023-08-29T09:34:57.117Z"
   },
   {
    "duration": 310,
    "start_time": "2023-08-29T09:36:05.127Z"
   },
   {
    "duration": 411,
    "start_time": "2023-08-29T09:36:44.167Z"
   },
   {
    "duration": 629,
    "start_time": "2023-08-29T09:39:14.698Z"
   },
   {
    "duration": 612,
    "start_time": "2023-08-29T09:40:10.596Z"
   },
   {
    "duration": 330,
    "start_time": "2023-08-29T09:42:45.021Z"
   },
   {
    "duration": 416,
    "start_time": "2023-08-29T09:43:35.315Z"
   },
   {
    "duration": 1310,
    "start_time": "2023-08-29T09:43:44.118Z"
   },
   {
    "duration": 10,
    "start_time": "2023-08-29T09:44:19.405Z"
   },
   {
    "duration": 9,
    "start_time": "2023-08-29T09:44:55.220Z"
   },
   {
    "duration": 387,
    "start_time": "2023-08-29T09:45:05.222Z"
   },
   {
    "duration": 113,
    "start_time": "2023-08-29T09:45:05.612Z"
   },
   {
    "duration": 26,
    "start_time": "2023-08-29T09:45:05.727Z"
   },
   {
    "duration": 58,
    "start_time": "2023-08-29T09:45:05.755Z"
   },
   {
    "duration": 34,
    "start_time": "2023-08-29T09:45:05.814Z"
   },
   {
    "duration": 93,
    "start_time": "2023-08-29T09:45:05.849Z"
   },
   {
    "duration": 2349,
    "start_time": "2023-08-29T09:45:05.944Z"
   },
   {
    "duration": 8,
    "start_time": "2023-08-29T09:45:08.296Z"
   },
   {
    "duration": 16,
    "start_time": "2023-08-29T09:45:08.306Z"
   },
   {
    "duration": 10,
    "start_time": "2023-08-29T09:45:08.325Z"
   },
   {
    "duration": 4,
    "start_time": "2023-08-29T09:45:08.337Z"
   },
   {
    "duration": 24,
    "start_time": "2023-08-29T09:45:08.343Z"
   },
   {
    "duration": 14,
    "start_time": "2023-08-29T09:45:08.373Z"
   },
   {
    "duration": 21,
    "start_time": "2023-08-29T09:45:08.388Z"
   },
   {
    "duration": 6,
    "start_time": "2023-08-29T09:45:08.410Z"
   },
   {
    "duration": 17,
    "start_time": "2023-08-29T09:45:08.417Z"
   },
   {
    "duration": 34,
    "start_time": "2023-08-29T09:45:08.436Z"
   },
   {
    "duration": 6,
    "start_time": "2023-08-29T09:45:08.472Z"
   },
   {
    "duration": 23,
    "start_time": "2023-08-29T09:45:08.481Z"
   },
   {
    "duration": 7,
    "start_time": "2023-08-29T09:45:08.505Z"
   },
   {
    "duration": 27,
    "start_time": "2023-08-29T09:45:08.513Z"
   },
   {
    "duration": 21,
    "start_time": "2023-08-29T09:45:08.542Z"
   },
   {
    "duration": 34,
    "start_time": "2023-08-29T09:45:08.564Z"
   },
   {
    "duration": 320,
    "start_time": "2023-08-29T09:45:08.601Z"
   },
   {
    "duration": 2,
    "start_time": "2023-08-29T09:45:08.923Z"
   },
   {
    "duration": 34,
    "start_time": "2023-08-29T09:45:08.926Z"
   },
   {
    "duration": 29,
    "start_time": "2023-08-29T09:45:08.965Z"
   },
   {
    "duration": 18,
    "start_time": "2023-08-29T09:45:08.998Z"
   },
   {
    "duration": 24,
    "start_time": "2023-08-29T09:45:09.017Z"
   },
   {
    "duration": 9,
    "start_time": "2023-08-29T09:45:09.042Z"
   },
   {
    "duration": 31,
    "start_time": "2023-08-29T09:45:09.058Z"
   },
   {
    "duration": 9,
    "start_time": "2023-08-29T09:45:09.096Z"
   },
   {
    "duration": 334,
    "start_time": "2023-08-29T09:45:09.107Z"
   },
   {
    "duration": 12,
    "start_time": "2023-08-29T09:45:09.443Z"
   },
   {
    "duration": 476,
    "start_time": "2023-08-29T09:45:09.457Z"
   },
   {
    "duration": 754,
    "start_time": "2023-08-29T09:45:09.934Z"
   },
   {
    "duration": 515,
    "start_time": "2023-08-29T09:45:10.690Z"
   },
   {
    "duration": 185,
    "start_time": "2023-08-29T09:45:11.206Z"
   },
   {
    "duration": 16,
    "start_time": "2023-08-29T09:45:11.395Z"
   },
   {
    "duration": 191,
    "start_time": "2023-08-29T09:45:11.413Z"
   },
   {
    "duration": 286,
    "start_time": "2023-08-29T09:45:11.605Z"
   },
   {
    "duration": 118,
    "start_time": "2023-08-29T09:45:11.896Z"
   },
   {
    "duration": 289,
    "start_time": "2023-08-29T09:45:12.016Z"
   },
   {
    "duration": 151,
    "start_time": "2023-08-29T09:45:12.307Z"
   },
   {
    "duration": 196,
    "start_time": "2023-08-29T09:45:12.460Z"
   },
   {
    "duration": 256,
    "start_time": "2023-08-29T09:45:12.657Z"
   },
   {
    "duration": 1391,
    "start_time": "2023-08-29T09:45:12.915Z"
   },
   {
    "duration": 0,
    "start_time": "2023-08-29T09:45:14.307Z"
   },
   {
    "duration": 0,
    "start_time": "2023-08-29T09:45:14.308Z"
   },
   {
    "duration": 0,
    "start_time": "2023-08-29T09:45:14.309Z"
   },
   {
    "duration": 0,
    "start_time": "2023-08-29T09:45:14.311Z"
   },
   {
    "duration": 0,
    "start_time": "2023-08-29T09:45:14.311Z"
   },
   {
    "duration": 0,
    "start_time": "2023-08-29T09:45:14.313Z"
   },
   {
    "duration": 0,
    "start_time": "2023-08-29T09:45:14.314Z"
   },
   {
    "duration": 0,
    "start_time": "2023-08-29T09:45:14.315Z"
   },
   {
    "duration": 0,
    "start_time": "2023-08-29T09:45:14.316Z"
   },
   {
    "duration": 0,
    "start_time": "2023-08-29T09:45:14.317Z"
   },
   {
    "duration": 0,
    "start_time": "2023-08-29T09:45:14.318Z"
   },
   {
    "duration": 0,
    "start_time": "2023-08-29T09:45:14.319Z"
   },
   {
    "duration": 0,
    "start_time": "2023-08-29T09:45:14.321Z"
   },
   {
    "duration": 0,
    "start_time": "2023-08-29T09:45:14.321Z"
   },
   {
    "duration": 0,
    "start_time": "2023-08-29T09:45:14.322Z"
   },
   {
    "duration": 8,
    "start_time": "2023-08-29T09:45:39.924Z"
   },
   {
    "duration": 137,
    "start_time": "2023-08-29T09:46:41.023Z"
   },
   {
    "duration": 994,
    "start_time": "2023-08-29T09:47:26.922Z"
   },
   {
    "duration": 326,
    "start_time": "2023-08-29T09:47:38.197Z"
   },
   {
    "duration": 443,
    "start_time": "2023-08-29T09:48:25.080Z"
   },
   {
    "duration": 636,
    "start_time": "2023-08-29T09:48:35.530Z"
   },
   {
    "duration": 695,
    "start_time": "2023-08-29T09:48:54.942Z"
   },
   {
    "duration": 545,
    "start_time": "2023-08-29T09:49:18.230Z"
   },
   {
    "duration": 548,
    "start_time": "2023-08-29T09:49:31.321Z"
   },
   {
    "duration": 944,
    "start_time": "2023-08-29T09:50:28.694Z"
   },
   {
    "duration": 826,
    "start_time": "2023-08-29T10:47:18.242Z"
   },
   {
    "duration": 722,
    "start_time": "2023-08-29T10:49:31.988Z"
   },
   {
    "duration": 580,
    "start_time": "2023-08-29T10:49:55.348Z"
   },
   {
    "duration": 616,
    "start_time": "2023-08-29T10:50:40.022Z"
   },
   {
    "duration": 744,
    "start_time": "2023-08-29T10:52:33.868Z"
   },
   {
    "duration": 17,
    "start_time": "2023-08-29T10:55:43.966Z"
   },
   {
    "duration": 9,
    "start_time": "2023-08-29T10:56:03.735Z"
   },
   {
    "duration": 1791,
    "start_time": "2023-08-29T10:56:12.427Z"
   },
   {
    "duration": 10,
    "start_time": "2023-08-29T10:56:31.293Z"
   },
   {
    "duration": 15,
    "start_time": "2023-08-29T10:56:44.910Z"
   },
   {
    "duration": 172,
    "start_time": "2023-08-29T10:56:59.694Z"
   },
   {
    "duration": 152,
    "start_time": "2023-08-29T10:57:10.134Z"
   },
   {
    "duration": 136,
    "start_time": "2023-08-29T10:59:09.676Z"
   },
   {
    "duration": 310,
    "start_time": "2023-08-29T10:59:26.376Z"
   },
   {
    "duration": 159,
    "start_time": "2023-08-29T10:59:44.140Z"
   },
   {
    "duration": 165,
    "start_time": "2023-08-29T10:59:56.765Z"
   },
   {
    "duration": 162,
    "start_time": "2023-08-29T11:00:16.575Z"
   },
   {
    "duration": 229,
    "start_time": "2023-08-29T11:00:31.392Z"
   },
   {
    "duration": 3,
    "start_time": "2023-08-29T11:06:32.988Z"
   },
   {
    "duration": 833,
    "start_time": "2023-08-29T11:06:45.296Z"
   },
   {
    "duration": 1126,
    "start_time": "2023-08-29T11:08:31.560Z"
   },
   {
    "duration": 723,
    "start_time": "2023-08-29T11:09:14.613Z"
   },
   {
    "duration": 8,
    "start_time": "2023-08-29T11:09:55.028Z"
   },
   {
    "duration": 552,
    "start_time": "2023-08-29T11:10:10.673Z"
   },
   {
    "duration": 1046,
    "start_time": "2023-08-29T11:10:17.771Z"
   },
   {
    "duration": 832,
    "start_time": "2023-08-29T11:13:31.149Z"
   },
   {
    "duration": 673,
    "start_time": "2023-08-29T11:13:42.174Z"
   },
   {
    "duration": 124,
    "start_time": "2023-08-29T11:13:42.850Z"
   },
   {
    "duration": 20,
    "start_time": "2023-08-29T11:13:42.980Z"
   },
   {
    "duration": 71,
    "start_time": "2023-08-29T11:13:43.001Z"
   },
   {
    "duration": 18,
    "start_time": "2023-08-29T11:13:43.077Z"
   },
   {
    "duration": 64,
    "start_time": "2023-08-29T11:13:43.097Z"
   },
   {
    "duration": 2071,
    "start_time": "2023-08-29T11:13:43.162Z"
   },
   {
    "duration": 9,
    "start_time": "2023-08-29T11:13:45.234Z"
   },
   {
    "duration": 14,
    "start_time": "2023-08-29T11:13:45.245Z"
   },
   {
    "duration": 12,
    "start_time": "2023-08-29T11:13:45.262Z"
   },
   {
    "duration": 6,
    "start_time": "2023-08-29T11:13:45.279Z"
   },
   {
    "duration": 15,
    "start_time": "2023-08-29T11:13:45.286Z"
   },
   {
    "duration": 11,
    "start_time": "2023-08-29T11:13:45.303Z"
   },
   {
    "duration": 21,
    "start_time": "2023-08-29T11:13:45.318Z"
   },
   {
    "duration": 26,
    "start_time": "2023-08-29T11:13:45.341Z"
   },
   {
    "duration": 33,
    "start_time": "2023-08-29T11:13:45.368Z"
   },
   {
    "duration": 75,
    "start_time": "2023-08-29T11:13:45.403Z"
   },
   {
    "duration": 9,
    "start_time": "2023-08-29T11:13:45.479Z"
   },
   {
    "duration": 24,
    "start_time": "2023-08-29T11:13:45.490Z"
   },
   {
    "duration": 6,
    "start_time": "2023-08-29T11:13:45.516Z"
   },
   {
    "duration": 36,
    "start_time": "2023-08-29T11:13:45.524Z"
   },
   {
    "duration": 47,
    "start_time": "2023-08-29T11:13:45.561Z"
   },
   {
    "duration": 35,
    "start_time": "2023-08-29T11:13:45.610Z"
   },
   {
    "duration": 347,
    "start_time": "2023-08-29T11:13:45.647Z"
   },
   {
    "duration": 2,
    "start_time": "2023-08-29T11:13:45.996Z"
   },
   {
    "duration": 25,
    "start_time": "2023-08-29T11:13:46.000Z"
   },
   {
    "duration": 30,
    "start_time": "2023-08-29T11:13:46.027Z"
   },
   {
    "duration": 23,
    "start_time": "2023-08-29T11:13:46.067Z"
   },
   {
    "duration": 38,
    "start_time": "2023-08-29T11:13:46.092Z"
   },
   {
    "duration": 6,
    "start_time": "2023-08-29T11:13:46.132Z"
   },
   {
    "duration": 17,
    "start_time": "2023-08-29T11:13:46.153Z"
   },
   {
    "duration": 6,
    "start_time": "2023-08-29T11:13:46.177Z"
   },
   {
    "duration": 364,
    "start_time": "2023-08-29T11:13:46.185Z"
   },
   {
    "duration": 6,
    "start_time": "2023-08-29T11:13:46.551Z"
   },
   {
    "duration": 616,
    "start_time": "2023-08-29T11:13:46.559Z"
   },
   {
    "duration": 740,
    "start_time": "2023-08-29T11:13:47.177Z"
   },
   {
    "duration": 504,
    "start_time": "2023-08-29T11:13:47.919Z"
   },
   {
    "duration": 180,
    "start_time": "2023-08-29T11:13:48.425Z"
   },
   {
    "duration": 905,
    "start_time": "2023-08-29T11:13:48.606Z"
   },
   {
    "duration": 628,
    "start_time": "2023-08-29T11:13:49.512Z"
   },
   {
    "duration": 169,
    "start_time": "2023-08-29T11:13:50.151Z"
   },
   {
    "duration": 164,
    "start_time": "2023-08-29T11:13:50.321Z"
   },
   {
    "duration": 299,
    "start_time": "2023-08-29T11:13:50.490Z"
   },
   {
    "duration": 130,
    "start_time": "2023-08-29T11:13:50.791Z"
   },
   {
    "duration": 184,
    "start_time": "2023-08-29T11:13:50.923Z"
   },
   {
    "duration": 245,
    "start_time": "2023-08-29T11:13:51.108Z"
   },
   {
    "duration": 215,
    "start_time": "2023-08-29T11:13:51.358Z"
   },
   {
    "duration": 230,
    "start_time": "2023-08-29T11:13:51.575Z"
   },
   {
    "duration": 822,
    "start_time": "2023-08-29T11:13:51.807Z"
   },
   {
    "duration": 0,
    "start_time": "2023-08-29T11:13:52.632Z"
   },
   {
    "duration": 0,
    "start_time": "2023-08-29T11:13:52.634Z"
   },
   {
    "duration": 0,
    "start_time": "2023-08-29T11:13:52.635Z"
   },
   {
    "duration": 0,
    "start_time": "2023-08-29T11:13:52.636Z"
   },
   {
    "duration": 0,
    "start_time": "2023-08-29T11:13:52.649Z"
   },
   {
    "duration": 0,
    "start_time": "2023-08-29T11:13:52.651Z"
   },
   {
    "duration": 0,
    "start_time": "2023-08-29T11:13:52.653Z"
   },
   {
    "duration": 0,
    "start_time": "2023-08-29T11:13:52.654Z"
   },
   {
    "duration": 0,
    "start_time": "2023-08-29T11:13:52.655Z"
   },
   {
    "duration": 0,
    "start_time": "2023-08-29T11:13:52.657Z"
   },
   {
    "duration": 0,
    "start_time": "2023-08-29T11:13:52.660Z"
   },
   {
    "duration": 0,
    "start_time": "2023-08-29T11:13:52.662Z"
   },
   {
    "duration": 0,
    "start_time": "2023-08-29T11:13:52.663Z"
   },
   {
    "duration": 0,
    "start_time": "2023-08-29T11:13:52.666Z"
   },
   {
    "duration": 0,
    "start_time": "2023-08-29T11:13:52.667Z"
   },
   {
    "duration": 695,
    "start_time": "2023-08-29T11:13:55.729Z"
   },
   {
    "duration": 713,
    "start_time": "2023-08-29T11:14:38.204Z"
   },
   {
    "duration": 9,
    "start_time": "2023-08-29T11:14:58.475Z"
   },
   {
    "duration": 8,
    "start_time": "2023-08-29T11:15:15.533Z"
   },
   {
    "duration": 558,
    "start_time": "2023-08-29T11:16:03.875Z"
   },
   {
    "duration": 7,
    "start_time": "2023-08-29T11:16:35.588Z"
   },
   {
    "duration": 388,
    "start_time": "2023-08-29T11:16:43.303Z"
   },
   {
    "duration": 102,
    "start_time": "2023-08-29T11:16:43.693Z"
   },
   {
    "duration": 24,
    "start_time": "2023-08-29T11:16:43.796Z"
   },
   {
    "duration": 47,
    "start_time": "2023-08-29T11:16:43.822Z"
   },
   {
    "duration": 15,
    "start_time": "2023-08-29T11:16:43.876Z"
   },
   {
    "duration": 76,
    "start_time": "2023-08-29T11:16:43.893Z"
   },
   {
    "duration": 2892,
    "start_time": "2023-08-29T11:16:43.971Z"
   },
   {
    "duration": 15,
    "start_time": "2023-08-29T11:16:46.866Z"
   },
   {
    "duration": 5,
    "start_time": "2023-08-29T11:16:46.883Z"
   },
   {
    "duration": 22,
    "start_time": "2023-08-29T11:16:46.889Z"
   },
   {
    "duration": 3,
    "start_time": "2023-08-29T11:16:46.913Z"
   },
   {
    "duration": 10,
    "start_time": "2023-08-29T11:16:46.918Z"
   },
   {
    "duration": 17,
    "start_time": "2023-08-29T11:16:46.930Z"
   },
   {
    "duration": 29,
    "start_time": "2023-08-29T11:16:46.950Z"
   },
   {
    "duration": 12,
    "start_time": "2023-08-29T11:16:46.984Z"
   },
   {
    "duration": 9,
    "start_time": "2023-08-29T11:16:46.999Z"
   },
   {
    "duration": 57,
    "start_time": "2023-08-29T11:16:47.010Z"
   },
   {
    "duration": 13,
    "start_time": "2023-08-29T11:16:47.071Z"
   },
   {
    "duration": 23,
    "start_time": "2023-08-29T11:16:47.085Z"
   },
   {
    "duration": 6,
    "start_time": "2023-08-29T11:16:47.110Z"
   },
   {
    "duration": 27,
    "start_time": "2023-08-29T11:16:47.117Z"
   },
   {
    "duration": 26,
    "start_time": "2023-08-29T11:16:47.145Z"
   },
   {
    "duration": 19,
    "start_time": "2023-08-29T11:16:47.179Z"
   },
   {
    "duration": 337,
    "start_time": "2023-08-29T11:16:47.199Z"
   },
   {
    "duration": 13,
    "start_time": "2023-08-29T11:16:47.537Z"
   },
   {
    "duration": 20,
    "start_time": "2023-08-29T11:16:47.562Z"
   },
   {
    "duration": 32,
    "start_time": "2023-08-29T11:16:47.584Z"
   },
   {
    "duration": 14,
    "start_time": "2023-08-29T11:16:47.618Z"
   },
   {
    "duration": 43,
    "start_time": "2023-08-29T11:16:47.633Z"
   },
   {
    "duration": 6,
    "start_time": "2023-08-29T11:16:47.681Z"
   },
   {
    "duration": 18,
    "start_time": "2023-08-29T11:16:47.689Z"
   },
   {
    "duration": 13,
    "start_time": "2023-08-29T11:16:47.709Z"
   },
   {
    "duration": 361,
    "start_time": "2023-08-29T11:16:47.724Z"
   },
   {
    "duration": 6,
    "start_time": "2023-08-29T11:16:48.086Z"
   },
   {
    "duration": 491,
    "start_time": "2023-08-29T11:16:48.094Z"
   },
   {
    "duration": 725,
    "start_time": "2023-08-29T11:16:48.587Z"
   },
   {
    "duration": 558,
    "start_time": "2023-08-29T11:16:49.313Z"
   },
   {
    "duration": 174,
    "start_time": "2023-08-29T11:16:49.872Z"
   },
   {
    "duration": 980,
    "start_time": "2023-08-29T11:16:50.051Z"
   },
   {
    "duration": 657,
    "start_time": "2023-08-29T11:16:51.033Z"
   },
   {
    "duration": 149,
    "start_time": "2023-08-29T11:16:51.695Z"
   },
   {
    "duration": 154,
    "start_time": "2023-08-29T11:16:51.845Z"
   },
   {
    "duration": 283,
    "start_time": "2023-08-29T11:16:52.001Z"
   },
   {
    "duration": 120,
    "start_time": "2023-08-29T11:16:52.285Z"
   },
   {
    "duration": 191,
    "start_time": "2023-08-29T11:16:52.406Z"
   },
   {
    "duration": 237,
    "start_time": "2023-08-29T11:16:52.599Z"
   },
   {
    "duration": 186,
    "start_time": "2023-08-29T11:16:52.837Z"
   },
   {
    "duration": 218,
    "start_time": "2023-08-29T11:16:53.024Z"
   },
   {
    "duration": 1266,
    "start_time": "2023-08-29T11:16:53.244Z"
   },
   {
    "duration": 0,
    "start_time": "2023-08-29T11:16:54.512Z"
   },
   {
    "duration": 0,
    "start_time": "2023-08-29T11:16:54.513Z"
   },
   {
    "duration": 0,
    "start_time": "2023-08-29T11:16:54.516Z"
   },
   {
    "duration": 0,
    "start_time": "2023-08-29T11:16:54.517Z"
   },
   {
    "duration": 0,
    "start_time": "2023-08-29T11:16:54.518Z"
   },
   {
    "duration": 0,
    "start_time": "2023-08-29T11:16:54.520Z"
   },
   {
    "duration": 0,
    "start_time": "2023-08-29T11:16:54.521Z"
   },
   {
    "duration": 0,
    "start_time": "2023-08-29T11:16:54.523Z"
   },
   {
    "duration": 0,
    "start_time": "2023-08-29T11:16:54.524Z"
   },
   {
    "duration": 0,
    "start_time": "2023-08-29T11:16:54.525Z"
   },
   {
    "duration": 0,
    "start_time": "2023-08-29T11:16:54.527Z"
   },
   {
    "duration": 0,
    "start_time": "2023-08-29T11:16:54.528Z"
   },
   {
    "duration": 0,
    "start_time": "2023-08-29T11:16:54.529Z"
   },
   {
    "duration": 0,
    "start_time": "2023-08-29T11:16:54.530Z"
   },
   {
    "duration": 0,
    "start_time": "2023-08-29T11:16:54.532Z"
   },
   {
    "duration": 1077,
    "start_time": "2023-08-29T11:17:15.393Z"
   },
   {
    "duration": 9,
    "start_time": "2023-08-29T11:17:36.881Z"
   },
   {
    "duration": 180,
    "start_time": "2023-08-29T11:17:57.810Z"
   },
   {
    "duration": 173,
    "start_time": "2023-08-29T11:18:15.578Z"
   },
   {
    "duration": 188,
    "start_time": "2023-08-29T11:18:35.217Z"
   },
   {
    "duration": 131,
    "start_time": "2023-08-29T11:19:30.581Z"
   },
   {
    "duration": 170,
    "start_time": "2023-08-29T11:19:39.016Z"
   },
   {
    "duration": 219,
    "start_time": "2023-08-29T11:20:57.608Z"
   },
   {
    "duration": 183,
    "start_time": "2023-08-29T11:21:18.441Z"
   },
   {
    "duration": 86,
    "start_time": "2023-08-29T11:24:35.133Z"
   },
   {
    "duration": 157,
    "start_time": "2023-08-29T11:24:51.365Z"
   },
   {
    "duration": 160,
    "start_time": "2023-08-29T11:25:02.535Z"
   },
   {
    "duration": 157,
    "start_time": "2023-08-29T11:25:21.858Z"
   },
   {
    "duration": 21,
    "start_time": "2023-08-29T11:25:47.513Z"
   },
   {
    "duration": 8,
    "start_time": "2023-08-29T11:25:52.229Z"
   },
   {
    "duration": 521,
    "start_time": "2023-08-29T11:29:09.918Z"
   },
   {
    "duration": 25,
    "start_time": "2023-08-29T11:29:46.530Z"
   },
   {
    "duration": 45,
    "start_time": "2023-08-29T11:31:52.230Z"
   },
   {
    "duration": 1263,
    "start_time": "2023-08-29T11:32:44.519Z"
   },
   {
    "duration": 102,
    "start_time": "2023-08-29T11:32:45.784Z"
   },
   {
    "duration": 23,
    "start_time": "2023-08-29T11:32:45.887Z"
   },
   {
    "duration": 70,
    "start_time": "2023-08-29T11:32:45.913Z"
   },
   {
    "duration": 24,
    "start_time": "2023-08-29T11:32:45.985Z"
   },
   {
    "duration": 124,
    "start_time": "2023-08-29T11:32:46.011Z"
   },
   {
    "duration": 2091,
    "start_time": "2023-08-29T11:32:46.137Z"
   },
   {
    "duration": 8,
    "start_time": "2023-08-29T11:32:48.230Z"
   },
   {
    "duration": 17,
    "start_time": "2023-08-29T11:32:48.240Z"
   },
   {
    "duration": 22,
    "start_time": "2023-08-29T11:32:48.261Z"
   },
   {
    "duration": 4,
    "start_time": "2023-08-29T11:32:48.285Z"
   },
   {
    "duration": 19,
    "start_time": "2023-08-29T11:32:48.290Z"
   },
   {
    "duration": 9,
    "start_time": "2023-08-29T11:32:48.310Z"
   },
   {
    "duration": 21,
    "start_time": "2023-08-29T11:32:48.320Z"
   },
   {
    "duration": 17,
    "start_time": "2023-08-29T11:32:48.342Z"
   },
   {
    "duration": 6,
    "start_time": "2023-08-29T11:32:48.364Z"
   },
   {
    "duration": 22,
    "start_time": "2023-08-29T11:32:48.372Z"
   },
   {
    "duration": 5,
    "start_time": "2023-08-29T11:32:48.396Z"
   },
   {
    "duration": 20,
    "start_time": "2023-08-29T11:32:48.403Z"
   },
   {
    "duration": 7,
    "start_time": "2023-08-29T11:32:48.424Z"
   },
   {
    "duration": 43,
    "start_time": "2023-08-29T11:32:48.432Z"
   },
   {
    "duration": 19,
    "start_time": "2023-08-29T11:32:48.477Z"
   },
   {
    "duration": 18,
    "start_time": "2023-08-29T11:32:48.498Z"
   },
   {
    "duration": 311,
    "start_time": "2023-08-29T11:32:48.518Z"
   },
   {
    "duration": 3,
    "start_time": "2023-08-29T11:32:48.830Z"
   },
   {
    "duration": 32,
    "start_time": "2023-08-29T11:32:48.834Z"
   },
   {
    "duration": 17,
    "start_time": "2023-08-29T11:32:48.868Z"
   },
   {
    "duration": 13,
    "start_time": "2023-08-29T11:32:48.889Z"
   },
   {
    "duration": 24,
    "start_time": "2023-08-29T11:32:48.904Z"
   },
   {
    "duration": 36,
    "start_time": "2023-08-29T11:32:48.929Z"
   },
   {
    "duration": 23,
    "start_time": "2023-08-29T11:32:48.967Z"
   },
   {
    "duration": 14,
    "start_time": "2023-08-29T11:32:48.992Z"
   },
   {
    "duration": 327,
    "start_time": "2023-08-29T11:32:49.008Z"
   },
   {
    "duration": 4,
    "start_time": "2023-08-29T11:32:49.336Z"
   },
   {
    "duration": 452,
    "start_time": "2023-08-29T11:32:49.353Z"
   },
   {
    "duration": 605,
    "start_time": "2023-08-29T11:32:49.806Z"
   },
   {
    "duration": 625,
    "start_time": "2023-08-29T11:32:50.412Z"
   },
   {
    "duration": 169,
    "start_time": "2023-08-29T11:32:51.039Z"
   },
   {
    "duration": 795,
    "start_time": "2023-08-29T11:32:51.210Z"
   },
   {
    "duration": 678,
    "start_time": "2023-08-29T11:32:52.007Z"
   },
   {
    "duration": 180,
    "start_time": "2023-08-29T11:32:52.687Z"
   },
   {
    "duration": 162,
    "start_time": "2023-08-29T11:32:52.869Z"
   },
   {
    "duration": 262,
    "start_time": "2023-08-29T11:32:53.033Z"
   },
   {
    "duration": 121,
    "start_time": "2023-08-29T11:32:53.297Z"
   },
   {
    "duration": 187,
    "start_time": "2023-08-29T11:32:53.419Z"
   },
   {
    "duration": 153,
    "start_time": "2023-08-29T11:32:53.607Z"
   },
   {
    "duration": 207,
    "start_time": "2023-08-29T11:32:53.762Z"
   },
   {
    "duration": 223,
    "start_time": "2023-08-29T11:32:53.970Z"
   },
   {
    "duration": 924,
    "start_time": "2023-08-29T11:32:54.195Z"
   },
   {
    "duration": 0,
    "start_time": "2023-08-29T11:32:55.121Z"
   },
   {
    "duration": 0,
    "start_time": "2023-08-29T11:32:55.123Z"
   },
   {
    "duration": 0,
    "start_time": "2023-08-29T11:32:55.125Z"
   },
   {
    "duration": 0,
    "start_time": "2023-08-29T11:32:55.126Z"
   },
   {
    "duration": 0,
    "start_time": "2023-08-29T11:32:55.128Z"
   },
   {
    "duration": 0,
    "start_time": "2023-08-29T11:32:55.129Z"
   },
   {
    "duration": 0,
    "start_time": "2023-08-29T11:32:55.130Z"
   },
   {
    "duration": 0,
    "start_time": "2023-08-29T11:32:55.153Z"
   },
   {
    "duration": 0,
    "start_time": "2023-08-29T11:32:55.154Z"
   },
   {
    "duration": 0,
    "start_time": "2023-08-29T11:32:55.154Z"
   },
   {
    "duration": 0,
    "start_time": "2023-08-29T11:32:55.155Z"
   },
   {
    "duration": 0,
    "start_time": "2023-08-29T11:32:55.155Z"
   },
   {
    "duration": 0,
    "start_time": "2023-08-29T11:32:55.156Z"
   },
   {
    "duration": 0,
    "start_time": "2023-08-29T11:32:55.157Z"
   },
   {
    "duration": 0,
    "start_time": "2023-08-29T11:32:55.158Z"
   },
   {
    "duration": 0,
    "start_time": "2023-08-29T11:32:55.159Z"
   },
   {
    "duration": 1263,
    "start_time": "2023-08-29T11:38:15.197Z"
   },
   {
    "duration": 99,
    "start_time": "2023-08-29T11:38:16.464Z"
   },
   {
    "duration": 20,
    "start_time": "2023-08-29T11:38:16.565Z"
   },
   {
    "duration": 27,
    "start_time": "2023-08-29T11:38:16.586Z"
   },
   {
    "duration": 13,
    "start_time": "2023-08-29T11:38:16.615Z"
   },
   {
    "duration": 81,
    "start_time": "2023-08-29T11:38:16.629Z"
   },
   {
    "duration": 1808,
    "start_time": "2023-08-29T11:38:16.712Z"
   },
   {
    "duration": 7,
    "start_time": "2023-08-29T11:38:18.522Z"
   },
   {
    "duration": 6,
    "start_time": "2023-08-29T11:38:18.531Z"
   },
   {
    "duration": 22,
    "start_time": "2023-08-29T11:38:18.539Z"
   },
   {
    "duration": 5,
    "start_time": "2023-08-29T11:38:18.562Z"
   },
   {
    "duration": 22,
    "start_time": "2023-08-29T11:38:18.569Z"
   },
   {
    "duration": 20,
    "start_time": "2023-08-29T11:38:18.593Z"
   },
   {
    "duration": 31,
    "start_time": "2023-08-29T11:38:18.615Z"
   },
   {
    "duration": 18,
    "start_time": "2023-08-29T11:38:18.647Z"
   },
   {
    "duration": 10,
    "start_time": "2023-08-29T11:38:18.667Z"
   },
   {
    "duration": 23,
    "start_time": "2023-08-29T11:38:18.679Z"
   },
   {
    "duration": 5,
    "start_time": "2023-08-29T11:38:18.704Z"
   },
   {
    "duration": 20,
    "start_time": "2023-08-29T11:38:18.710Z"
   },
   {
    "duration": 5,
    "start_time": "2023-08-29T11:38:18.731Z"
   },
   {
    "duration": 31,
    "start_time": "2023-08-29T11:38:18.737Z"
   },
   {
    "duration": 14,
    "start_time": "2023-08-29T11:38:18.769Z"
   },
   {
    "duration": 16,
    "start_time": "2023-08-29T11:38:18.784Z"
   },
   {
    "duration": 292,
    "start_time": "2023-08-29T11:38:18.801Z"
   },
   {
    "duration": 2,
    "start_time": "2023-08-29T11:38:19.096Z"
   },
   {
    "duration": 17,
    "start_time": "2023-08-29T11:38:19.099Z"
   },
   {
    "duration": 45,
    "start_time": "2023-08-29T11:38:19.118Z"
   },
   {
    "duration": 14,
    "start_time": "2023-08-29T11:38:19.166Z"
   },
   {
    "duration": 24,
    "start_time": "2023-08-29T11:38:19.182Z"
   },
   {
    "duration": 5,
    "start_time": "2023-08-29T11:38:19.207Z"
   },
   {
    "duration": 8,
    "start_time": "2023-08-29T11:38:19.214Z"
   },
   {
    "duration": 5,
    "start_time": "2023-08-29T11:38:19.224Z"
   },
   {
    "duration": 300,
    "start_time": "2023-08-29T11:38:19.230Z"
   },
   {
    "duration": 4,
    "start_time": "2023-08-29T11:38:19.532Z"
   },
   {
    "duration": 434,
    "start_time": "2023-08-29T11:38:19.537Z"
   },
   {
    "duration": 571,
    "start_time": "2023-08-29T11:38:19.972Z"
   },
   {
    "duration": 567,
    "start_time": "2023-08-29T11:38:20.550Z"
   },
   {
    "duration": 171,
    "start_time": "2023-08-29T11:38:21.119Z"
   },
   {
    "duration": 811,
    "start_time": "2023-08-29T11:38:21.292Z"
   },
   {
    "duration": 661,
    "start_time": "2023-08-29T11:38:22.105Z"
   },
   {
    "duration": 157,
    "start_time": "2023-08-29T11:38:22.768Z"
   },
   {
    "duration": 147,
    "start_time": "2023-08-29T11:38:22.926Z"
   },
   {
    "duration": 245,
    "start_time": "2023-08-29T11:38:23.074Z"
   },
   {
    "duration": 112,
    "start_time": "2023-08-29T11:38:23.321Z"
   },
   {
    "duration": 170,
    "start_time": "2023-08-29T11:38:23.434Z"
   },
   {
    "duration": 150,
    "start_time": "2023-08-29T11:38:23.606Z"
   },
   {
    "duration": 187,
    "start_time": "2023-08-29T11:38:23.758Z"
   },
   {
    "duration": 225,
    "start_time": "2023-08-29T11:38:23.946Z"
   },
   {
    "duration": 706,
    "start_time": "2023-08-29T11:38:24.172Z"
   },
   {
    "duration": 0,
    "start_time": "2023-08-29T11:38:24.880Z"
   },
   {
    "duration": 0,
    "start_time": "2023-08-29T11:38:24.881Z"
   },
   {
    "duration": 0,
    "start_time": "2023-08-29T11:38:24.882Z"
   },
   {
    "duration": 0,
    "start_time": "2023-08-29T11:38:24.885Z"
   },
   {
    "duration": 0,
    "start_time": "2023-08-29T11:38:24.886Z"
   },
   {
    "duration": 0,
    "start_time": "2023-08-29T11:38:24.887Z"
   },
   {
    "duration": 0,
    "start_time": "2023-08-29T11:38:24.888Z"
   },
   {
    "duration": 0,
    "start_time": "2023-08-29T11:38:24.889Z"
   },
   {
    "duration": 0,
    "start_time": "2023-08-29T11:38:24.890Z"
   },
   {
    "duration": 0,
    "start_time": "2023-08-29T11:38:24.891Z"
   },
   {
    "duration": 0,
    "start_time": "2023-08-29T11:38:24.892Z"
   },
   {
    "duration": 0,
    "start_time": "2023-08-29T11:38:24.894Z"
   },
   {
    "duration": 0,
    "start_time": "2023-08-29T11:38:24.894Z"
   },
   {
    "duration": 0,
    "start_time": "2023-08-29T11:38:24.895Z"
   },
   {
    "duration": 0,
    "start_time": "2023-08-29T11:38:24.896Z"
   },
   {
    "duration": 0,
    "start_time": "2023-08-29T11:38:24.898Z"
   },
   {
    "duration": 808,
    "start_time": "2023-08-29T11:38:35.676Z"
   },
   {
    "duration": 10,
    "start_time": "2023-08-29T11:38:49.415Z"
   },
   {
    "duration": 1279,
    "start_time": "2023-08-29T11:39:08.328Z"
   },
   {
    "duration": 102,
    "start_time": "2023-08-29T11:39:21.920Z"
   },
   {
    "duration": 9,
    "start_time": "2023-08-29T11:42:35.490Z"
   },
   {
    "duration": 1096,
    "start_time": "2023-08-29T11:42:50.234Z"
   },
   {
    "duration": 106,
    "start_time": "2023-08-29T11:42:51.331Z"
   },
   {
    "duration": 29,
    "start_time": "2023-08-29T11:42:51.438Z"
   },
   {
    "duration": 33,
    "start_time": "2023-08-29T11:42:51.471Z"
   },
   {
    "duration": 13,
    "start_time": "2023-08-29T11:42:51.505Z"
   },
   {
    "duration": 73,
    "start_time": "2023-08-29T11:42:51.520Z"
   },
   {
    "duration": 1880,
    "start_time": "2023-08-29T11:42:51.595Z"
   },
   {
    "duration": 8,
    "start_time": "2023-08-29T11:42:53.477Z"
   },
   {
    "duration": 13,
    "start_time": "2023-08-29T11:42:53.486Z"
   },
   {
    "duration": 17,
    "start_time": "2023-08-29T11:42:53.502Z"
   },
   {
    "duration": 4,
    "start_time": "2023-08-29T11:42:53.520Z"
   },
   {
    "duration": 8,
    "start_time": "2023-08-29T11:42:53.525Z"
   },
   {
    "duration": 25,
    "start_time": "2023-08-29T11:42:53.535Z"
   },
   {
    "duration": 25,
    "start_time": "2023-08-29T11:42:53.562Z"
   },
   {
    "duration": 6,
    "start_time": "2023-08-29T11:42:53.588Z"
   },
   {
    "duration": 6,
    "start_time": "2023-08-29T11:42:53.596Z"
   },
   {
    "duration": 21,
    "start_time": "2023-08-29T11:42:53.604Z"
   },
   {
    "duration": 6,
    "start_time": "2023-08-29T11:42:53.626Z"
   },
   {
    "duration": 45,
    "start_time": "2023-08-29T11:42:53.634Z"
   },
   {
    "duration": 7,
    "start_time": "2023-08-29T11:42:53.680Z"
   },
   {
    "duration": 18,
    "start_time": "2023-08-29T11:42:53.688Z"
   },
   {
    "duration": 18,
    "start_time": "2023-08-29T11:42:53.707Z"
   },
   {
    "duration": 34,
    "start_time": "2023-08-29T11:42:53.726Z"
   },
   {
    "duration": 285,
    "start_time": "2023-08-29T11:42:53.761Z"
   },
   {
    "duration": 7,
    "start_time": "2023-08-29T11:42:54.049Z"
   },
   {
    "duration": 21,
    "start_time": "2023-08-29T11:42:54.062Z"
   },
   {
    "duration": 15,
    "start_time": "2023-08-29T11:42:54.084Z"
   },
   {
    "duration": 12,
    "start_time": "2023-08-29T11:42:54.102Z"
   },
   {
    "duration": 42,
    "start_time": "2023-08-29T11:42:54.115Z"
   },
   {
    "duration": 8,
    "start_time": "2023-08-29T11:42:54.165Z"
   },
   {
    "duration": 17,
    "start_time": "2023-08-29T11:42:54.174Z"
   },
   {
    "duration": 11,
    "start_time": "2023-08-29T11:42:54.192Z"
   },
   {
    "duration": 314,
    "start_time": "2023-08-29T11:42:54.204Z"
   },
   {
    "duration": 4,
    "start_time": "2023-08-29T11:42:54.520Z"
   },
   {
    "duration": 458,
    "start_time": "2023-08-29T11:42:54.525Z"
   },
   {
    "duration": 558,
    "start_time": "2023-08-29T11:42:54.985Z"
   },
   {
    "duration": 595,
    "start_time": "2023-08-29T11:42:55.545Z"
   },
   {
    "duration": 188,
    "start_time": "2023-08-29T11:42:56.142Z"
   },
   {
    "duration": 855,
    "start_time": "2023-08-29T11:42:56.332Z"
   },
   {
    "duration": 651,
    "start_time": "2023-08-29T11:42:57.188Z"
   },
   {
    "duration": 157,
    "start_time": "2023-08-29T11:42:57.840Z"
   },
   {
    "duration": 140,
    "start_time": "2023-08-29T11:42:57.998Z"
   },
   {
    "duration": 248,
    "start_time": "2023-08-29T11:42:58.140Z"
   },
   {
    "duration": 128,
    "start_time": "2023-08-29T11:42:58.390Z"
   },
   {
    "duration": 176,
    "start_time": "2023-08-29T11:42:58.519Z"
   },
   {
    "duration": 139,
    "start_time": "2023-08-29T11:42:58.696Z"
   },
   {
    "duration": 190,
    "start_time": "2023-08-29T11:42:58.837Z"
   },
   {
    "duration": 241,
    "start_time": "2023-08-29T11:42:59.029Z"
   },
   {
    "duration": 722,
    "start_time": "2023-08-29T11:42:59.272Z"
   },
   {
    "duration": 0,
    "start_time": "2023-08-29T11:42:59.995Z"
   },
   {
    "duration": 0,
    "start_time": "2023-08-29T11:42:59.997Z"
   },
   {
    "duration": 0,
    "start_time": "2023-08-29T11:42:59.998Z"
   },
   {
    "duration": 0,
    "start_time": "2023-08-29T11:42:59.999Z"
   },
   {
    "duration": 0,
    "start_time": "2023-08-29T11:43:00.000Z"
   },
   {
    "duration": 0,
    "start_time": "2023-08-29T11:43:00.001Z"
   },
   {
    "duration": 0,
    "start_time": "2023-08-29T11:43:00.002Z"
   },
   {
    "duration": 0,
    "start_time": "2023-08-29T11:43:00.003Z"
   },
   {
    "duration": 0,
    "start_time": "2023-08-29T11:43:00.004Z"
   },
   {
    "duration": 0,
    "start_time": "2023-08-29T11:43:00.005Z"
   },
   {
    "duration": 0,
    "start_time": "2023-08-29T11:43:00.006Z"
   },
   {
    "duration": 0,
    "start_time": "2023-08-29T11:43:00.007Z"
   },
   {
    "duration": 0,
    "start_time": "2023-08-29T11:43:00.008Z"
   },
   {
    "duration": 0,
    "start_time": "2023-08-29T11:43:00.009Z"
   },
   {
    "duration": 0,
    "start_time": "2023-08-29T11:43:00.010Z"
   },
   {
    "duration": 0,
    "start_time": "2023-08-29T11:43:00.011Z"
   },
   {
    "duration": 12,
    "start_time": "2023-08-29T11:43:46.045Z"
   },
   {
    "duration": 117,
    "start_time": "2023-08-29T11:43:54.637Z"
   },
   {
    "duration": 29,
    "start_time": "2023-08-29T11:43:57.940Z"
   },
   {
    "duration": 606,
    "start_time": "2023-08-29T11:44:00.950Z"
   },
   {
    "duration": 689,
    "start_time": "2023-08-29T11:44:19.406Z"
   },
   {
    "duration": 633,
    "start_time": "2023-08-29T11:44:32.922Z"
   },
   {
    "duration": 651,
    "start_time": "2023-08-29T11:44:41.388Z"
   },
   {
    "duration": 515,
    "start_time": "2023-08-29T11:44:56.279Z"
   },
   {
    "duration": 1131,
    "start_time": "2023-08-29T11:45:14.027Z"
   },
   {
    "duration": 95,
    "start_time": "2023-08-29T11:45:15.161Z"
   },
   {
    "duration": 26,
    "start_time": "2023-08-29T11:45:15.262Z"
   },
   {
    "duration": 27,
    "start_time": "2023-08-29T11:45:15.290Z"
   },
   {
    "duration": 30,
    "start_time": "2023-08-29T11:45:15.318Z"
   },
   {
    "duration": 72,
    "start_time": "2023-08-29T11:45:15.353Z"
   },
   {
    "duration": 1986,
    "start_time": "2023-08-29T11:45:15.426Z"
   },
   {
    "duration": 8,
    "start_time": "2023-08-29T11:45:17.413Z"
   },
   {
    "duration": 16,
    "start_time": "2023-08-29T11:45:17.422Z"
   },
   {
    "duration": 31,
    "start_time": "2023-08-29T11:45:17.440Z"
   },
   {
    "duration": 20,
    "start_time": "2023-08-29T11:45:17.473Z"
   },
   {
    "duration": 19,
    "start_time": "2023-08-29T11:45:17.494Z"
   },
   {
    "duration": 18,
    "start_time": "2023-08-29T11:45:17.514Z"
   },
   {
    "duration": 34,
    "start_time": "2023-08-29T11:45:17.533Z"
   },
   {
    "duration": 7,
    "start_time": "2023-08-29T11:45:17.571Z"
   },
   {
    "duration": 16,
    "start_time": "2023-08-29T11:45:17.580Z"
   },
   {
    "duration": 23,
    "start_time": "2023-08-29T11:45:17.598Z"
   },
   {
    "duration": 5,
    "start_time": "2023-08-29T11:45:17.623Z"
   },
   {
    "duration": 28,
    "start_time": "2023-08-29T11:45:17.629Z"
   },
   {
    "duration": 11,
    "start_time": "2023-08-29T11:45:17.658Z"
   },
   {
    "duration": 30,
    "start_time": "2023-08-29T11:45:17.671Z"
   },
   {
    "duration": 16,
    "start_time": "2023-08-29T11:45:17.703Z"
   },
   {
    "duration": 17,
    "start_time": "2023-08-29T11:45:17.720Z"
   },
   {
    "duration": 302,
    "start_time": "2023-08-29T11:45:17.739Z"
   },
   {
    "duration": 2,
    "start_time": "2023-08-29T11:45:18.042Z"
   },
   {
    "duration": 37,
    "start_time": "2023-08-29T11:45:18.045Z"
   },
   {
    "duration": 16,
    "start_time": "2023-08-29T11:45:18.084Z"
   },
   {
    "duration": 24,
    "start_time": "2023-08-29T11:45:18.103Z"
   },
   {
    "duration": 36,
    "start_time": "2023-08-29T11:45:18.129Z"
   },
   {
    "duration": 6,
    "start_time": "2023-08-29T11:45:18.171Z"
   },
   {
    "duration": 30,
    "start_time": "2023-08-29T11:45:18.178Z"
   },
   {
    "duration": 17,
    "start_time": "2023-08-29T11:45:18.210Z"
   },
   {
    "duration": 335,
    "start_time": "2023-08-29T11:45:18.228Z"
   },
   {
    "duration": 5,
    "start_time": "2023-08-29T11:45:18.569Z"
   },
   {
    "duration": 452,
    "start_time": "2023-08-29T11:45:18.575Z"
   },
   {
    "duration": 588,
    "start_time": "2023-08-29T11:45:19.028Z"
   },
   {
    "duration": 589,
    "start_time": "2023-08-29T11:45:19.618Z"
   },
   {
    "duration": 172,
    "start_time": "2023-08-29T11:45:20.208Z"
   },
   {
    "duration": 740,
    "start_time": "2023-08-29T11:45:20.381Z"
   },
   {
    "duration": 691,
    "start_time": "2023-08-29T11:45:21.122Z"
   },
   {
    "duration": 164,
    "start_time": "2023-08-29T11:45:21.814Z"
   },
   {
    "duration": 152,
    "start_time": "2023-08-29T11:45:21.980Z"
   },
   {
    "duration": 264,
    "start_time": "2023-08-29T11:45:22.133Z"
   },
   {
    "duration": 121,
    "start_time": "2023-08-29T11:45:22.399Z"
   },
   {
    "duration": 180,
    "start_time": "2023-08-29T11:45:22.522Z"
   },
   {
    "duration": 139,
    "start_time": "2023-08-29T11:45:22.704Z"
   },
   {
    "duration": 185,
    "start_time": "2023-08-29T11:45:22.844Z"
   },
   {
    "duration": 243,
    "start_time": "2023-08-29T11:45:23.030Z"
   },
   {
    "duration": 607,
    "start_time": "2023-08-29T11:45:23.275Z"
   },
   {
    "duration": 7,
    "start_time": "2023-08-29T11:45:23.884Z"
   },
   {
    "duration": 11,
    "start_time": "2023-08-29T11:45:23.892Z"
   },
   {
    "duration": 16,
    "start_time": "2023-08-29T11:45:23.904Z"
   },
   {
    "duration": 653,
    "start_time": "2023-08-29T11:45:23.921Z"
   },
   {
    "duration": 170,
    "start_time": "2023-08-29T11:45:24.576Z"
   },
   {
    "duration": 158,
    "start_time": "2023-08-29T11:45:24.748Z"
   },
   {
    "duration": 172,
    "start_time": "2023-08-29T11:45:24.908Z"
   },
   {
    "duration": 146,
    "start_time": "2023-08-29T11:45:25.081Z"
   },
   {
    "duration": 131,
    "start_time": "2023-08-29T11:45:25.229Z"
   },
   {
    "duration": 248,
    "start_time": "2023-08-29T11:45:25.361Z"
   },
   {
    "duration": 171,
    "start_time": "2023-08-29T11:45:25.610Z"
   },
   {
    "duration": 153,
    "start_time": "2023-08-29T11:45:25.783Z"
   },
   {
    "duration": 37,
    "start_time": "2023-08-29T11:45:25.938Z"
   },
   {
    "duration": 56,
    "start_time": "2023-08-29T11:45:25.976Z"
   },
   {
    "duration": 153,
    "start_time": "2023-08-29T11:45:26.034Z"
   },
   {
    "duration": 0,
    "start_time": "2023-08-29T11:45:26.189Z"
   },
   {
    "duration": 658,
    "start_time": "2023-08-29T11:45:53.644Z"
   },
   {
    "duration": 654,
    "start_time": "2023-08-29T11:46:31.742Z"
   },
   {
    "duration": 484,
    "start_time": "2023-08-29T11:46:42.125Z"
   },
   {
    "duration": 15,
    "start_time": "2023-08-29T11:48:08.428Z"
   },
   {
    "duration": 11,
    "start_time": "2023-08-29T11:49:30.392Z"
   },
   {
    "duration": 96,
    "start_time": "2023-08-29T11:49:44.873Z"
   },
   {
    "duration": 16,
    "start_time": "2023-08-29T11:50:02.075Z"
   },
   {
    "duration": 12,
    "start_time": "2023-08-29T11:53:21.475Z"
   },
   {
    "duration": 11,
    "start_time": "2023-08-29T11:53:27.424Z"
   },
   {
    "duration": 20,
    "start_time": "2023-08-29T11:55:45.539Z"
   },
   {
    "duration": 1093,
    "start_time": "2023-08-29T11:55:56.437Z"
   },
   {
    "duration": 100,
    "start_time": "2023-08-29T11:55:57.532Z"
   },
   {
    "duration": 24,
    "start_time": "2023-08-29T11:55:57.634Z"
   },
   {
    "duration": 31,
    "start_time": "2023-08-29T11:55:57.661Z"
   },
   {
    "duration": 13,
    "start_time": "2023-08-29T11:55:57.693Z"
   },
   {
    "duration": 75,
    "start_time": "2023-08-29T11:55:57.708Z"
   },
   {
    "duration": 1835,
    "start_time": "2023-08-29T11:55:57.785Z"
   },
   {
    "duration": 8,
    "start_time": "2023-08-29T11:55:59.622Z"
   },
   {
    "duration": 8,
    "start_time": "2023-08-29T11:55:59.632Z"
   },
   {
    "duration": 26,
    "start_time": "2023-08-29T11:55:59.643Z"
   },
   {
    "duration": 3,
    "start_time": "2023-08-29T11:55:59.677Z"
   },
   {
    "duration": 10,
    "start_time": "2023-08-29T11:55:59.682Z"
   },
   {
    "duration": 29,
    "start_time": "2023-08-29T11:55:59.694Z"
   },
   {
    "duration": 20,
    "start_time": "2023-08-29T11:55:59.724Z"
   },
   {
    "duration": 9,
    "start_time": "2023-08-29T11:55:59.746Z"
   },
   {
    "duration": 10,
    "start_time": "2023-08-29T11:55:59.756Z"
   },
   {
    "duration": 35,
    "start_time": "2023-08-29T11:55:59.768Z"
   },
   {
    "duration": 5,
    "start_time": "2023-08-29T11:55:59.804Z"
   },
   {
    "duration": 18,
    "start_time": "2023-08-29T11:55:59.810Z"
   },
   {
    "duration": 17,
    "start_time": "2023-08-29T11:55:59.829Z"
   },
   {
    "duration": 34,
    "start_time": "2023-08-29T11:55:59.848Z"
   },
   {
    "duration": 25,
    "start_time": "2023-08-29T11:55:59.884Z"
   },
   {
    "duration": 23,
    "start_time": "2023-08-29T11:55:59.911Z"
   },
   {
    "duration": 299,
    "start_time": "2023-08-29T11:55:59.935Z"
   },
   {
    "duration": 2,
    "start_time": "2023-08-29T11:56:00.235Z"
   },
   {
    "duration": 49,
    "start_time": "2023-08-29T11:56:00.239Z"
   },
   {
    "duration": 36,
    "start_time": "2023-08-29T11:56:00.290Z"
   },
   {
    "duration": 31,
    "start_time": "2023-08-29T11:56:00.329Z"
   },
   {
    "duration": 66,
    "start_time": "2023-08-29T11:56:00.361Z"
   },
   {
    "duration": 33,
    "start_time": "2023-08-29T11:56:00.429Z"
   },
   {
    "duration": 79,
    "start_time": "2023-08-29T11:56:00.464Z"
   },
   {
    "duration": 49,
    "start_time": "2023-08-29T11:56:00.544Z"
   },
   {
    "duration": 373,
    "start_time": "2023-08-29T11:56:00.595Z"
   },
   {
    "duration": 5,
    "start_time": "2023-08-29T11:56:00.970Z"
   },
   {
    "duration": 615,
    "start_time": "2023-08-29T11:56:00.980Z"
   },
   {
    "duration": 561,
    "start_time": "2023-08-29T11:56:01.597Z"
   },
   {
    "duration": 594,
    "start_time": "2023-08-29T11:56:02.164Z"
   },
   {
    "duration": 158,
    "start_time": "2023-08-29T11:56:02.761Z"
   },
   {
    "duration": 774,
    "start_time": "2023-08-29T11:56:02.920Z"
   },
   {
    "duration": 672,
    "start_time": "2023-08-29T11:56:03.696Z"
   },
   {
    "duration": 150,
    "start_time": "2023-08-29T11:56:04.376Z"
   },
   {
    "duration": 158,
    "start_time": "2023-08-29T11:56:04.527Z"
   },
   {
    "duration": 256,
    "start_time": "2023-08-29T11:56:04.686Z"
   },
   {
    "duration": 132,
    "start_time": "2023-08-29T11:56:04.943Z"
   },
   {
    "duration": 152,
    "start_time": "2023-08-29T11:56:05.076Z"
   },
   {
    "duration": 151,
    "start_time": "2023-08-29T11:56:05.229Z"
   },
   {
    "duration": 196,
    "start_time": "2023-08-29T11:56:05.381Z"
   },
   {
    "duration": 219,
    "start_time": "2023-08-29T11:56:05.580Z"
   },
   {
    "duration": 657,
    "start_time": "2023-08-29T11:56:05.801Z"
   },
   {
    "duration": 17,
    "start_time": "2023-08-29T11:56:06.461Z"
   },
   {
    "duration": 10,
    "start_time": "2023-08-29T11:56:06.483Z"
   },
   {
    "duration": 17,
    "start_time": "2023-08-29T11:56:06.494Z"
   },
   {
    "duration": 597,
    "start_time": "2023-08-29T11:56:06.512Z"
   },
   {
    "duration": 171,
    "start_time": "2023-08-29T11:56:07.111Z"
   },
   {
    "duration": 163,
    "start_time": "2023-08-29T11:56:07.284Z"
   },
   {
    "duration": 167,
    "start_time": "2023-08-29T11:56:07.449Z"
   },
   {
    "duration": 153,
    "start_time": "2023-08-29T11:56:07.618Z"
   },
   {
    "duration": 133,
    "start_time": "2023-08-29T11:56:07.772Z"
   },
   {
    "duration": 247,
    "start_time": "2023-08-29T11:56:07.907Z"
   },
   {
    "duration": 160,
    "start_time": "2023-08-29T11:56:08.158Z"
   },
   {
    "duration": 171,
    "start_time": "2023-08-29T11:56:08.320Z"
   },
   {
    "duration": 18,
    "start_time": "2023-08-29T11:56:08.493Z"
   },
   {
    "duration": 8,
    "start_time": "2023-08-29T11:56:08.513Z"
   },
   {
    "duration": 134,
    "start_time": "2023-08-29T11:56:08.522Z"
   },
   {
    "duration": 0,
    "start_time": "2023-08-29T11:56:08.657Z"
   },
   {
    "duration": 149,
    "start_time": "2023-08-29T11:56:29.379Z"
   },
   {
    "duration": 103,
    "start_time": "2023-08-29T12:03:31.157Z"
   },
   {
    "duration": 13,
    "start_time": "2023-08-29T12:07:58.590Z"
   },
   {
    "duration": 1362,
    "start_time": "2023-08-29T14:34:19.208Z"
   },
   {
    "duration": 315,
    "start_time": "2023-08-29T14:34:20.572Z"
   },
   {
    "duration": 25,
    "start_time": "2023-08-29T14:34:20.889Z"
   },
   {
    "duration": 32,
    "start_time": "2023-08-29T14:34:20.916Z"
   },
   {
    "duration": 15,
    "start_time": "2023-08-29T14:34:20.950Z"
   },
   {
    "duration": 78,
    "start_time": "2023-08-29T14:34:20.967Z"
   },
   {
    "duration": 1875,
    "start_time": "2023-08-29T14:34:21.047Z"
   },
   {
    "duration": 10,
    "start_time": "2023-08-29T14:34:22.923Z"
   },
   {
    "duration": 7,
    "start_time": "2023-08-29T14:34:22.935Z"
   },
   {
    "duration": 9,
    "start_time": "2023-08-29T14:34:22.945Z"
   },
   {
    "duration": 5,
    "start_time": "2023-08-29T14:34:22.956Z"
   },
   {
    "duration": 6,
    "start_time": "2023-08-29T14:34:22.963Z"
   },
   {
    "duration": 7,
    "start_time": "2023-08-29T14:34:22.971Z"
   },
   {
    "duration": 21,
    "start_time": "2023-08-29T14:34:23.025Z"
   },
   {
    "duration": 7,
    "start_time": "2023-08-29T14:34:23.048Z"
   },
   {
    "duration": 9,
    "start_time": "2023-08-29T14:34:23.056Z"
   },
   {
    "duration": 19,
    "start_time": "2023-08-29T14:34:23.067Z"
   },
   {
    "duration": 4,
    "start_time": "2023-08-29T14:34:23.088Z"
   },
   {
    "duration": 43,
    "start_time": "2023-08-29T14:34:23.094Z"
   },
   {
    "duration": 6,
    "start_time": "2023-08-29T14:34:23.139Z"
   },
   {
    "duration": 15,
    "start_time": "2023-08-29T14:34:23.146Z"
   },
   {
    "duration": 16,
    "start_time": "2023-08-29T14:34:23.163Z"
   },
   {
    "duration": 47,
    "start_time": "2023-08-29T14:34:23.180Z"
   },
   {
    "duration": 282,
    "start_time": "2023-08-29T14:34:23.228Z"
   },
   {
    "duration": 3,
    "start_time": "2023-08-29T14:34:23.511Z"
   },
   {
    "duration": 16,
    "start_time": "2023-08-29T14:34:23.523Z"
   },
   {
    "duration": 17,
    "start_time": "2023-08-29T14:34:23.540Z"
   },
   {
    "duration": 14,
    "start_time": "2023-08-29T14:34:23.561Z"
   },
   {
    "duration": 52,
    "start_time": "2023-08-29T14:34:23.577Z"
   },
   {
    "duration": 5,
    "start_time": "2023-08-29T14:34:23.631Z"
   },
   {
    "duration": 13,
    "start_time": "2023-08-29T14:34:23.637Z"
   },
   {
    "duration": 16,
    "start_time": "2023-08-29T14:34:23.652Z"
   },
   {
    "duration": 291,
    "start_time": "2023-08-29T14:34:23.669Z"
   },
   {
    "duration": 5,
    "start_time": "2023-08-29T14:34:23.962Z"
   },
   {
    "duration": 439,
    "start_time": "2023-08-29T14:34:23.969Z"
   },
   {
    "duration": 569,
    "start_time": "2023-08-29T14:34:24.409Z"
   },
   {
    "duration": 590,
    "start_time": "2023-08-29T14:34:24.979Z"
   },
   {
    "duration": 160,
    "start_time": "2023-08-29T14:34:25.571Z"
   },
   {
    "duration": 864,
    "start_time": "2023-08-29T14:34:25.733Z"
   },
   {
    "duration": 669,
    "start_time": "2023-08-29T14:34:26.598Z"
   },
   {
    "duration": 157,
    "start_time": "2023-08-29T14:34:27.268Z"
   },
   {
    "duration": 139,
    "start_time": "2023-08-29T14:34:27.427Z"
   },
   {
    "duration": 252,
    "start_time": "2023-08-29T14:34:27.567Z"
   },
   {
    "duration": 122,
    "start_time": "2023-08-29T14:34:27.824Z"
   },
   {
    "duration": 190,
    "start_time": "2023-08-29T14:34:27.948Z"
   },
   {
    "duration": 139,
    "start_time": "2023-08-29T14:34:28.139Z"
   },
   {
    "duration": 185,
    "start_time": "2023-08-29T14:34:28.279Z"
   },
   {
    "duration": 215,
    "start_time": "2023-08-29T14:34:28.466Z"
   },
   {
    "duration": 633,
    "start_time": "2023-08-29T14:34:28.682Z"
   },
   {
    "duration": 11,
    "start_time": "2023-08-29T14:34:29.316Z"
   },
   {
    "duration": 9,
    "start_time": "2023-08-29T14:34:29.329Z"
   },
   {
    "duration": 14,
    "start_time": "2023-08-29T14:34:29.340Z"
   },
   {
    "duration": 603,
    "start_time": "2023-08-29T14:34:29.356Z"
   },
   {
    "duration": 184,
    "start_time": "2023-08-29T14:34:29.961Z"
   },
   {
    "duration": 180,
    "start_time": "2023-08-29T14:34:30.146Z"
   },
   {
    "duration": 196,
    "start_time": "2023-08-29T14:34:30.328Z"
   },
   {
    "duration": 154,
    "start_time": "2023-08-29T14:34:30.526Z"
   },
   {
    "duration": 150,
    "start_time": "2023-08-29T14:34:30.682Z"
   },
   {
    "duration": 267,
    "start_time": "2023-08-29T14:34:30.834Z"
   },
   {
    "duration": 171,
    "start_time": "2023-08-29T14:34:31.103Z"
   },
   {
    "duration": 198,
    "start_time": "2023-08-29T14:34:31.276Z"
   },
   {
    "duration": 20,
    "start_time": "2023-08-29T14:34:31.475Z"
   },
   {
    "duration": 200,
    "start_time": "2023-08-29T14:34:31.497Z"
   },
   {
    "duration": 158,
    "start_time": "2023-08-29T14:34:31.699Z"
   },
   {
    "duration": 0,
    "start_time": "2023-08-29T14:34:31.859Z"
   },
   {
    "duration": 12,
    "start_time": "2023-08-29T14:34:40.061Z"
   },
   {
    "duration": 87,
    "start_time": "2023-08-29T14:39:11.726Z"
   },
   {
    "duration": 7,
    "start_time": "2023-08-29T14:47:41.434Z"
   },
   {
    "duration": 128,
    "start_time": "2023-08-29T14:49:48.856Z"
   },
   {
    "duration": 9,
    "start_time": "2023-08-29T14:49:52.679Z"
   },
   {
    "duration": 15,
    "start_time": "2023-08-29T14:49:58.529Z"
   },
   {
    "duration": 384,
    "start_time": "2023-08-29T14:50:07.689Z"
   },
   {
    "duration": 148,
    "start_time": "2023-08-29T14:50:27.083Z"
   },
   {
    "duration": 319,
    "start_time": "2023-08-29T14:50:40.876Z"
   },
   {
    "duration": 291,
    "start_time": "2023-08-29T14:50:51.815Z"
   },
   {
    "duration": 263,
    "start_time": "2023-08-29T14:51:08.746Z"
   },
   {
    "duration": 116,
    "start_time": "2023-08-29T14:52:12.845Z"
   },
   {
    "duration": 153,
    "start_time": "2023-08-29T14:52:20.486Z"
   },
   {
    "duration": 156,
    "start_time": "2023-08-29T14:54:35.168Z"
   },
   {
    "duration": 152,
    "start_time": "2023-08-29T14:54:54.770Z"
   },
   {
    "duration": 255,
    "start_time": "2023-08-29T14:54:58.324Z"
   },
   {
    "duration": 156,
    "start_time": "2023-08-29T14:55:01.822Z"
   },
   {
    "duration": 8,
    "start_time": "2023-08-29T14:55:26.141Z"
   },
   {
    "duration": 49,
    "start_time": "2024-01-16T14:41:08.204Z"
   },
   {
    "duration": 1720,
    "start_time": "2024-01-16T14:41:49.012Z"
   },
   {
    "duration": 185,
    "start_time": "2024-01-16T14:41:50.734Z"
   },
   {
    "duration": 19,
    "start_time": "2024-01-16T14:41:50.921Z"
   },
   {
    "duration": 86,
    "start_time": "2024-01-16T14:41:50.942Z"
   },
   {
    "duration": 25,
    "start_time": "2024-01-16T14:41:51.030Z"
   },
   {
    "duration": 165,
    "start_time": "2024-01-16T14:41:51.057Z"
   },
   {
    "duration": 2052,
    "start_time": "2024-01-16T14:41:51.224Z"
   },
   {
    "duration": 8,
    "start_time": "2024-01-16T14:41:53.278Z"
   },
   {
    "duration": 4,
    "start_time": "2024-01-16T14:41:53.288Z"
   },
   {
    "duration": 8,
    "start_time": "2024-01-16T14:41:53.295Z"
   },
   {
    "duration": 4,
    "start_time": "2024-01-16T14:41:53.304Z"
   },
   {
    "duration": 6,
    "start_time": "2024-01-16T14:41:53.309Z"
   },
   {
    "duration": 7,
    "start_time": "2024-01-16T14:41:53.316Z"
   },
   {
    "duration": 23,
    "start_time": "2024-01-16T14:41:53.325Z"
   },
   {
    "duration": 8,
    "start_time": "2024-01-16T14:41:53.349Z"
   },
   {
    "duration": 4,
    "start_time": "2024-01-16T14:41:53.359Z"
   },
   {
    "duration": 46,
    "start_time": "2024-01-16T14:41:53.365Z"
   },
   {
    "duration": 6,
    "start_time": "2024-01-16T14:41:53.412Z"
   },
   {
    "duration": 17,
    "start_time": "2024-01-16T14:41:53.420Z"
   },
   {
    "duration": 7,
    "start_time": "2024-01-16T14:41:53.439Z"
   },
   {
    "duration": 16,
    "start_time": "2024-01-16T14:41:53.448Z"
   },
   {
    "duration": 49,
    "start_time": "2024-01-16T14:41:53.466Z"
   },
   {
    "duration": 18,
    "start_time": "2024-01-16T14:41:53.517Z"
   },
   {
    "duration": 311,
    "start_time": "2024-01-16T14:41:53.537Z"
   },
   {
    "duration": 2,
    "start_time": "2024-01-16T14:41:53.850Z"
   },
   {
    "duration": 21,
    "start_time": "2024-01-16T14:41:53.854Z"
   },
   {
    "duration": 34,
    "start_time": "2024-01-16T14:41:53.877Z"
   },
   {
    "duration": 14,
    "start_time": "2024-01-16T14:41:53.915Z"
   },
   {
    "duration": 26,
    "start_time": "2024-01-16T14:41:53.930Z"
   },
   {
    "duration": 5,
    "start_time": "2024-01-16T14:41:53.958Z"
   },
   {
    "duration": 5,
    "start_time": "2024-01-16T14:41:53.965Z"
   },
   {
    "duration": 40,
    "start_time": "2024-01-16T14:41:53.972Z"
   },
   {
    "duration": 306,
    "start_time": "2024-01-16T14:41:54.013Z"
   },
   {
    "duration": 4,
    "start_time": "2024-01-16T14:41:54.320Z"
   },
   {
    "duration": 435,
    "start_time": "2024-01-16T14:41:54.326Z"
   },
   {
    "duration": 584,
    "start_time": "2024-01-16T14:41:54.763Z"
   },
   {
    "duration": 110,
    "start_time": "2024-01-16T14:41:55.349Z"
   },
   {
    "duration": 0,
    "start_time": "2024-01-16T14:41:55.460Z"
   },
   {
    "duration": 0,
    "start_time": "2024-01-16T14:41:55.461Z"
   },
   {
    "duration": 0,
    "start_time": "2024-01-16T14:41:55.462Z"
   },
   {
    "duration": 0,
    "start_time": "2024-01-16T14:41:55.463Z"
   },
   {
    "duration": 0,
    "start_time": "2024-01-16T14:41:55.464Z"
   },
   {
    "duration": 0,
    "start_time": "2024-01-16T14:41:55.466Z"
   },
   {
    "duration": 0,
    "start_time": "2024-01-16T14:41:55.466Z"
   },
   {
    "duration": 0,
    "start_time": "2024-01-16T14:41:55.468Z"
   },
   {
    "duration": 0,
    "start_time": "2024-01-16T14:41:55.468Z"
   },
   {
    "duration": 0,
    "start_time": "2024-01-16T14:41:55.470Z"
   },
   {
    "duration": 0,
    "start_time": "2024-01-16T14:41:55.471Z"
   },
   {
    "duration": 0,
    "start_time": "2024-01-16T14:41:55.472Z"
   },
   {
    "duration": 0,
    "start_time": "2024-01-16T14:41:55.473Z"
   },
   {
    "duration": 1,
    "start_time": "2024-01-16T14:41:55.473Z"
   },
   {
    "duration": 0,
    "start_time": "2024-01-16T14:41:55.474Z"
   },
   {
    "duration": 0,
    "start_time": "2024-01-16T14:41:55.475Z"
   },
   {
    "duration": 0,
    "start_time": "2024-01-16T14:41:55.476Z"
   },
   {
    "duration": 0,
    "start_time": "2024-01-16T14:41:55.477Z"
   },
   {
    "duration": 0,
    "start_time": "2024-01-16T14:41:55.478Z"
   },
   {
    "duration": 0,
    "start_time": "2024-01-16T14:41:55.645Z"
   },
   {
    "duration": 0,
    "start_time": "2024-01-16T14:41:55.646Z"
   },
   {
    "duration": 0,
    "start_time": "2024-01-16T14:41:55.648Z"
   },
   {
    "duration": 0,
    "start_time": "2024-01-16T14:41:55.649Z"
   },
   {
    "duration": 0,
    "start_time": "2024-01-16T14:41:55.650Z"
   },
   {
    "duration": 0,
    "start_time": "2024-01-16T14:41:55.651Z"
   },
   {
    "duration": 0,
    "start_time": "2024-01-16T14:41:55.652Z"
   },
   {
    "duration": 0,
    "start_time": "2024-01-16T14:41:55.654Z"
   },
   {
    "duration": 0,
    "start_time": "2024-01-16T14:41:55.655Z"
   },
   {
    "duration": 0,
    "start_time": "2024-01-16T14:41:55.656Z"
   },
   {
    "duration": 0,
    "start_time": "2024-01-16T14:41:55.657Z"
   },
   {
    "duration": 27,
    "start_time": "2024-01-16T14:42:10.770Z"
   },
   {
    "duration": 35,
    "start_time": "2024-01-16T14:42:32.552Z"
   },
   {
    "duration": 1158,
    "start_time": "2024-01-16T14:44:23.690Z"
   },
   {
    "duration": 98,
    "start_time": "2024-01-16T14:44:24.850Z"
   },
   {
    "duration": 20,
    "start_time": "2024-01-16T14:44:24.949Z"
   },
   {
    "duration": 43,
    "start_time": "2024-01-16T14:44:24.970Z"
   },
   {
    "duration": 14,
    "start_time": "2024-01-16T14:44:25.014Z"
   },
   {
    "duration": 61,
    "start_time": "2024-01-16T14:44:25.029Z"
   },
   {
    "duration": 2620,
    "start_time": "2024-01-16T14:44:25.092Z"
   },
   {
    "duration": 9,
    "start_time": "2024-01-16T14:44:27.714Z"
   },
   {
    "duration": 12,
    "start_time": "2024-01-16T14:44:27.724Z"
   },
   {
    "duration": 8,
    "start_time": "2024-01-16T14:44:27.739Z"
   },
   {
    "duration": 4,
    "start_time": "2024-01-16T14:44:27.749Z"
   },
   {
    "duration": 7,
    "start_time": "2024-01-16T14:44:27.754Z"
   },
   {
    "duration": 8,
    "start_time": "2024-01-16T14:44:27.762Z"
   },
   {
    "duration": 53,
    "start_time": "2024-01-16T14:44:27.771Z"
   },
   {
    "duration": 7,
    "start_time": "2024-01-16T14:44:27.826Z"
   },
   {
    "duration": 4,
    "start_time": "2024-01-16T14:44:27.835Z"
   },
   {
    "duration": 21,
    "start_time": "2024-01-16T14:44:27.840Z"
   },
   {
    "duration": 6,
    "start_time": "2024-01-16T14:44:27.862Z"
   },
   {
    "duration": 50,
    "start_time": "2024-01-16T14:44:27.870Z"
   },
   {
    "duration": 6,
    "start_time": "2024-01-16T14:44:27.922Z"
   },
   {
    "duration": 15,
    "start_time": "2024-01-16T14:44:27.930Z"
   },
   {
    "duration": 17,
    "start_time": "2024-01-16T14:44:27.946Z"
   },
   {
    "duration": 46,
    "start_time": "2024-01-16T14:44:27.965Z"
   },
   {
    "duration": 299,
    "start_time": "2024-01-16T14:44:28.013Z"
   },
   {
    "duration": 2,
    "start_time": "2024-01-16T14:44:28.314Z"
   },
   {
    "duration": 32,
    "start_time": "2024-01-16T14:44:28.318Z"
   },
   {
    "duration": 18,
    "start_time": "2024-01-16T14:44:28.351Z"
   },
   {
    "duration": 38,
    "start_time": "2024-01-16T14:44:28.373Z"
   },
   {
    "duration": 25,
    "start_time": "2024-01-16T14:44:28.413Z"
   },
   {
    "duration": 6,
    "start_time": "2024-01-16T14:44:28.439Z"
   },
   {
    "duration": 7,
    "start_time": "2024-01-16T14:44:28.446Z"
   },
   {
    "duration": 6,
    "start_time": "2024-01-16T14:44:28.455Z"
   },
   {
    "duration": 322,
    "start_time": "2024-01-16T14:44:28.462Z"
   },
   {
    "duration": 4,
    "start_time": "2024-01-16T14:44:28.785Z"
   },
   {
    "duration": 440,
    "start_time": "2024-01-16T14:44:28.790Z"
   },
   {
    "duration": 617,
    "start_time": "2024-01-16T14:44:29.232Z"
   },
   {
    "duration": 588,
    "start_time": "2024-01-16T14:44:29.851Z"
   },
   {
    "duration": 172,
    "start_time": "2024-01-16T14:44:30.441Z"
   },
   {
    "duration": 805,
    "start_time": "2024-01-16T14:44:30.615Z"
   },
   {
    "duration": 671,
    "start_time": "2024-01-16T14:44:31.422Z"
   },
   {
    "duration": 179,
    "start_time": "2024-01-16T14:44:32.095Z"
   },
   {
    "duration": 153,
    "start_time": "2024-01-16T14:44:32.276Z"
   },
   {
    "duration": 259,
    "start_time": "2024-01-16T14:44:32.430Z"
   },
   {
    "duration": 110,
    "start_time": "2024-01-16T14:44:32.690Z"
   },
   {
    "duration": 179,
    "start_time": "2024-01-16T14:44:32.802Z"
   },
   {
    "duration": 145,
    "start_time": "2024-01-16T14:44:32.982Z"
   },
   {
    "duration": 189,
    "start_time": "2024-01-16T14:44:33.128Z"
   },
   {
    "duration": 227,
    "start_time": "2024-01-16T14:44:33.319Z"
   },
   {
    "duration": 608,
    "start_time": "2024-01-16T14:44:33.548Z"
   },
   {
    "duration": 5,
    "start_time": "2024-01-16T14:44:34.158Z"
   },
   {
    "duration": 9,
    "start_time": "2024-01-16T14:44:34.165Z"
   },
   {
    "duration": 41,
    "start_time": "2024-01-16T14:44:34.176Z"
   },
   {
    "duration": 645,
    "start_time": "2024-01-16T14:44:34.219Z"
   },
   {
    "duration": 182,
    "start_time": "2024-01-16T14:44:34.866Z"
   },
   {
    "duration": 174,
    "start_time": "2024-01-16T14:44:35.049Z"
   },
   {
    "duration": 186,
    "start_time": "2024-01-16T14:44:35.225Z"
   },
   {
    "duration": 145,
    "start_time": "2024-01-16T14:44:35.413Z"
   },
   {
    "duration": 140,
    "start_time": "2024-01-16T14:44:35.560Z"
   },
   {
    "duration": 260,
    "start_time": "2024-01-16T14:44:35.702Z"
   },
   {
    "duration": 207,
    "start_time": "2024-01-16T14:44:35.963Z"
   },
   {
    "duration": 165,
    "start_time": "2024-01-16T14:44:36.171Z"
   },
   {
    "duration": 20,
    "start_time": "2024-01-16T14:44:36.338Z"
   },
   {
    "duration": 8,
    "start_time": "2024-01-16T14:44:36.360Z"
   },
   {
    "duration": 117,
    "start_time": "2024-01-16T14:44:36.369Z"
   },
   {
    "duration": 0,
    "start_time": "2024-01-16T14:44:36.488Z"
   },
   {
    "duration": 0,
    "start_time": "2024-01-16T14:44:36.489Z"
   },
   {
    "duration": 1491,
    "start_time": "2024-07-26T12:36:04.666Z"
   },
   {
    "duration": 200,
    "start_time": "2024-07-26T12:36:06.159Z"
   },
   {
    "duration": 23,
    "start_time": "2024-07-26T12:36:06.361Z"
   },
   {
    "duration": 76,
    "start_time": "2024-07-26T12:36:06.387Z"
   },
   {
    "duration": 24,
    "start_time": "2024-07-26T12:36:06.465Z"
   },
   {
    "duration": 80,
    "start_time": "2024-07-26T12:36:06.491Z"
   },
   {
    "duration": 2287,
    "start_time": "2024-07-26T12:36:06.573Z"
   },
   {
    "duration": 12,
    "start_time": "2024-07-26T12:36:08.862Z"
   },
   {
    "duration": 19,
    "start_time": "2024-07-26T12:36:08.876Z"
   },
   {
    "duration": 12,
    "start_time": "2024-07-26T12:36:08.897Z"
   },
   {
    "duration": 5,
    "start_time": "2024-07-26T12:36:08.910Z"
   },
   {
    "duration": 7,
    "start_time": "2024-07-26T12:36:08.917Z"
   },
   {
    "duration": 8,
    "start_time": "2024-07-26T12:36:08.925Z"
   },
   {
    "duration": 32,
    "start_time": "2024-07-26T12:36:08.935Z"
   },
   {
    "duration": 34,
    "start_time": "2024-07-26T12:36:08.969Z"
   },
   {
    "duration": 7,
    "start_time": "2024-07-26T12:36:09.004Z"
   },
   {
    "duration": 24,
    "start_time": "2024-07-26T12:36:09.013Z"
   },
   {
    "duration": 5,
    "start_time": "2024-07-26T12:36:09.039Z"
   },
   {
    "duration": 22,
    "start_time": "2024-07-26T12:36:09.053Z"
   },
   {
    "duration": 7,
    "start_time": "2024-07-26T12:36:09.077Z"
   },
   {
    "duration": 29,
    "start_time": "2024-07-26T12:36:09.087Z"
   },
   {
    "duration": 40,
    "start_time": "2024-07-26T12:36:09.117Z"
   },
   {
    "duration": 29,
    "start_time": "2024-07-26T12:36:09.161Z"
   },
   {
    "duration": 337,
    "start_time": "2024-07-26T12:36:09.192Z"
   },
   {
    "duration": 3,
    "start_time": "2024-07-26T12:36:09.531Z"
   },
   {
    "duration": 60,
    "start_time": "2024-07-26T12:36:09.535Z"
   },
   {
    "duration": 26,
    "start_time": "2024-07-26T12:36:09.597Z"
   },
   {
    "duration": 14,
    "start_time": "2024-07-26T12:36:09.627Z"
   },
   {
    "duration": 33,
    "start_time": "2024-07-26T12:36:09.642Z"
   },
   {
    "duration": 19,
    "start_time": "2024-07-26T12:36:09.677Z"
   },
   {
    "duration": 10,
    "start_time": "2024-07-26T12:36:09.698Z"
   },
   {
    "duration": 12,
    "start_time": "2024-07-26T12:36:09.709Z"
   },
   {
    "duration": 344,
    "start_time": "2024-07-26T12:36:09.722Z"
   },
   {
    "duration": 5,
    "start_time": "2024-07-26T12:36:10.067Z"
   },
   {
    "duration": 535,
    "start_time": "2024-07-26T12:36:10.073Z"
   },
   {
    "duration": 681,
    "start_time": "2024-07-26T12:36:10.610Z"
   },
   {
    "duration": 705,
    "start_time": "2024-07-26T12:36:11.293Z"
   },
   {
    "duration": 190,
    "start_time": "2024-07-26T12:36:12.000Z"
   },
   {
    "duration": 963,
    "start_time": "2024-07-26T12:36:12.191Z"
   },
   {
    "duration": 843,
    "start_time": "2024-07-26T12:36:13.156Z"
   },
   {
    "duration": 193,
    "start_time": "2024-07-26T12:36:14.001Z"
   },
   {
    "duration": 183,
    "start_time": "2024-07-26T12:36:14.196Z"
   },
   {
    "duration": 317,
    "start_time": "2024-07-26T12:36:14.381Z"
   },
   {
    "duration": 129,
    "start_time": "2024-07-26T12:36:14.700Z"
   },
   {
    "duration": 194,
    "start_time": "2024-07-26T12:36:14.831Z"
   },
   {
    "duration": 175,
    "start_time": "2024-07-26T12:36:15.028Z"
   },
   {
    "duration": 231,
    "start_time": "2024-07-26T12:36:15.205Z"
   },
   {
    "duration": 274,
    "start_time": "2024-07-26T12:36:15.438Z"
   },
   {
    "duration": 710,
    "start_time": "2024-07-26T12:36:15.713Z"
   },
   {
    "duration": 7,
    "start_time": "2024-07-26T12:36:16.425Z"
   },
   {
    "duration": 22,
    "start_time": "2024-07-26T12:36:16.434Z"
   },
   {
    "duration": 26,
    "start_time": "2024-07-26T12:36:16.458Z"
   },
   {
    "duration": 738,
    "start_time": "2024-07-26T12:36:16.486Z"
   },
   {
    "duration": 233,
    "start_time": "2024-07-26T12:36:17.226Z"
   },
   {
    "duration": 204,
    "start_time": "2024-07-26T12:36:17.460Z"
   },
   {
    "duration": 199,
    "start_time": "2024-07-26T12:36:17.666Z"
   },
   {
    "duration": 196,
    "start_time": "2024-07-26T12:36:17.867Z"
   },
   {
    "duration": 151,
    "start_time": "2024-07-26T12:36:18.065Z"
   },
   {
    "duration": 293,
    "start_time": "2024-07-26T12:36:18.218Z"
   },
   {
    "duration": 257,
    "start_time": "2024-07-26T12:36:18.513Z"
   },
   {
    "duration": 188,
    "start_time": "2024-07-26T12:36:18.772Z"
   },
   {
    "duration": 20,
    "start_time": "2024-07-26T12:36:18.962Z"
   },
   {
    "duration": 25,
    "start_time": "2024-07-26T12:36:18.984Z"
   },
   {
    "duration": 114,
    "start_time": "2024-07-26T12:36:19.011Z"
   },
   {
    "duration": 0,
    "start_time": "2024-07-26T12:36:19.128Z"
   },
   {
    "duration": 0,
    "start_time": "2024-07-26T12:36:19.129Z"
   },
   {
    "duration": 46,
    "start_time": "2024-07-26T12:52:21.011Z"
   },
   {
    "duration": 1266,
    "start_time": "2024-07-26T12:52:26.265Z"
   },
   {
    "duration": 139,
    "start_time": "2024-07-26T12:52:27.537Z"
   },
   {
    "duration": 49,
    "start_time": "2024-07-26T12:52:27.678Z"
   },
   {
    "duration": 35,
    "start_time": "2024-07-26T12:52:27.730Z"
   },
   {
    "duration": 102,
    "start_time": "2024-07-26T12:52:27.768Z"
   },
   {
    "duration": 2333,
    "start_time": "2024-07-26T12:52:27.872Z"
   },
   {
    "duration": 9,
    "start_time": "2024-07-26T12:52:30.207Z"
   },
   {
    "duration": 98,
    "start_time": "2024-07-26T12:52:30.218Z"
   },
   {
    "duration": 104,
    "start_time": "2024-07-26T12:52:30.318Z"
   },
   {
    "duration": 50,
    "start_time": "2024-07-26T12:52:30.424Z"
   },
   {
    "duration": 104,
    "start_time": "2024-07-26T12:52:30.476Z"
   },
   {
    "duration": 322,
    "start_time": "2024-07-26T12:52:30.582Z"
   },
   {
    "duration": 322,
    "start_time": "2024-07-26T12:52:30.906Z"
   },
   {
    "duration": 56,
    "start_time": "2024-07-26T12:52:31.232Z"
   },
   {
    "duration": 84,
    "start_time": "2024-07-26T12:52:31.290Z"
   },
   {
    "duration": 207,
    "start_time": "2024-07-26T12:52:31.376Z"
   },
   {
    "duration": 137,
    "start_time": "2024-07-26T12:52:31.585Z"
   },
   {
    "duration": 51,
    "start_time": "2024-07-26T12:52:31.724Z"
   },
   {
    "duration": 39,
    "start_time": "2024-07-26T12:52:31.777Z"
   },
   {
    "duration": 45,
    "start_time": "2024-07-26T12:52:31.818Z"
   },
   {
    "duration": 42,
    "start_time": "2024-07-26T12:52:31.865Z"
   },
   {
    "duration": 60,
    "start_time": "2024-07-26T12:52:31.909Z"
   },
   {
    "duration": 346,
    "start_time": "2024-07-26T12:52:31.972Z"
   },
   {
    "duration": 2,
    "start_time": "2024-07-26T12:52:32.320Z"
   },
   {
    "duration": 52,
    "start_time": "2024-07-26T12:52:32.323Z"
   },
   {
    "duration": 19,
    "start_time": "2024-07-26T12:52:32.376Z"
   },
   {
    "duration": 27,
    "start_time": "2024-07-26T12:52:32.397Z"
   },
   {
    "duration": 39,
    "start_time": "2024-07-26T12:52:32.426Z"
   },
   {
    "duration": 6,
    "start_time": "2024-07-26T12:52:32.466Z"
   },
   {
    "duration": 17,
    "start_time": "2024-07-26T12:52:32.474Z"
   },
   {
    "duration": 6,
    "start_time": "2024-07-26T12:52:32.493Z"
   },
   {
    "duration": 362,
    "start_time": "2024-07-26T12:52:32.501Z"
   },
   {
    "duration": 5,
    "start_time": "2024-07-26T12:52:32.865Z"
   },
   {
    "duration": 695,
    "start_time": "2024-07-26T12:52:32.871Z"
   },
   {
    "duration": 696,
    "start_time": "2024-07-26T12:52:33.568Z"
   },
   {
    "duration": 689,
    "start_time": "2024-07-26T12:52:34.266Z"
   },
   {
    "duration": 226,
    "start_time": "2024-07-26T12:52:34.962Z"
   },
   {
    "duration": 933,
    "start_time": "2024-07-26T12:52:35.193Z"
   },
   {
    "duration": 807,
    "start_time": "2024-07-26T12:52:36.127Z"
   },
   {
    "duration": 192,
    "start_time": "2024-07-26T12:52:36.936Z"
   },
   {
    "duration": 177,
    "start_time": "2024-07-26T12:52:37.132Z"
   },
   {
    "duration": 324,
    "start_time": "2024-07-26T12:52:37.310Z"
   },
   {
    "duration": 135,
    "start_time": "2024-07-26T12:52:37.636Z"
   },
   {
    "duration": 199,
    "start_time": "2024-07-26T12:52:37.773Z"
   },
   {
    "duration": 163,
    "start_time": "2024-07-26T12:52:37.974Z"
   },
   {
    "duration": 229,
    "start_time": "2024-07-26T12:52:38.139Z"
   },
   {
    "duration": 281,
    "start_time": "2024-07-26T12:52:38.370Z"
   },
   {
    "duration": 784,
    "start_time": "2024-07-26T12:52:38.653Z"
   },
   {
    "duration": 15,
    "start_time": "2024-07-26T12:52:39.439Z"
   },
   {
    "duration": 18,
    "start_time": "2024-07-26T12:52:39.459Z"
   },
   {
    "duration": 34,
    "start_time": "2024-07-26T12:52:39.479Z"
   },
   {
    "duration": 734,
    "start_time": "2024-07-26T12:52:39.515Z"
   },
   {
    "duration": 203,
    "start_time": "2024-07-26T12:52:40.253Z"
   },
   {
    "duration": 212,
    "start_time": "2024-07-26T12:52:40.458Z"
   },
   {
    "duration": 205,
    "start_time": "2024-07-26T12:52:40.672Z"
   },
   {
    "duration": 185,
    "start_time": "2024-07-26T12:52:40.879Z"
   },
   {
    "duration": 174,
    "start_time": "2024-07-26T12:52:41.066Z"
   },
   {
    "duration": 273,
    "start_time": "2024-07-26T12:52:41.242Z"
   },
   {
    "duration": 192,
    "start_time": "2024-07-26T12:52:41.517Z"
   },
   {
    "duration": 192,
    "start_time": "2024-07-26T12:52:41.710Z"
   },
   {
    "duration": 31,
    "start_time": "2024-07-26T12:52:41.904Z"
   },
   {
    "duration": 11,
    "start_time": "2024-07-26T12:52:41.954Z"
   },
   {
    "duration": 132,
    "start_time": "2024-07-26T12:52:41.967Z"
   },
   {
    "duration": 0,
    "start_time": "2024-07-26T12:52:42.100Z"
   },
   {
    "duration": 0,
    "start_time": "2024-07-26T12:52:42.101Z"
   },
   {
    "duration": 261,
    "start_time": "2024-07-26T13:01:29.408Z"
   },
   {
    "duration": 181,
    "start_time": "2024-07-26T13:02:42.915Z"
   },
   {
    "duration": 1321,
    "start_time": "2024-07-26T13:03:50.142Z"
   },
   {
    "duration": 108,
    "start_time": "2024-07-26T13:03:51.465Z"
   },
   {
    "duration": 43,
    "start_time": "2024-07-26T13:03:51.575Z"
   },
   {
    "duration": 43,
    "start_time": "2024-07-26T13:03:51.620Z"
   },
   {
    "duration": 65,
    "start_time": "2024-07-26T13:03:51.666Z"
   },
   {
    "duration": 2314,
    "start_time": "2024-07-26T13:03:51.733Z"
   },
   {
    "duration": 14,
    "start_time": "2024-07-26T13:03:54.054Z"
   },
   {
    "duration": 22,
    "start_time": "2024-07-26T13:03:54.070Z"
   },
   {
    "duration": 16,
    "start_time": "2024-07-26T13:03:54.094Z"
   },
   {
    "duration": 8,
    "start_time": "2024-07-26T13:03:54.112Z"
   },
   {
    "duration": 14,
    "start_time": "2024-07-26T13:03:54.122Z"
   },
   {
    "duration": 17,
    "start_time": "2024-07-26T13:03:54.138Z"
   },
   {
    "duration": 39,
    "start_time": "2024-07-26T13:03:54.157Z"
   },
   {
    "duration": 29,
    "start_time": "2024-07-26T13:03:54.200Z"
   },
   {
    "duration": 8,
    "start_time": "2024-07-26T13:03:54.230Z"
   },
   {
    "duration": 41,
    "start_time": "2024-07-26T13:03:54.239Z"
   },
   {
    "duration": 6,
    "start_time": "2024-07-26T13:03:54.283Z"
   },
   {
    "duration": 34,
    "start_time": "2024-07-26T13:03:54.291Z"
   },
   {
    "duration": 7,
    "start_time": "2024-07-26T13:03:54.327Z"
   },
   {
    "duration": 46,
    "start_time": "2024-07-26T13:03:54.336Z"
   },
   {
    "duration": 24,
    "start_time": "2024-07-26T13:03:54.384Z"
   },
   {
    "duration": 26,
    "start_time": "2024-07-26T13:03:54.410Z"
   },
   {
    "duration": 399,
    "start_time": "2024-07-26T13:03:54.438Z"
   },
   {
    "duration": 29,
    "start_time": "2024-07-26T13:03:54.839Z"
   },
   {
    "duration": 27,
    "start_time": "2024-07-26T13:03:54.870Z"
   },
   {
    "duration": 32,
    "start_time": "2024-07-26T13:03:54.899Z"
   },
   {
    "duration": 44,
    "start_time": "2024-07-26T13:03:54.933Z"
   },
   {
    "duration": 8,
    "start_time": "2024-07-26T13:03:54.980Z"
   },
   {
    "duration": 19,
    "start_time": "2024-07-26T13:03:54.989Z"
   },
   {
    "duration": 13,
    "start_time": "2024-07-26T13:03:55.010Z"
   },
   {
    "duration": 370,
    "start_time": "2024-07-26T13:03:55.025Z"
   },
   {
    "duration": 4,
    "start_time": "2024-07-26T13:03:55.398Z"
   },
   {
    "duration": 521,
    "start_time": "2024-07-26T13:03:55.404Z"
   },
   {
    "duration": 765,
    "start_time": "2024-07-26T13:03:55.926Z"
   },
   {
    "duration": 733,
    "start_time": "2024-07-26T13:03:56.693Z"
   },
   {
    "duration": 201,
    "start_time": "2024-07-26T13:03:57.428Z"
   },
   {
    "duration": 952,
    "start_time": "2024-07-26T13:03:57.630Z"
   },
   {
    "duration": 855,
    "start_time": "2024-07-26T13:03:58.585Z"
   },
   {
    "duration": 208,
    "start_time": "2024-07-26T13:03:59.442Z"
   },
   {
    "duration": 162,
    "start_time": "2024-07-26T13:03:59.654Z"
   },
   {
    "duration": 297,
    "start_time": "2024-07-26T13:03:59.820Z"
   },
   {
    "duration": 165,
    "start_time": "2024-07-26T13:04:00.119Z"
   },
   {
    "duration": 246,
    "start_time": "2024-07-26T13:04:00.286Z"
   },
   {
    "duration": 288,
    "start_time": "2024-07-26T13:04:00.534Z"
   },
   {
    "duration": 241,
    "start_time": "2024-07-26T13:04:00.824Z"
   },
   {
    "duration": 270,
    "start_time": "2024-07-26T13:04:01.067Z"
   },
   {
    "duration": 746,
    "start_time": "2024-07-26T13:04:01.338Z"
   },
   {
    "duration": 79,
    "start_time": "2024-07-26T13:04:02.086Z"
   },
   {
    "duration": 620,
    "start_time": "2024-07-26T13:04:02.169Z"
   },
   {
    "duration": 83,
    "start_time": "2024-07-26T13:04:02.791Z"
   },
   {
    "duration": 739,
    "start_time": "2024-07-26T13:04:02.876Z"
   },
   {
    "duration": 211,
    "start_time": "2024-07-26T13:04:03.618Z"
   },
   {
    "duration": 198,
    "start_time": "2024-07-26T13:04:03.831Z"
   },
   {
    "duration": 216,
    "start_time": "2024-07-26T13:04:04.031Z"
   },
   {
    "duration": 184,
    "start_time": "2024-07-26T13:04:04.259Z"
   },
   {
    "duration": 232,
    "start_time": "2024-07-26T13:04:04.446Z"
   },
   {
    "duration": 289,
    "start_time": "2024-07-26T13:04:04.680Z"
   },
   {
    "duration": 197,
    "start_time": "2024-07-26T13:04:04.971Z"
   },
   {
    "duration": 207,
    "start_time": "2024-07-26T13:04:05.171Z"
   },
   {
    "duration": 23,
    "start_time": "2024-07-26T13:04:05.379Z"
   },
   {
    "duration": 9,
    "start_time": "2024-07-26T13:04:05.404Z"
   },
   {
    "duration": 206,
    "start_time": "2024-07-26T13:04:05.414Z"
   }
  ],
  "kernelspec": {
   "display_name": "Python 3 (ipykernel)",
   "language": "python",
   "name": "python3"
  },
  "language_info": {
   "codemirror_mode": {
    "name": "ipython",
    "version": 3
   },
   "file_extension": ".py",
   "mimetype": "text/x-python",
   "name": "python",
   "nbconvert_exporter": "python",
   "pygments_lexer": "ipython3",
   "version": "3.9.5"
  },
  "toc": {
   "base_numbering": 1,
   "nav_menu": {},
   "number_sections": true,
   "sideBar": true,
   "skip_h1_title": true,
   "title_cell": "Table of Contents",
   "title_sidebar": "Contents",
   "toc_cell": false,
   "toc_position": {},
   "toc_section_display": true,
   "toc_window_display": true
  }
 },
 "nbformat": 4,
 "nbformat_minor": 2
}
